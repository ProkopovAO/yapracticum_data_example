{
 "cells": [
  {
   "cell_type": "markdown",
   "metadata": {
    "toc": true
   },
   "source": [
    "<h1>Содержание<span class=\"tocSkip\"></span></h1>\n",
    "<div class=\"toc\"><ul class=\"toc-item\"><li><span><a href=\"#Подготовка-данных\" data-toc-modified-id=\"Подготовка-данных-1\"><span class=\"toc-item-num\">1&nbsp;&nbsp;</span>Подготовка данных</a></span></li><li><span><a href=\"#Исследование-задачи\" data-toc-modified-id=\"Исследование-задачи-2\"><span class=\"toc-item-num\">2&nbsp;&nbsp;</span>Исследование задачи</a></span></li><li><span><a href=\"#Борьба-с-дисбалансом\" data-toc-modified-id=\"Борьба-с-дисбалансом-3\"><span class=\"toc-item-num\">3&nbsp;&nbsp;</span>Борьба с дисбалансом</a></span></li><li><span><a href=\"#Тестирование-модели\" data-toc-modified-id=\"Тестирование-модели-4\"><span class=\"toc-item-num\">4&nbsp;&nbsp;</span>Тестирование модели</a></span></li></ul></div>"
   ]
  },
  {
   "cell_type": "markdown",
   "metadata": {},
   "source": [
    "# Отток клиентов"
   ]
  },
  {
   "cell_type": "markdown",
   "metadata": {},
   "source": [
    "Из «Бета-Банка» стали уходить клиенты. Каждый месяц. Немного, но заметно. Банковские маркетологи посчитали: сохранять текущих клиентов дешевле, чем привлекать новых.\n",
    "\n",
    "Нужно спрогнозировать, уйдёт клиент из банка в ближайшее время или нет. Вам предоставлены исторические данные о поведении клиентов и расторжении договоров с банком. \n",
    "\n",
    "Постройте модель с предельно большим значением *F1*-меры. Чтобы сдать проект успешно, нужно довести метрику до 0.59. Проверьте *F1*-меру на тестовой выборке самостоятельно.\n",
    "\n",
    "Дополнительно измеряйте *AUC-ROC*, сравнивайте её значение с *F1*-мерой.\n",
    "\n",
    "Источник данных: [https://www.kaggle.com/barelydedicated/bank-customer-churn-modeling](https://www.kaggle.com/barelydedicated/bank-customer-churn-modeling)\n",
    "\n",
    "План работы:\n",
    "\n",
    "    Загрузите и подготовьте данные. Поясните порядок действий.\n",
    "    Исследуйте баланс классов, обучите модель без учёта дисбаланса. Кратко опишите выводы.\n",
    "    Улучшите качество модели, учитывая дисбаланс классов. Обучите разные модели и найдите лучшую. Кратко опишите выводы.\n",
    "    Проведите финальное тестирование.\n",
    "\n",
    "Описание данных\n",
    "Данные находятся в файле /datasets/Churn.csv (англ. «отток клиентов»). Скачать датасет\n",
    "Признаки\n",
    "\n",
    "    RowNumber — индекс строки в данных\n",
    "    CustomerId — уникальный идентификатор клиента\n",
    "    Surname — фамилия\n",
    "    CreditScore — кредитный рейтинг\n",
    "    Geography — страна проживания\n",
    "    Gender — пол\n",
    "    Age — возраст\n",
    "    Tenure — сколько лет человек является клиентом банка\n",
    "    Balance — баланс на счёте\n",
    "    NumOfProducts — количество продуктов банка, используемых клиентом\n",
    "    HasCrCard — наличие кредитной карты\n",
    "    IsActiveMember — активность клиента\n",
    "    EstimatedSalary — предполагаемая зарплата\n",
    "\n",
    "Целевой признак\n",
    "\n",
    "    Exited — факт ухода клиента"
   ]
  },
  {
   "cell_type": "markdown",
   "metadata": {},
   "source": [
    "## Подготовка данных"
   ]
  },
  {
   "cell_type": "markdown",
   "metadata": {},
   "source": [
    "**1.1. Импортировать библиотеки.**"
   ]
  },
  {
   "cell_type": "code",
   "execution_count": 1,
   "metadata": {},
   "outputs": [],
   "source": [
    "import pandas as pd\n",
    "import matplotlib.pyplot as plt\n",
    "from matplotlib.pyplot import figure\n",
    "import numpy as np\n",
    "from tqdm import tqdm\n",
    "\n",
    "from sklearn.model_selection import train_test_split\n",
    "# импорт библиотеки 'Дерево решений'\n",
    "from sklearn.tree import DecisionTreeClassifier \n",
    "# импорт библиотеки 'Случайный лес'\n",
    "from sklearn.ensemble import RandomForestClassifier \n",
    "# импорт библиотеки 'Логистическая регрессия'\n",
    "from sklearn.linear_model import LogisticRegression \n",
    "# импорт метрики 'accuracy' (точность)\n",
    "from sklearn.metrics import accuracy_score \n",
    "from sklearn import tree\n",
    "from sklearn.preprocessing import StandardScaler \n",
    "#матрица ошибок\n",
    "from sklearn.metrics import confusion_matrix\n",
    "#полнота\n",
    "from sklearn.metrics import recall_score\n",
    "#точность\n",
    "from sklearn.metrics import precision_score\n",
    "#F-1 мера\n",
    "from sklearn.metrics import f1_score\n",
    "#AUC-ROC\n",
    "from sklearn.metrics import roc_auc_score\n",
    "#ROC-кривая\n",
    "from sklearn.metrics import roc_curve\n",
    "from sklearn.utils import shuffle"
   ]
  },
  {
   "cell_type": "markdown",
   "metadata": {},
   "source": [
    "**1.2. Считать данные из csv-файла в датафрейм и сохранить в переменную `df`**"
   ]
  },
  {
   "cell_type": "code",
   "execution_count": 2,
   "metadata": {},
   "outputs": [],
   "source": [
    "# прочитаем csv-файл\n",
    "try:\n",
    "    df = pd.read_csv('/datasets/Churn.csv')\n",
    "except:\n",
    "    df = pd.read_csv('https://code.s3.yandex.net/datasets/Churn.csv')"
   ]
  },
  {
   "cell_type": "markdown",
   "metadata": {},
   "source": [
    "**1.3 Изучить общую информацию о полученном датафрейме.**"
   ]
  },
  {
   "cell_type": "code",
   "execution_count": 3,
   "metadata": {},
   "outputs": [
    {
     "data": {
      "text/html": [
       "<div>\n",
       "<style scoped>\n",
       "    .dataframe tbody tr th:only-of-type {\n",
       "        vertical-align: middle;\n",
       "    }\n",
       "\n",
       "    .dataframe tbody tr th {\n",
       "        vertical-align: top;\n",
       "    }\n",
       "\n",
       "    .dataframe thead th {\n",
       "        text-align: right;\n",
       "    }\n",
       "</style>\n",
       "<table border=\"1\" class=\"dataframe\">\n",
       "  <thead>\n",
       "    <tr style=\"text-align: right;\">\n",
       "      <th></th>\n",
       "      <th>RowNumber</th>\n",
       "      <th>CustomerId</th>\n",
       "      <th>Surname</th>\n",
       "      <th>CreditScore</th>\n",
       "      <th>Geography</th>\n",
       "      <th>Gender</th>\n",
       "      <th>Age</th>\n",
       "      <th>Tenure</th>\n",
       "      <th>Balance</th>\n",
       "      <th>NumOfProducts</th>\n",
       "      <th>HasCrCard</th>\n",
       "      <th>IsActiveMember</th>\n",
       "      <th>EstimatedSalary</th>\n",
       "      <th>Exited</th>\n",
       "    </tr>\n",
       "  </thead>\n",
       "  <tbody>\n",
       "    <tr>\n",
       "      <th>0</th>\n",
       "      <td>1</td>\n",
       "      <td>15634602</td>\n",
       "      <td>Hargrave</td>\n",
       "      <td>619</td>\n",
       "      <td>France</td>\n",
       "      <td>Female</td>\n",
       "      <td>42</td>\n",
       "      <td>2.0</td>\n",
       "      <td>0.00</td>\n",
       "      <td>1</td>\n",
       "      <td>1</td>\n",
       "      <td>1</td>\n",
       "      <td>101348.88</td>\n",
       "      <td>1</td>\n",
       "    </tr>\n",
       "    <tr>\n",
       "      <th>1</th>\n",
       "      <td>2</td>\n",
       "      <td>15647311</td>\n",
       "      <td>Hill</td>\n",
       "      <td>608</td>\n",
       "      <td>Spain</td>\n",
       "      <td>Female</td>\n",
       "      <td>41</td>\n",
       "      <td>1.0</td>\n",
       "      <td>83807.86</td>\n",
       "      <td>1</td>\n",
       "      <td>0</td>\n",
       "      <td>1</td>\n",
       "      <td>112542.58</td>\n",
       "      <td>0</td>\n",
       "    </tr>\n",
       "    <tr>\n",
       "      <th>2</th>\n",
       "      <td>3</td>\n",
       "      <td>15619304</td>\n",
       "      <td>Onio</td>\n",
       "      <td>502</td>\n",
       "      <td>France</td>\n",
       "      <td>Female</td>\n",
       "      <td>42</td>\n",
       "      <td>8.0</td>\n",
       "      <td>159660.80</td>\n",
       "      <td>3</td>\n",
       "      <td>1</td>\n",
       "      <td>0</td>\n",
       "      <td>113931.57</td>\n",
       "      <td>1</td>\n",
       "    </tr>\n",
       "    <tr>\n",
       "      <th>3</th>\n",
       "      <td>4</td>\n",
       "      <td>15701354</td>\n",
       "      <td>Boni</td>\n",
       "      <td>699</td>\n",
       "      <td>France</td>\n",
       "      <td>Female</td>\n",
       "      <td>39</td>\n",
       "      <td>1.0</td>\n",
       "      <td>0.00</td>\n",
       "      <td>2</td>\n",
       "      <td>0</td>\n",
       "      <td>0</td>\n",
       "      <td>93826.63</td>\n",
       "      <td>0</td>\n",
       "    </tr>\n",
       "    <tr>\n",
       "      <th>4</th>\n",
       "      <td>5</td>\n",
       "      <td>15737888</td>\n",
       "      <td>Mitchell</td>\n",
       "      <td>850</td>\n",
       "      <td>Spain</td>\n",
       "      <td>Female</td>\n",
       "      <td>43</td>\n",
       "      <td>2.0</td>\n",
       "      <td>125510.82</td>\n",
       "      <td>1</td>\n",
       "      <td>1</td>\n",
       "      <td>1</td>\n",
       "      <td>79084.10</td>\n",
       "      <td>0</td>\n",
       "    </tr>\n",
       "    <tr>\n",
       "      <th>5</th>\n",
       "      <td>6</td>\n",
       "      <td>15574012</td>\n",
       "      <td>Chu</td>\n",
       "      <td>645</td>\n",
       "      <td>Spain</td>\n",
       "      <td>Male</td>\n",
       "      <td>44</td>\n",
       "      <td>8.0</td>\n",
       "      <td>113755.78</td>\n",
       "      <td>2</td>\n",
       "      <td>1</td>\n",
       "      <td>0</td>\n",
       "      <td>149756.71</td>\n",
       "      <td>1</td>\n",
       "    </tr>\n",
       "    <tr>\n",
       "      <th>6</th>\n",
       "      <td>7</td>\n",
       "      <td>15592531</td>\n",
       "      <td>Bartlett</td>\n",
       "      <td>822</td>\n",
       "      <td>France</td>\n",
       "      <td>Male</td>\n",
       "      <td>50</td>\n",
       "      <td>7.0</td>\n",
       "      <td>0.00</td>\n",
       "      <td>2</td>\n",
       "      <td>1</td>\n",
       "      <td>1</td>\n",
       "      <td>10062.80</td>\n",
       "      <td>0</td>\n",
       "    </tr>\n",
       "    <tr>\n",
       "      <th>7</th>\n",
       "      <td>8</td>\n",
       "      <td>15656148</td>\n",
       "      <td>Obinna</td>\n",
       "      <td>376</td>\n",
       "      <td>Germany</td>\n",
       "      <td>Female</td>\n",
       "      <td>29</td>\n",
       "      <td>4.0</td>\n",
       "      <td>115046.74</td>\n",
       "      <td>4</td>\n",
       "      <td>1</td>\n",
       "      <td>0</td>\n",
       "      <td>119346.88</td>\n",
       "      <td>1</td>\n",
       "    </tr>\n",
       "    <tr>\n",
       "      <th>8</th>\n",
       "      <td>9</td>\n",
       "      <td>15792365</td>\n",
       "      <td>He</td>\n",
       "      <td>501</td>\n",
       "      <td>France</td>\n",
       "      <td>Male</td>\n",
       "      <td>44</td>\n",
       "      <td>4.0</td>\n",
       "      <td>142051.07</td>\n",
       "      <td>2</td>\n",
       "      <td>0</td>\n",
       "      <td>1</td>\n",
       "      <td>74940.50</td>\n",
       "      <td>0</td>\n",
       "    </tr>\n",
       "    <tr>\n",
       "      <th>9</th>\n",
       "      <td>10</td>\n",
       "      <td>15592389</td>\n",
       "      <td>H?</td>\n",
       "      <td>684</td>\n",
       "      <td>France</td>\n",
       "      <td>Male</td>\n",
       "      <td>27</td>\n",
       "      <td>2.0</td>\n",
       "      <td>134603.88</td>\n",
       "      <td>1</td>\n",
       "      <td>1</td>\n",
       "      <td>1</td>\n",
       "      <td>71725.73</td>\n",
       "      <td>0</td>\n",
       "    </tr>\n",
       "    <tr>\n",
       "      <th>10</th>\n",
       "      <td>11</td>\n",
       "      <td>15767821</td>\n",
       "      <td>Bearce</td>\n",
       "      <td>528</td>\n",
       "      <td>France</td>\n",
       "      <td>Male</td>\n",
       "      <td>31</td>\n",
       "      <td>6.0</td>\n",
       "      <td>102016.72</td>\n",
       "      <td>2</td>\n",
       "      <td>0</td>\n",
       "      <td>0</td>\n",
       "      <td>80181.12</td>\n",
       "      <td>0</td>\n",
       "    </tr>\n",
       "    <tr>\n",
       "      <th>11</th>\n",
       "      <td>12</td>\n",
       "      <td>15737173</td>\n",
       "      <td>Andrews</td>\n",
       "      <td>497</td>\n",
       "      <td>Spain</td>\n",
       "      <td>Male</td>\n",
       "      <td>24</td>\n",
       "      <td>3.0</td>\n",
       "      <td>0.00</td>\n",
       "      <td>2</td>\n",
       "      <td>1</td>\n",
       "      <td>0</td>\n",
       "      <td>76390.01</td>\n",
       "      <td>0</td>\n",
       "    </tr>\n",
       "    <tr>\n",
       "      <th>12</th>\n",
       "      <td>13</td>\n",
       "      <td>15632264</td>\n",
       "      <td>Kay</td>\n",
       "      <td>476</td>\n",
       "      <td>France</td>\n",
       "      <td>Female</td>\n",
       "      <td>34</td>\n",
       "      <td>10.0</td>\n",
       "      <td>0.00</td>\n",
       "      <td>2</td>\n",
       "      <td>1</td>\n",
       "      <td>0</td>\n",
       "      <td>26260.98</td>\n",
       "      <td>0</td>\n",
       "    </tr>\n",
       "    <tr>\n",
       "      <th>13</th>\n",
       "      <td>14</td>\n",
       "      <td>15691483</td>\n",
       "      <td>Chin</td>\n",
       "      <td>549</td>\n",
       "      <td>France</td>\n",
       "      <td>Female</td>\n",
       "      <td>25</td>\n",
       "      <td>5.0</td>\n",
       "      <td>0.00</td>\n",
       "      <td>2</td>\n",
       "      <td>0</td>\n",
       "      <td>0</td>\n",
       "      <td>190857.79</td>\n",
       "      <td>0</td>\n",
       "    </tr>\n",
       "    <tr>\n",
       "      <th>14</th>\n",
       "      <td>15</td>\n",
       "      <td>15600882</td>\n",
       "      <td>Scott</td>\n",
       "      <td>635</td>\n",
       "      <td>Spain</td>\n",
       "      <td>Female</td>\n",
       "      <td>35</td>\n",
       "      <td>7.0</td>\n",
       "      <td>0.00</td>\n",
       "      <td>2</td>\n",
       "      <td>1</td>\n",
       "      <td>1</td>\n",
       "      <td>65951.65</td>\n",
       "      <td>0</td>\n",
       "    </tr>\n",
       "    <tr>\n",
       "      <th>15</th>\n",
       "      <td>16</td>\n",
       "      <td>15643966</td>\n",
       "      <td>Goforth</td>\n",
       "      <td>616</td>\n",
       "      <td>Germany</td>\n",
       "      <td>Male</td>\n",
       "      <td>45</td>\n",
       "      <td>3.0</td>\n",
       "      <td>143129.41</td>\n",
       "      <td>2</td>\n",
       "      <td>0</td>\n",
       "      <td>1</td>\n",
       "      <td>64327.26</td>\n",
       "      <td>0</td>\n",
       "    </tr>\n",
       "    <tr>\n",
       "      <th>16</th>\n",
       "      <td>17</td>\n",
       "      <td>15737452</td>\n",
       "      <td>Romeo</td>\n",
       "      <td>653</td>\n",
       "      <td>Germany</td>\n",
       "      <td>Male</td>\n",
       "      <td>58</td>\n",
       "      <td>1.0</td>\n",
       "      <td>132602.88</td>\n",
       "      <td>1</td>\n",
       "      <td>1</td>\n",
       "      <td>0</td>\n",
       "      <td>5097.67</td>\n",
       "      <td>1</td>\n",
       "    </tr>\n",
       "    <tr>\n",
       "      <th>17</th>\n",
       "      <td>18</td>\n",
       "      <td>15788218</td>\n",
       "      <td>Henderson</td>\n",
       "      <td>549</td>\n",
       "      <td>Spain</td>\n",
       "      <td>Female</td>\n",
       "      <td>24</td>\n",
       "      <td>9.0</td>\n",
       "      <td>0.00</td>\n",
       "      <td>2</td>\n",
       "      <td>1</td>\n",
       "      <td>1</td>\n",
       "      <td>14406.41</td>\n",
       "      <td>0</td>\n",
       "    </tr>\n",
       "    <tr>\n",
       "      <th>18</th>\n",
       "      <td>19</td>\n",
       "      <td>15661507</td>\n",
       "      <td>Muldrow</td>\n",
       "      <td>587</td>\n",
       "      <td>Spain</td>\n",
       "      <td>Male</td>\n",
       "      <td>45</td>\n",
       "      <td>6.0</td>\n",
       "      <td>0.00</td>\n",
       "      <td>1</td>\n",
       "      <td>0</td>\n",
       "      <td>0</td>\n",
       "      <td>158684.81</td>\n",
       "      <td>0</td>\n",
       "    </tr>\n",
       "    <tr>\n",
       "      <th>19</th>\n",
       "      <td>20</td>\n",
       "      <td>15568982</td>\n",
       "      <td>Hao</td>\n",
       "      <td>726</td>\n",
       "      <td>France</td>\n",
       "      <td>Female</td>\n",
       "      <td>24</td>\n",
       "      <td>6.0</td>\n",
       "      <td>0.00</td>\n",
       "      <td>2</td>\n",
       "      <td>1</td>\n",
       "      <td>1</td>\n",
       "      <td>54724.03</td>\n",
       "      <td>0</td>\n",
       "    </tr>\n",
       "  </tbody>\n",
       "</table>\n",
       "</div>"
      ],
      "text/plain": [
       "    RowNumber  CustomerId    Surname  CreditScore Geography  Gender  Age  \\\n",
       "0           1    15634602   Hargrave          619    France  Female   42   \n",
       "1           2    15647311       Hill          608     Spain  Female   41   \n",
       "2           3    15619304       Onio          502    France  Female   42   \n",
       "3           4    15701354       Boni          699    France  Female   39   \n",
       "4           5    15737888   Mitchell          850     Spain  Female   43   \n",
       "5           6    15574012        Chu          645     Spain    Male   44   \n",
       "6           7    15592531   Bartlett          822    France    Male   50   \n",
       "7           8    15656148     Obinna          376   Germany  Female   29   \n",
       "8           9    15792365         He          501    France    Male   44   \n",
       "9          10    15592389         H?          684    France    Male   27   \n",
       "10         11    15767821     Bearce          528    France    Male   31   \n",
       "11         12    15737173    Andrews          497     Spain    Male   24   \n",
       "12         13    15632264        Kay          476    France  Female   34   \n",
       "13         14    15691483       Chin          549    France  Female   25   \n",
       "14         15    15600882      Scott          635     Spain  Female   35   \n",
       "15         16    15643966    Goforth          616   Germany    Male   45   \n",
       "16         17    15737452      Romeo          653   Germany    Male   58   \n",
       "17         18    15788218  Henderson          549     Spain  Female   24   \n",
       "18         19    15661507    Muldrow          587     Spain    Male   45   \n",
       "19         20    15568982        Hao          726    France  Female   24   \n",
       "\n",
       "    Tenure    Balance  NumOfProducts  HasCrCard  IsActiveMember  \\\n",
       "0      2.0       0.00              1          1               1   \n",
       "1      1.0   83807.86              1          0               1   \n",
       "2      8.0  159660.80              3          1               0   \n",
       "3      1.0       0.00              2          0               0   \n",
       "4      2.0  125510.82              1          1               1   \n",
       "5      8.0  113755.78              2          1               0   \n",
       "6      7.0       0.00              2          1               1   \n",
       "7      4.0  115046.74              4          1               0   \n",
       "8      4.0  142051.07              2          0               1   \n",
       "9      2.0  134603.88              1          1               1   \n",
       "10     6.0  102016.72              2          0               0   \n",
       "11     3.0       0.00              2          1               0   \n",
       "12    10.0       0.00              2          1               0   \n",
       "13     5.0       0.00              2          0               0   \n",
       "14     7.0       0.00              2          1               1   \n",
       "15     3.0  143129.41              2          0               1   \n",
       "16     1.0  132602.88              1          1               0   \n",
       "17     9.0       0.00              2          1               1   \n",
       "18     6.0       0.00              1          0               0   \n",
       "19     6.0       0.00              2          1               1   \n",
       "\n",
       "    EstimatedSalary  Exited  \n",
       "0         101348.88       1  \n",
       "1         112542.58       0  \n",
       "2         113931.57       1  \n",
       "3          93826.63       0  \n",
       "4          79084.10       0  \n",
       "5         149756.71       1  \n",
       "6          10062.80       0  \n",
       "7         119346.88       1  \n",
       "8          74940.50       0  \n",
       "9          71725.73       0  \n",
       "10         80181.12       0  \n",
       "11         76390.01       0  \n",
       "12         26260.98       0  \n",
       "13        190857.79       0  \n",
       "14         65951.65       0  \n",
       "15         64327.26       0  \n",
       "16          5097.67       1  \n",
       "17         14406.41       0  \n",
       "18        158684.81       0  \n",
       "19         54724.03       0  "
      ]
     },
     "execution_count": 3,
     "metadata": {},
     "output_type": "execute_result"
    }
   ],
   "source": [
    "# Вывод основной информации о датафрейме с помощью метода info()\n",
    "df.head(20) "
   ]
  },
  {
   "cell_type": "code",
   "execution_count": 4,
   "metadata": {
    "scrolled": true
   },
   "outputs": [
    {
     "name": "stdout",
     "output_type": "stream",
     "text": [
      "<class 'pandas.core.frame.DataFrame'>\n",
      "RangeIndex: 10000 entries, 0 to 9999\n",
      "Data columns (total 14 columns):\n",
      " #   Column           Non-Null Count  Dtype  \n",
      "---  ------           --------------  -----  \n",
      " 0   RowNumber        10000 non-null  int64  \n",
      " 1   CustomerId       10000 non-null  int64  \n",
      " 2   Surname          10000 non-null  object \n",
      " 3   CreditScore      10000 non-null  int64  \n",
      " 4   Geography        10000 non-null  object \n",
      " 5   Gender           10000 non-null  object \n",
      " 6   Age              10000 non-null  int64  \n",
      " 7   Tenure           9091 non-null   float64\n",
      " 8   Balance          10000 non-null  float64\n",
      " 9   NumOfProducts    10000 non-null  int64  \n",
      " 10  HasCrCard        10000 non-null  int64  \n",
      " 11  IsActiveMember   10000 non-null  int64  \n",
      " 12  EstimatedSalary  10000 non-null  float64\n",
      " 13  Exited           10000 non-null  int64  \n",
      "dtypes: float64(3), int64(8), object(3)\n",
      "memory usage: 1.1+ MB\n"
     ]
    }
   ],
   "source": [
    "# Вывод основной информации о датафрейме с помощью метода info()\n",
    "df.info()"
   ]
  },
  {
   "cell_type": "markdown",
   "metadata": {},
   "source": [
    "Для дальнейшей работы с датафреймом и обучением моделей можно исключить следующие столбцы:\n",
    "- RowNumber — индекс строки в данных, дублирует индекс датафрейма\n",
    "- CustomerId — уникальный идентификатор клиента, не несет информации необходимой для машинного обучения\n",
    "- Surname — фамилия, не несет информации необходимой для машинного обучения"
   ]
  },
  {
   "cell_type": "code",
   "execution_count": 6,
   "metadata": {},
   "outputs": [],
   "source": [
    "data = df.drop(['Surname', 'CustomerId', 'RowNumber'], axis=1)"
   ]
  },
  {
   "cell_type": "code",
   "execution_count": 7,
   "metadata": {},
   "outputs": [
    {
     "data": {
      "text/plain": [
       "909"
      ]
     },
     "execution_count": 7,
     "metadata": {},
     "output_type": "execute_result"
    }
   ],
   "source": [
    "#Найдем количество пропущенных значений в столбце 'Tenure'\n",
    "data['Tenure'].isna().sum() #определим кол-во пропусков метом isna() и sum()"
   ]
  },
  {
   "cell_type": "code",
   "execution_count": 8,
   "metadata": {},
   "outputs": [],
   "source": [
    "# Обработаем пустые значение и заполним 0\n",
    "data['Tenure'] = data['Tenure'].fillna(0)"
   ]
  },
  {
   "cell_type": "markdown",
   "metadata": {},
   "source": [
    "**1.4 Разделим на признаки и целевой признак.**"
   ]
  },
  {
   "cell_type": "code",
   "execution_count": 9,
   "metadata": {},
   "outputs": [],
   "source": [
    "features = data.drop(['Exited'], axis=1)\n",
    "target = data['Exited']"
   ]
  },
  {
   "cell_type": "markdown",
   "metadata": {},
   "source": [
    "**1.5. Разделим исходные данные на обучающую (60%), валидационную (20%) и тестовую (20%) выборки.**"
   ]
  },
  {
   "cell_type": "markdown",
   "metadata": {},
   "source": [
    "1.5.1 Произведём двухэтапое деление. \n",
    "Первый этап -  деление на двухкомпонентную выборку:  обучающая (60%) и валидационная + тестовая (40%).\n",
    "Второй этап  - деление на двухкомпонентную выборку уже разделенной  валидационной + тестовой выборки: валидационная (80%) и тестовая (20%).\n",
    "Итого получилось 3 выборки: обучающая (60%), валидационная (20%) и тестовая (20%)."
   ]
  },
  {
   "cell_type": "code",
   "execution_count": 10,
   "metadata": {},
   "outputs": [],
   "source": [
    "# обучающая и валидационная + тестовая выборки, 60% и 40%\n",
    "# аргумент stratify чтобы сохранить изначальное распределение таргетов во всех новых датасетах\n",
    "features_train, features_val_test, target_train, target_val_test = train_test_split(features, \n",
    "                                                                          target,\n",
    "                                                                          train_size=0.6, \n",
    "                                                                          random_state=12345, \n",
    "                                                                          stratify=target)\n",
    "# валидационная и тестовая выборки, 20% и 20%\n",
    "features_valid, features_test, target_valid, target_test = train_test_split(features_val_test,\n",
    "                                                                            target_val_test, \n",
    "                                                                            test_size=0.5, \n",
    "                                                                            random_state=12345, \n",
    "                                                                            stratify=target_val_test)"
   ]
  },
  {
   "cell_type": "code",
   "execution_count": 11,
   "metadata": {},
   "outputs": [
    {
     "data": {
      "text/plain": [
       "((6000, 10), (6000,), (2000, 10), (2000,), (2000, 10), (2000,))"
      ]
     },
     "execution_count": 11,
     "metadata": {},
     "output_type": "execute_result"
    }
   ],
   "source": [
    "# Проверим корректность разбиения.\n",
    "features_train.shape, target_train.shape, features_valid.shape, target_valid.shape, features_test.shape, target_test.shape"
   ]
  },
  {
   "cell_type": "markdown",
   "metadata": {},
   "source": [
    "**1.6 Проеобразуем категориальные признаки в численные**"
   ]
  },
  {
   "cell_type": "code",
   "execution_count": 12,
   "metadata": {},
   "outputs": [],
   "source": [
    "# Проеобразуем категориальные признаки в численные техникой прямого кодирования OHE\n",
    "features_train = pd.get_dummies(features_train, drop_first=True)\n",
    "features_valid = pd.get_dummies(features_valid, drop_first=True)\n",
    "features_test = pd.get_dummies(features_test, drop_first=True)"
   ]
  },
  {
   "cell_type": "code",
   "execution_count": 13,
   "metadata": {},
   "outputs": [
    {
     "data": {
      "text/html": [
       "<div>\n",
       "<style scoped>\n",
       "    .dataframe tbody tr th:only-of-type {\n",
       "        vertical-align: middle;\n",
       "    }\n",
       "\n",
       "    .dataframe tbody tr th {\n",
       "        vertical-align: top;\n",
       "    }\n",
       "\n",
       "    .dataframe thead th {\n",
       "        text-align: right;\n",
       "    }\n",
       "</style>\n",
       "<table border=\"1\" class=\"dataframe\">\n",
       "  <thead>\n",
       "    <tr style=\"text-align: right;\">\n",
       "      <th></th>\n",
       "      <th>CreditScore</th>\n",
       "      <th>Age</th>\n",
       "      <th>Tenure</th>\n",
       "      <th>Balance</th>\n",
       "      <th>NumOfProducts</th>\n",
       "      <th>HasCrCard</th>\n",
       "      <th>IsActiveMember</th>\n",
       "      <th>EstimatedSalary</th>\n",
       "      <th>Geography_Germany</th>\n",
       "      <th>Geography_Spain</th>\n",
       "      <th>Gender_Male</th>\n",
       "    </tr>\n",
       "  </thead>\n",
       "  <tbody>\n",
       "    <tr>\n",
       "      <th>2837</th>\n",
       "      <td>549</td>\n",
       "      <td>49</td>\n",
       "      <td>6.0</td>\n",
       "      <td>124829.16</td>\n",
       "      <td>1</td>\n",
       "      <td>0</td>\n",
       "      <td>1</td>\n",
       "      <td>93551.36</td>\n",
       "      <td>1</td>\n",
       "      <td>0</td>\n",
       "      <td>0</td>\n",
       "    </tr>\n",
       "    <tr>\n",
       "      <th>9925</th>\n",
       "      <td>694</td>\n",
       "      <td>38</td>\n",
       "      <td>0.0</td>\n",
       "      <td>195926.39</td>\n",
       "      <td>1</td>\n",
       "      <td>1</td>\n",
       "      <td>1</td>\n",
       "      <td>85522.84</td>\n",
       "      <td>0</td>\n",
       "      <td>0</td>\n",
       "      <td>0</td>\n",
       "    </tr>\n",
       "    <tr>\n",
       "      <th>8746</th>\n",
       "      <td>660</td>\n",
       "      <td>34</td>\n",
       "      <td>8.0</td>\n",
       "      <td>106486.66</td>\n",
       "      <td>2</td>\n",
       "      <td>0</td>\n",
       "      <td>1</td>\n",
       "      <td>182262.66</td>\n",
       "      <td>0</td>\n",
       "      <td>0</td>\n",
       "      <td>1</td>\n",
       "    </tr>\n",
       "    <tr>\n",
       "      <th>660</th>\n",
       "      <td>632</td>\n",
       "      <td>41</td>\n",
       "      <td>0.0</td>\n",
       "      <td>81877.38</td>\n",
       "      <td>1</td>\n",
       "      <td>1</td>\n",
       "      <td>1</td>\n",
       "      <td>33642.21</td>\n",
       "      <td>1</td>\n",
       "      <td>0</td>\n",
       "      <td>0</td>\n",
       "    </tr>\n",
       "    <tr>\n",
       "      <th>3610</th>\n",
       "      <td>580</td>\n",
       "      <td>56</td>\n",
       "      <td>1.0</td>\n",
       "      <td>131368.30</td>\n",
       "      <td>1</td>\n",
       "      <td>1</td>\n",
       "      <td>0</td>\n",
       "      <td>106918.67</td>\n",
       "      <td>0</td>\n",
       "      <td>0</td>\n",
       "      <td>0</td>\n",
       "    </tr>\n",
       "  </tbody>\n",
       "</table>\n",
       "</div>"
      ],
      "text/plain": [
       "      CreditScore  Age  Tenure    Balance  NumOfProducts  HasCrCard  \\\n",
       "2837          549   49     6.0  124829.16              1          0   \n",
       "9925          694   38     0.0  195926.39              1          1   \n",
       "8746          660   34     8.0  106486.66              2          0   \n",
       "660           632   41     0.0   81877.38              1          1   \n",
       "3610          580   56     1.0  131368.30              1          1   \n",
       "\n",
       "      IsActiveMember  EstimatedSalary  Geography_Germany  Geography_Spain  \\\n",
       "2837               1         93551.36                  1                0   \n",
       "9925               1         85522.84                  0                0   \n",
       "8746               1        182262.66                  0                0   \n",
       "660                1         33642.21                  1                0   \n",
       "3610               0        106918.67                  0                0   \n",
       "\n",
       "      Gender_Male  \n",
       "2837            0  \n",
       "9925            0  \n",
       "8746            1  \n",
       "660             0  \n",
       "3610            0  "
      ]
     },
     "execution_count": 13,
     "metadata": {},
     "output_type": "execute_result"
    }
   ],
   "source": [
    "features_train.head()"
   ]
  },
  {
   "cell_type": "markdown",
   "metadata": {},
   "source": [
    "Для признака Geography создали 3 новых признака или дамми-переменные Geography_France, Geography_Germany, Geography_Spain.\n",
    "Для признака Gender создали 2 новые дамми-переменные Gender_Female, Gender_Male.\n",
    "В таблицу добавились три новых столбца признака Geography и два новых столбца признака Gender. Поскольку они сильно связаны между собой, один столбец для каждого признака удалим. Восстановить столбец можно по оставшимся двум. Так мы не попадём в дамми-ловушку. Столбец уберём вызовом функции pd.get_dummies() с аргументом drop_first (от англ. «сбросьте первый»). Он удаляет первую колонку и передаётся как drop_first=True или drop_first=False (True — первый столбец сбрасывается, False — не сбрасывается)."
   ]
  },
  {
   "cell_type": "markdown",
   "metadata": {},
   "source": [
    "**Вывод.** \n",
    "\n",
    "Датафрейм проверен на дубликаты. \n",
    "\n",
    "Исключены столбцы RowNumber — индекс строки в данных, CustomerId — уникальный идентификатор клиента, Surname — фамилия.\n",
    "\n",
    "Пустые значения столба Tenure (сколько лет человек является клиентом банка) заменены на 0, нет возможности сделать вывод является ли человек клиентом банка, поэтому примем всех клиентов с пустыми значениями Tenure за новых клиентов.\n",
    "\n",
    "Преобразовали категориальные признаки в численные техникой прямого кодирования OHE.\n",
    "\n",
    "Перед нами задача бинарной классификации. Качественный целевой признак Exited — факт ухода клиента (1 - уйдет, 0 - останется)."
   ]
  },
  {
   "cell_type": "markdown",
   "metadata": {},
   "source": [
    "## Исследование задачи"
   ]
  },
  {
   "cell_type": "markdown",
   "metadata": {},
   "source": [
    "**2.1 Проверка сбалансированности**"
   ]
  },
  {
   "cell_type": "code",
   "execution_count": 14,
   "metadata": {},
   "outputs": [
    {
     "data": {
      "text/plain": [
       "0    0.7963\n",
       "1    0.2037\n",
       "Name: Exited, dtype: float64"
      ]
     },
     "execution_count": 14,
     "metadata": {},
     "output_type": "execute_result"
    }
   ],
   "source": [
    "data['Exited'].value_counts(normalize = 1)"
   ]
  },
  {
   "cell_type": "markdown",
   "metadata": {},
   "source": [
    "Датасет имеет выраженный дисбаланс (80% ответов целевого признака нулевые, 20% единица).\n",
    "Дисбаланс может повлиять на переобучение модели. Модель с высокой точностью будет выдавать 0 на выборке с выраженным дисбалансом. Выходит, что мы обучили модель отлично работать с 0, но в случае тестовой выборке, да при том и сбалансированной - точность будет низкая, модель будет сильно склоняться к одному из вариантов ответа (часто встречающемуся). "
   ]
  },
  {
   "cell_type": "code",
   "execution_count": 15,
   "metadata": {},
   "outputs": [
    {
     "data": {
      "text/plain": [
       "(6000, 11)"
      ]
     },
     "execution_count": 15,
     "metadata": {},
     "output_type": "execute_result"
    }
   ],
   "source": [
    "# выполним масштабирование признаков методом стандартизации данных\n",
    "# численные признаки для масштабирования 'Balance', 'EstimatedSalary', 'CreditScore', 'Age', 'Tenure', 'NumOfProducts'\n",
    "numeric = ['Balance', 'EstimatedSalary', 'CreditScore', 'Age', 'Tenure', 'NumOfProducts']\n",
    "pd.options.mode.chained_assignment = None\n",
    "scaler = StandardScaler()\n",
    "scaler.fit(features_train[numeric])\n",
    "# масштабируем численные признаки на обучающей, валидационной и тестовой выборке\n",
    "features_train[numeric] = scaler.transform(features_train[numeric])\n",
    "features_valid[numeric] = scaler.transform(features_valid[numeric])\n",
    "features_test[numeric] = scaler.transform(features_test[numeric])\n",
    "features_train.shape"
   ]
  },
  {
   "cell_type": "markdown",
   "metadata": {},
   "source": [
    "**2.2. Исследуем качество разных моделей: решающее дерево, случайный лес, логистическая регрессия.**"
   ]
  },
  {
   "cell_type": "markdown",
   "metadata": {},
   "source": [
    "2.2.1 Эксперимент с решающим деревом. Глубина дерева от 1 до 5."
   ]
  },
  {
   "cell_type": "code",
   "execution_count": 16,
   "metadata": {},
   "outputs": [
    {
     "name": "stdout",
     "output_type": "stream",
     "text": [
      "Глубина 1 0.796\n",
      "Глубина 2 0.835\n",
      "Глубина 3 0.84\n",
      "Глубина 4 0.849\n",
      "Глубина 5 0.8575\n",
      "Глубина 6 0.86\n",
      "Глубина 7 0.859\n",
      "Глубина 8 0.858\n",
      "Глубина 9 0.85\n",
      "Глубина 10 0.8375\n",
      "Глубина 11 0.835\n",
      "Глубина 12 0.8255\n",
      "Глубина 13 0.8175\n",
      "Глубина 14 0.801\n",
      "Глубина 15 0.8005\n",
      "Глубина 16 0.8055\n",
      "Глубина 17 0.798\n",
      "Глубина 18 0.7935\n",
      "Глубина 19 0.7965\n"
     ]
    }
   ],
   "source": [
    "# цикл для max_depth от 1 до 5\n",
    "for depth in range(1, 20):\n",
    "    model_DecisionTree = DecisionTreeClassifier(random_state=12345, max_depth=depth)\n",
    "    model_DecisionTree.fit(features_train, target_train)\n",
    "    predictions_valid = model_DecisionTree.predict(features_valid)\n",
    "    predictions_train = model_DecisionTree.predict(features_train)\n",
    "    print(\"Глубина\", depth, end=' ')\n",
    "    print(accuracy_score(target_valid, predictions_valid)) "
   ]
  },
  {
   "cell_type": "markdown",
   "metadata": {},
   "source": [
    "Проанализируем частоты классов в результатах предсказаний решающего дерева (переменная predicted_valid)."
   ]
  },
  {
   "cell_type": "code",
   "execution_count": 17,
   "metadata": {},
   "outputs": [
    {
     "name": "stdout",
     "output_type": "stream",
     "text": [
      "0    0.7845\n",
      "1    0.2155\n",
      "dtype: float64\n"
     ]
    },
    {
     "data": {
      "text/plain": [
       "<AxesSubplot:>"
      ]
     },
     "execution_count": 17,
     "metadata": {},
     "output_type": "execute_result"
    },
    {
     "data": {
      "image/png": "[encoded data removed]",
      "text/plain": [
       "<Figure size 432x288 with 1 Axes>"
      ]
     },
     "metadata": {
      "needs_background": "light"
     },
     "output_type": "display_data"
    }
   ],
   "source": [
    "# чтобы работала функция value_counts(),\n",
    "# мы преобразовали результат к pd.Series \n",
    "predicted_valid = pd.Series(model_DecisionTree.predict(features_valid))\n",
    "\n",
    "class_frequency = predicted_valid.value_counts(normalize=True)\n",
    "print(class_frequency)\n",
    "class_frequency.plot(kind='bar')"
   ]
  },
  {
   "cell_type": "code",
   "execution_count": 18,
   "metadata": {},
   "outputs": [
    {
     "data": {
      "text/plain": [
       "array([[1377,  215],\n",
       "       [ 192,  216]])"
      ]
     },
     "execution_count": 18,
     "metadata": {},
     "output_type": "execute_result"
    }
   ],
   "source": [
    "# Представим результаты вычислений метрик точности и полноты для Решающего дерева с помощью матрица ошибок.\n",
    "confusion_matrix(target_valid, predicted_valid)"
   ]
  },
  {
   "cell_type": "markdown",
   "metadata": {},
   "source": [
    "Дерево решений преимущественно выдает негативные нулевые предсказания (TN), что соответствует частоте нулевого класса."
   ]
  },
  {
   "cell_type": "markdown",
   "metadata": {},
   "source": [
    "Матрица ошибок поможет построить новые метрики: полноту (Recall), точность (Precision) и F1-мера.\n",
    "Полнота выявляет, какую долю положительных среди всех ответов выделила модель.\n",
    "Точность определяет, как много отрицательных ответов нашла модель, пока искала положительные. \n",
    "Иными словами, полнота и точность оценивают качество прогноза положительного класса с разных позиций. Recall описывает, как хорошо модель разобралась в особенностях этого класса и распознала его. Precision выявляет, не переусердствует ли модель, присваивая положительные метки. \n",
    "F1-мера - агрегирующая метрика, среднее гармоническое полноты и точности."
   ]
  },
  {
   "cell_type": "code",
   "execution_count": 19,
   "metadata": {},
   "outputs": [
    {
     "name": "stdout",
     "output_type": "stream",
     "text": [
      "Полнота 0.5294117647058824\n",
      "Точность 0.5011600928074246\n",
      "F1-мера 0.5148986889153755\n"
     ]
    }
   ],
   "source": [
    "# Найдем полноту\n",
    "print(\"Полнота\" , recall_score(target_valid, predictions_valid))\n",
    "# Найдем точность \n",
    "print(\"Точность\", precision_score(target_valid, predictions_valid))\n",
    "# Найдем F1-меру\n",
    "print(\"F1-мера\", f1_score(target_valid, predictions_valid))"
   ]
  },
  {
   "cell_type": "code",
   "execution_count": 20,
   "metadata": {},
   "outputs": [
    {
     "data": {
      "text/plain": [
       "0.6988311656320819"
      ]
     },
     "execution_count": 20,
     "metadata": {},
     "output_type": "execute_result"
    }
   ],
   "source": [
    "# посчитаем площадь под ROC-кривой — AUC-ROC, чтобы выявить, как сильно наша модель отличается от случайной\n",
    "probabilities_valid = model_DecisionTree.predict_proba(features_valid)\n",
    "probabilities_one_valid = probabilities_valid[:, 1]\n",
    "auc_roc = roc_auc_score(target_valid, probabilities_one_valid)\n",
    "auc_roc"
   ]
  },
  {
   "cell_type": "markdown",
   "metadata": {},
   "source": [
    "2.2.2 Эксперимент со случайным лесом. Проверим модель с глубиной от 1 до 20. Покажем лучший результат."
   ]
  },
  {
   "cell_type": "code",
   "execution_count": 21,
   "metadata": {},
   "outputs": [
    {
     "name": "stderr",
     "output_type": "stream",
     "text": [
      "100%|██████████| 20/20 [03:39<00:00, 10.97s/it]\n"
     ]
    },
    {
     "data": {
      "text/plain": [
       "('Accuracy наилучшей модели на валидационной выборке:',\n",
       " 0.871,\n",
       " 'Количество деревьев:',\n",
       " 8,\n",
       " 'Максимальная глубина:',\n",
       " 10)"
      ]
     },
     "execution_count": 21,
     "metadata": {},
     "output_type": "execute_result"
    }
   ],
   "source": [
    "for i in tqdm(range(20)):\n",
    "    model_RandomForest = None\n",
    "    best_result = 0\n",
    "    best_est = 0\n",
    "    best_depth = 0\n",
    "    for est in range(1, 21):\n",
    "        for depth in range (1, 11):\n",
    "            model = RandomForestClassifier(random_state=12345, n_estimators=est, max_depth=depth) # инициализировать модель RandomForestRegressor с параметрами random_state=12345, n_estimators=est и max_depth=depth\n",
    "            model.fit(features_train, target_train) # обучить модель на тренировочной выборке\n",
    "            predictions_valid = model.predict(features_valid) # получить предсказания модели на валидационной выборке\n",
    "            result = model.score(features_valid, target_valid) # посчитайте качество модели на валидационной выборке\n",
    "\n",
    "        if result > best_result:\n",
    "            model_RandomForest = model # сохраните наилучшую модель\n",
    "            best_result = result #  сохраните наилучшее значение метрики accuracy на валидационных данных\n",
    "            best_est = est\n",
    "            best_depth = depth\n",
    "\n",
    "\"Accuracy наилучшей модели на валидационной выборке:\", best_result, \"Количество деревьев:\", best_est, \"Максимальная глубина:\", depth"
   ]
  },
  {
   "cell_type": "markdown",
   "metadata": {},
   "source": [
    "Проанализируем частоты классов в результатах предсказаний случайного леса (переменная predicted_valid)."
   ]
  },
  {
   "cell_type": "code",
   "execution_count": 22,
   "metadata": {},
   "outputs": [
    {
     "name": "stdout",
     "output_type": "stream",
     "text": [
      "0    0.872\n",
      "1    0.128\n",
      "dtype: float64\n"
     ]
    },
    {
     "data": {
      "text/plain": [
       "<AxesSubplot:>"
      ]
     },
     "execution_count": 22,
     "metadata": {},
     "output_type": "execute_result"
    },
    {
     "data": {
      "image/png": "[encoded data removed]",
      "text/plain": [
       "<Figure size 432x288 with 1 Axes>"
      ]
     },
     "metadata": {
      "needs_background": "light"
     },
     "output_type": "display_data"
    }
   ],
   "source": [
    "# чтобы работала функция value_counts(),\n",
    "# мы преобразовали результат к pd.Series \n",
    "predicted_valid = pd.Series(model_RandomForest.predict(features_valid))\n",
    "\n",
    "class_frequency = predicted_valid.value_counts(normalize=True)\n",
    "print(class_frequency)\n",
    "class_frequency.plot(kind='bar')"
   ]
  },
  {
   "cell_type": "code",
   "execution_count": 23,
   "metadata": {},
   "outputs": [
    {
     "data": {
      "text/plain": [
       "array([[1539,   53],\n",
       "       [ 205,  203]])"
      ]
     },
     "execution_count": 23,
     "metadata": {},
     "output_type": "execute_result"
    }
   ],
   "source": [
    "# Представим результаты вычислений метрик точности и полноты для Решающего дерева с помощью матрица ошибок.\n",
    "confusion_matrix(target_valid, predicted_valid)"
   ]
  },
  {
   "cell_type": "markdown",
   "metadata": {},
   "source": [
    "Случайный лес преимущественно выдает негативные нулевые предсказания (TN) при выраженном минимальном количестве ошибочных позитивных ответов, что соответствует частоте нулевого класса."
   ]
  },
  {
   "cell_type": "code",
   "execution_count": 24,
   "metadata": {},
   "outputs": [
    {
     "name": "stdout",
     "output_type": "stream",
     "text": [
      "Полнота 0.49019607843137253\n",
      "Точность 0.78125\n",
      "F1-мера 0.6024096385542168\n"
     ]
    }
   ],
   "source": [
    "# Найдем полноту\n",
    "print(\"Полнота\" , recall_score(target_valid, predictions_valid))\n",
    "# Найдем точность \n",
    "print(\"Точность\", precision_score(target_valid, predictions_valid))\n",
    "# Найдем F1-меру\n",
    "print(\"F1-мера\", f1_score(target_valid, predictions_valid))"
   ]
  },
  {
   "cell_type": "code",
   "execution_count": 25,
   "metadata": {},
   "outputs": [
    {
     "data": {
      "text/plain": [
       "0.856356691545965"
      ]
     },
     "execution_count": 25,
     "metadata": {},
     "output_type": "execute_result"
    }
   ],
   "source": [
    "# посчитаем площадь под ROC-кривой — AUC-ROC, чтобы выявить, как сильно наша модель отличается от случайной\n",
    "probabilities_valid = model_RandomForest.predict_proba(features_valid)\n",
    "probabilities_one_valid = probabilities_valid[:, 1]\n",
    "auc_roc = roc_auc_score(target_valid, probabilities_one_valid)\n",
    "auc_roc"
   ]
  },
  {
   "cell_type": "markdown",
   "metadata": {},
   "source": [
    "2.2.3 Эксперимент с логистической регрессией"
   ]
  },
  {
   "cell_type": "code",
   "execution_count": 26,
   "metadata": {},
   "outputs": [
    {
     "name": "stdout",
     "output_type": "stream",
     "text": [
      "0.806\n"
     ]
    }
   ],
   "source": [
    "model_LogisticRegression = LogisticRegression(solver='liblinear', random_state=12345) \n",
    "model_LogisticRegression.fit(features_valid, target_valid)\n",
    "predicted_valid = model_LogisticRegression.predict(features_valid)\n",
    "accuracy_valid = accuracy_score(target_valid, predicted_valid) # получите предсказания модели\n",
    "print(accuracy_valid)"
   ]
  },
  {
   "cell_type": "markdown",
   "metadata": {},
   "source": [
    "Проанализируем частоты классов в результатах предсказаний логистической регрессии."
   ]
  },
  {
   "cell_type": "code",
   "execution_count": 27,
   "metadata": {},
   "outputs": [
    {
     "name": "stdout",
     "output_type": "stream",
     "text": [
      "0    0.915\n",
      "1    0.085\n",
      "dtype: float64\n"
     ]
    },
    {
     "data": {
      "text/plain": [
       "<AxesSubplot:>"
      ]
     },
     "execution_count": 27,
     "metadata": {},
     "output_type": "execute_result"
    },
    {
     "data": {
      "image/png": "[encoded data removed]",
      "text/plain": [
       "<Figure size 432x288 with 1 Axes>"
      ]
     },
     "metadata": {
      "needs_background": "light"
     },
     "output_type": "display_data"
    }
   ],
   "source": [
    "# чтобы работала функция value_counts(),\n",
    "# мы преобразовали результат к pd.Series \n",
    "predicted_valid = pd.Series(model_LogisticRegression.predict(features_valid))\n",
    "\n",
    "class_frequency = predicted_valid.value_counts(normalize=True)\n",
    "print(class_frequency)\n",
    "class_frequency.plot(kind='bar')"
   ]
  },
  {
   "cell_type": "code",
   "execution_count": 28,
   "metadata": {},
   "outputs": [
    {
     "data": {
      "text/plain": [
       "array([[1517,   75],\n",
       "       [ 313,   95]])"
      ]
     },
     "execution_count": 28,
     "metadata": {},
     "output_type": "execute_result"
    }
   ],
   "source": [
    "# Представим результаты вычислений метрик точности и полноты для Решающего дерева с помощью матрица ошибок.\n",
    "confusion_matrix(target_valid, predicted_valid)"
   ]
  },
  {
   "cell_type": "markdown",
   "metadata": {},
   "source": [
    "Логистическая регрессия преимущественно выдает негативные нулевые предсказания (TN) при выраженном минимальном количестве ошибочных позитивных ответов (FP) и минимальном количестве правильных позитивных ответов (TP), что соответствует частоте нулевого класса."
   ]
  },
  {
   "cell_type": "code",
   "execution_count": 29,
   "metadata": {},
   "outputs": [
    {
     "name": "stdout",
     "output_type": "stream",
     "text": [
      "Полнота 0.23284313725490197\n",
      "Точность 0.5588235294117647\n",
      "F1-мера 0.328719723183391\n"
     ]
    }
   ],
   "source": [
    "# Найдем полноту\n",
    "print(\"Полнота\" , recall_score(target_valid, predicted_valid))\n",
    "# Найдем точность \n",
    "print(\"Точность\", precision_score(target_valid, predicted_valid))\n",
    "# Найдем F1-меру\n",
    "print(\"F1-мера\", f1_score(target_valid, predicted_valid))"
   ]
  },
  {
   "cell_type": "code",
   "execution_count": 30,
   "metadata": {},
   "outputs": [
    {
     "data": {
      "text/plain": [
       "0.7968950142871218"
      ]
     },
     "execution_count": 30,
     "metadata": {},
     "output_type": "execute_result"
    }
   ],
   "source": [
    "# посчитаем площадь под ROC-кривой — AUC-ROC, чтобы выявить, как сильно наша модель отличается от случайной\n",
    "probabilities_valid = model_LogisticRegression.predict_proba(features_valid)\n",
    "probabilities_one_valid = probabilities_valid[:, 1]\n",
    "auc_roc = roc_auc_score(target_valid, probabilities_one_valid)\n",
    "auc_roc"
   ]
  },
  {
   "cell_type": "raw",
   "metadata": {},
   "source": [
    "Алгоритм логистической регрессии показал самый слабый результат accuracy. Дерево решений и случайный лес показали близкий результат. Самую высокую точность показал Случайный лес."
   ]
  },
  {
   "cell_type": "markdown",
   "metadata": {},
   "source": [
    "**2.3. Проверка адекватности модели. Создадим константную модель: любому объекту она прогнозирует класс «0».**"
   ]
  },
  {
   "cell_type": "code",
   "execution_count": 31,
   "metadata": {},
   "outputs": [
    {
     "name": "stdout",
     "output_type": "stream",
     "text": [
      "0.7963\n"
     ]
    }
   ],
   "source": [
    "# чтобы работала функция value_counts(),\n",
    "# мы преобразовали результат к pd.Series \n",
    "target_pred_constant = pd.Series(0 for i in range(target.shape[0]))\n",
    "print(accuracy_score(target, target_pred_constant)) "
   ]
  },
  {
   "cell_type": "markdown",
   "metadata": {},
   "source": [
    "Все алгоритмы прошли проверку на адекватность.\n",
    "Алгоритм логистической регрессии выдает достаточно высокую точность, но самое низкое качество модели (F1 - 0.328)."
   ]
  },
  {
   "cell_type": "markdown",
   "metadata": {},
   "source": [
    "**Вывод.** \n",
    "\n",
    "Датасет имеет выраженный дисбаланс (80% ответов целевого признака нулевые, 20% единица), что повлияет на точность модели.\n",
    "\n",
    "В данных есть численные признаки для масштабирования 'Balance', 'EstimatedSalary', 'CreditScore', 'Age', 'Tenure', 'NumOfProducts'. Значения и их разбросы в столбцах могут отличаться, поэтому алгоритм автоматически решит, что этот признак важнее. А это не так: все признаки значимы. Чтобы избежать этой ловушки, признаки масштабируют — приводят к одному масштабу.\n",
    "\n",
    "Исследуя качество разных моделей: решающее дерево, случайный лес, логистическая регрессия выяснили, что самую высокую точность показал Случайный лес.\n",
    "\n",
    "F1-мера у всех моделей имеет невысокое значение, что говорит о низком качестве модели.\n",
    "Проблема в дисбалансе, требуется его устранить."
   ]
  },
  {
   "cell_type": "markdown",
   "metadata": {},
   "source": [
    "## Борьба с дисбалансом"
   ]
  },
  {
   "cell_type": "markdown",
   "metadata": {},
   "source": [
    "**3.1. Сбалансируем классы с помощью взвешивания.**"
   ]
  },
  {
   "cell_type": "code",
   "execution_count": 32,
   "metadata": {},
   "outputs": [
    {
     "name": "stdout",
     "output_type": "stream",
     "text": [
      "F1: 0.575925925925926\n"
     ]
    }
   ],
   "source": [
    "# вычислим F1-мера на сбалансированной выборке дерева решений\n",
    "model_DecisionTree = DecisionTreeClassifier(random_state=12345, max_depth=6, class_weight='balanced')\n",
    "model_DecisionTree.fit(features_train, target_train)\n",
    "predictions_valid = model_DecisionTree.predict(features_valid)\n",
    "print(\"F1:\", f1_score(target_valid, predictions_valid))"
   ]
  },
  {
   "cell_type": "markdown",
   "metadata": {},
   "source": [
    "Проанализируем частоты классов в результатах предсказаний решающего дерева."
   ]
  },
  {
   "cell_type": "code",
   "execution_count": 33,
   "metadata": {},
   "outputs": [
    {
     "name": "stdout",
     "output_type": "stream",
     "text": [
      "0    0.664\n",
      "1    0.336\n",
      "dtype: float64\n"
     ]
    },
    {
     "data": {
      "text/plain": [
       "<AxesSubplot:>"
      ]
     },
     "execution_count": 33,
     "metadata": {},
     "output_type": "execute_result"
    },
    {
     "data": {
      "image/png": "[encoded data removed]",
      "text/plain": [
       "<Figure size 432x288 with 1 Axes>"
      ]
     },
     "metadata": {
      "needs_background": "light"
     },
     "output_type": "display_data"
    }
   ],
   "source": [
    "# чтобы работала функция value_counts(),\n",
    "# мы преобразовали результат к pd.Series \n",
    "predicted_valid = pd.Series(model_DecisionTree.predict(features_valid))\n",
    "\n",
    "class_frequency = predicted_valid.value_counts(normalize=True)\n",
    "print(class_frequency)\n",
    "class_frequency.plot(kind='bar')"
   ]
  },
  {
   "cell_type": "code",
   "execution_count": 34,
   "metadata": {},
   "outputs": [
    {
     "name": "stdout",
     "output_type": "stream",
     "text": [
      "F1: 0.6054827175208581\n"
     ]
    }
   ],
   "source": [
    "# вычислим F1-мера на сбалансированной выборке случайного леса\n",
    "model_RandomForest = RandomForestClassifier(random_state=12345, n_estimators=8, max_depth=10, class_weight='balanced')\n",
    "model_RandomForest.fit(features_train, target_train)\n",
    "predictions_valid = model_RandomForest.predict(features_valid)\n",
    "print(\"F1:\", f1_score(target_valid, predictions_valid))"
   ]
  },
  {
   "cell_type": "markdown",
   "metadata": {},
   "source": [
    "Проанализируем частоты классов в результатах предсказаний случайного леса."
   ]
  },
  {
   "cell_type": "code",
   "execution_count": 35,
   "metadata": {},
   "outputs": [
    {
     "name": "stdout",
     "output_type": "stream",
     "text": [
      "0    0.7845\n",
      "1    0.2155\n",
      "dtype: float64\n"
     ]
    },
    {
     "data": {
      "text/plain": [
       "<AxesSubplot:>"
      ]
     },
     "execution_count": 35,
     "metadata": {},
     "output_type": "execute_result"
    },
    {
     "data": {
      "image/png": "[encoded data removed]",
      "text/plain": [
       "<Figure size 432x288 with 1 Axes>"
      ]
     },
     "metadata": {
      "needs_background": "light"
     },
     "output_type": "display_data"
    }
   ],
   "source": [
    "# чтобы работала функция value_counts(),\n",
    "# мы преобразовали результат к pd.Series \n",
    "predicted_valid = pd.Series(model_RandomForest.predict(features_valid))\n",
    "\n",
    "class_frequency = predicted_valid.value_counts(normalize=True)\n",
    "print(class_frequency)\n",
    "class_frequency.plot(kind='bar')"
   ]
  },
  {
   "cell_type": "code",
   "execution_count": 36,
   "metadata": {},
   "outputs": [
    {
     "name": "stdout",
     "output_type": "stream",
     "text": [
      "F1: 0.5302897278314311\n"
     ]
    }
   ],
   "source": [
    "# вычислим F1-мера на сбалансированной выборке логистической регрессии\n",
    "model_LogisticRegression = LogisticRegression(random_state=12345, solver='liblinear', class_weight='balanced')\n",
    "model_LogisticRegression.fit(features_train, target_train)\n",
    "predictions_valid = model_LogisticRegression.predict(features_valid)\n",
    "print(\"F1:\", f1_score(target_valid, predictions_valid))"
   ]
  },
  {
   "cell_type": "markdown",
   "metadata": {},
   "source": [
    "Проанализируем частоты классов в результатах предсказаний логистической регрессии."
   ]
  },
  {
   "cell_type": "code",
   "execution_count": 37,
   "metadata": {},
   "outputs": [
    {
     "name": "stdout",
     "output_type": "stream",
     "text": [
      "0    0.6345\n",
      "1    0.3655\n",
      "dtype: float64\n"
     ]
    },
    {
     "data": {
      "text/plain": [
       "<AxesSubplot:>"
      ]
     },
     "execution_count": 37,
     "metadata": {},
     "output_type": "execute_result"
    },
    {
     "data": {
      "image/png": "[encoded data removed]",
      "text/plain": [
       "<Figure size 432x288 with 1 Axes>"
      ]
     },
     "metadata": {
      "needs_background": "light"
     },
     "output_type": "display_data"
    }
   ],
   "source": [
    "# чтобы работала функция value_counts(),\n",
    "# мы преобразовали результат к pd.Series \n",
    "predicted_valid = pd.Series(model_LogisticRegression.predict(features_valid))\n",
    "\n",
    "class_frequency = predicted_valid.value_counts(normalize=True)\n",
    "print(class_frequency)\n",
    "class_frequency.plot(kind='bar')"
   ]
  },
  {
   "cell_type": "markdown",
   "metadata": {},
   "source": [
    "**3.2. Сбалансируем классы с помощью увеличения выборки.**"
   ]
  },
  {
   "cell_type": "markdown",
   "metadata": {},
   "source": [
    "В датасете дисбаланс орицательных и положительных классов 1/4.\n",
    "Необходмо увеличить количество положительных ответов в 4 раза для достижения баланса.\n",
    "Преобразование проходит в несколько этапов:\n",
    "- Разделить обучающую выборку на отрицательные и положительные объекты;\n",
    "- Скопировать несколько раз положительные объекты;\n",
    "- С учётом полученных данных создать новую обучающую выборку;\n",
    "- Перемешать данные: идущие друг за другом одинаковые вопросы не помогут обучению."
   ]
  },
  {
   "cell_type": "code",
   "execution_count": 38,
   "metadata": {},
   "outputs": [],
   "source": [
    "# функция увеличения кол-ва положительных объектов\n",
    "def upsample(features, target, repeat):\n",
    "    features_zeros = features[target == 0]\n",
    "    features_ones = features[target == 1]\n",
    "    target_zeros = target[target == 0]\n",
    "    target_ones = target[target == 1]\n",
    "    \n",
    "# cоединиv таблицы функцией pd.concat()\n",
    "    features_upsampled = pd.concat([features_zeros] + [features_ones] * repeat)\n",
    "    target_upsampled = pd.concat([target_zeros] + [target_ones] * repeat)\n",
    "# преобразуем признаки техникой upsampling    \n",
    "    features_upsampled, target_upsampled = shuffle(\n",
    "        features_upsampled, target_upsampled, random_state=12345)\n",
    "    \n",
    "    return features_upsampled, target_upsampled\n",
    "# повторим кол-во преобразований 4 раза\n",
    "features_upsampled, target_upsampled = upsample(features_train, target_train, 4)"
   ]
  },
  {
   "cell_type": "code",
   "execution_count": 39,
   "metadata": {},
   "outputs": [
    {
     "name": "stdout",
     "output_type": "stream",
     "text": [
      "(9666, 11)\n",
      "(9666,)\n"
     ]
    }
   ],
   "source": [
    "print(features_upsampled.shape)\n",
    "print(target_upsampled.shape)"
   ]
  },
  {
   "cell_type": "code",
   "execution_count": 40,
   "metadata": {},
   "outputs": [
    {
     "name": "stdout",
     "output_type": "stream",
     "text": [
      "F1: 0.575925925925926\n"
     ]
    }
   ],
   "source": [
    "# вычислим F1-мера на сбалансированной выборке дерева решений\n",
    "model_DecisionTree = DecisionTreeClassifier(random_state=12345, max_depth=6)\n",
    "model_DecisionTree.fit(features_upsampled, target_upsampled)\n",
    "predictions_valid = model_DecisionTree.predict(features_valid)\n",
    "print(\"F1:\", f1_score(target_valid, predictions_valid))"
   ]
  },
  {
   "cell_type": "code",
   "execution_count": 41,
   "metadata": {},
   "outputs": [
    {
     "name": "stdout",
     "output_type": "stream",
     "text": [
      "1    0.517691\n",
      "0    0.482309\n",
      "dtype: float64\n"
     ]
    },
    {
     "data": {
      "text/plain": [
       "<AxesSubplot:>"
      ]
     },
     "execution_count": 41,
     "metadata": {},
     "output_type": "execute_result"
    },
    {
     "data": {
      "image/png": "[encoded data removed]",
      "text/plain": [
       "<Figure size 432x288 with 1 Axes>"
      ]
     },
     "metadata": {
      "needs_background": "light"
     },
     "output_type": "display_data"
    }
   ],
   "source": [
    "# чтобы работала функция value_counts(),\n",
    "# мы преобразовали результат к pd.Series \n",
    "predicted_valid = pd.Series(model_DecisionTree.predict(features_upsampled))\n",
    "\n",
    "class_frequency = predicted_valid.value_counts(normalize=True)\n",
    "print(class_frequency)\n",
    "class_frequency.plot(kind='bar')"
   ]
  },
  {
   "cell_type": "code",
   "execution_count": 42,
   "metadata": {},
   "outputs": [
    {
     "name": "stdout",
     "output_type": "stream",
     "text": [
      "F1: 0.6226012793176972\n"
     ]
    }
   ],
   "source": [
    "# вычислим F1-мера на сбалансированной выборке случайного леса\n",
    "model_RandomForest = RandomForestClassifier(random_state=12345, n_estimators=8, max_depth=10)\n",
    "model_RandomForest.fit(features_upsampled, target_upsampled)\n",
    "predictions_valid = model_RandomForest.predict(features_valid)\n",
    "print(\"F1:\", f1_score(target_valid, predictions_valid))"
   ]
  },
  {
   "cell_type": "code",
   "execution_count": 43,
   "metadata": {},
   "outputs": [
    {
     "name": "stdout",
     "output_type": "stream",
     "text": [
      "1    0.505276\n",
      "0    0.494724\n",
      "dtype: float64\n"
     ]
    },
    {
     "data": {
      "text/plain": [
       "<AxesSubplot:>"
      ]
     },
     "execution_count": 43,
     "metadata": {},
     "output_type": "execute_result"
    },
    {
     "data": {
      "image/png": "[encoded data removed]",
      "text/plain": [
       "<Figure size 432x288 with 1 Axes>"
      ]
     },
     "metadata": {
      "needs_background": "light"
     },
     "output_type": "display_data"
    }
   ],
   "source": [
    "# чтобы работала функция value_counts(),\n",
    "# мы преобразовали результат к pd.Series \n",
    "predicted_valid = pd.Series(model_RandomForest.predict(features_upsampled))\n",
    "\n",
    "class_frequency = predicted_valid.value_counts(normalize=True)\n",
    "print(class_frequency)\n",
    "class_frequency.plot(kind='bar')"
   ]
  },
  {
   "cell_type": "code",
   "execution_count": 44,
   "metadata": {},
   "outputs": [
    {
     "name": "stdout",
     "output_type": "stream",
     "text": [
      "F1: 0.5246753246753246\n"
     ]
    }
   ],
   "source": [
    "# вычислим F1-мера на сбалансированной выборке логистической регрессии\n",
    "model_LogisticRegression = LogisticRegression(random_state=12345, solver='liblinear')\n",
    "model_LogisticRegression.fit(features_upsampled, target_upsampled)\n",
    "predictions_valid = model_LogisticRegression.predict(features_valid)\n",
    "print(\"F1:\", f1_score(target_valid, predictions_valid))"
   ]
  },
  {
   "cell_type": "code",
   "execution_count": 45,
   "metadata": {},
   "outputs": [
    {
     "name": "stdout",
     "output_type": "stream",
     "text": [
      "0    0.507138\n",
      "1    0.492862\n",
      "dtype: float64\n"
     ]
    },
    {
     "data": {
      "text/plain": [
       "<AxesSubplot:>"
      ]
     },
     "execution_count": 45,
     "metadata": {},
     "output_type": "execute_result"
    },
    {
     "data": {
      "image/png": "[encoded data removed]",
      "text/plain": [
       "<Figure size 432x288 with 1 Axes>"
      ]
     },
     "metadata": {
      "needs_background": "light"
     },
     "output_type": "display_data"
    }
   ],
   "source": [
    "# чтобы работала функция value_counts(),\n",
    "# мы преобразовали результат к pd.Series \n",
    "predicted_valid = pd.Series(model_LogisticRegression.predict(features_upsampled))\n",
    "\n",
    "class_frequency = predicted_valid.value_counts(normalize=True)\n",
    "print(class_frequency)\n",
    "class_frequency.plot(kind='bar')"
   ]
  },
  {
   "cell_type": "markdown",
   "metadata": {},
   "source": [
    "**Вывод.** \n",
    "\n",
    "Датасет имеет выраженный дисбаланс (80% ответов целевого признака нулевые, 20% единица), что влияет на точность модели.\n",
    "\n",
    "Протестировал 2 метода борьбы с дисбалансом: взвешивание и увеличение выборки.\n",
    "Метод увеличения выборки для алгоритма случайного леса дал максимальный прирост меры F1.\n",
    "Финальное тестирование проведем на данном алгоритме на сбалансированной выборке."
   ]
  },
  {
   "cell_type": "markdown",
   "metadata": {},
   "source": [
    "## Тестирование модели"
   ]
  },
  {
   "cell_type": "markdown",
   "metadata": {},
   "source": [
    "**4.1. Тестирование модели 'Случайный лес' выполним на тестовой выборке.**"
   ]
  },
  {
   "cell_type": "markdown",
   "metadata": {},
   "source": [
    "Выбор наилучших гиперпараметров модели 'Случайный лес' на сбалансированных (взвешенные + увеличенная выборка) данных."
   ]
  },
  {
   "cell_type": "code",
   "execution_count": 46,
   "metadata": {},
   "outputs": [
    {
     "name": "stderr",
     "output_type": "stream",
     "text": [
      "100%|██████████| 20/20 [12:24<00:00, 37.20s/it]\n"
     ]
    },
    {
     "data": {
      "text/plain": [
       "('F1 наилучшей модели:',\n",
       " 0.6491228070175439,\n",
       " 'Accuracy наилучшей модели:',\n",
       " 0.84,\n",
       " 'Количество деревьев:',\n",
       " 30,\n",
       " 'Максимальная глубина:',\n",
       " 10)"
      ]
     },
     "execution_count": 46,
     "metadata": {},
     "output_type": "execute_result"
    }
   ],
   "source": [
    "for i in tqdm(range(20)):\n",
    "    model_RandomForest_balance = None\n",
    "    best_f1 = 0\n",
    "    best_accuracy = 0\n",
    "    best_est = 0\n",
    "    best_depth = 0\n",
    "    for est in range(1, 33):\n",
    "        for depth in range (1, 11):\n",
    "            model = RandomForestClassifier(random_state=12345, n_estimators=est, max_depth=depth, class_weight='balanced') # инициализировать модель RandomForestRegressor с параметрами random_state=12345, n_estimators=est и max_depth=depth\n",
    "            model.fit(features_upsampled, target_upsampled)\n",
    "            predictions_valid = model.predict(features_valid) \n",
    "            result_accuracy = model.score(features_valid, target_valid)\n",
    "            result_f1 = f1_score(target_valid, predictions_valid)\n",
    "            \n",
    "        if result_f1 > best_f1:\n",
    "            model_RandomForest_balance = model # сохраните наилучшую модель\n",
    "            best_f1 = result_f1 #  сохраните наилучшее значение метрики F1\n",
    "            best_accuracy = result_accuracy #  сохраните наилучшее значение метрики accuracy\n",
    "            best_est = est\n",
    "            best_depth = depth\n",
    "\n",
    "\"F1 наилучшей модели:\", best_f1, \"Accuracy наилучшей модели:\", best_accuracy, \"Количество деревьев:\", best_est, \"Максимальная глубина:\", depth"
   ]
  },
  {
   "cell_type": "markdown",
   "metadata": {},
   "source": [
    "Проверка обученной модели 'Случайный леc' на тестовой выборке."
   ]
  },
  {
   "cell_type": "code",
   "execution_count": 49,
   "metadata": {},
   "outputs": [
    {
     "name": "stdout",
     "output_type": "stream",
     "text": [
      "Accuracy наилучшей модели на тестовой выборке: 0.8025\n",
      "F1 наилучшей модели на тестовой выборке: 0.5975473801560758\n",
      "Полнота наилучшей модели на тестовой выборке: 0.6584766584766585\n",
      "Точность наилучшей модели на тестовой выборке: 0.5469387755102041\n"
     ]
    }
   ],
   "source": [
    "RF_predictions_valid = model_RandomForest_balance.predict(features_test)\n",
    "result = model_RandomForest.score(features_test, target_test) # посчитайте качество модели на валидационной выборке\n",
    "print(\"Accuracy наилучшей модели на тестовой выборке:\", result)\n",
    "print(\"F1 наилучшей модели на тестовой выборке:\", f1_score(target_test, RF_predictions_valid))\n",
    "print(\"Полнота наилучшей модели на тестовой выборке:\" , recall_score(target_test, RF_predictions_valid))\n",
    "print(\"Точность наилучшей модели на тестовой выборке:\", precision_score(target_test, RF_predictions_valid))"
   ]
  },
  {
   "cell_type": "code",
   "execution_count": 50,
   "metadata": {},
   "outputs": [
    {
     "data": {
      "image/png": "[encoded data removed]",
      "text/plain": [
       "<Figure size 432x288 with 1 Axes>"
      ]
     },
     "metadata": {
      "needs_background": "light"
     },
     "output_type": "display_data"
    },
    {
     "name": "stdout",
     "output_type": "stream",
     "text": [
      "AUC-ROC наилучшей модели на тестовой выборке: 0.8322020016935271\n"
     ]
    }
   ],
   "source": [
    "probabilities_valid = model_RandomForest.predict_proba(features_test)\n",
    "probabilities_one_valid = probabilities_valid[:, 1]\n",
    "\n",
    "fpr, tpr, thresholds = roc_curve(target_test, probabilities_one_valid)\n",
    "\n",
    "plt.figure()\n",
    "plt.plot(fpr, tpr)\n",
    "plt.plot([0, 1], [0, 1], linestyle='--')\n",
    "plt.xlim([0.0, 1.0])\n",
    "plt.ylim([0.0, 1.0])\n",
    "plt.xlabel('False Positive Rate')\n",
    "plt.ylabel('True Positive Rate')\n",
    "plt.title('ROC-кривая')\n",
    "plt.show()\n",
    "auc_roc = roc_auc_score(target_test, probabilities_one_valid)\n",
    "print(\"AUC-ROC наилучшей модели на тестовой выборке:\", auc_roc)"
   ]
  },
  {
   "cell_type": "markdown",
   "metadata": {},
   "source": [
    "**Результаты проделанной работы.** \n",
    "- Выполнена подготовка данных. Исключены столбцы которые не влияют на обучение моделей, заполнены пустые значения.\n",
    "- Преобразованы категориальные признаки в численные с помощью масштабирования.\n",
    "- Исследован баланс классов. Первоначальный датасет имел выраженный дисбаланс (80% ответов целевого признака нулевые, 20% единица).\n",
    "- Выполнено исследование качества разных моделей без учёта дисбаланса: решающее дерево, случайный лес, логистическая регрессии. F1-мера у всех моделей имеет невысокое значение, что говорит о низком качестве модели.\n",
    "- Выполнена проверка на адекватность. Алгоритм логистической регрессии не прошел проверку на адекватность.\n",
    "- Улучшение моделей выполнено двумя методами борьбы с дисбалансом: взвешивание и увеличение выборки.\n",
    "- Лучший результат показала модель 'Случайный лес' (RandomForestClassifier).\n",
    "\n",
    "**Вывод.**\n",
    "В результате проверки обученной модели на тестовой выборке получили следующие результаты:\n",
    "- Удалось достичь метрики F1-меры более 0.59.\n",
    "- AUC-ROC 0.83, что больше AUC-ROC значения случайной модели 0.5.\n",
    "- Полнота (recall) 0.65, что говорит о высокой вероятности ухода клиентов.\n",
    "- Точность (precision) 0.54, что говорит о не высокой точности модели, вероятность ухода клиента банка 50/50."
   ]
  }
 ],
 "metadata": {
  "ExecuteTimeLog": [
   {
    "duration": 1648,
    "start_time": "2022-12-06T12:04:44.848Z"
   },
   {
    "duration": 94,
    "start_time": "2022-12-06T12:06:13.466Z"
   },
   {
    "duration": 24,
    "start_time": "2022-12-06T12:07:18.738Z"
   },
   {
    "duration": 14,
    "start_time": "2022-12-06T12:07:42.119Z"
   },
   {
    "duration": 16,
    "start_time": "2022-12-06T12:08:05.658Z"
   },
   {
    "duration": 5,
    "start_time": "2022-12-06T12:10:15.590Z"
   },
   {
    "duration": 9,
    "start_time": "2022-12-06T12:14:17.552Z"
   },
   {
    "duration": 9,
    "start_time": "2022-12-06T12:19:52.978Z"
   },
   {
    "duration": 5,
    "start_time": "2022-12-06T12:20:17.048Z"
   },
   {
    "duration": 4,
    "start_time": "2022-12-06T12:22:25.339Z"
   },
   {
    "duration": 12,
    "start_time": "2022-12-06T12:22:34.468Z"
   },
   {
    "duration": 5,
    "start_time": "2022-12-06T12:22:47.388Z"
   },
   {
    "duration": 4,
    "start_time": "2022-12-06T12:22:57.088Z"
   },
   {
    "duration": 5,
    "start_time": "2022-12-06T12:22:59.639Z"
   },
   {
    "duration": 4,
    "start_time": "2022-12-06T12:26:17.329Z"
   },
   {
    "duration": 5,
    "start_time": "2022-12-06T12:26:18.335Z"
   },
   {
    "duration": 1438,
    "start_time": "2022-12-06T12:26:26.460Z"
   },
   {
    "duration": 43,
    "start_time": "2022-12-06T12:26:27.901Z"
   },
   {
    "duration": 25,
    "start_time": "2022-12-06T12:26:27.946Z"
   },
   {
    "duration": 23,
    "start_time": "2022-12-06T12:26:27.974Z"
   },
   {
    "duration": 13,
    "start_time": "2022-12-06T12:26:27.999Z"
   },
   {
    "duration": 8,
    "start_time": "2022-12-06T12:26:28.014Z"
   },
   {
    "duration": 38,
    "start_time": "2022-12-06T12:26:28.024Z"
   },
   {
    "duration": 23,
    "start_time": "2022-12-06T12:26:28.064Z"
   },
   {
    "duration": 5,
    "start_time": "2022-12-06T12:26:30.392Z"
   },
   {
    "duration": 97,
    "start_time": "2022-12-06T12:26:30.400Z"
   },
   {
    "duration": 20,
    "start_time": "2022-12-06T12:26:30.739Z"
   },
   {
    "duration": 13,
    "start_time": "2022-12-06T12:26:30.928Z"
   },
   {
    "duration": 6,
    "start_time": "2022-12-06T12:26:31.490Z"
   },
   {
    "duration": 3,
    "start_time": "2022-12-06T12:26:35.471Z"
   },
   {
    "duration": 5,
    "start_time": "2022-12-06T12:26:36.260Z"
   },
   {
    "duration": 5,
    "start_time": "2022-12-06T12:26:53.881Z"
   },
   {
    "duration": 5,
    "start_time": "2022-12-06T12:26:55.620Z"
   },
   {
    "duration": 5,
    "start_time": "2022-12-06T12:27:35.770Z"
   },
   {
    "duration": 112,
    "start_time": "2022-12-06T12:27:50.360Z"
   },
   {
    "duration": 5,
    "start_time": "2022-12-06T12:28:24.919Z"
   },
   {
    "duration": 6,
    "start_time": "2022-12-06T12:28:26.129Z"
   },
   {
    "duration": 6,
    "start_time": "2022-12-06T12:28:27.530Z"
   },
   {
    "duration": 1384,
    "start_time": "2022-12-06T12:28:36.540Z"
   },
   {
    "duration": 43,
    "start_time": "2022-12-06T12:28:37.926Z"
   },
   {
    "duration": 25,
    "start_time": "2022-12-06T12:28:37.970Z"
   },
   {
    "duration": 15,
    "start_time": "2022-12-06T12:28:37.996Z"
   },
   {
    "duration": 15,
    "start_time": "2022-12-06T12:28:38.013Z"
   },
   {
    "duration": 26,
    "start_time": "2022-12-06T12:28:38.029Z"
   },
   {
    "duration": 5,
    "start_time": "2022-12-06T12:28:38.057Z"
   },
   {
    "duration": 11,
    "start_time": "2022-12-06T12:28:38.064Z"
   },
   {
    "duration": 14,
    "start_time": "2022-12-06T12:28:38.077Z"
   },
   {
    "duration": 3,
    "start_time": "2022-12-06T12:28:41.888Z"
   },
   {
    "duration": 42,
    "start_time": "2022-12-06T12:28:42.248Z"
   },
   {
    "duration": 19,
    "start_time": "2022-12-06T12:28:42.538Z"
   },
   {
    "duration": 11,
    "start_time": "2022-12-06T12:28:42.723Z"
   },
   {
    "duration": 5,
    "start_time": "2022-12-06T12:28:43.018Z"
   },
   {
    "duration": 4,
    "start_time": "2022-12-06T12:28:43.488Z"
   },
   {
    "duration": 5,
    "start_time": "2022-12-06T12:28:44.048Z"
   },
   {
    "duration": 5,
    "start_time": "2022-12-06T12:28:44.240Z"
   },
   {
    "duration": 4,
    "start_time": "2022-12-06T12:29:34.278Z"
   },
   {
    "duration": 5,
    "start_time": "2022-12-06T12:29:34.999Z"
   },
   {
    "duration": 5,
    "start_time": "2022-12-06T12:29:35.739Z"
   },
   {
    "duration": 1307,
    "start_time": "2022-12-06T12:29:44.998Z"
   },
   {
    "duration": 41,
    "start_time": "2022-12-06T12:29:46.307Z"
   },
   {
    "duration": 23,
    "start_time": "2022-12-06T12:29:46.350Z"
   },
   {
    "duration": 14,
    "start_time": "2022-12-06T12:29:46.375Z"
   },
   {
    "duration": 7,
    "start_time": "2022-12-06T12:29:46.391Z"
   },
   {
    "duration": 15,
    "start_time": "2022-12-06T12:29:46.400Z"
   },
   {
    "duration": 15,
    "start_time": "2022-12-06T12:29:46.416Z"
   },
   {
    "duration": 14,
    "start_time": "2022-12-06T12:29:46.432Z"
   },
   {
    "duration": 15,
    "start_time": "2022-12-06T12:29:46.447Z"
   },
   {
    "duration": 5,
    "start_time": "2022-12-06T12:29:49.348Z"
   },
   {
    "duration": 53,
    "start_time": "2022-12-06T12:29:49.799Z"
   },
   {
    "duration": 26,
    "start_time": "2022-12-06T12:29:50.415Z"
   },
   {
    "duration": 18,
    "start_time": "2022-12-06T12:29:50.678Z"
   },
   {
    "duration": 6,
    "start_time": "2022-12-06T12:29:54.518Z"
   },
   {
    "duration": 4,
    "start_time": "2022-12-06T12:29:58.349Z"
   },
   {
    "duration": 5,
    "start_time": "2022-12-06T12:29:59.717Z"
   },
   {
    "duration": 5,
    "start_time": "2022-12-06T12:30:02.199Z"
   },
   {
    "duration": 16,
    "start_time": "2022-12-06T12:30:29.477Z"
   },
   {
    "duration": 3,
    "start_time": "2022-12-06T12:32:48.387Z"
   },
   {
    "duration": 5,
    "start_time": "2022-12-06T12:32:50.531Z"
   },
   {
    "duration": 7,
    "start_time": "2022-12-06T12:32:51.514Z"
   },
   {
    "duration": 5,
    "start_time": "2022-12-06T12:32:52.369Z"
   },
   {
    "duration": 1481,
    "start_time": "2022-12-06T12:32:59.377Z"
   },
   {
    "duration": 52,
    "start_time": "2022-12-06T12:33:00.861Z"
   },
   {
    "duration": 29,
    "start_time": "2022-12-06T12:33:00.915Z"
   },
   {
    "duration": 31,
    "start_time": "2022-12-06T12:33:00.946Z"
   },
   {
    "duration": 19,
    "start_time": "2022-12-06T12:33:00.980Z"
   },
   {
    "duration": 31,
    "start_time": "2022-12-06T12:33:01.001Z"
   },
   {
    "duration": 40,
    "start_time": "2022-12-06T12:33:01.034Z"
   },
   {
    "duration": 17,
    "start_time": "2022-12-06T12:33:01.076Z"
   },
   {
    "duration": 43,
    "start_time": "2022-12-06T12:33:01.095Z"
   },
   {
    "duration": 41,
    "start_time": "2022-12-06T12:33:01.140Z"
   },
   {
    "duration": 25,
    "start_time": "2022-12-06T12:33:01.183Z"
   },
   {
    "duration": 8,
    "start_time": "2022-12-06T12:33:03.677Z"
   },
   {
    "duration": 41,
    "start_time": "2022-12-06T12:33:04.113Z"
   },
   {
    "duration": 18,
    "start_time": "2022-12-06T12:33:04.436Z"
   },
   {
    "duration": 16,
    "start_time": "2022-12-06T12:33:04.597Z"
   },
   {
    "duration": 6,
    "start_time": "2022-12-06T12:33:04.970Z"
   },
   {
    "duration": 3,
    "start_time": "2022-12-06T12:33:06.407Z"
   },
   {
    "duration": 5,
    "start_time": "2022-12-06T12:33:09.098Z"
   },
   {
    "duration": 4,
    "start_time": "2022-12-06T12:33:12.655Z"
   },
   {
    "duration": 5,
    "start_time": "2022-12-06T12:33:14.905Z"
   },
   {
    "duration": 13,
    "start_time": "2022-12-06T12:33:22.780Z"
   },
   {
    "duration": 4,
    "start_time": "2022-12-06T12:34:14.057Z"
   },
   {
    "duration": 7,
    "start_time": "2022-12-06T12:34:14.949Z"
   },
   {
    "duration": 6,
    "start_time": "2022-12-06T12:34:15.699Z"
   },
   {
    "duration": 13,
    "start_time": "2022-12-06T12:34:16.649Z"
   },
   {
    "duration": 1405,
    "start_time": "2022-12-06T12:34:22.117Z"
   },
   {
    "duration": 43,
    "start_time": "2022-12-06T12:34:23.524Z"
   },
   {
    "duration": 25,
    "start_time": "2022-12-06T12:34:23.569Z"
   },
   {
    "duration": 20,
    "start_time": "2022-12-06T12:34:23.596Z"
   },
   {
    "duration": 7,
    "start_time": "2022-12-06T12:34:23.619Z"
   },
   {
    "duration": 33,
    "start_time": "2022-12-06T12:34:23.628Z"
   },
   {
    "duration": 7,
    "start_time": "2022-12-06T12:34:23.663Z"
   },
   {
    "duration": 11,
    "start_time": "2022-12-06T12:34:23.672Z"
   },
   {
    "duration": 12,
    "start_time": "2022-12-06T12:34:23.686Z"
   },
   {
    "duration": 22,
    "start_time": "2022-12-06T12:34:23.701Z"
   },
   {
    "duration": 23,
    "start_time": "2022-12-06T12:34:23.725Z"
   },
   {
    "duration": 4,
    "start_time": "2022-12-06T12:34:25.667Z"
   },
   {
    "duration": 41,
    "start_time": "2022-12-06T12:34:26.160Z"
   },
   {
    "duration": 19,
    "start_time": "2022-12-06T12:34:26.749Z"
   },
   {
    "duration": 13,
    "start_time": "2022-12-06T12:34:27.275Z"
   },
   {
    "duration": 6,
    "start_time": "2022-12-06T12:34:31.667Z"
   },
   {
    "duration": 2,
    "start_time": "2022-12-06T12:34:33.438Z"
   },
   {
    "duration": 5,
    "start_time": "2022-12-06T12:34:34.967Z"
   },
   {
    "duration": 7,
    "start_time": "2022-12-06T12:34:35.959Z"
   },
   {
    "duration": 6,
    "start_time": "2022-12-06T12:34:37.030Z"
   },
   {
    "duration": 18,
    "start_time": "2022-12-06T12:34:39.715Z"
   },
   {
    "duration": 31,
    "start_time": "2022-12-06T12:35:10.946Z"
   },
   {
    "duration": 5,
    "start_time": "2022-12-06T12:35:32.085Z"
   },
   {
    "duration": 5,
    "start_time": "2022-12-06T12:35:32.897Z"
   },
   {
    "duration": 5,
    "start_time": "2022-12-06T12:35:33.899Z"
   },
   {
    "duration": 18,
    "start_time": "2022-12-06T12:35:34.938Z"
   },
   {
    "duration": 29,
    "start_time": "2022-12-06T12:35:36.138Z"
   },
   {
    "duration": 1310,
    "start_time": "2022-12-06T12:35:55.297Z"
   },
   {
    "duration": 43,
    "start_time": "2022-12-06T12:35:56.609Z"
   },
   {
    "duration": 33,
    "start_time": "2022-12-06T12:35:56.653Z"
   },
   {
    "duration": 12,
    "start_time": "2022-12-06T12:35:56.688Z"
   },
   {
    "duration": 4,
    "start_time": "2022-12-06T12:35:56.703Z"
   },
   {
    "duration": 18,
    "start_time": "2022-12-06T12:35:56.709Z"
   },
   {
    "duration": 9,
    "start_time": "2022-12-06T12:35:56.729Z"
   },
   {
    "duration": 6,
    "start_time": "2022-12-06T12:35:56.757Z"
   },
   {
    "duration": 9,
    "start_time": "2022-12-06T12:35:56.765Z"
   },
   {
    "duration": 20,
    "start_time": "2022-12-06T12:35:56.776Z"
   },
   {
    "duration": 57,
    "start_time": "2022-12-06T12:35:56.798Z"
   },
   {
    "duration": 9,
    "start_time": "2022-12-06T12:35:56.857Z"
   },
   {
    "duration": 7,
    "start_time": "2022-12-06T12:35:58.957Z"
   },
   {
    "duration": 40,
    "start_time": "2022-12-06T12:35:59.907Z"
   },
   {
    "duration": 19,
    "start_time": "2022-12-06T12:36:00.368Z"
   },
   {
    "duration": 14,
    "start_time": "2022-12-06T12:36:01.147Z"
   },
   {
    "duration": 5,
    "start_time": "2022-12-06T12:36:01.579Z"
   },
   {
    "duration": 2,
    "start_time": "2022-12-06T12:36:02.051Z"
   },
   {
    "duration": 4,
    "start_time": "2022-12-06T12:36:02.819Z"
   },
   {
    "duration": 5,
    "start_time": "2022-12-06T12:36:03.159Z"
   },
   {
    "duration": 5,
    "start_time": "2022-12-06T12:36:07.249Z"
   },
   {
    "duration": 14,
    "start_time": "2022-12-06T12:36:08.498Z"
   },
   {
    "duration": 11,
    "start_time": "2022-12-06T12:36:13.820Z"
   },
   {
    "duration": 1471,
    "start_time": "2022-12-06T12:41:04.227Z"
   },
   {
    "duration": 42,
    "start_time": "2022-12-06T12:41:05.700Z"
   },
   {
    "duration": 34,
    "start_time": "2022-12-06T12:41:05.745Z"
   },
   {
    "duration": 15,
    "start_time": "2022-12-06T12:41:05.781Z"
   },
   {
    "duration": 13,
    "start_time": "2022-12-06T12:41:05.799Z"
   },
   {
    "duration": 11,
    "start_time": "2022-12-06T12:41:05.814Z"
   },
   {
    "duration": 10,
    "start_time": "2022-12-06T12:41:05.826Z"
   },
   {
    "duration": 11,
    "start_time": "2022-12-06T12:41:05.838Z"
   },
   {
    "duration": 14,
    "start_time": "2022-12-06T12:41:05.850Z"
   },
   {
    "duration": 21,
    "start_time": "2022-12-06T12:41:05.866Z"
   },
   {
    "duration": 41,
    "start_time": "2022-12-06T12:41:05.889Z"
   },
   {
    "duration": 16,
    "start_time": "2022-12-06T12:41:05.932Z"
   },
   {
    "duration": 4,
    "start_time": "2022-12-06T12:41:09.077Z"
   },
   {
    "duration": 42,
    "start_time": "2022-12-06T12:41:09.727Z"
   },
   {
    "duration": 27,
    "start_time": "2022-12-06T12:41:10.557Z"
   },
   {
    "duration": 37,
    "start_time": "2022-12-06T12:41:24.161Z"
   },
   {
    "duration": 13,
    "start_time": "2022-12-06T12:41:24.460Z"
   },
   {
    "duration": 5,
    "start_time": "2022-12-06T12:41:29.514Z"
   },
   {
    "duration": 4,
    "start_time": "2022-12-06T12:41:31.568Z"
   },
   {
    "duration": 4,
    "start_time": "2022-12-06T12:41:32.194Z"
   },
   {
    "duration": 11,
    "start_time": "2022-12-06T12:41:34.671Z"
   },
   {
    "duration": 7,
    "start_time": "2022-12-06T12:41:35.368Z"
   },
   {
    "duration": 17,
    "start_time": "2022-12-06T12:41:35.909Z"
   },
   {
    "duration": 1492,
    "start_time": "2022-12-06T20:26:32.522Z"
   },
   {
    "duration": 187,
    "start_time": "2022-12-06T20:26:34.016Z"
   },
   {
    "duration": 28,
    "start_time": "2022-12-06T20:26:34.773Z"
   },
   {
    "duration": 13,
    "start_time": "2022-12-06T20:26:38.544Z"
   },
   {
    "duration": 3,
    "start_time": "2022-12-06T20:26:40.613Z"
   },
   {
    "duration": 2,
    "start_time": "2022-12-06T20:26:41.782Z"
   },
   {
    "duration": 2,
    "start_time": "2022-12-06T20:26:44.264Z"
   },
   {
    "duration": 2,
    "start_time": "2022-12-06T20:26:45.230Z"
   },
   {
    "duration": 6,
    "start_time": "2022-12-06T20:26:46.425Z"
   },
   {
    "duration": 6,
    "start_time": "2022-12-06T20:27:10.868Z"
   },
   {
    "duration": 115,
    "start_time": "2022-12-06T20:27:50.423Z"
   },
   {
    "duration": 5,
    "start_time": "2022-12-06T20:28:00.358Z"
   },
   {
    "duration": 18,
    "start_time": "2022-12-06T20:28:37.981Z"
   },
   {
    "duration": 1262,
    "start_time": "2022-12-06T20:31:45.531Z"
   },
   {
    "duration": 41,
    "start_time": "2022-12-06T20:31:46.795Z"
   },
   {
    "duration": 28,
    "start_time": "2022-12-06T20:31:46.838Z"
   },
   {
    "duration": 12,
    "start_time": "2022-12-06T20:31:46.868Z"
   },
   {
    "duration": 4,
    "start_time": "2022-12-06T20:31:46.882Z"
   },
   {
    "duration": 7,
    "start_time": "2022-12-06T20:31:46.888Z"
   },
   {
    "duration": 8,
    "start_time": "2022-12-06T20:31:46.896Z"
   },
   {
    "duration": 6,
    "start_time": "2022-12-06T20:31:46.905Z"
   },
   {
    "duration": 8,
    "start_time": "2022-12-06T20:31:46.912Z"
   },
   {
    "duration": 4,
    "start_time": "2022-12-06T20:31:46.921Z"
   },
   {
    "duration": 124,
    "start_time": "2022-12-06T20:31:46.926Z"
   },
   {
    "duration": 4,
    "start_time": "2022-12-06T20:31:52.802Z"
   },
   {
    "duration": 43,
    "start_time": "2022-12-06T20:31:53.367Z"
   },
   {
    "duration": 30,
    "start_time": "2022-12-06T20:31:53.998Z"
   },
   {
    "duration": 12,
    "start_time": "2022-12-06T20:31:54.213Z"
   },
   {
    "duration": 4,
    "start_time": "2022-12-06T20:31:55.107Z"
   },
   {
    "duration": 3,
    "start_time": "2022-12-06T20:31:56.476Z"
   },
   {
    "duration": 5,
    "start_time": "2022-12-06T20:31:56.844Z"
   },
   {
    "duration": 4,
    "start_time": "2022-12-06T20:31:57.375Z"
   },
   {
    "duration": 6,
    "start_time": "2022-12-06T20:31:59.666Z"
   },
   {
    "duration": 4,
    "start_time": "2022-12-06T20:32:01.260Z"
   },
   {
    "duration": 15,
    "start_time": "2022-12-06T20:32:07.172Z"
   },
   {
    "duration": 3,
    "start_time": "2022-12-06T20:34:09.898Z"
   },
   {
    "duration": 5,
    "start_time": "2022-12-06T20:34:10.610Z"
   },
   {
    "duration": 4,
    "start_time": "2022-12-06T20:34:11.551Z"
   },
   {
    "duration": 1386,
    "start_time": "2022-12-06T20:34:17.056Z"
   },
   {
    "duration": 42,
    "start_time": "2022-12-06T20:34:18.444Z"
   },
   {
    "duration": 32,
    "start_time": "2022-12-06T20:34:18.488Z"
   },
   {
    "duration": 18,
    "start_time": "2022-12-06T20:34:18.522Z"
   },
   {
    "duration": 31,
    "start_time": "2022-12-06T20:34:18.543Z"
   },
   {
    "duration": 10,
    "start_time": "2022-12-06T20:34:18.576Z"
   },
   {
    "duration": 17,
    "start_time": "2022-12-06T20:34:18.588Z"
   },
   {
    "duration": 15,
    "start_time": "2022-12-06T20:34:18.607Z"
   },
   {
    "duration": 15,
    "start_time": "2022-12-06T20:34:18.624Z"
   },
   {
    "duration": 10,
    "start_time": "2022-12-06T20:34:18.641Z"
   },
   {
    "duration": 133,
    "start_time": "2022-12-06T20:34:18.653Z"
   },
   {
    "duration": 3,
    "start_time": "2022-12-06T20:35:11.651Z"
   },
   {
    "duration": 2,
    "start_time": "2022-12-06T20:35:13.864Z"
   },
   {
    "duration": 5,
    "start_time": "2022-12-06T20:35:14.300Z"
   },
   {
    "duration": 4,
    "start_time": "2022-12-06T20:35:15.275Z"
   },
   {
    "duration": 6,
    "start_time": "2022-12-06T20:35:17.652Z"
   },
   {
    "duration": 4,
    "start_time": "2022-12-06T20:35:18.455Z"
   },
   {
    "duration": 15,
    "start_time": "2022-12-06T20:35:21.193Z"
   },
   {
    "duration": 5,
    "start_time": "2022-12-06T20:36:43.892Z"
   },
   {
    "duration": 13,
    "start_time": "2022-12-06T20:37:46.169Z"
   },
   {
    "duration": 4,
    "start_time": "2022-12-06T20:37:47.593Z"
   },
   {
    "duration": 84,
    "start_time": "2022-12-06T20:46:25.032Z"
   },
   {
    "duration": 1288,
    "start_time": "2022-12-06T20:47:16.322Z"
   },
   {
    "duration": 44,
    "start_time": "2022-12-06T20:47:17.611Z"
   },
   {
    "duration": 30,
    "start_time": "2022-12-06T20:47:17.656Z"
   },
   {
    "duration": 13,
    "start_time": "2022-12-06T20:47:17.687Z"
   },
   {
    "duration": 8,
    "start_time": "2022-12-06T20:47:17.702Z"
   },
   {
    "duration": 7,
    "start_time": "2022-12-06T20:47:17.711Z"
   },
   {
    "duration": 5,
    "start_time": "2022-12-06T20:47:17.719Z"
   },
   {
    "duration": 6,
    "start_time": "2022-12-06T20:47:17.725Z"
   },
   {
    "duration": 6,
    "start_time": "2022-12-06T20:47:17.732Z"
   },
   {
    "duration": 10,
    "start_time": "2022-12-06T20:47:17.739Z"
   },
   {
    "duration": 30,
    "start_time": "2022-12-06T20:47:17.750Z"
   },
   {
    "duration": 19,
    "start_time": "2022-12-06T20:47:17.782Z"
   },
   {
    "duration": 4,
    "start_time": "2022-12-06T20:47:17.803Z"
   },
   {
    "duration": 214,
    "start_time": "2022-12-06T20:47:17.809Z"
   },
   {
    "duration": 4,
    "start_time": "2022-12-06T20:57:31.455Z"
   },
   {
    "duration": 3,
    "start_time": "2022-12-06T21:11:04.174Z"
   },
   {
    "duration": 40,
    "start_time": "2022-12-06T21:11:04.805Z"
   },
   {
    "duration": 23,
    "start_time": "2022-12-06T21:11:05.242Z"
   },
   {
    "duration": 11,
    "start_time": "2022-12-06T21:11:05.410Z"
   },
   {
    "duration": 5,
    "start_time": "2022-12-06T21:11:05.606Z"
   },
   {
    "duration": 4,
    "start_time": "2022-12-06T21:11:06.058Z"
   },
   {
    "duration": 3,
    "start_time": "2022-12-06T21:11:06.508Z"
   },
   {
    "duration": 2,
    "start_time": "2022-12-06T21:11:07.472Z"
   },
   {
    "duration": 5,
    "start_time": "2022-12-06T21:11:07.822Z"
   },
   {
    "duration": 4,
    "start_time": "2022-12-06T21:11:08.001Z"
   },
   {
    "duration": 6,
    "start_time": "2022-12-06T21:11:14.344Z"
   },
   {
    "duration": 1180,
    "start_time": "2022-12-06T21:11:16.445Z"
   },
   {
    "duration": 5,
    "start_time": "2022-12-06T21:11:38.018Z"
   },
   {
    "duration": 14,
    "start_time": "2022-12-06T21:11:42.142Z"
   },
   {
    "duration": 4,
    "start_time": "2022-12-06T21:11:44.548Z"
   },
   {
    "duration": 109,
    "start_time": "2022-12-06T21:11:52.883Z"
   },
   {
    "duration": 6,
    "start_time": "2022-12-06T21:13:53.402Z"
   },
   {
    "duration": 6,
    "start_time": "2022-12-06T21:14:22.640Z"
   },
   {
    "duration": 5,
    "start_time": "2022-12-06T21:18:15.375Z"
   },
   {
    "duration": 4,
    "start_time": "2022-12-06T21:18:17.205Z"
   },
   {
    "duration": 13,
    "start_time": "2022-12-06T21:18:20.117Z"
   },
   {
    "duration": 4,
    "start_time": "2022-12-06T21:18:23.281Z"
   },
   {
    "duration": 83,
    "start_time": "2022-12-06T21:18:28.212Z"
   },
   {
    "duration": 1326,
    "start_time": "2022-12-06T21:18:41.977Z"
   },
   {
    "duration": 41,
    "start_time": "2022-12-06T21:18:43.305Z"
   },
   {
    "duration": 28,
    "start_time": "2022-12-06T21:18:43.348Z"
   },
   {
    "duration": 23,
    "start_time": "2022-12-06T21:18:43.378Z"
   },
   {
    "duration": 10,
    "start_time": "2022-12-06T21:18:43.402Z"
   },
   {
    "duration": 27,
    "start_time": "2022-12-06T21:18:43.414Z"
   },
   {
    "duration": 23,
    "start_time": "2022-12-06T21:18:43.442Z"
   },
   {
    "duration": 29,
    "start_time": "2022-12-06T21:18:43.467Z"
   },
   {
    "duration": 19,
    "start_time": "2022-12-06T21:18:43.498Z"
   },
   {
    "duration": 24,
    "start_time": "2022-12-06T21:18:43.519Z"
   },
   {
    "duration": 22,
    "start_time": "2022-12-06T21:18:43.545Z"
   },
   {
    "duration": 20,
    "start_time": "2022-12-06T21:18:43.568Z"
   },
   {
    "duration": 28,
    "start_time": "2022-12-06T21:18:43.590Z"
   },
   {
    "duration": 32,
    "start_time": "2022-12-06T21:18:43.619Z"
   },
   {
    "duration": 4,
    "start_time": "2022-12-06T21:18:43.653Z"
   },
   {
    "duration": 200,
    "start_time": "2022-12-06T21:18:43.658Z"
   },
   {
    "duration": 19,
    "start_time": "2022-12-06T21:18:58.203Z"
   },
   {
    "duration": 3,
    "start_time": "2022-12-06T21:19:09.782Z"
   },
   {
    "duration": 42,
    "start_time": "2022-12-06T21:19:10.783Z"
   },
   {
    "duration": 24,
    "start_time": "2022-12-06T21:19:11.643Z"
   },
   {
    "duration": 11,
    "start_time": "2022-12-06T21:19:15.518Z"
   },
   {
    "duration": 4,
    "start_time": "2022-12-06T21:19:16.927Z"
   },
   {
    "duration": 5,
    "start_time": "2022-12-06T21:19:20.855Z"
   },
   {
    "duration": 3,
    "start_time": "2022-12-06T21:19:21.643Z"
   },
   {
    "duration": 3,
    "start_time": "2022-12-06T21:19:21.960Z"
   },
   {
    "duration": 5,
    "start_time": "2022-12-06T21:19:22.236Z"
   },
   {
    "duration": 4,
    "start_time": "2022-12-06T21:19:22.476Z"
   },
   {
    "duration": 7,
    "start_time": "2022-12-06T21:19:23.459Z"
   },
   {
    "duration": 6,
    "start_time": "2022-12-06T21:19:31.537Z"
   },
   {
    "duration": 4,
    "start_time": "2022-12-06T21:19:32.453Z"
   },
   {
    "duration": 12,
    "start_time": "2022-12-06T21:19:36.856Z"
   },
   {
    "duration": 4,
    "start_time": "2022-12-06T21:19:43.728Z"
   },
   {
    "duration": 14,
    "start_time": "2022-12-06T21:20:00.762Z"
   },
   {
    "duration": 1293,
    "start_time": "2022-12-06T21:22:15.364Z"
   },
   {
    "duration": 187,
    "start_time": "2022-12-06T21:22:34.189Z"
   },
   {
    "duration": 14,
    "start_time": "2022-12-06T21:23:01.535Z"
   },
   {
    "duration": 5,
    "start_time": "2022-12-06T21:23:03.637Z"
   },
   {
    "duration": 174,
    "start_time": "2022-12-06T21:23:23.219Z"
   },
   {
    "duration": 18,
    "start_time": "2022-12-06T21:23:24.056Z"
   },
   {
    "duration": 5,
    "start_time": "2022-12-06T21:23:25.053Z"
   },
   {
    "duration": 4,
    "start_time": "2022-12-06T21:23:31.305Z"
   },
   {
    "duration": 11,
    "start_time": "2022-12-06T21:23:32.952Z"
   },
   {
    "duration": 4,
    "start_time": "2022-12-06T21:23:36.580Z"
   },
   {
    "duration": 13,
    "start_time": "2022-12-06T21:23:38.520Z"
   },
   {
    "duration": 17,
    "start_time": "2022-12-06T21:23:44.925Z"
   },
   {
    "duration": 1353,
    "start_time": "2022-12-06T21:24:50.190Z"
   },
   {
    "duration": 41,
    "start_time": "2022-12-06T21:24:51.545Z"
   },
   {
    "duration": 29,
    "start_time": "2022-12-06T21:24:51.590Z"
   },
   {
    "duration": 12,
    "start_time": "2022-12-06T21:24:51.620Z"
   },
   {
    "duration": 5,
    "start_time": "2022-12-06T21:24:51.633Z"
   },
   {
    "duration": 8,
    "start_time": "2022-12-06T21:24:51.639Z"
   },
   {
    "duration": 5,
    "start_time": "2022-12-06T21:24:51.648Z"
   },
   {
    "duration": 2,
    "start_time": "2022-12-06T21:24:51.678Z"
   },
   {
    "duration": 14,
    "start_time": "2022-12-06T21:24:51.682Z"
   },
   {
    "duration": 20,
    "start_time": "2022-12-06T21:24:51.697Z"
   },
   {
    "duration": 11,
    "start_time": "2022-12-06T21:24:51.719Z"
   },
   {
    "duration": 13,
    "start_time": "2022-12-06T21:24:51.731Z"
   },
   {
    "duration": 319,
    "start_time": "2022-12-06T21:24:51.746Z"
   },
   {
    "duration": 0,
    "start_time": "2022-12-06T21:24:52.066Z"
   },
   {
    "duration": 0,
    "start_time": "2022-12-06T21:24:52.068Z"
   },
   {
    "duration": 0,
    "start_time": "2022-12-06T21:24:52.078Z"
   },
   {
    "duration": 0,
    "start_time": "2022-12-06T21:24:52.079Z"
   },
   {
    "duration": 0,
    "start_time": "2022-12-06T21:24:52.080Z"
   },
   {
    "duration": 0,
    "start_time": "2022-12-06T21:24:52.081Z"
   },
   {
    "duration": 0,
    "start_time": "2022-12-06T21:24:52.081Z"
   },
   {
    "duration": 4,
    "start_time": "2022-12-06T21:24:57.343Z"
   },
   {
    "duration": 40,
    "start_time": "2022-12-06T21:24:57.799Z"
   },
   {
    "duration": 25,
    "start_time": "2022-12-06T21:24:58.297Z"
   },
   {
    "duration": 10,
    "start_time": "2022-12-06T21:24:58.523Z"
   },
   {
    "duration": 4,
    "start_time": "2022-12-06T21:24:58.810Z"
   },
   {
    "duration": 6,
    "start_time": "2022-12-06T21:25:03.087Z"
   },
   {
    "duration": 4,
    "start_time": "2022-12-06T21:25:05.858Z"
   },
   {
    "duration": 3,
    "start_time": "2022-12-06T21:25:06.192Z"
   },
   {
    "duration": 5,
    "start_time": "2022-12-06T21:25:06.381Z"
   },
   {
    "duration": 5,
    "start_time": "2022-12-06T21:25:06.641Z"
   },
   {
    "duration": 5,
    "start_time": "2022-12-06T21:25:07.687Z"
   },
   {
    "duration": 5,
    "start_time": "2022-12-06T21:25:09.777Z"
   },
   {
    "duration": 236,
    "start_time": "2022-12-06T21:25:12.635Z"
   },
   {
    "duration": 6,
    "start_time": "2022-12-06T21:25:49.921Z"
   },
   {
    "duration": 213,
    "start_time": "2022-12-06T21:25:50.333Z"
   },
   {
    "duration": 192,
    "start_time": "2022-12-06T21:27:15.842Z"
   },
   {
    "duration": 15,
    "start_time": "2022-12-06T21:27:58.213Z"
   },
   {
    "duration": 5,
    "start_time": "2022-12-06T21:28:06.868Z"
   },
   {
    "duration": 890,
    "start_time": "2022-12-06T21:28:58.505Z"
   },
   {
    "duration": 22,
    "start_time": "2022-12-06T21:29:09.261Z"
   },
   {
    "duration": 202,
    "start_time": "2022-12-06T21:34:35.149Z"
   },
   {
    "duration": 197,
    "start_time": "2022-12-06T21:35:11.694Z"
   },
   {
    "duration": 865,
    "start_time": "2022-12-06T21:35:44.986Z"
   },
   {
    "duration": 8,
    "start_time": "2022-12-06T21:35:57.857Z"
   },
   {
    "duration": 1064,
    "start_time": "2022-12-06T21:36:02.996Z"
   },
   {
    "duration": 51,
    "start_time": "2022-12-07T11:48:07.936Z"
   },
   {
    "duration": 1504,
    "start_time": "2022-12-07T11:48:16.440Z"
   },
   {
    "duration": 91,
    "start_time": "2022-12-07T11:48:17.946Z"
   },
   {
    "duration": 29,
    "start_time": "2022-12-07T11:48:18.039Z"
   },
   {
    "duration": 12,
    "start_time": "2022-12-07T11:48:18.070Z"
   },
   {
    "duration": 4,
    "start_time": "2022-12-07T11:48:18.085Z"
   },
   {
    "duration": 12,
    "start_time": "2022-12-07T11:48:18.091Z"
   },
   {
    "duration": 31,
    "start_time": "2022-12-07T11:48:18.105Z"
   },
   {
    "duration": 11,
    "start_time": "2022-12-07T11:48:18.138Z"
   },
   {
    "duration": 12,
    "start_time": "2022-12-07T11:48:18.151Z"
   },
   {
    "duration": 6,
    "start_time": "2022-12-07T11:48:18.164Z"
   },
   {
    "duration": 9,
    "start_time": "2022-12-07T11:48:18.172Z"
   },
   {
    "duration": 7,
    "start_time": "2022-12-07T11:48:18.183Z"
   },
   {
    "duration": 11,
    "start_time": "2022-12-07T11:48:18.192Z"
   },
   {
    "duration": 7,
    "start_time": "2022-12-07T11:48:18.207Z"
   },
   {
    "duration": 974,
    "start_time": "2022-12-07T11:48:18.216Z"
   },
   {
    "duration": 23,
    "start_time": "2022-12-07T11:48:19.192Z"
   },
   {
    "duration": 19,
    "start_time": "2022-12-07T11:48:19.217Z"
   },
   {
    "duration": 3,
    "start_time": "2022-12-07T11:48:19.238Z"
   },
   {
    "duration": 106,
    "start_time": "2022-12-07T11:48:19.243Z"
   },
   {
    "duration": 5,
    "start_time": "2022-12-07T11:48:19.350Z"
   },
   {
    "duration": 51,
    "start_time": "2022-12-07T11:48:19.356Z"
   },
   {
    "duration": 748,
    "start_time": "2022-12-07T11:48:19.409Z"
   },
   {
    "duration": 4,
    "start_time": "2022-12-07T11:48:30.418Z"
   },
   {
    "duration": 38,
    "start_time": "2022-12-07T11:48:31.298Z"
   },
   {
    "duration": 38,
    "start_time": "2022-12-07T11:48:31.978Z"
   },
   {
    "duration": 13,
    "start_time": "2022-12-07T11:48:32.238Z"
   },
   {
    "duration": 5,
    "start_time": "2022-12-07T11:48:33.080Z"
   },
   {
    "duration": 5,
    "start_time": "2022-12-07T11:48:33.480Z"
   },
   {
    "duration": 5,
    "start_time": "2022-12-07T11:51:55.276Z"
   },
   {
    "duration": 3,
    "start_time": "2022-12-07T11:52:05.336Z"
   },
   {
    "duration": 2,
    "start_time": "2022-12-07T11:52:06.368Z"
   },
   {
    "duration": 5,
    "start_time": "2022-12-07T11:52:06.687Z"
   },
   {
    "duration": 5,
    "start_time": "2022-12-07T11:52:13.223Z"
   },
   {
    "duration": 3,
    "start_time": "2022-12-07T11:53:33.646Z"
   },
   {
    "duration": 2,
    "start_time": "2022-12-07T11:53:35.129Z"
   },
   {
    "duration": 6,
    "start_time": "2022-12-07T11:53:45.392Z"
   },
   {
    "duration": 905,
    "start_time": "2022-12-07T11:53:47.316Z"
   },
   {
    "duration": 36,
    "start_time": "2022-12-07T11:54:08.626Z"
   },
   {
    "duration": 15,
    "start_time": "2022-12-07T11:54:08.838Z"
   },
   {
    "duration": 1426,
    "start_time": "2022-12-07T11:54:56.117Z"
   },
   {
    "duration": 42,
    "start_time": "2022-12-07T11:54:57.545Z"
   },
   {
    "duration": 29,
    "start_time": "2022-12-07T11:54:57.588Z"
   },
   {
    "duration": 17,
    "start_time": "2022-12-07T11:54:57.619Z"
   },
   {
    "duration": 22,
    "start_time": "2022-12-07T11:54:57.637Z"
   },
   {
    "duration": 41,
    "start_time": "2022-12-07T11:54:57.661Z"
   },
   {
    "duration": 26,
    "start_time": "2022-12-07T11:54:57.704Z"
   },
   {
    "duration": 46,
    "start_time": "2022-12-07T11:54:57.732Z"
   },
   {
    "duration": 22,
    "start_time": "2022-12-07T11:54:57.780Z"
   },
   {
    "duration": 36,
    "start_time": "2022-12-07T11:54:57.805Z"
   },
   {
    "duration": 73,
    "start_time": "2022-12-07T11:54:57.842Z"
   },
   {
    "duration": 19,
    "start_time": "2022-12-07T11:54:57.917Z"
   },
   {
    "duration": 14,
    "start_time": "2022-12-07T11:54:57.938Z"
   },
   {
    "duration": 36,
    "start_time": "2022-12-07T11:54:57.954Z"
   },
   {
    "duration": 42,
    "start_time": "2022-12-07T11:54:57.992Z"
   },
   {
    "duration": 8,
    "start_time": "2022-12-07T11:54:58.036Z"
   },
   {
    "duration": 58,
    "start_time": "2022-12-07T11:54:58.045Z"
   },
   {
    "duration": 86,
    "start_time": "2022-12-07T11:54:58.105Z"
   },
   {
    "duration": 4,
    "start_time": "2022-12-07T11:55:04.825Z"
   },
   {
    "duration": 44,
    "start_time": "2022-12-07T11:55:05.268Z"
   },
   {
    "duration": 27,
    "start_time": "2022-12-07T11:55:05.928Z"
   },
   {
    "duration": 15,
    "start_time": "2022-12-07T11:55:06.758Z"
   },
   {
    "duration": 5,
    "start_time": "2022-12-07T11:55:07.005Z"
   },
   {
    "duration": 4,
    "start_time": "2022-12-07T11:55:07.296Z"
   },
   {
    "duration": 5,
    "start_time": "2022-12-07T11:55:08.028Z"
   },
   {
    "duration": 4,
    "start_time": "2022-12-07T11:55:08.485Z"
   },
   {
    "duration": 3,
    "start_time": "2022-12-07T11:55:09.105Z"
   },
   {
    "duration": 6,
    "start_time": "2022-12-07T11:55:12.985Z"
   },
   {
    "duration": 37,
    "start_time": "2022-12-07T11:55:13.646Z"
   },
   {
    "duration": 14,
    "start_time": "2022-12-07T11:55:18.296Z"
   },
   {
    "duration": 3,
    "start_time": "2022-12-07T11:56:59.284Z"
   },
   {
    "duration": 5,
    "start_time": "2022-12-07T11:57:34.853Z"
   },
   {
    "duration": 15,
    "start_time": "2022-12-07T11:57:53.386Z"
   },
   {
    "duration": 60,
    "start_time": "2022-12-07T12:03:24.533Z"
   },
   {
    "duration": 1275,
    "start_time": "2022-12-07T12:03:53.542Z"
   },
   {
    "duration": 41,
    "start_time": "2022-12-07T12:03:54.819Z"
   },
   {
    "duration": 29,
    "start_time": "2022-12-07T12:03:54.862Z"
   },
   {
    "duration": 13,
    "start_time": "2022-12-07T12:03:54.893Z"
   },
   {
    "duration": 5,
    "start_time": "2022-12-07T12:03:54.908Z"
   },
   {
    "duration": 7,
    "start_time": "2022-12-07T12:03:54.914Z"
   },
   {
    "duration": 18,
    "start_time": "2022-12-07T12:03:54.923Z"
   },
   {
    "duration": 6,
    "start_time": "2022-12-07T12:03:54.943Z"
   },
   {
    "duration": 5,
    "start_time": "2022-12-07T12:03:54.951Z"
   },
   {
    "duration": 11,
    "start_time": "2022-12-07T12:03:54.957Z"
   },
   {
    "duration": 39,
    "start_time": "2022-12-07T12:03:54.970Z"
   },
   {
    "duration": 29,
    "start_time": "2022-12-07T12:03:55.010Z"
   },
   {
    "duration": 129,
    "start_time": "2022-12-07T12:03:55.041Z"
   },
   {
    "duration": 15,
    "start_time": "2022-12-07T12:03:55.172Z"
   },
   {
    "duration": 6,
    "start_time": "2022-12-07T12:03:55.188Z"
   },
   {
    "duration": 40,
    "start_time": "2022-12-07T12:03:55.195Z"
   },
   {
    "duration": 4,
    "start_time": "2022-12-07T12:03:55.237Z"
   },
   {
    "duration": 36,
    "start_time": "2022-12-07T12:03:55.242Z"
   },
   {
    "duration": 66,
    "start_time": "2022-12-07T12:03:55.280Z"
   },
   {
    "duration": 3,
    "start_time": "2022-12-07T12:04:15.821Z"
   },
   {
    "duration": 43,
    "start_time": "2022-12-07T12:04:16.245Z"
   },
   {
    "duration": 29,
    "start_time": "2022-12-07T12:04:16.648Z"
   },
   {
    "duration": 11,
    "start_time": "2022-12-07T12:04:16.773Z"
   },
   {
    "duration": 5,
    "start_time": "2022-12-07T12:04:16.945Z"
   },
   {
    "duration": 4,
    "start_time": "2022-12-07T12:04:17.162Z"
   },
   {
    "duration": 5,
    "start_time": "2022-12-07T12:04:17.774Z"
   },
   {
    "duration": 4,
    "start_time": "2022-12-07T12:04:18.173Z"
   },
   {
    "duration": 2,
    "start_time": "2022-12-07T12:04:18.622Z"
   },
   {
    "duration": 7,
    "start_time": "2022-12-07T12:04:19.614Z"
   },
   {
    "duration": 41,
    "start_time": "2022-12-07T12:04:19.824Z"
   },
   {
    "duration": 10,
    "start_time": "2022-12-07T12:04:20.065Z"
   },
   {
    "duration": 7,
    "start_time": "2022-12-07T12:04:35.182Z"
   },
   {
    "duration": 15,
    "start_time": "2022-12-07T12:04:35.570Z"
   },
   {
    "duration": 2,
    "start_time": "2022-12-07T12:04:36.586Z"
   },
   {
    "duration": 3,
    "start_time": "2022-12-07T12:04:38.202Z"
   },
   {
    "duration": 2,
    "start_time": "2022-12-07T12:04:39.002Z"
   },
   {
    "duration": 4,
    "start_time": "2022-12-07T12:04:39.192Z"
   },
   {
    "duration": 17,
    "start_time": "2022-12-07T12:04:42.685Z"
   },
   {
    "duration": 70,
    "start_time": "2022-12-07T12:04:45.588Z"
   },
   {
    "duration": 7,
    "start_time": "2022-12-07T12:06:55.542Z"
   },
   {
    "duration": 11,
    "start_time": "2022-12-07T12:40:13.289Z"
   },
   {
    "duration": 154,
    "start_time": "2022-12-07T12:44:05.112Z"
   },
   {
    "duration": 4,
    "start_time": "2022-12-07T12:44:18.712Z"
   },
   {
    "duration": 1294,
    "start_time": "2022-12-07T12:44:24.540Z"
   },
   {
    "duration": 42,
    "start_time": "2022-12-07T12:44:25.836Z"
   },
   {
    "duration": 30,
    "start_time": "2022-12-07T12:44:25.880Z"
   },
   {
    "duration": 13,
    "start_time": "2022-12-07T12:44:25.912Z"
   },
   {
    "duration": 18,
    "start_time": "2022-12-07T12:44:25.927Z"
   },
   {
    "duration": 12,
    "start_time": "2022-12-07T12:44:25.947Z"
   },
   {
    "duration": 12,
    "start_time": "2022-12-07T12:44:25.961Z"
   },
   {
    "duration": 12,
    "start_time": "2022-12-07T12:44:25.974Z"
   },
   {
    "duration": 8,
    "start_time": "2022-12-07T12:44:25.988Z"
   },
   {
    "duration": 15,
    "start_time": "2022-12-07T12:44:25.999Z"
   },
   {
    "duration": 51,
    "start_time": "2022-12-07T12:44:26.015Z"
   },
   {
    "duration": 10,
    "start_time": "2022-12-07T12:44:26.068Z"
   },
   {
    "duration": 108,
    "start_time": "2022-12-07T12:44:26.136Z"
   },
   {
    "duration": 15,
    "start_time": "2022-12-07T12:44:26.245Z"
   },
   {
    "duration": 8,
    "start_time": "2022-12-07T12:44:26.262Z"
   },
   {
    "duration": 10,
    "start_time": "2022-12-07T12:44:26.272Z"
   },
   {
    "duration": 7,
    "start_time": "2022-12-07T12:44:26.284Z"
   },
   {
    "duration": 21,
    "start_time": "2022-12-07T12:44:26.292Z"
   },
   {
    "duration": 77,
    "start_time": "2022-12-07T12:44:26.314Z"
   },
   {
    "duration": 100,
    "start_time": "2022-12-07T12:44:26.437Z"
   },
   {
    "duration": 40,
    "start_time": "2022-12-07T12:44:26.539Z"
   },
   {
    "duration": 0,
    "start_time": "2022-12-07T12:44:26.581Z"
   },
   {
    "duration": 0,
    "start_time": "2022-12-07T12:44:26.583Z"
   },
   {
    "duration": 4,
    "start_time": "2022-12-07T12:44:34.813Z"
   },
   {
    "duration": 42,
    "start_time": "2022-12-07T12:44:35.302Z"
   },
   {
    "duration": 24,
    "start_time": "2022-12-07T12:44:35.799Z"
   },
   {
    "duration": 12,
    "start_time": "2022-12-07T12:44:36.034Z"
   },
   {
    "duration": 6,
    "start_time": "2022-12-07T12:44:36.204Z"
   },
   {
    "duration": 4,
    "start_time": "2022-12-07T12:44:37.161Z"
   },
   {
    "duration": 11,
    "start_time": "2022-12-07T12:44:37.167Z"
   },
   {
    "duration": 3,
    "start_time": "2022-12-07T12:44:37.303Z"
   },
   {
    "duration": 2,
    "start_time": "2022-12-07T12:44:37.714Z"
   },
   {
    "duration": 6,
    "start_time": "2022-12-07T12:44:38.494Z"
   },
   {
    "duration": 41,
    "start_time": "2022-12-07T12:44:38.680Z"
   },
   {
    "duration": 9,
    "start_time": "2022-12-07T12:44:39.023Z"
   },
   {
    "duration": 18,
    "start_time": "2022-12-07T12:44:39.236Z"
   },
   {
    "duration": 3,
    "start_time": "2022-12-07T12:44:39.691Z"
   },
   {
    "duration": 3,
    "start_time": "2022-12-07T12:44:40.453Z"
   },
   {
    "duration": 3,
    "start_time": "2022-12-07T12:44:41.183Z"
   },
   {
    "duration": 4,
    "start_time": "2022-12-07T12:44:41.485Z"
   },
   {
    "duration": 16,
    "start_time": "2022-12-07T12:44:42.014Z"
   },
   {
    "duration": 77,
    "start_time": "2022-12-07T12:44:42.262Z"
   },
   {
    "duration": 7,
    "start_time": "2022-12-07T12:44:42.835Z"
   },
   {
    "duration": 53,
    "start_time": "2022-12-07T12:44:43.073Z"
   },
   {
    "duration": 11,
    "start_time": "2022-12-07T12:44:44.282Z"
   },
   {
    "duration": 49,
    "start_time": "2022-12-07T12:44:44.523Z"
   },
   {
    "duration": 11,
    "start_time": "2022-12-07T12:44:55.397Z"
   },
   {
    "duration": 53,
    "start_time": "2022-12-07T12:44:55.933Z"
   },
   {
    "duration": 11,
    "start_time": "2022-12-07T12:50:03.953Z"
   },
   {
    "duration": 53,
    "start_time": "2022-12-07T12:50:04.483Z"
   },
   {
    "duration": 45,
    "start_time": "2022-12-07T12:50:42.253Z"
   },
   {
    "duration": 51,
    "start_time": "2022-12-07T12:51:29.312Z"
   },
   {
    "duration": 44,
    "start_time": "2022-12-07T12:51:47.494Z"
   },
   {
    "duration": 114,
    "start_time": "2022-12-07T12:58:03.002Z"
   },
   {
    "duration": 167,
    "start_time": "2022-12-07T12:58:18.113Z"
   },
   {
    "duration": 146,
    "start_time": "2022-12-07T12:58:31.294Z"
   },
   {
    "duration": 162,
    "start_time": "2022-12-07T12:58:53.764Z"
   },
   {
    "duration": 160,
    "start_time": "2022-12-07T12:59:53.373Z"
   },
   {
    "duration": 12,
    "start_time": "2022-12-07T12:59:54.316Z"
   },
   {
    "duration": 176,
    "start_time": "2022-12-07T13:00:16.333Z"
   },
   {
    "duration": 173,
    "start_time": "2022-12-07T13:00:27.843Z"
   },
   {
    "duration": 26,
    "start_time": "2022-12-07T13:00:50.733Z"
   },
   {
    "duration": 11,
    "start_time": "2022-12-07T13:01:20.476Z"
   },
   {
    "duration": 1325,
    "start_time": "2022-12-07T13:01:52.958Z"
   },
   {
    "duration": 41,
    "start_time": "2022-12-07T13:01:54.285Z"
   },
   {
    "duration": 30,
    "start_time": "2022-12-07T13:01:54.328Z"
   },
   {
    "duration": 18,
    "start_time": "2022-12-07T13:01:54.360Z"
   },
   {
    "duration": 13,
    "start_time": "2022-12-07T13:01:54.379Z"
   },
   {
    "duration": 23,
    "start_time": "2022-12-07T13:01:54.394Z"
   },
   {
    "duration": 31,
    "start_time": "2022-12-07T13:01:54.419Z"
   },
   {
    "duration": 11,
    "start_time": "2022-12-07T13:01:54.451Z"
   },
   {
    "duration": 9,
    "start_time": "2022-12-07T13:01:54.464Z"
   },
   {
    "duration": 14,
    "start_time": "2022-12-07T13:01:54.475Z"
   },
   {
    "duration": 44,
    "start_time": "2022-12-07T13:01:54.491Z"
   },
   {
    "duration": 12,
    "start_time": "2022-12-07T13:01:54.537Z"
   },
   {
    "duration": 122,
    "start_time": "2022-12-07T13:01:54.636Z"
   },
   {
    "duration": 12,
    "start_time": "2022-12-07T13:01:54.759Z"
   },
   {
    "duration": 21,
    "start_time": "2022-12-07T13:01:54.772Z"
   },
   {
    "duration": 25,
    "start_time": "2022-12-07T13:01:54.795Z"
   },
   {
    "duration": 34,
    "start_time": "2022-12-07T13:01:54.822Z"
   },
   {
    "duration": 47,
    "start_time": "2022-12-07T13:01:54.858Z"
   },
   {
    "duration": 81,
    "start_time": "2022-12-07T13:01:54.907Z"
   },
   {
    "duration": 100,
    "start_time": "2022-12-07T13:01:55.036Z"
   },
   {
    "duration": 24,
    "start_time": "2022-12-07T13:01:55.138Z"
   },
   {
    "duration": 50,
    "start_time": "2022-12-07T13:01:55.164Z"
   },
   {
    "duration": 122,
    "start_time": "2022-12-07T13:01:55.215Z"
   },
   {
    "duration": 253,
    "start_time": "2022-12-07T13:01:55.341Z"
   },
   {
    "duration": 12,
    "start_time": "2022-12-07T13:01:55.596Z"
   },
   {
    "duration": 116,
    "start_time": "2022-12-07T13:01:55.609Z"
   },
   {
    "duration": 8,
    "start_time": "2022-12-07T13:05:03.524Z"
   },
   {
    "duration": 9,
    "start_time": "2022-12-07T13:05:17.895Z"
   },
   {
    "duration": 13,
    "start_time": "2022-12-07T13:17:22.517Z"
   },
   {
    "duration": 4,
    "start_time": "2022-12-07T13:18:21.248Z"
   },
   {
    "duration": 17,
    "start_time": "2022-12-07T13:18:45.159Z"
   },
   {
    "duration": 16,
    "start_time": "2022-12-07T13:28:10.509Z"
   },
   {
    "duration": 5,
    "start_time": "2022-12-07T13:37:57.083Z"
   },
   {
    "duration": 17,
    "start_time": "2022-12-07T13:38:09.116Z"
   },
   {
    "duration": 4,
    "start_time": "2022-12-07T13:40:15.418Z"
   },
   {
    "duration": 8,
    "start_time": "2022-12-07T13:40:27.173Z"
   },
   {
    "duration": 1370,
    "start_time": "2022-12-07T13:40:56.373Z"
   },
   {
    "duration": 43,
    "start_time": "2022-12-07T13:40:57.745Z"
   },
   {
    "duration": 22,
    "start_time": "2022-12-07T13:40:57.790Z"
   },
   {
    "duration": 24,
    "start_time": "2022-12-07T13:40:57.815Z"
   },
   {
    "duration": 12,
    "start_time": "2022-12-07T13:40:57.843Z"
   },
   {
    "duration": 13,
    "start_time": "2022-12-07T13:40:57.857Z"
   },
   {
    "duration": 19,
    "start_time": "2022-12-07T13:40:57.872Z"
   },
   {
    "duration": 16,
    "start_time": "2022-12-07T13:40:57.893Z"
   },
   {
    "duration": 11,
    "start_time": "2022-12-07T13:40:57.911Z"
   },
   {
    "duration": 21,
    "start_time": "2022-12-07T13:40:57.924Z"
   },
   {
    "duration": 26,
    "start_time": "2022-12-07T13:40:57.948Z"
   },
   {
    "duration": 26,
    "start_time": "2022-12-07T13:40:57.975Z"
   },
   {
    "duration": 75,
    "start_time": "2022-12-07T13:40:58.003Z"
   },
   {
    "duration": 64,
    "start_time": "2022-12-07T13:40:58.082Z"
   },
   {
    "duration": 17,
    "start_time": "2022-12-07T13:40:58.235Z"
   },
   {
    "duration": 12,
    "start_time": "2022-12-07T13:40:58.255Z"
   },
   {
    "duration": 14,
    "start_time": "2022-12-07T13:40:58.269Z"
   },
   {
    "duration": 29,
    "start_time": "2022-12-07T13:40:58.284Z"
   },
   {
    "duration": 52,
    "start_time": "2022-12-07T13:40:58.315Z"
   },
   {
    "duration": 49,
    "start_time": "2022-12-07T13:40:58.369Z"
   },
   {
    "duration": 116,
    "start_time": "2022-12-07T13:40:58.420Z"
   },
   {
    "duration": 98,
    "start_time": "2022-12-07T13:40:58.538Z"
   },
   {
    "duration": 20,
    "start_time": "2022-12-07T13:40:58.638Z"
   },
   {
    "duration": 58,
    "start_time": "2022-12-07T13:40:58.660Z"
   },
   {
    "duration": 121,
    "start_time": "2022-12-07T13:40:58.720Z"
   },
   {
    "duration": 243,
    "start_time": "2022-12-07T13:40:58.843Z"
   },
   {
    "duration": 13,
    "start_time": "2022-12-07T13:40:59.088Z"
   },
   {
    "duration": 161,
    "start_time": "2022-12-07T13:40:59.103Z"
   },
   {
    "duration": 4,
    "start_time": "2022-12-07T13:41:07.343Z"
   },
   {
    "duration": 44,
    "start_time": "2022-12-07T13:41:09.469Z"
   },
   {
    "duration": 25,
    "start_time": "2022-12-07T13:41:09.717Z"
   },
   {
    "duration": 12,
    "start_time": "2022-12-07T13:41:09.983Z"
   },
   {
    "duration": 12,
    "start_time": "2022-12-07T13:41:10.662Z"
   },
   {
    "duration": 6,
    "start_time": "2022-12-07T13:41:13.493Z"
   },
   {
    "duration": 6,
    "start_time": "2022-12-07T13:41:17.283Z"
   },
   {
    "duration": 7,
    "start_time": "2022-12-07T13:41:20.202Z"
   },
   {
    "duration": 4,
    "start_time": "2022-12-07T13:41:31.228Z"
   },
   {
    "duration": 26,
    "start_time": "2022-12-07T14:20:07.507Z"
   },
   {
    "duration": 39,
    "start_time": "2022-12-07T14:20:07.535Z"
   },
   {
    "duration": 4,
    "start_time": "2022-12-07T14:20:13.119Z"
   },
   {
    "duration": 40,
    "start_time": "2022-12-07T14:20:13.675Z"
   },
   {
    "duration": 16,
    "start_time": "2022-12-07T14:20:14.593Z"
   },
   {
    "duration": 12,
    "start_time": "2022-12-07T14:20:15.761Z"
   },
   {
    "duration": 11,
    "start_time": "2022-12-07T14:20:16.071Z"
   },
   {
    "duration": 4,
    "start_time": "2022-12-07T14:20:16.540Z"
   },
   {
    "duration": 5,
    "start_time": "2022-12-07T14:20:16.982Z"
   },
   {
    "duration": 4,
    "start_time": "2022-12-07T14:20:17.233Z"
   },
   {
    "duration": 9,
    "start_time": "2022-12-07T14:20:18.303Z"
   },
   {
    "duration": 11,
    "start_time": "2022-12-07T14:20:18.781Z"
   },
   {
    "duration": 7,
    "start_time": "2022-12-07T15:06:02.141Z"
   },
   {
    "duration": 6,
    "start_time": "2022-12-07T15:06:04.506Z"
   },
   {
    "duration": 1444,
    "start_time": "2022-12-07T15:16:33.680Z"
   },
   {
    "duration": 42,
    "start_time": "2022-12-07T15:16:35.126Z"
   },
   {
    "duration": 22,
    "start_time": "2022-12-07T15:16:35.170Z"
   },
   {
    "duration": 22,
    "start_time": "2022-12-07T15:16:35.194Z"
   },
   {
    "duration": 21,
    "start_time": "2022-12-07T15:16:35.219Z"
   },
   {
    "duration": 6,
    "start_time": "2022-12-07T15:16:35.242Z"
   },
   {
    "duration": 16,
    "start_time": "2022-12-07T15:16:35.250Z"
   },
   {
    "duration": 11,
    "start_time": "2022-12-07T15:16:35.268Z"
   },
   {
    "duration": 21,
    "start_time": "2022-12-07T15:16:35.281Z"
   },
   {
    "duration": 18,
    "start_time": "2022-12-07T15:16:35.305Z"
   },
   {
    "duration": 19,
    "start_time": "2022-12-07T15:16:35.325Z"
   },
   {
    "duration": 8,
    "start_time": "2022-12-07T15:16:35.346Z"
   },
   {
    "duration": 13,
    "start_time": "2022-12-07T15:16:35.356Z"
   },
   {
    "duration": 5,
    "start_time": "2022-12-07T15:16:35.372Z"
   },
   {
    "duration": 57,
    "start_time": "2022-12-07T15:16:35.379Z"
   },
   {
    "duration": 48,
    "start_time": "2022-12-07T15:16:35.438Z"
   },
   {
    "duration": 53,
    "start_time": "2022-12-07T15:16:35.488Z"
   },
   {
    "duration": 101,
    "start_time": "2022-12-07T15:16:35.543Z"
   },
   {
    "duration": 106,
    "start_time": "2022-12-07T15:16:35.650Z"
   },
   {
    "duration": 93,
    "start_time": "2022-12-07T15:16:35.758Z"
   },
   {
    "duration": 83,
    "start_time": "2022-12-07T15:16:35.855Z"
   },
   {
    "duration": 35,
    "start_time": "2022-12-07T15:16:35.942Z"
   },
   {
    "duration": 67,
    "start_time": "2022-12-07T15:16:35.979Z"
   },
   {
    "duration": 104,
    "start_time": "2022-12-07T15:16:36.049Z"
   },
   {
    "duration": 262,
    "start_time": "2022-12-07T15:16:36.157Z"
   },
   {
    "duration": 21,
    "start_time": "2022-12-07T15:16:36.421Z"
   },
   {
    "duration": 145,
    "start_time": "2022-12-07T15:16:36.446Z"
   },
   {
    "duration": 1,
    "start_time": "2022-12-07T15:16:36.593Z"
   },
   {
    "duration": 0,
    "start_time": "2022-12-07T15:16:36.597Z"
   },
   {
    "duration": 5,
    "start_time": "2022-12-07T15:16:46.449Z"
   },
   {
    "duration": 47,
    "start_time": "2022-12-07T15:16:47.730Z"
   },
   {
    "duration": 17,
    "start_time": "2022-12-07T15:16:47.779Z"
   },
   {
    "duration": 12,
    "start_time": "2022-12-07T15:16:47.798Z"
   },
   {
    "duration": 10,
    "start_time": "2022-12-07T15:16:47.961Z"
   },
   {
    "duration": 4,
    "start_time": "2022-12-07T15:16:48.601Z"
   },
   {
    "duration": 5,
    "start_time": "2022-12-07T15:16:48.920Z"
   },
   {
    "duration": 4,
    "start_time": "2022-12-07T15:16:49.480Z"
   },
   {
    "duration": 10,
    "start_time": "2022-12-07T15:16:52.720Z"
   },
   {
    "duration": 10,
    "start_time": "2022-12-07T15:16:52.953Z"
   },
   {
    "duration": 6,
    "start_time": "2022-12-07T15:16:56.640Z"
   },
   {
    "duration": 5,
    "start_time": "2022-12-07T15:16:57.633Z"
   },
   {
    "duration": 7,
    "start_time": "2022-12-07T15:16:59.219Z"
   },
   {
    "duration": 4,
    "start_time": "2022-12-07T15:16:59.881Z"
   },
   {
    "duration": 4,
    "start_time": "2022-12-07T15:17:07.400Z"
   },
   {
    "duration": 22,
    "start_time": "2022-12-07T15:17:59.369Z"
   },
   {
    "duration": 21,
    "start_time": "2022-12-07T15:18:15.641Z"
   },
   {
    "duration": 12,
    "start_time": "2022-12-07T15:18:33.120Z"
   },
   {
    "duration": 5,
    "start_time": "2022-12-07T15:23:36.291Z"
   },
   {
    "duration": 1375,
    "start_time": "2022-12-07T15:28:51.936Z"
   },
   {
    "duration": 42,
    "start_time": "2022-12-07T15:28:53.313Z"
   },
   {
    "duration": 20,
    "start_time": "2022-12-07T15:28:53.356Z"
   },
   {
    "duration": 12,
    "start_time": "2022-12-07T15:28:53.377Z"
   },
   {
    "duration": 10,
    "start_time": "2022-12-07T15:28:53.390Z"
   },
   {
    "duration": 9,
    "start_time": "2022-12-07T15:28:53.402Z"
   },
   {
    "duration": 19,
    "start_time": "2022-12-07T15:28:53.413Z"
   },
   {
    "duration": 7,
    "start_time": "2022-12-07T15:28:53.433Z"
   },
   {
    "duration": 22,
    "start_time": "2022-12-07T15:28:53.442Z"
   },
   {
    "duration": 24,
    "start_time": "2022-12-07T15:28:53.465Z"
   },
   {
    "duration": 10,
    "start_time": "2022-12-07T15:28:53.491Z"
   },
   {
    "duration": 14,
    "start_time": "2022-12-07T15:28:53.503Z"
   },
   {
    "duration": 12,
    "start_time": "2022-12-07T15:28:53.518Z"
   },
   {
    "duration": 8,
    "start_time": "2022-12-07T15:28:53.533Z"
   },
   {
    "duration": 36,
    "start_time": "2022-12-07T15:28:53.542Z"
   },
   {
    "duration": 45,
    "start_time": "2022-12-07T15:28:53.580Z"
   },
   {
    "duration": 19,
    "start_time": "2022-12-07T15:28:53.627Z"
   },
   {
    "duration": 91,
    "start_time": "2022-12-07T15:28:53.648Z"
   },
   {
    "duration": 120,
    "start_time": "2022-12-07T15:28:53.740Z"
   },
   {
    "duration": 50,
    "start_time": "2022-12-07T15:28:53.862Z"
   },
   {
    "duration": 103,
    "start_time": "2022-12-07T15:28:53.936Z"
   },
   {
    "duration": 19,
    "start_time": "2022-12-07T15:28:54.040Z"
   },
   {
    "duration": 37,
    "start_time": "2022-12-07T15:28:54.061Z"
   },
   {
    "duration": 135,
    "start_time": "2022-12-07T15:28:54.100Z"
   },
   {
    "duration": 241,
    "start_time": "2022-12-07T15:28:54.238Z"
   },
   {
    "duration": 12,
    "start_time": "2022-12-07T15:28:54.480Z"
   },
   {
    "duration": 110,
    "start_time": "2022-12-07T15:28:54.493Z"
   },
   {
    "duration": 0,
    "start_time": "2022-12-07T15:28:54.604Z"
   },
   {
    "duration": 0,
    "start_time": "2022-12-07T15:28:54.605Z"
   },
   {
    "duration": 24,
    "start_time": "2022-12-07T15:29:48.319Z"
   },
   {
    "duration": 157,
    "start_time": "2022-12-07T15:36:57.168Z"
   },
   {
    "duration": 6,
    "start_time": "2022-12-07T15:38:40.909Z"
   },
   {
    "duration": 1432,
    "start_time": "2022-12-08T11:20:50.143Z"
   },
   {
    "duration": 90,
    "start_time": "2022-12-08T11:20:51.577Z"
   },
   {
    "duration": 22,
    "start_time": "2022-12-08T11:20:54.847Z"
   },
   {
    "duration": 13,
    "start_time": "2022-12-08T11:20:55.799Z"
   },
   {
    "duration": 10,
    "start_time": "2022-12-08T11:20:56.167Z"
   },
   {
    "duration": 4,
    "start_time": "2022-12-08T11:20:59.423Z"
   },
   {
    "duration": 5,
    "start_time": "2022-12-08T11:21:00.229Z"
   },
   {
    "duration": 4,
    "start_time": "2022-12-08T11:21:01.039Z"
   },
   {
    "duration": 9,
    "start_time": "2022-12-08T11:21:03.183Z"
   },
   {
    "duration": 11,
    "start_time": "2022-12-08T11:21:03.983Z"
   },
   {
    "duration": 8,
    "start_time": "2022-12-08T11:21:11.817Z"
   },
   {
    "duration": 5,
    "start_time": "2022-12-08T11:21:15.693Z"
   },
   {
    "duration": 8,
    "start_time": "2022-12-08T11:21:16.783Z"
   },
   {
    "duration": 5,
    "start_time": "2022-12-08T11:21:17.489Z"
   },
   {
    "duration": 27,
    "start_time": "2022-12-08T11:21:20.448Z"
   },
   {
    "duration": 19,
    "start_time": "2022-12-08T11:21:35.834Z"
   },
   {
    "duration": 20,
    "start_time": "2022-12-08T11:21:47.228Z"
   },
   {
    "duration": 549,
    "start_time": "2022-12-08T11:21:50.991Z"
   },
   {
    "duration": 523,
    "start_time": "2022-12-08T11:25:18.077Z"
   },
   {
    "duration": 43586,
    "start_time": "2022-12-08T11:26:22.647Z"
   },
   {
    "duration": 117,
    "start_time": "2022-12-08T11:30:22.591Z"
   },
   {
    "duration": 109735,
    "start_time": "2022-12-08T11:30:41.416Z"
   },
   {
    "duration": 108654,
    "start_time": "2022-12-08T11:33:04.246Z"
   },
   {
    "duration": 48,
    "start_time": "2022-12-08T11:38:11.237Z"
   },
   {
    "duration": 45,
    "start_time": "2022-12-08T11:39:41.209Z"
   },
   {
    "duration": 110,
    "start_time": "2022-12-08T11:42:23.191Z"
   },
   {
    "duration": 88,
    "start_time": "2022-12-08T11:43:27.931Z"
   },
   {
    "duration": 255,
    "start_time": "2022-12-08T11:44:52.551Z"
   },
   {
    "duration": 7,
    "start_time": "2022-12-08T11:46:16.351Z"
   },
   {
    "duration": 1335,
    "start_time": "2022-12-08T11:50:41.687Z"
   },
   {
    "duration": 43,
    "start_time": "2022-12-08T11:50:43.024Z"
   },
   {
    "duration": 20,
    "start_time": "2022-12-08T11:50:43.069Z"
   },
   {
    "duration": 12,
    "start_time": "2022-12-08T11:50:43.091Z"
   },
   {
    "duration": 11,
    "start_time": "2022-12-08T11:50:43.104Z"
   },
   {
    "duration": 3,
    "start_time": "2022-12-08T11:50:43.116Z"
   },
   {
    "duration": 6,
    "start_time": "2022-12-08T11:50:43.121Z"
   },
   {
    "duration": 8,
    "start_time": "2022-12-08T11:50:43.128Z"
   },
   {
    "duration": 18,
    "start_time": "2022-12-08T11:50:43.137Z"
   },
   {
    "duration": 11,
    "start_time": "2022-12-08T11:50:43.158Z"
   },
   {
    "duration": 11,
    "start_time": "2022-12-08T11:50:43.170Z"
   },
   {
    "duration": 6,
    "start_time": "2022-12-08T11:50:43.182Z"
   },
   {
    "duration": 7,
    "start_time": "2022-12-08T11:50:43.189Z"
   },
   {
    "duration": 6,
    "start_time": "2022-12-08T11:50:43.198Z"
   },
   {
    "duration": 29,
    "start_time": "2022-12-08T11:50:43.206Z"
   },
   {
    "duration": 539,
    "start_time": "2022-12-08T11:50:43.237Z"
   },
   {
    "duration": 124,
    "start_time": "2022-12-08T11:50:43.777Z"
   },
   {
    "duration": 110170,
    "start_time": "2022-12-08T11:50:43.903Z"
   },
   {
    "duration": 105,
    "start_time": "2022-12-08T11:52:34.074Z"
   },
   {
    "duration": 141,
    "start_time": "2022-12-08T11:52:34.180Z"
   },
   {
    "duration": 335,
    "start_time": "2022-12-08T11:52:34.324Z"
   },
   {
    "duration": 7,
    "start_time": "2022-12-08T11:52:34.660Z"
   },
   {
    "duration": 5,
    "start_time": "2022-12-08T11:52:34.669Z"
   },
   {
    "duration": 14,
    "start_time": "2022-12-08T11:52:34.676Z"
   },
   {
    "duration": 49,
    "start_time": "2022-12-08T11:52:34.692Z"
   },
   {
    "duration": 78,
    "start_time": "2022-12-08T11:52:34.743Z"
   },
   {
    "duration": 234,
    "start_time": "2022-12-08T11:52:34.823Z"
   },
   {
    "duration": 11,
    "start_time": "2022-12-08T11:52:35.059Z"
   },
   {
    "duration": 115,
    "start_time": "2022-12-08T11:52:35.071Z"
   },
   {
    "duration": 0,
    "start_time": "2022-12-08T11:52:35.188Z"
   },
   {
    "duration": 0,
    "start_time": "2022-12-08T11:52:35.189Z"
   },
   {
    "duration": 0,
    "start_time": "2022-12-08T11:52:35.190Z"
   },
   {
    "duration": 5,
    "start_time": "2022-12-08T11:55:35.352Z"
   },
   {
    "duration": 39,
    "start_time": "2022-12-08T11:55:35.791Z"
   },
   {
    "duration": 16,
    "start_time": "2022-12-08T11:55:36.351Z"
   },
   {
    "duration": 11,
    "start_time": "2022-12-08T11:55:36.959Z"
   },
   {
    "duration": 12,
    "start_time": "2022-12-08T11:55:37.519Z"
   },
   {
    "duration": 5,
    "start_time": "2022-12-08T11:55:38.949Z"
   },
   {
    "duration": 5,
    "start_time": "2022-12-08T11:55:39.192Z"
   },
   {
    "duration": 3,
    "start_time": "2022-12-08T11:55:39.848Z"
   },
   {
    "duration": 10,
    "start_time": "2022-12-08T11:55:43.047Z"
   },
   {
    "duration": 10,
    "start_time": "2022-12-08T11:55:43.559Z"
   },
   {
    "duration": 5,
    "start_time": "2022-12-08T11:55:46.811Z"
   },
   {
    "duration": 4,
    "start_time": "2022-12-08T11:55:51.800Z"
   },
   {
    "duration": 6,
    "start_time": "2022-12-08T11:55:52.957Z"
   },
   {
    "duration": 4,
    "start_time": "2022-12-08T11:55:54.440Z"
   },
   {
    "duration": 21,
    "start_time": "2022-12-08T11:55:55.972Z"
   },
   {
    "duration": 544,
    "start_time": "2022-12-08T11:56:01.040Z"
   },
   {
    "duration": 103,
    "start_time": "2022-12-08T11:56:23.790Z"
   },
   {
    "duration": 110626,
    "start_time": "2022-12-08T11:56:26.072Z"
   },
   {
    "duration": 94,
    "start_time": "2022-12-08T11:58:48.863Z"
   },
   {
    "duration": 55,
    "start_time": "2022-12-08T11:58:50.281Z"
   },
   {
    "duration": 264,
    "start_time": "2022-12-08T11:59:05.262Z"
   },
   {
    "duration": 7,
    "start_time": "2022-12-08T11:59:15.031Z"
   },
   {
    "duration": 519,
    "start_time": "2022-12-08T12:05:55.536Z"
   },
   {
    "duration": 101,
    "start_time": "2022-12-08T12:05:58.945Z"
   },
   {
    "duration": 6,
    "start_time": "2022-12-08T12:06:00.371Z"
   },
   {
    "duration": 10,
    "start_time": "2022-12-08T12:10:02.344Z"
   },
   {
    "duration": 11,
    "start_time": "2022-12-08T12:10:23.504Z"
   },
   {
    "duration": 7,
    "start_time": "2022-12-08T12:26:52.081Z"
   },
   {
    "duration": 107,
    "start_time": "2022-12-08T12:27:36.148Z"
   },
   {
    "duration": 8,
    "start_time": "2022-12-08T12:27:42.778Z"
   },
   {
    "duration": 12,
    "start_time": "2022-12-08T12:27:47.498Z"
   },
   {
    "duration": 7,
    "start_time": "2022-12-08T12:27:56.189Z"
   },
   {
    "duration": 9,
    "start_time": "2022-12-08T12:28:12.838Z"
   },
   {
    "duration": 10,
    "start_time": "2022-12-08T12:29:02.220Z"
   },
   {
    "duration": 9,
    "start_time": "2022-12-08T12:29:03.038Z"
   },
   {
    "duration": 110,
    "start_time": "2022-12-08T12:31:08.740Z"
   },
   {
    "duration": 7,
    "start_time": "2022-12-08T12:31:10.979Z"
   },
   {
    "duration": 95,
    "start_time": "2022-12-08T12:31:22.190Z"
   },
   {
    "duration": 7,
    "start_time": "2022-12-08T12:31:37.070Z"
   },
   {
    "duration": 6,
    "start_time": "2022-12-08T12:32:04.440Z"
   },
   {
    "duration": 5,
    "start_time": "2022-12-08T12:32:17.989Z"
   },
   {
    "duration": 1238,
    "start_time": "2022-12-08T12:32:28.255Z"
   },
   {
    "duration": 48,
    "start_time": "2022-12-08T12:32:29.495Z"
   },
   {
    "duration": 21,
    "start_time": "2022-12-08T12:32:29.545Z"
   },
   {
    "duration": 13,
    "start_time": "2022-12-08T12:32:29.567Z"
   },
   {
    "duration": 23,
    "start_time": "2022-12-08T12:32:29.583Z"
   },
   {
    "duration": 4,
    "start_time": "2022-12-08T12:32:29.607Z"
   },
   {
    "duration": 20,
    "start_time": "2022-12-08T12:32:29.612Z"
   },
   {
    "duration": 6,
    "start_time": "2022-12-08T12:32:29.633Z"
   },
   {
    "duration": 13,
    "start_time": "2022-12-08T12:32:29.640Z"
   },
   {
    "duration": 12,
    "start_time": "2022-12-08T12:32:29.654Z"
   },
   {
    "duration": 18,
    "start_time": "2022-12-08T12:32:29.668Z"
   },
   {
    "duration": 7,
    "start_time": "2022-12-08T12:32:29.687Z"
   },
   {
    "duration": 5,
    "start_time": "2022-12-08T12:32:29.695Z"
   },
   {
    "duration": 7,
    "start_time": "2022-12-08T12:32:29.703Z"
   },
   {
    "duration": 29,
    "start_time": "2022-12-08T12:32:29.711Z"
   },
   {
    "duration": 531,
    "start_time": "2022-12-08T12:32:29.741Z"
   },
   {
    "duration": 126,
    "start_time": "2022-12-08T12:32:30.273Z"
   },
   {
    "duration": 7,
    "start_time": "2022-12-08T12:32:30.400Z"
   },
   {
    "duration": 25,
    "start_time": "2022-12-08T12:32:30.408Z"
   },
   {
    "duration": 29,
    "start_time": "2022-12-08T12:32:30.435Z"
   },
   {
    "duration": 111609,
    "start_time": "2022-12-08T12:32:30.465Z"
   },
   {
    "duration": 102,
    "start_time": "2022-12-08T12:34:22.075Z"
   },
   {
    "duration": 6,
    "start_time": "2022-12-08T12:34:22.179Z"
   },
   {
    "duration": 63,
    "start_time": "2022-12-08T12:34:22.186Z"
   },
   {
    "duration": 303,
    "start_time": "2022-12-08T12:34:22.250Z"
   },
   {
    "duration": 14,
    "start_time": "2022-12-08T12:34:22.555Z"
   },
   {
    "duration": 11,
    "start_time": "2022-12-08T12:34:22.571Z"
   },
   {
    "duration": 23,
    "start_time": "2022-12-08T12:34:22.583Z"
   },
   {
    "duration": 34,
    "start_time": "2022-12-08T12:34:22.608Z"
   },
   {
    "duration": 78,
    "start_time": "2022-12-08T12:34:22.644Z"
   },
   {
    "duration": 242,
    "start_time": "2022-12-08T12:34:22.724Z"
   },
   {
    "duration": 10,
    "start_time": "2022-12-08T12:34:22.968Z"
   },
   {
    "duration": 113,
    "start_time": "2022-12-08T12:34:22.980Z"
   },
   {
    "duration": 0,
    "start_time": "2022-12-08T12:34:23.094Z"
   },
   {
    "duration": 1,
    "start_time": "2022-12-08T12:34:23.095Z"
   },
   {
    "duration": 0,
    "start_time": "2022-12-08T12:34:23.097Z"
   },
   {
    "duration": 4,
    "start_time": "2022-12-08T12:38:12.069Z"
   },
   {
    "duration": 39,
    "start_time": "2022-12-08T12:38:12.605Z"
   },
   {
    "duration": 17,
    "start_time": "2022-12-08T12:38:12.995Z"
   },
   {
    "duration": 11,
    "start_time": "2022-12-08T12:38:13.243Z"
   },
   {
    "duration": 11,
    "start_time": "2022-12-08T12:38:13.484Z"
   },
   {
    "duration": 4,
    "start_time": "2022-12-08T12:38:14.879Z"
   },
   {
    "duration": 4,
    "start_time": "2022-12-08T12:38:15.115Z"
   },
   {
    "duration": 4,
    "start_time": "2022-12-08T12:38:15.373Z"
   },
   {
    "duration": 9,
    "start_time": "2022-12-08T12:38:16.644Z"
   },
   {
    "duration": 11,
    "start_time": "2022-12-08T12:38:16.914Z"
   },
   {
    "duration": 6,
    "start_time": "2022-12-08T12:38:23.275Z"
   },
   {
    "duration": 5,
    "start_time": "2022-12-08T12:38:27.092Z"
   },
   {
    "duration": 6,
    "start_time": "2022-12-08T12:38:28.122Z"
   },
   {
    "duration": 4,
    "start_time": "2022-12-08T12:38:28.714Z"
   },
   {
    "duration": 23,
    "start_time": "2022-12-08T12:38:29.008Z"
   },
   {
    "duration": 541,
    "start_time": "2022-12-08T12:38:32.568Z"
   },
   {
    "duration": 107,
    "start_time": "2022-12-08T12:38:37.973Z"
   },
   {
    "duration": 6,
    "start_time": "2022-12-08T12:38:39.224Z"
   },
   {
    "duration": 10,
    "start_time": "2022-12-08T12:38:45.313Z"
   },
   {
    "duration": 10,
    "start_time": "2022-12-08T12:38:55.702Z"
   },
   {
    "duration": 117691,
    "start_time": "2022-12-08T12:38:57.408Z"
   },
   {
    "duration": 118,
    "start_time": "2022-12-08T12:45:25.441Z"
   },
   {
    "duration": 7,
    "start_time": "2022-12-08T12:45:31.931Z"
   },
   {
    "duration": 9,
    "start_time": "2022-12-08T13:17:07.987Z"
   },
   {
    "duration": 9,
    "start_time": "2022-12-08T13:17:47.085Z"
   },
   {
    "duration": 19,
    "start_time": "2022-12-08T13:18:12.788Z"
   },
   {
    "duration": 60,
    "start_time": "2022-12-08T13:19:51.867Z"
   },
   {
    "duration": 297,
    "start_time": "2022-12-08T13:19:52.829Z"
   },
   {
    "duration": 6,
    "start_time": "2022-12-08T13:19:54.258Z"
   },
   {
    "duration": 9,
    "start_time": "2022-12-08T13:22:17.030Z"
   },
   {
    "duration": 16,
    "start_time": "2022-12-08T13:22:17.347Z"
   },
   {
    "duration": 58,
    "start_time": "2022-12-08T13:22:18.547Z"
   },
   {
    "duration": 212,
    "start_time": "2022-12-08T13:22:19.288Z"
   },
   {
    "duration": 8,
    "start_time": "2022-12-08T13:22:22.669Z"
   },
   {
    "duration": 9,
    "start_time": "2022-12-08T13:22:39.158Z"
   },
   {
    "duration": 17,
    "start_time": "2022-12-08T13:23:02.221Z"
   },
   {
    "duration": 12,
    "start_time": "2022-12-08T13:23:28.209Z"
   },
   {
    "duration": 1283,
    "start_time": "2022-12-08T13:24:10.839Z"
   },
   {
    "duration": 41,
    "start_time": "2022-12-08T13:24:12.124Z"
   },
   {
    "duration": 20,
    "start_time": "2022-12-08T13:24:12.166Z"
   },
   {
    "duration": 13,
    "start_time": "2022-12-08T13:24:12.188Z"
   },
   {
    "duration": 12,
    "start_time": "2022-12-08T13:24:12.203Z"
   },
   {
    "duration": 5,
    "start_time": "2022-12-08T13:24:12.217Z"
   },
   {
    "duration": 30,
    "start_time": "2022-12-08T13:24:12.224Z"
   },
   {
    "duration": 12,
    "start_time": "2022-12-08T13:24:12.255Z"
   },
   {
    "duration": 19,
    "start_time": "2022-12-08T13:24:12.269Z"
   },
   {
    "duration": 13,
    "start_time": "2022-12-08T13:24:12.290Z"
   },
   {
    "duration": 11,
    "start_time": "2022-12-08T13:24:12.305Z"
   },
   {
    "duration": 6,
    "start_time": "2022-12-08T13:24:12.318Z"
   },
   {
    "duration": 7,
    "start_time": "2022-12-08T13:24:12.326Z"
   },
   {
    "duration": 5,
    "start_time": "2022-12-08T13:24:12.337Z"
   },
   {
    "duration": 39,
    "start_time": "2022-12-08T13:24:12.344Z"
   },
   {
    "duration": 570,
    "start_time": "2022-12-08T13:24:12.385Z"
   },
   {
    "duration": 130,
    "start_time": "2022-12-08T13:24:12.957Z"
   },
   {
    "duration": 6,
    "start_time": "2022-12-08T13:24:13.089Z"
   },
   {
    "duration": 10,
    "start_time": "2022-12-08T13:24:13.096Z"
   },
   {
    "duration": 8,
    "start_time": "2022-12-08T13:24:13.122Z"
   },
   {
    "duration": 114976,
    "start_time": "2022-12-08T13:24:13.132Z"
   },
   {
    "duration": 112,
    "start_time": "2022-12-08T13:26:08.121Z"
   },
   {
    "duration": 6,
    "start_time": "2022-12-08T13:26:08.235Z"
   },
   {
    "duration": 10,
    "start_time": "2022-12-08T13:26:08.242Z"
   },
   {
    "duration": 16,
    "start_time": "2022-12-08T13:26:08.253Z"
   },
   {
    "duration": 151,
    "start_time": "2022-12-08T13:26:08.270Z"
   },
   {
    "duration": 324,
    "start_time": "2022-12-08T13:26:08.423Z"
   },
   {
    "duration": 6,
    "start_time": "2022-12-08T13:26:08.749Z"
   },
   {
    "duration": 9,
    "start_time": "2022-12-08T13:26:08.757Z"
   },
   {
    "duration": 67,
    "start_time": "2022-12-08T13:26:08.768Z"
   },
   {
    "duration": 8,
    "start_time": "2022-12-08T13:26:08.922Z"
   },
   {
    "duration": 7,
    "start_time": "2022-12-08T13:26:08.932Z"
   },
   {
    "duration": 21,
    "start_time": "2022-12-08T13:26:08.941Z"
   },
   {
    "duration": 63,
    "start_time": "2022-12-08T13:26:08.964Z"
   },
   {
    "duration": 95,
    "start_time": "2022-12-08T13:26:09.029Z"
   },
   {
    "duration": 230,
    "start_time": "2022-12-08T13:26:09.127Z"
   },
   {
    "duration": 11,
    "start_time": "2022-12-08T13:26:09.359Z"
   },
   {
    "duration": 118,
    "start_time": "2022-12-08T13:26:09.372Z"
   },
   {
    "duration": 0,
    "start_time": "2022-12-08T13:26:09.492Z"
   },
   {
    "duration": 0,
    "start_time": "2022-12-08T13:26:09.493Z"
   },
   {
    "duration": 0,
    "start_time": "2022-12-08T13:26:09.494Z"
   },
   {
    "duration": 4,
    "start_time": "2022-12-08T13:41:06.081Z"
   },
   {
    "duration": 42,
    "start_time": "2022-12-08T13:41:06.528Z"
   },
   {
    "duration": 24,
    "start_time": "2022-12-08T13:41:07.089Z"
   },
   {
    "duration": 16,
    "start_time": "2022-12-08T13:41:07.379Z"
   },
   {
    "duration": 15,
    "start_time": "2022-12-08T13:41:07.849Z"
   },
   {
    "duration": 5,
    "start_time": "2022-12-08T13:41:08.271Z"
   },
   {
    "duration": 5,
    "start_time": "2022-12-08T13:41:08.440Z"
   },
   {
    "duration": 3,
    "start_time": "2022-12-08T13:41:08.641Z"
   },
   {
    "duration": 12,
    "start_time": "2022-12-08T13:41:09.319Z"
   },
   {
    "duration": 15,
    "start_time": "2022-12-08T13:41:09.559Z"
   },
   {
    "duration": 7,
    "start_time": "2022-12-08T13:41:10.889Z"
   },
   {
    "duration": 5,
    "start_time": "2022-12-08T13:41:11.819Z"
   },
   {
    "duration": 6,
    "start_time": "2022-12-08T13:41:12.218Z"
   },
   {
    "duration": 5,
    "start_time": "2022-12-08T13:41:12.441Z"
   },
   {
    "duration": 23,
    "start_time": "2022-12-08T13:41:12.628Z"
   },
   {
    "duration": 546,
    "start_time": "2022-12-08T13:41:13.338Z"
   },
   {
    "duration": 111,
    "start_time": "2022-12-08T13:41:20.461Z"
   },
   {
    "duration": 8,
    "start_time": "2022-12-08T13:41:21.433Z"
   },
   {
    "duration": 12,
    "start_time": "2022-12-08T13:41:24.237Z"
   },
   {
    "duration": 10,
    "start_time": "2022-12-08T13:41:26.772Z"
   },
   {
    "duration": 115089,
    "start_time": "2022-12-08T13:41:27.669Z"
   },
   {
    "duration": 116,
    "start_time": "2022-12-08T13:43:22.760Z"
   },
   {
    "duration": 46,
    "start_time": "2022-12-08T13:46:52.616Z"
   },
   {
    "duration": 56,
    "start_time": "2022-12-08T13:47:14.509Z"
   },
   {
    "duration": 289,
    "start_time": "2022-12-08T13:47:16.315Z"
   },
   {
    "duration": 6,
    "start_time": "2022-12-08T13:47:18.499Z"
   },
   {
    "duration": 47,
    "start_time": "2022-12-08T13:47:20.339Z"
   },
   {
    "duration": 77,
    "start_time": "2022-12-08T13:47:28.069Z"
   },
   {
    "duration": 10,
    "start_time": "2022-12-08T13:47:34.049Z"
   },
   {
    "duration": 8,
    "start_time": "2022-12-08T13:48:19.418Z"
   },
   {
    "duration": 110,
    "start_time": "2022-12-08T14:16:52.516Z"
   },
   {
    "duration": 10,
    "start_time": "2022-12-08T14:17:12.958Z"
   },
   {
    "duration": 39,
    "start_time": "2022-12-08T14:17:15.848Z"
   },
   {
    "duration": 119,
    "start_time": "2022-12-08T14:17:16.903Z"
   },
   {
    "duration": 24,
    "start_time": "2022-12-08T14:17:17.699Z"
   },
   {
    "duration": 9,
    "start_time": "2022-12-08T14:25:51.797Z"
   },
   {
    "duration": 39,
    "start_time": "2022-12-08T14:25:54.329Z"
   },
   {
    "duration": 101,
    "start_time": "2022-12-08T14:25:56.078Z"
   },
   {
    "duration": 117,
    "start_time": "2022-12-08T14:26:02.595Z"
   },
   {
    "duration": 116,
    "start_time": "2022-12-08T14:26:04.386Z"
   },
   {
    "duration": 115,
    "start_time": "2022-12-08T14:26:28.887Z"
   },
   {
    "duration": 62,
    "start_time": "2022-12-08T14:26:49.164Z"
   },
   {
    "duration": 261,
    "start_time": "2022-12-08T14:26:53.929Z"
   },
   {
    "duration": 18,
    "start_time": "2022-12-08T14:37:46.495Z"
   },
   {
    "duration": 1316,
    "start_time": "2022-12-08T14:39:54.195Z"
   },
   {
    "duration": 49,
    "start_time": "2022-12-08T14:39:55.513Z"
   },
   {
    "duration": 29,
    "start_time": "2022-12-08T14:39:55.564Z"
   },
   {
    "duration": 16,
    "start_time": "2022-12-08T14:39:55.596Z"
   },
   {
    "duration": 12,
    "start_time": "2022-12-08T14:39:55.615Z"
   },
   {
    "duration": 4,
    "start_time": "2022-12-08T14:39:55.630Z"
   },
   {
    "duration": 12,
    "start_time": "2022-12-08T14:39:55.636Z"
   },
   {
    "duration": 12,
    "start_time": "2022-12-08T14:39:55.650Z"
   },
   {
    "duration": 21,
    "start_time": "2022-12-08T14:39:55.665Z"
   },
   {
    "duration": 19,
    "start_time": "2022-12-08T14:39:55.689Z"
   },
   {
    "duration": 14,
    "start_time": "2022-12-08T14:39:55.710Z"
   },
   {
    "duration": 11,
    "start_time": "2022-12-08T14:39:55.726Z"
   },
   {
    "duration": 12,
    "start_time": "2022-12-08T14:39:55.740Z"
   },
   {
    "duration": 8,
    "start_time": "2022-12-08T14:39:55.756Z"
   },
   {
    "duration": 36,
    "start_time": "2022-12-08T14:39:55.766Z"
   },
   {
    "duration": 552,
    "start_time": "2022-12-08T14:39:55.804Z"
   },
   {
    "duration": 141,
    "start_time": "2022-12-08T14:39:56.358Z"
   },
   {
    "duration": 8,
    "start_time": "2022-12-08T14:39:56.500Z"
   },
   {
    "duration": 11,
    "start_time": "2022-12-08T14:39:56.522Z"
   },
   {
    "duration": 13,
    "start_time": "2022-12-08T14:39:56.535Z"
   },
   {
    "duration": 114207,
    "start_time": "2022-12-08T14:39:56.549Z"
   },
   {
    "duration": 105,
    "start_time": "2022-12-08T14:41:50.757Z"
   },
   {
    "duration": 7,
    "start_time": "2022-12-08T14:41:50.864Z"
   },
   {
    "duration": 9,
    "start_time": "2022-12-08T14:41:50.872Z"
   },
   {
    "duration": 18,
    "start_time": "2022-12-08T14:41:50.882Z"
   },
   {
    "duration": 102,
    "start_time": "2022-12-08T14:41:50.921Z"
   },
   {
    "duration": 322,
    "start_time": "2022-12-08T14:41:51.030Z"
   },
   {
    "duration": 7,
    "start_time": "2022-12-08T14:41:51.354Z"
   },
   {
    "duration": 10,
    "start_time": "2022-12-08T14:41:51.362Z"
   },
   {
    "duration": 52,
    "start_time": "2022-12-08T14:41:51.374Z"
   },
   {
    "duration": 98,
    "start_time": "2022-12-08T14:41:51.429Z"
   },
   {
    "duration": 53,
    "start_time": "2022-12-08T14:41:51.529Z"
   },
   {
    "duration": 97,
    "start_time": "2022-12-08T14:41:51.583Z"
   },
   {
    "duration": 125,
    "start_time": "2022-12-08T14:41:51.682Z"
   },
   {
    "duration": 129,
    "start_time": "2022-12-08T14:41:51.808Z"
   },
   {
    "duration": 85,
    "start_time": "2022-12-08T14:41:51.938Z"
   },
   {
    "duration": 367,
    "start_time": "2022-12-08T14:41:52.025Z"
   },
   {
    "duration": 10,
    "start_time": "2022-12-08T14:41:52.394Z"
   },
   {
    "duration": 3,
    "start_time": "2022-12-08T14:41:52.422Z"
   },
   {
    "duration": 23,
    "start_time": "2022-12-08T14:41:52.426Z"
   },
   {
    "duration": 35,
    "start_time": "2022-12-08T14:41:52.452Z"
   },
   {
    "duration": 55,
    "start_time": "2022-12-08T14:41:52.489Z"
   },
   {
    "duration": 235,
    "start_time": "2022-12-08T14:41:52.622Z"
   },
   {
    "duration": 12,
    "start_time": "2022-12-08T14:41:52.858Z"
   },
   {
    "duration": 138,
    "start_time": "2022-12-08T14:41:52.872Z"
   },
   {
    "duration": 0,
    "start_time": "2022-12-08T14:41:53.012Z"
   },
   {
    "duration": 0,
    "start_time": "2022-12-08T14:41:53.013Z"
   },
   {
    "duration": 0,
    "start_time": "2022-12-08T14:41:53.015Z"
   },
   {
    "duration": 4,
    "start_time": "2022-12-08T14:43:00.796Z"
   },
   {
    "duration": 29,
    "start_time": "2022-12-08T14:43:10.736Z"
   },
   {
    "duration": 129,
    "start_time": "2022-12-08T14:43:12.125Z"
   },
   {
    "duration": 133,
    "start_time": "2022-12-08T14:43:13.436Z"
   },
   {
    "duration": 132,
    "start_time": "2022-12-08T14:43:14.815Z"
   },
   {
    "duration": 187,
    "start_time": "2022-12-08T14:43:17.535Z"
   },
   {
    "duration": 227,
    "start_time": "2022-12-08T14:43:21.975Z"
   },
   {
    "duration": 12,
    "start_time": "2022-12-08T14:43:32.066Z"
   },
   {
    "duration": 16,
    "start_time": "2022-12-08T14:45:57.416Z"
   },
   {
    "duration": 37,
    "start_time": "2022-12-08T14:45:58.987Z"
   },
   {
    "duration": 96,
    "start_time": "2022-12-08T14:46:00.758Z"
   },
   {
    "duration": 4,
    "start_time": "2022-12-08T14:47:50.517Z"
   },
   {
    "duration": 3,
    "start_time": "2022-12-08T14:48:37.927Z"
   },
   {
    "duration": 14,
    "start_time": "2022-12-08T14:49:22.063Z"
   },
   {
    "duration": 4,
    "start_time": "2022-12-08T14:49:24.105Z"
   },
   {
    "duration": 15,
    "start_time": "2022-12-08T14:49:31.216Z"
   },
   {
    "duration": 4,
    "start_time": "2022-12-08T14:49:31.785Z"
   },
   {
    "duration": 38,
    "start_time": "2022-12-08T14:49:33.153Z"
   },
   {
    "duration": 15,
    "start_time": "2022-12-08T14:49:42.163Z"
   },
   {
    "duration": 4,
    "start_time": "2022-12-08T14:49:42.757Z"
   },
   {
    "duration": 29,
    "start_time": "2022-12-08T14:49:43.657Z"
   },
   {
    "duration": 11,
    "start_time": "2022-12-08T14:49:57.746Z"
   },
   {
    "duration": 4,
    "start_time": "2022-12-08T14:49:58.345Z"
   },
   {
    "duration": 30,
    "start_time": "2022-12-08T14:49:59.215Z"
   },
   {
    "duration": 40,
    "start_time": "2022-12-08T14:50:09.747Z"
   },
   {
    "duration": 105,
    "start_time": "2022-12-08T14:50:10.978Z"
   },
   {
    "duration": 15,
    "start_time": "2022-12-08T14:50:23.657Z"
   },
   {
    "duration": 4,
    "start_time": "2022-12-08T14:50:24.226Z"
   },
   {
    "duration": 44,
    "start_time": "2022-12-08T14:50:25.289Z"
   },
   {
    "duration": 120,
    "start_time": "2022-12-08T14:50:26.116Z"
   },
   {
    "duration": 12,
    "start_time": "2022-12-08T14:50:40.928Z"
   },
   {
    "duration": 4,
    "start_time": "2022-12-08T14:50:41.514Z"
   },
   {
    "duration": 31,
    "start_time": "2022-12-08T14:50:42.206Z"
   },
   {
    "duration": 128,
    "start_time": "2022-12-08T14:50:42.916Z"
   },
   {
    "duration": 13,
    "start_time": "2022-12-08T14:51:46.270Z"
   },
   {
    "duration": 4,
    "start_time": "2022-12-08T14:51:46.387Z"
   },
   {
    "duration": 33,
    "start_time": "2022-12-08T14:51:47.135Z"
   },
   {
    "duration": 195,
    "start_time": "2022-12-08T14:51:48.237Z"
   },
   {
    "duration": 142,
    "start_time": "2022-12-08T14:54:11.975Z"
   },
   {
    "duration": 131,
    "start_time": "2022-12-08T14:54:13.407Z"
   },
   {
    "duration": 56,
    "start_time": "2022-12-08T14:56:06.170Z"
   },
   {
    "duration": 102,
    "start_time": "2022-12-08T14:56:07.139Z"
   },
   {
    "duration": 100,
    "start_time": "2022-12-08T14:56:18.574Z"
   },
   {
    "duration": 119,
    "start_time": "2022-12-08T14:56:25.195Z"
   },
   {
    "duration": 101,
    "start_time": "2022-12-08T14:56:32.733Z"
   },
   {
    "duration": 248,
    "start_time": "2022-12-08T14:56:48.653Z"
   },
   {
    "duration": 17,
    "start_time": "2022-12-08T15:10:04.536Z"
   },
   {
    "duration": 6,
    "start_time": "2022-12-08T15:10:05.660Z"
   },
   {
    "duration": 154,
    "start_time": "2022-12-08T15:10:40.875Z"
   },
   {
    "duration": 163,
    "start_time": "2022-12-08T15:11:04.975Z"
   },
   {
    "duration": 19,
    "start_time": "2022-12-08T15:11:17.287Z"
   },
   {
    "duration": 7,
    "start_time": "2022-12-08T15:11:36.268Z"
   },
   {
    "duration": 17,
    "start_time": "2022-12-08T15:14:51.865Z"
   },
   {
    "duration": 1314,
    "start_time": "2022-12-08T15:17:02.945Z"
   },
   {
    "duration": 42,
    "start_time": "2022-12-08T15:17:04.261Z"
   },
   {
    "duration": 26,
    "start_time": "2022-12-08T15:17:04.305Z"
   },
   {
    "duration": 17,
    "start_time": "2022-12-08T15:17:04.332Z"
   },
   {
    "duration": 11,
    "start_time": "2022-12-08T15:17:04.352Z"
   },
   {
    "duration": 4,
    "start_time": "2022-12-08T15:17:04.365Z"
   },
   {
    "duration": 11,
    "start_time": "2022-12-08T15:17:04.371Z"
   },
   {
    "duration": 7,
    "start_time": "2022-12-08T15:17:04.384Z"
   },
   {
    "duration": 15,
    "start_time": "2022-12-08T15:17:04.392Z"
   },
   {
    "duration": 26,
    "start_time": "2022-12-08T15:17:04.408Z"
   },
   {
    "duration": 19,
    "start_time": "2022-12-08T15:17:04.435Z"
   },
   {
    "duration": 10,
    "start_time": "2022-12-08T15:17:04.456Z"
   },
   {
    "duration": 12,
    "start_time": "2022-12-08T15:17:04.467Z"
   },
   {
    "duration": 4,
    "start_time": "2022-12-08T15:17:04.482Z"
   },
   {
    "duration": 30,
    "start_time": "2022-12-08T15:17:04.487Z"
   },
   {
    "duration": 586,
    "start_time": "2022-12-08T15:17:04.521Z"
   },
   {
    "duration": 153,
    "start_time": "2022-12-08T15:17:05.109Z"
   },
   {
    "duration": 8,
    "start_time": "2022-12-08T15:17:05.264Z"
   },
   {
    "duration": 10,
    "start_time": "2022-12-08T15:17:05.274Z"
   },
   {
    "duration": 8,
    "start_time": "2022-12-08T15:17:05.285Z"
   },
   {
    "duration": 118853,
    "start_time": "2022-12-08T15:17:05.295Z"
   },
   {
    "duration": 116,
    "start_time": "2022-12-08T15:19:04.149Z"
   },
   {
    "duration": 7,
    "start_time": "2022-12-08T15:19:04.267Z"
   },
   {
    "duration": 21,
    "start_time": "2022-12-08T15:19:04.275Z"
   },
   {
    "duration": 34,
    "start_time": "2022-12-08T15:19:04.298Z"
   },
   {
    "duration": 92,
    "start_time": "2022-12-08T15:19:04.334Z"
   },
   {
    "duration": 261,
    "start_time": "2022-12-08T15:19:04.434Z"
   },
   {
    "duration": 6,
    "start_time": "2022-12-08T15:19:04.697Z"
   },
   {
    "duration": 15,
    "start_time": "2022-12-08T15:19:04.724Z"
   },
   {
    "duration": 23,
    "start_time": "2022-12-08T15:19:04.741Z"
   },
   {
    "duration": 187,
    "start_time": "2022-12-08T15:19:04.766Z"
   },
   {
    "duration": 35,
    "start_time": "2022-12-08T15:19:04.955Z"
   },
   {
    "duration": 101,
    "start_time": "2022-12-08T15:19:04.991Z"
   },
   {
    "duration": 128,
    "start_time": "2022-12-08T15:19:05.094Z"
   },
   {
    "duration": 121,
    "start_time": "2022-12-08T15:19:05.235Z"
   },
   {
    "duration": 72,
    "start_time": "2022-12-08T15:19:05.358Z"
   },
   {
    "duration": 446,
    "start_time": "2022-12-08T15:19:05.433Z"
   },
   {
    "duration": 15,
    "start_time": "2022-12-08T15:19:05.881Z"
   },
   {
    "duration": 30,
    "start_time": "2022-12-08T15:19:05.898Z"
   },
   {
    "duration": 81,
    "start_time": "2022-12-08T15:19:05.930Z"
   },
   {
    "duration": 118,
    "start_time": "2022-12-08T15:19:06.015Z"
   },
   {
    "duration": 198,
    "start_time": "2022-12-08T15:19:06.134Z"
   },
   {
    "duration": 238,
    "start_time": "2022-12-08T15:19:06.334Z"
   },
   {
    "duration": 68,
    "start_time": "2022-12-08T15:19:06.575Z"
   },
   {
    "duration": 352,
    "start_time": "2022-12-08T15:19:06.646Z"
   },
   {
    "duration": 148,
    "start_time": "2022-12-08T15:19:07.000Z"
   },
   {
    "duration": 0,
    "start_time": "2022-12-08T15:19:07.150Z"
   },
   {
    "duration": 0,
    "start_time": "2022-12-08T15:19:07.151Z"
   },
   {
    "duration": 0,
    "start_time": "2022-12-08T15:19:07.153Z"
   },
   {
    "duration": 0,
    "start_time": "2022-12-08T15:19:07.154Z"
   },
   {
    "duration": 11,
    "start_time": "2022-12-08T15:21:43.906Z"
   },
   {
    "duration": 5,
    "start_time": "2022-12-08T15:21:45.496Z"
   },
   {
    "duration": 151,
    "start_time": "2022-12-08T15:21:48.465Z"
   },
   {
    "duration": 21,
    "start_time": "2022-12-08T15:21:52.628Z"
   },
   {
    "duration": 142,
    "start_time": "2022-12-08T15:25:03.067Z"
   },
   {
    "duration": 161,
    "start_time": "2022-12-08T15:25:09.178Z"
   },
   {
    "duration": 146,
    "start_time": "2022-12-08T15:25:38.986Z"
   },
   {
    "duration": 136,
    "start_time": "2022-12-08T15:25:59.666Z"
   },
   {
    "duration": 136,
    "start_time": "2022-12-08T15:28:14.066Z"
   },
   {
    "duration": 245,
    "start_time": "2022-12-08T15:34:08.867Z"
   },
   {
    "duration": 145,
    "start_time": "2022-12-08T15:34:28.266Z"
   },
   {
    "duration": 1351,
    "start_time": "2022-12-08T15:35:53.948Z"
   },
   {
    "duration": 56,
    "start_time": "2022-12-08T15:35:55.301Z"
   },
   {
    "duration": 33,
    "start_time": "2022-12-08T15:35:55.361Z"
   },
   {
    "duration": 22,
    "start_time": "2022-12-08T15:35:55.397Z"
   },
   {
    "duration": 17,
    "start_time": "2022-12-08T15:35:55.426Z"
   },
   {
    "duration": 21,
    "start_time": "2022-12-08T15:35:55.445Z"
   },
   {
    "duration": 15,
    "start_time": "2022-12-08T15:35:55.468Z"
   },
   {
    "duration": 15,
    "start_time": "2022-12-08T15:35:55.484Z"
   },
   {
    "duration": 53,
    "start_time": "2022-12-08T15:35:55.502Z"
   },
   {
    "duration": 32,
    "start_time": "2022-12-08T15:35:55.557Z"
   },
   {
    "duration": 40,
    "start_time": "2022-12-08T15:35:55.592Z"
   },
   {
    "duration": 44,
    "start_time": "2022-12-08T15:35:55.635Z"
   },
   {
    "duration": 22,
    "start_time": "2022-12-08T15:35:55.682Z"
   },
   {
    "duration": 35,
    "start_time": "2022-12-08T15:35:55.707Z"
   },
   {
    "duration": 44,
    "start_time": "2022-12-08T15:35:55.744Z"
   },
   {
    "duration": 553,
    "start_time": "2022-12-08T15:35:55.790Z"
   },
   {
    "duration": 139,
    "start_time": "2022-12-08T15:35:56.344Z"
   },
   {
    "duration": 7,
    "start_time": "2022-12-08T15:35:56.485Z"
   },
   {
    "duration": 28,
    "start_time": "2022-12-08T15:35:56.494Z"
   },
   {
    "duration": 21,
    "start_time": "2022-12-08T15:35:56.531Z"
   },
   {
    "duration": 120894,
    "start_time": "2022-12-08T15:35:56.554Z"
   },
   {
    "duration": 127,
    "start_time": "2022-12-08T15:37:57.450Z"
   },
   {
    "duration": 7,
    "start_time": "2022-12-08T15:37:57.579Z"
   },
   {
    "duration": 12,
    "start_time": "2022-12-08T15:37:57.587Z"
   },
   {
    "duration": 37,
    "start_time": "2022-12-08T15:37:57.601Z"
   },
   {
    "duration": 84,
    "start_time": "2022-12-08T15:37:57.640Z"
   },
   {
    "duration": 385,
    "start_time": "2022-12-08T15:37:57.727Z"
   },
   {
    "duration": 11,
    "start_time": "2022-12-08T15:37:58.127Z"
   },
   {
    "duration": 25,
    "start_time": "2022-12-08T15:37:58.140Z"
   },
   {
    "duration": 70,
    "start_time": "2022-12-08T15:37:58.167Z"
   },
   {
    "duration": 122,
    "start_time": "2022-12-08T15:37:58.240Z"
   },
   {
    "duration": 40,
    "start_time": "2022-12-08T15:37:58.364Z"
   },
   {
    "duration": 138,
    "start_time": "2022-12-08T15:37:58.405Z"
   },
   {
    "duration": 129,
    "start_time": "2022-12-08T15:37:58.546Z"
   },
   {
    "duration": 134,
    "start_time": "2022-12-08T15:37:58.677Z"
   },
   {
    "duration": 113,
    "start_time": "2022-12-08T15:37:58.813Z"
   },
   {
    "duration": 366,
    "start_time": "2022-12-08T15:37:58.927Z"
   },
   {
    "duration": 34,
    "start_time": "2022-12-08T15:37:59.295Z"
   },
   {
    "duration": 8,
    "start_time": "2022-12-08T15:37:59.331Z"
   },
   {
    "duration": 42,
    "start_time": "2022-12-08T15:37:59.341Z"
   },
   {
    "duration": 109,
    "start_time": "2022-12-08T15:37:59.388Z"
   },
   {
    "duration": 188,
    "start_time": "2022-12-08T15:37:59.500Z"
   },
   {
    "duration": 153,
    "start_time": "2022-12-08T15:37:59.690Z"
   },
   {
    "duration": 78,
    "start_time": "2022-12-08T15:37:59.845Z"
   },
   {
    "duration": 286,
    "start_time": "2022-12-08T15:37:59.925Z"
   },
   {
    "duration": 28,
    "start_time": "2022-12-08T15:38:00.213Z"
   },
   {
    "duration": 16,
    "start_time": "2022-12-08T15:38:00.243Z"
   },
   {
    "duration": 148,
    "start_time": "2022-12-08T15:38:00.261Z"
   },
   {
    "duration": 229,
    "start_time": "2022-12-08T15:38:00.411Z"
   },
   {
    "duration": 140,
    "start_time": "2022-12-08T15:40:59.604Z"
   },
   {
    "duration": 211,
    "start_time": "2022-12-08T15:41:10.519Z"
   },
   {
    "duration": 64,
    "start_time": "2022-12-08T15:42:14.272Z"
   },
   {
    "duration": 277,
    "start_time": "2022-12-08T15:42:20.992Z"
   },
   {
    "duration": 1338,
    "start_time": "2022-12-08T15:42:49.640Z"
   },
   {
    "duration": 41,
    "start_time": "2022-12-08T15:42:50.979Z"
   },
   {
    "duration": 22,
    "start_time": "2022-12-08T15:42:51.022Z"
   },
   {
    "duration": 17,
    "start_time": "2022-12-08T15:42:51.046Z"
   },
   {
    "duration": 11,
    "start_time": "2022-12-08T15:42:51.065Z"
   },
   {
    "duration": 3,
    "start_time": "2022-12-08T15:42:51.078Z"
   },
   {
    "duration": 28,
    "start_time": "2022-12-08T15:42:51.082Z"
   },
   {
    "duration": 9,
    "start_time": "2022-12-08T15:42:51.111Z"
   },
   {
    "duration": 36,
    "start_time": "2022-12-08T15:42:51.131Z"
   },
   {
    "duration": 12,
    "start_time": "2022-12-08T15:42:51.171Z"
   },
   {
    "duration": 14,
    "start_time": "2022-12-08T15:42:51.184Z"
   },
   {
    "duration": 9,
    "start_time": "2022-12-08T15:42:51.199Z"
   },
   {
    "duration": 9,
    "start_time": "2022-12-08T15:42:51.209Z"
   },
   {
    "duration": 20,
    "start_time": "2022-12-08T15:42:51.219Z"
   },
   {
    "duration": 32,
    "start_time": "2022-12-08T15:42:51.240Z"
   },
   {
    "duration": 552,
    "start_time": "2022-12-08T15:42:51.274Z"
   },
   {
    "duration": 129,
    "start_time": "2022-12-08T15:42:51.827Z"
   },
   {
    "duration": 6,
    "start_time": "2022-12-08T15:42:51.958Z"
   },
   {
    "duration": 13,
    "start_time": "2022-12-08T15:42:51.966Z"
   },
   {
    "duration": 12,
    "start_time": "2022-12-08T15:42:51.980Z"
   },
   {
    "duration": 117800,
    "start_time": "2022-12-08T15:42:51.994Z"
   },
   {
    "duration": 116,
    "start_time": "2022-12-08T15:44:49.796Z"
   },
   {
    "duration": 9,
    "start_time": "2022-12-08T15:44:49.921Z"
   },
   {
    "duration": 20,
    "start_time": "2022-12-08T15:44:49.934Z"
   },
   {
    "duration": 21,
    "start_time": "2022-12-08T15:44:49.955Z"
   },
   {
    "duration": 149,
    "start_time": "2022-12-08T15:44:49.978Z"
   },
   {
    "duration": 294,
    "start_time": "2022-12-08T15:44:50.129Z"
   },
   {
    "duration": 9,
    "start_time": "2022-12-08T15:44:50.429Z"
   },
   {
    "duration": 19,
    "start_time": "2022-12-08T15:44:50.440Z"
   },
   {
    "duration": 61,
    "start_time": "2022-12-08T15:44:50.461Z"
   },
   {
    "duration": 105,
    "start_time": "2022-12-08T15:44:50.524Z"
   },
   {
    "duration": 50,
    "start_time": "2022-12-08T15:44:50.631Z"
   },
   {
    "duration": 111,
    "start_time": "2022-12-08T15:44:50.683Z"
   },
   {
    "duration": 121,
    "start_time": "2022-12-08T15:44:50.795Z"
   },
   {
    "duration": 134,
    "start_time": "2022-12-08T15:44:50.917Z"
   },
   {
    "duration": 76,
    "start_time": "2022-12-08T15:44:51.053Z"
   },
   {
    "duration": 303,
    "start_time": "2022-12-08T15:44:51.130Z"
   },
   {
    "duration": 12,
    "start_time": "2022-12-08T15:44:51.436Z"
   },
   {
    "duration": 11,
    "start_time": "2022-12-08T15:44:51.450Z"
   },
   {
    "duration": 50,
    "start_time": "2022-12-08T15:44:51.462Z"
   },
   {
    "duration": 111,
    "start_time": "2022-12-08T15:44:51.514Z"
   },
   {
    "duration": 165,
    "start_time": "2022-12-08T15:44:51.626Z"
   },
   {
    "duration": 127,
    "start_time": "2022-12-08T15:44:51.793Z"
   },
   {
    "duration": 34,
    "start_time": "2022-12-08T15:44:51.934Z"
   },
   {
    "duration": 341,
    "start_time": "2022-12-08T15:44:51.969Z"
   },
   {
    "duration": 14,
    "start_time": "2022-12-08T15:44:52.311Z"
   },
   {
    "duration": 14,
    "start_time": "2022-12-08T15:44:52.328Z"
   },
   {
    "duration": 293,
    "start_time": "2022-12-08T15:44:52.345Z"
   },
   {
    "duration": 0,
    "start_time": "2022-12-08T15:44:52.640Z"
   },
   {
    "duration": 1518,
    "start_time": "2022-12-08T21:16:37.435Z"
   },
   {
    "duration": 172,
    "start_time": "2022-12-08T21:16:38.956Z"
   },
   {
    "duration": 24,
    "start_time": "2022-12-08T21:16:39.130Z"
   },
   {
    "duration": 14,
    "start_time": "2022-12-08T21:16:39.157Z"
   },
   {
    "duration": 17,
    "start_time": "2022-12-08T21:16:39.173Z"
   },
   {
    "duration": 5,
    "start_time": "2022-12-08T21:16:39.193Z"
   },
   {
    "duration": 7,
    "start_time": "2022-12-08T21:16:39.222Z"
   },
   {
    "duration": 8,
    "start_time": "2022-12-08T21:16:39.231Z"
   },
   {
    "duration": 19,
    "start_time": "2022-12-08T21:16:39.241Z"
   },
   {
    "duration": 16,
    "start_time": "2022-12-08T21:16:39.266Z"
   },
   {
    "duration": 9,
    "start_time": "2022-12-08T21:16:39.284Z"
   },
   {
    "duration": 31,
    "start_time": "2022-12-08T21:16:39.296Z"
   },
   {
    "duration": 31,
    "start_time": "2022-12-08T21:16:39.329Z"
   },
   {
    "duration": 6,
    "start_time": "2022-12-08T21:16:39.362Z"
   },
   {
    "duration": 25,
    "start_time": "2022-12-08T21:16:39.370Z"
   },
   {
    "duration": 476,
    "start_time": "2022-12-08T21:16:39.397Z"
   },
   {
    "duration": 130,
    "start_time": "2022-12-08T21:16:39.875Z"
   },
   {
    "duration": 20,
    "start_time": "2022-12-08T21:16:40.007Z"
   },
   {
    "duration": 12,
    "start_time": "2022-12-08T21:16:40.029Z"
   },
   {
    "duration": 10,
    "start_time": "2022-12-08T21:16:40.043Z"
   },
   {
    "duration": 100033,
    "start_time": "2022-12-08T21:16:40.054Z"
   },
   {
    "duration": 108,
    "start_time": "2022-12-08T21:18:20.088Z"
   },
   {
    "duration": 6,
    "start_time": "2022-12-08T21:18:20.198Z"
   },
   {
    "duration": 31,
    "start_time": "2022-12-08T21:18:20.206Z"
   },
   {
    "duration": 14,
    "start_time": "2022-12-08T21:18:20.239Z"
   },
   {
    "duration": 77,
    "start_time": "2022-12-08T21:18:20.255Z"
   },
   {
    "duration": 366,
    "start_time": "2022-12-08T21:18:20.334Z"
   },
   {
    "duration": 25,
    "start_time": "2022-12-08T21:18:20.704Z"
   },
   {
    "duration": 24,
    "start_time": "2022-12-08T21:18:20.731Z"
   },
   {
    "duration": 14,
    "start_time": "2022-12-08T21:18:20.757Z"
   },
   {
    "duration": 115,
    "start_time": "2022-12-08T21:18:20.825Z"
   },
   {
    "duration": 26,
    "start_time": "2022-12-08T21:18:20.942Z"
   },
   {
    "duration": 113,
    "start_time": "2022-12-08T21:18:20.970Z"
   },
   {
    "duration": 112,
    "start_time": "2022-12-08T21:18:21.085Z"
   },
   {
    "duration": 157,
    "start_time": "2022-12-08T21:18:21.200Z"
   },
   {
    "duration": 66,
    "start_time": "2022-12-08T21:18:21.359Z"
   },
   {
    "duration": 320,
    "start_time": "2022-12-08T21:18:21.426Z"
   },
   {
    "duration": 12,
    "start_time": "2022-12-08T21:18:21.748Z"
   },
   {
    "duration": 11,
    "start_time": "2022-12-08T21:18:21.761Z"
   },
   {
    "duration": 52,
    "start_time": "2022-12-08T21:18:21.774Z"
   },
   {
    "duration": 117,
    "start_time": "2022-12-08T21:18:21.828Z"
   },
   {
    "duration": 136,
    "start_time": "2022-12-08T21:18:21.947Z"
   },
   {
    "duration": 173,
    "start_time": "2022-12-08T21:18:22.085Z"
   },
   {
    "duration": 166,
    "start_time": "2022-12-08T21:18:22.260Z"
   },
   {
    "duration": 316,
    "start_time": "2022-12-08T21:18:22.429Z"
   },
   {
    "duration": 3,
    "start_time": "2022-12-08T21:18:22.747Z"
   },
   {
    "duration": 16,
    "start_time": "2022-12-08T21:18:22.751Z"
   },
   {
    "duration": 247,
    "start_time": "2022-12-08T21:18:22.769Z"
   },
   {
    "duration": 0,
    "start_time": "2022-12-08T21:18:23.017Z"
   },
   {
    "duration": 7,
    "start_time": "2022-12-08T21:18:42.066Z"
   },
   {
    "duration": 42,
    "start_time": "2022-12-08T21:18:43.509Z"
   },
   {
    "duration": 17,
    "start_time": "2022-12-08T21:18:44.505Z"
   },
   {
    "duration": 14,
    "start_time": "2022-12-08T21:18:47.733Z"
   },
   {
    "duration": 11,
    "start_time": "2022-12-08T21:18:50.755Z"
   },
   {
    "duration": 4,
    "start_time": "2022-12-08T21:18:51.907Z"
   },
   {
    "duration": 7,
    "start_time": "2022-12-08T21:18:55.964Z"
   },
   {
    "duration": 4,
    "start_time": "2022-12-08T21:18:57.056Z"
   },
   {
    "duration": 15,
    "start_time": "2022-12-08T21:18:58.243Z"
   },
   {
    "duration": 12,
    "start_time": "2022-12-08T21:18:59.758Z"
   },
   {
    "duration": 8,
    "start_time": "2022-12-08T21:19:24.920Z"
   },
   {
    "duration": 6,
    "start_time": "2022-12-08T21:19:28.684Z"
   },
   {
    "duration": 13,
    "start_time": "2022-12-08T21:19:36.147Z"
   },
   {
    "duration": 5,
    "start_time": "2022-12-08T21:19:37.799Z"
   },
   {
    "duration": 27,
    "start_time": "2022-12-08T21:20:26.355Z"
   },
   {
    "duration": 26,
    "start_time": "2022-12-08T21:20:39.700Z"
   },
   {
    "duration": 463,
    "start_time": "2022-12-08T21:20:47.181Z"
   },
   {
    "duration": 108,
    "start_time": "2022-12-08T21:20:56.768Z"
   },
   {
    "duration": 8,
    "start_time": "2022-12-08T21:20:59.828Z"
   },
   {
    "duration": 11,
    "start_time": "2022-12-08T21:21:09.617Z"
   },
   {
    "duration": 9,
    "start_time": "2022-12-08T21:24:00.810Z"
   },
   {
    "duration": 101412,
    "start_time": "2022-12-08T21:24:14.712Z"
   },
   {
    "duration": 125,
    "start_time": "2022-12-08T21:26:07.823Z"
   },
   {
    "duration": 7,
    "start_time": "2022-12-08T21:26:11.487Z"
   },
   {
    "duration": 9,
    "start_time": "2022-12-08T21:26:18.456Z"
   },
   {
    "duration": 13,
    "start_time": "2022-12-08T21:26:38.142Z"
   },
   {
    "duration": 85,
    "start_time": "2022-12-08T21:26:41.139Z"
   },
   {
    "duration": 284,
    "start_time": "2022-12-08T21:26:44.207Z"
   },
   {
    "duration": 6,
    "start_time": "2022-12-08T21:26:47.958Z"
   },
   {
    "duration": 11,
    "start_time": "2022-12-08T21:26:51.017Z"
   },
   {
    "duration": 82,
    "start_time": "2022-12-08T21:27:01.643Z"
   },
   {
    "duration": 10,
    "start_time": "2022-12-08T21:27:14.839Z"
   },
   {
    "duration": 32,
    "start_time": "2022-12-08T21:34:30.431Z"
   },
   {
    "duration": 208,
    "start_time": "2022-12-08T21:34:39.950Z"
   },
   {
    "duration": 100,
    "start_time": "2022-12-08T21:34:44.847Z"
   },
   {
    "duration": 161,
    "start_time": "2022-12-08T21:34:51.545Z"
   },
   {
    "duration": 78,
    "start_time": "2022-12-08T21:34:58.855Z"
   },
   {
    "duration": 251,
    "start_time": "2022-12-08T21:35:10.349Z"
   },
   {
    "duration": 15,
    "start_time": "2022-12-08T21:35:58.461Z"
   },
   {
    "duration": 4,
    "start_time": "2022-12-08T21:35:59.721Z"
   },
   {
    "duration": 36,
    "start_time": "2022-12-08T21:36:05.352Z"
   },
   {
    "duration": 117,
    "start_time": "2022-12-08T21:36:12.806Z"
   },
   {
    "duration": 125,
    "start_time": "2022-12-08T21:36:19.292Z"
   },
   {
    "duration": 126,
    "start_time": "2022-12-08T21:36:34.864Z"
   },
   {
    "duration": 40,
    "start_time": "2022-12-08T21:36:38.594Z"
   },
   {
    "duration": 275,
    "start_time": "2022-12-08T21:36:44.305Z"
   },
   {
    "duration": 264,
    "start_time": "2022-12-08T21:47:08.440Z"
   },
   {
    "duration": 83,
    "start_time": "2022-12-08T21:47:11.367Z"
   },
   {
    "duration": 77,
    "start_time": "2022-12-08T21:47:32.523Z"
   },
   {
    "duration": 84,
    "start_time": "2022-12-08T21:47:38.771Z"
   },
   {
    "duration": 109,
    "start_time": "2022-12-08T21:50:44.727Z"
   },
   {
    "duration": 112,
    "start_time": "2022-12-08T21:52:36.294Z"
   },
   {
    "duration": 99,
    "start_time": "2022-12-08T21:52:41.506Z"
   },
   {
    "duration": 160,
    "start_time": "2022-12-08T21:52:46.152Z"
   },
   {
    "duration": 130,
    "start_time": "2022-12-08T21:52:50.148Z"
   },
   {
    "duration": 198,
    "start_time": "2022-12-08T21:52:58.381Z"
   },
   {
    "duration": 138,
    "start_time": "2022-12-08T21:53:04.340Z"
   },
   {
    "duration": 73,
    "start_time": "2022-12-08T21:54:24.421Z"
   },
   {
    "duration": 68,
    "start_time": "2022-12-08T21:54:32.215Z"
   },
   {
    "duration": 106,
    "start_time": "2022-12-08T21:54:32.782Z"
   },
   {
    "duration": 22,
    "start_time": "2022-12-08T21:57:02.864Z"
   },
   {
    "duration": 91732,
    "start_time": "2022-12-08T21:57:29.678Z"
   },
   {
    "duration": 124071,
    "start_time": "2022-12-08T21:59:47.142Z"
   },
   {
    "duration": 55,
    "start_time": "2022-12-08T22:03:04.458Z"
   },
   {
    "duration": 74,
    "start_time": "2022-12-08T22:03:57.297Z"
   },
   {
    "duration": 56,
    "start_time": "2022-12-08T22:04:05.734Z"
   },
   {
    "duration": 138,
    "start_time": "2022-12-08T22:04:11.463Z"
   },
   {
    "duration": 85,
    "start_time": "2022-12-08T22:04:12.847Z"
   },
   {
    "duration": 262,
    "start_time": "2022-12-08T22:04:21.138Z"
   },
   {
    "duration": 55,
    "start_time": "2022-12-08T22:09:33.868Z"
   },
   {
    "duration": 58,
    "start_time": "2022-12-08T22:09:43.230Z"
   },
   {
    "duration": 72,
    "start_time": "2022-12-08T22:11:02.162Z"
   },
   {
    "duration": 70,
    "start_time": "2022-12-08T22:11:18.317Z"
   },
   {
    "duration": 62,
    "start_time": "2022-12-08T22:11:23.819Z"
   },
   {
    "duration": 71,
    "start_time": "2022-12-08T22:11:27.812Z"
   },
   {
    "duration": 153,
    "start_time": "2022-12-08T22:11:33.820Z"
   },
   {
    "duration": 250,
    "start_time": "2022-12-08T22:11:39.340Z"
   },
   {
    "duration": 378,
    "start_time": "2022-12-08T22:11:44.435Z"
   },
   {
    "duration": 243,
    "start_time": "2022-12-08T22:11:49.952Z"
   },
   {
    "duration": 66,
    "start_time": "2022-12-08T22:12:46.239Z"
   },
   {
    "duration": 245,
    "start_time": "2022-12-08T22:12:54.986Z"
   },
   {
    "duration": 159,
    "start_time": "2022-12-08T22:13:01.619Z"
   },
   {
    "duration": 56,
    "start_time": "2022-12-08T22:13:06.035Z"
   },
   {
    "duration": 95,
    "start_time": "2022-12-08T22:13:10.816Z"
   },
   {
    "duration": 145,
    "start_time": "2022-12-08T22:13:16.007Z"
   },
   {
    "duration": 72,
    "start_time": "2022-12-08T22:13:20.002Z"
   },
   {
    "duration": 121,
    "start_time": "2022-12-08T22:13:24.720Z"
   },
   {
    "duration": 97,
    "start_time": "2022-12-08T22:13:30.139Z"
   },
   {
    "duration": 65,
    "start_time": "2022-12-08T22:13:38.015Z"
   },
   {
    "duration": 91,
    "start_time": "2022-12-08T22:13:44.901Z"
   },
   {
    "duration": 70,
    "start_time": "2022-12-08T22:16:12.210Z"
   },
   {
    "duration": 11,
    "start_time": "2022-12-08T22:17:21.695Z"
   },
   {
    "duration": 81,
    "start_time": "2022-12-08T22:17:40.210Z"
   },
   {
    "duration": 64,
    "start_time": "2022-12-08T22:17:45.976Z"
   },
   {
    "duration": 74,
    "start_time": "2022-12-08T22:17:53.107Z"
   },
   {
    "duration": 92,
    "start_time": "2022-12-08T22:17:57.935Z"
   },
   {
    "duration": 112,
    "start_time": "2022-12-08T22:18:05.368Z"
   },
   {
    "duration": 247,
    "start_time": "2022-12-08T22:18:47.604Z"
   },
   {
    "duration": 437,
    "start_time": "2022-12-08T22:18:58.717Z"
   },
   {
    "duration": 276,
    "start_time": "2022-12-08T22:19:05.084Z"
   },
   {
    "duration": 277286,
    "start_time": "2022-12-08T22:27:31.392Z"
   },
   {
    "duration": 1467,
    "start_time": "2022-12-08T22:34:15.519Z"
   },
   {
    "duration": 40,
    "start_time": "2022-12-08T22:34:16.988Z"
   },
   {
    "duration": 21,
    "start_time": "2022-12-08T22:34:17.030Z"
   },
   {
    "duration": 14,
    "start_time": "2022-12-08T22:34:17.053Z"
   },
   {
    "duration": 27,
    "start_time": "2022-12-08T22:34:17.068Z"
   },
   {
    "duration": 18,
    "start_time": "2022-12-08T22:34:17.097Z"
   },
   {
    "duration": 10,
    "start_time": "2022-12-08T22:34:17.117Z"
   },
   {
    "duration": 18,
    "start_time": "2022-12-08T22:34:17.129Z"
   },
   {
    "duration": 28,
    "start_time": "2022-12-08T22:34:17.149Z"
   },
   {
    "duration": 26,
    "start_time": "2022-12-08T22:34:17.180Z"
   },
   {
    "duration": 23,
    "start_time": "2022-12-08T22:34:17.208Z"
   },
   {
    "duration": 20,
    "start_time": "2022-12-08T22:34:17.233Z"
   },
   {
    "duration": 32,
    "start_time": "2022-12-08T22:34:17.255Z"
   },
   {
    "duration": 12,
    "start_time": "2022-12-08T22:34:17.289Z"
   },
   {
    "duration": 30,
    "start_time": "2022-12-08T22:34:17.304Z"
   },
   {
    "duration": 444,
    "start_time": "2022-12-08T22:34:17.337Z"
   },
   {
    "duration": 150,
    "start_time": "2022-12-08T22:34:17.783Z"
   },
   {
    "duration": 6,
    "start_time": "2022-12-08T22:34:17.935Z"
   },
   {
    "duration": 15,
    "start_time": "2022-12-08T22:34:17.943Z"
   },
   {
    "duration": 41,
    "start_time": "2022-12-08T22:34:17.959Z"
   },
   {
    "duration": 99097,
    "start_time": "2022-12-08T22:34:18.002Z"
   },
   {
    "duration": 106,
    "start_time": "2022-12-08T22:35:57.101Z"
   },
   {
    "duration": 16,
    "start_time": "2022-12-08T22:35:57.209Z"
   },
   {
    "duration": 9,
    "start_time": "2022-12-08T22:35:57.227Z"
   },
   {
    "duration": 14,
    "start_time": "2022-12-08T22:35:57.237Z"
   },
   {
    "duration": 82,
    "start_time": "2022-12-08T22:35:57.252Z"
   },
   {
    "duration": 357,
    "start_time": "2022-12-08T22:35:57.335Z"
   },
   {
    "duration": 6,
    "start_time": "2022-12-08T22:35:57.695Z"
   },
   {
    "duration": 25,
    "start_time": "2022-12-08T22:35:57.703Z"
   },
   {
    "duration": 16,
    "start_time": "2022-12-08T22:35:57.730Z"
   },
   {
    "duration": 84,
    "start_time": "2022-12-08T22:35:57.748Z"
   },
   {
    "duration": 115,
    "start_time": "2022-12-08T22:35:57.834Z"
   },
   {
    "duration": 125,
    "start_time": "2022-12-08T22:35:57.951Z"
   },
   {
    "duration": 111,
    "start_time": "2022-12-08T22:35:58.079Z"
   },
   {
    "duration": 130,
    "start_time": "2022-12-08T22:35:58.192Z"
   },
   {
    "duration": 103,
    "start_time": "2022-12-08T22:35:58.324Z"
   },
   {
    "duration": 307,
    "start_time": "2022-12-08T22:35:58.429Z"
   },
   {
    "duration": 12,
    "start_time": "2022-12-08T22:35:58.738Z"
   },
   {
    "duration": 8,
    "start_time": "2022-12-08T22:35:58.752Z"
   },
   {
    "duration": 37,
    "start_time": "2022-12-08T22:35:58.761Z"
   },
   {
    "duration": 128,
    "start_time": "2022-12-08T22:35:58.800Z"
   },
   {
    "duration": 59,
    "start_time": "2022-12-08T22:35:58.930Z"
   },
   {
    "duration": 83,
    "start_time": "2022-12-08T22:35:58.991Z"
   },
   {
    "duration": 116,
    "start_time": "2022-12-08T22:35:59.076Z"
   },
   {
    "duration": 41,
    "start_time": "2022-12-08T22:35:59.194Z"
   },
   {
    "duration": 348,
    "start_time": "2022-12-08T22:35:59.237Z"
   },
   {
    "duration": 608120,
    "start_time": "2022-12-08T22:35:59.586Z"
   },
   {
    "duration": 291,
    "start_time": "2022-12-08T22:46:07.708Z"
   },
   {
    "duration": 283,
    "start_time": "2022-12-08T22:46:08.001Z"
   },
   {
    "duration": 192,
    "start_time": "2022-12-08T22:46:08.286Z"
   },
   {
    "duration": 337,
    "start_time": "2022-12-08T22:47:06.849Z"
   },
   {
    "duration": 379,
    "start_time": "2022-12-08T22:48:11.042Z"
   },
   {
    "duration": 359,
    "start_time": "2022-12-08T22:48:33.231Z"
   },
   {
    "duration": 216,
    "start_time": "2022-12-08T22:54:48.510Z"
   },
   {
    "duration": 172,
    "start_time": "2022-12-08T22:54:58.226Z"
   },
   {
    "duration": 132,
    "start_time": "2022-12-08T22:55:02.031Z"
   },
   {
    "duration": 177,
    "start_time": "2022-12-08T22:55:55.838Z"
   },
   {
    "duration": 133,
    "start_time": "2022-12-08T22:56:26.347Z"
   },
   {
    "duration": 142,
    "start_time": "2022-12-08T22:58:43.311Z"
   },
   {
    "duration": 136,
    "start_time": "2022-12-08T22:59:12.814Z"
   },
   {
    "duration": 53,
    "start_time": "2022-12-09T10:28:56.373Z"
   },
   {
    "duration": 1617,
    "start_time": "2022-12-09T10:41:24.722Z"
   },
   {
    "duration": 90,
    "start_time": "2022-12-09T10:41:28.330Z"
   },
   {
    "duration": 22,
    "start_time": "2022-12-09T10:41:29.756Z"
   },
   {
    "duration": 14,
    "start_time": "2022-12-09T10:41:30.500Z"
   },
   {
    "duration": 11,
    "start_time": "2022-12-09T10:41:39.762Z"
   },
   {
    "duration": 4,
    "start_time": "2022-12-09T10:42:05.454Z"
   },
   {
    "duration": 4,
    "start_time": "2022-12-09T10:42:09.331Z"
   },
   {
    "duration": 4,
    "start_time": "2022-12-09T10:42:09.752Z"
   },
   {
    "duration": 112,
    "start_time": "2022-12-09T10:42:24.218Z"
   },
   {
    "duration": 5,
    "start_time": "2022-12-09T10:42:39.220Z"
   },
   {
    "duration": 3,
    "start_time": "2022-12-09T10:42:39.655Z"
   },
   {
    "duration": 4,
    "start_time": "2022-12-09T10:42:43.217Z"
   },
   {
    "duration": 14,
    "start_time": "2022-12-09T10:42:48.636Z"
   },
   {
    "duration": 4,
    "start_time": "2022-12-09T10:42:49.592Z"
   },
   {
    "duration": 24,
    "start_time": "2022-12-09T10:42:55.023Z"
   },
   {
    "duration": 14,
    "start_time": "2022-12-09T10:42:55.671Z"
   },
   {
    "duration": 9,
    "start_time": "2022-12-09T10:47:04.692Z"
   },
   {
    "duration": 31,
    "start_time": "2022-12-09T10:47:08.648Z"
   },
   {
    "duration": 507,
    "start_time": "2022-12-09T10:47:29.127Z"
   },
   {
    "duration": 124,
    "start_time": "2022-12-09T10:47:36.786Z"
   },
   {
    "duration": 7,
    "start_time": "2022-12-09T10:47:40.589Z"
   },
   {
    "duration": 11,
    "start_time": "2022-12-09T10:47:46.312Z"
   },
   {
    "duration": 9,
    "start_time": "2022-12-09T10:47:48.402Z"
   },
   {
    "duration": 109466,
    "start_time": "2022-12-09T10:47:53.094Z"
   },
   {
    "duration": 104,
    "start_time": "2022-12-09T10:50:50.902Z"
   },
   {
    "duration": 6,
    "start_time": "2022-12-09T10:50:53.546Z"
   },
   {
    "duration": 12,
    "start_time": "2022-12-09T10:50:56.928Z"
   },
   {
    "duration": 13,
    "start_time": "2022-12-09T10:50:59.253Z"
   },
   {
    "duration": 23,
    "start_time": "2022-12-09T10:51:01.462Z"
   },
   {
    "duration": 85,
    "start_time": "2022-12-09T10:52:02.272Z"
   },
   {
    "duration": 24,
    "start_time": "2022-12-09T10:54:26.698Z"
   },
   {
    "duration": 268,
    "start_time": "2022-12-09T10:54:27.732Z"
   },
   {
    "duration": 8,
    "start_time": "2022-12-09T10:54:29.496Z"
   },
   {
    "duration": 12,
    "start_time": "2022-12-09T10:56:10.544Z"
   },
   {
    "duration": 12,
    "start_time": "2022-12-09T10:56:21.726Z"
   },
   {
    "duration": 8,
    "start_time": "2022-12-09T10:57:23.843Z"
   },
   {
    "duration": 40,
    "start_time": "2022-12-09T10:58:04.730Z"
   },
   {
    "duration": 142,
    "start_time": "2022-12-09T10:58:10.202Z"
   },
   {
    "duration": 118,
    "start_time": "2022-12-09T10:58:12.958Z"
   },
   {
    "duration": 121,
    "start_time": "2022-12-09T10:58:27.799Z"
   },
   {
    "duration": 40,
    "start_time": "2022-12-09T10:58:33.041Z"
   },
   {
    "duration": 273,
    "start_time": "2022-12-09T10:58:37.170Z"
   },
   {
    "duration": 28,
    "start_time": "2022-12-09T10:58:44.439Z"
   },
   {
    "duration": 4,
    "start_time": "2022-12-09T10:58:47.523Z"
   },
   {
    "duration": 35,
    "start_time": "2022-12-09T10:58:48.687Z"
   },
   {
    "duration": 121,
    "start_time": "2022-12-09T10:58:49.864Z"
   },
   {
    "duration": 65,
    "start_time": "2022-12-09T10:58:54.949Z"
   },
   {
    "duration": 64,
    "start_time": "2022-12-09T10:58:57.932Z"
   },
   {
    "duration": 119,
    "start_time": "2022-12-09T10:59:01.988Z"
   },
   {
    "duration": 44,
    "start_time": "2022-12-09T10:59:06.614Z"
   },
   {
    "duration": 208,
    "start_time": "2022-12-09T10:59:07.417Z"
   },
   {
    "duration": 3,
    "start_time": "2022-12-09T10:59:17.228Z"
   },
   {
    "duration": 268,
    "start_time": "2022-12-09T10:59:26.253Z"
   },
   {
    "duration": 271,
    "start_time": "2022-12-09T10:59:56.603Z"
   },
   {
    "duration": 169,
    "start_time": "2022-12-09T11:00:03.550Z"
   },
   {
    "duration": 1418,
    "start_time": "2022-12-09T11:00:43.714Z"
   },
   {
    "duration": 49,
    "start_time": "2022-12-09T11:00:45.134Z"
   },
   {
    "duration": 21,
    "start_time": "2022-12-09T11:00:45.185Z"
   },
   {
    "duration": 34,
    "start_time": "2022-12-09T11:00:45.208Z"
   },
   {
    "duration": 37,
    "start_time": "2022-12-09T11:00:45.244Z"
   },
   {
    "duration": 35,
    "start_time": "2022-12-09T11:00:45.283Z"
   },
   {
    "duration": 22,
    "start_time": "2022-12-09T11:00:45.320Z"
   },
   {
    "duration": 36,
    "start_time": "2022-12-09T11:00:45.344Z"
   },
   {
    "duration": 41,
    "start_time": "2022-12-09T11:00:45.382Z"
   },
   {
    "duration": 30,
    "start_time": "2022-12-09T11:00:45.426Z"
   },
   {
    "duration": 15,
    "start_time": "2022-12-09T11:00:45.461Z"
   },
   {
    "duration": 45,
    "start_time": "2022-12-09T11:00:45.478Z"
   },
   {
    "duration": 43,
    "start_time": "2022-12-09T11:00:45.525Z"
   },
   {
    "duration": 44,
    "start_time": "2022-12-09T11:00:45.572Z"
   },
   {
    "duration": 31,
    "start_time": "2022-12-09T11:00:45.618Z"
   },
   {
    "duration": 498,
    "start_time": "2022-12-09T11:00:45.650Z"
   },
   {
    "duration": 147,
    "start_time": "2022-12-09T11:00:46.156Z"
   },
   {
    "duration": 8,
    "start_time": "2022-12-09T11:00:46.305Z"
   },
   {
    "duration": 18,
    "start_time": "2022-12-09T11:00:46.314Z"
   },
   {
    "duration": 39,
    "start_time": "2022-12-09T11:00:46.334Z"
   },
   {
    "duration": 265146,
    "start_time": "2022-12-09T11:00:46.375Z"
   },
   {
    "duration": 121,
    "start_time": "2022-12-09T11:05:11.523Z"
   },
   {
    "duration": 13,
    "start_time": "2022-12-09T11:05:11.657Z"
   },
   {
    "duration": 11,
    "start_time": "2022-12-09T11:05:11.672Z"
   },
   {
    "duration": 13,
    "start_time": "2022-12-09T11:05:11.684Z"
   },
   {
    "duration": 63,
    "start_time": "2022-12-09T11:05:11.698Z"
   },
   {
    "duration": 369,
    "start_time": "2022-12-09T11:05:11.762Z"
   },
   {
    "duration": 33,
    "start_time": "2022-12-09T11:05:12.136Z"
   },
   {
    "duration": 10,
    "start_time": "2022-12-09T11:05:12.171Z"
   },
   {
    "duration": 13,
    "start_time": "2022-12-09T11:05:12.183Z"
   },
   {
    "duration": 129,
    "start_time": "2022-12-09T11:05:12.255Z"
   },
   {
    "duration": 32,
    "start_time": "2022-12-09T11:05:12.386Z"
   },
   {
    "duration": 121,
    "start_time": "2022-12-09T11:05:12.420Z"
   },
   {
    "duration": 128,
    "start_time": "2022-12-09T11:05:12.543Z"
   },
   {
    "duration": 144,
    "start_time": "2022-12-09T11:05:12.675Z"
   },
   {
    "duration": 54,
    "start_time": "2022-12-09T11:05:12.820Z"
   },
   {
    "duration": 398,
    "start_time": "2022-12-09T11:05:12.877Z"
   },
   {
    "duration": 14,
    "start_time": "2022-12-09T11:05:13.277Z"
   },
   {
    "duration": 3,
    "start_time": "2022-12-09T11:05:13.294Z"
   },
   {
    "duration": 61,
    "start_time": "2022-12-09T11:05:13.299Z"
   },
   {
    "duration": 129,
    "start_time": "2022-12-09T11:05:13.362Z"
   },
   {
    "duration": 77,
    "start_time": "2022-12-09T11:05:13.493Z"
   },
   {
    "duration": 67,
    "start_time": "2022-12-09T11:05:13.572Z"
   },
   {
    "duration": 166,
    "start_time": "2022-12-09T11:05:13.641Z"
   },
   {
    "duration": 65,
    "start_time": "2022-12-09T11:05:13.809Z"
   },
   {
    "duration": 399,
    "start_time": "2022-12-09T11:05:13.876Z"
   },
   {
    "duration": 3,
    "start_time": "2022-12-09T11:05:14.277Z"
   },
   {
    "duration": 307,
    "start_time": "2022-12-09T11:05:14.282Z"
   },
   {
    "duration": 194,
    "start_time": "2022-12-09T11:05:14.591Z"
   },
   {
    "duration": 554215,
    "start_time": "2022-12-09T11:05:38.411Z"
   },
   {
    "duration": 16,
    "start_time": "2022-12-09T11:14:52.761Z"
   },
   {
    "duration": 18,
    "start_time": "2022-12-09T11:14:52.780Z"
   },
   {
    "duration": 124,
    "start_time": "2022-12-09T11:14:52.801Z"
   },
   {
    "duration": 147,
    "start_time": "2022-12-09T11:18:44.897Z"
   },
   {
    "duration": 8,
    "start_time": "2022-12-09T11:18:45.706Z"
   },
   {
    "duration": 20,
    "start_time": "2022-12-09T11:18:46.851Z"
   },
   {
    "duration": 11,
    "start_time": "2022-12-09T11:18:48.209Z"
   },
   {
    "duration": 28,
    "start_time": "2022-12-09T11:18:50.841Z"
   },
   {
    "duration": 279,
    "start_time": "2022-12-09T11:18:52.150Z"
   },
   {
    "duration": 13,
    "start_time": "2022-12-09T11:18:54.779Z"
   },
   {
    "duration": 12,
    "start_time": "2022-12-09T11:18:55.676Z"
   },
   {
    "duration": 48,
    "start_time": "2022-12-09T11:18:56.349Z"
   },
   {
    "duration": 9,
    "start_time": "2022-12-09T11:19:01.884Z"
   },
   {
    "duration": 33,
    "start_time": "2022-12-09T11:19:08.270Z"
   },
   {
    "duration": 154,
    "start_time": "2022-12-09T11:19:19.981Z"
   },
   {
    "duration": 93,
    "start_time": "2022-12-09T11:19:22.590Z"
   },
   {
    "duration": 133,
    "start_time": "2022-12-09T11:19:33.875Z"
   },
   {
    "duration": 42,
    "start_time": "2022-12-09T11:19:37.044Z"
   },
   {
    "duration": 292,
    "start_time": "2022-12-09T11:19:43.374Z"
   },
   {
    "duration": 16,
    "start_time": "2022-12-09T11:19:48.910Z"
   },
   {
    "duration": 3,
    "start_time": "2022-12-09T11:19:50.003Z"
   },
   {
    "duration": 47,
    "start_time": "2022-12-09T11:19:56.359Z"
   },
   {
    "duration": 156,
    "start_time": "2022-12-09T11:20:01.933Z"
   },
   {
    "duration": 87,
    "start_time": "2022-12-09T11:20:04.059Z"
   },
   {
    "duration": 83,
    "start_time": "2022-12-09T11:20:04.421Z"
   },
   {
    "duration": 85,
    "start_time": "2022-12-09T11:20:16.675Z"
   },
   {
    "duration": 119,
    "start_time": "2022-12-09T11:20:28.710Z"
   },
   {
    "duration": 35,
    "start_time": "2022-12-09T11:20:29.863Z"
   },
   {
    "duration": 248,
    "start_time": "2022-12-09T11:20:34.677Z"
   },
   {
    "duration": 94,
    "start_time": "2022-12-09T11:21:26.308Z"
   },
   {
    "duration": 62,
    "start_time": "2022-12-09T11:22:55.066Z"
   },
   {
    "duration": 64,
    "start_time": "2022-12-09T11:22:55.855Z"
   },
   {
    "duration": 38,
    "start_time": "2022-12-09T11:23:31.740Z"
   },
   {
    "duration": 255,
    "start_time": "2022-12-09T11:23:32.124Z"
   },
   {
    "duration": 12,
    "start_time": "2022-12-09T11:24:18.286Z"
   },
   {
    "duration": 97,
    "start_time": "2022-12-09T11:24:27.750Z"
   },
   {
    "duration": 130,
    "start_time": "2022-12-09T11:24:43.190Z"
   },
   {
    "duration": 96,
    "start_time": "2022-12-09T11:24:48.802Z"
   },
   {
    "duration": 14,
    "start_time": "2022-12-09T11:26:06.571Z"
   },
   {
    "duration": 103,
    "start_time": "2022-12-09T11:28:11.082Z"
   },
   {
    "duration": 76,
    "start_time": "2022-12-09T11:28:12.117Z"
   },
   {
    "duration": 87,
    "start_time": "2022-12-09T11:29:11.423Z"
   },
   {
    "duration": 124,
    "start_time": "2022-12-09T11:29:11.648Z"
   },
   {
    "duration": 136,
    "start_time": "2022-12-09T11:29:11.848Z"
   },
   {
    "duration": 52,
    "start_time": "2022-12-09T11:29:12.139Z"
   },
   {
    "duration": 255,
    "start_time": "2022-12-09T11:29:12.623Z"
   },
   {
    "duration": 3,
    "start_time": "2022-12-09T11:29:13.810Z"
   },
   {
    "duration": 14,
    "start_time": "2022-12-09T11:29:15.119Z"
   },
   {
    "duration": 94,
    "start_time": "2022-12-09T11:29:17.567Z"
   },
   {
    "duration": 1534,
    "start_time": "2022-12-09T11:29:53.876Z"
   },
   {
    "duration": 40,
    "start_time": "2022-12-09T11:29:55.412Z"
   },
   {
    "duration": 26,
    "start_time": "2022-12-09T11:29:55.454Z"
   },
   {
    "duration": 13,
    "start_time": "2022-12-09T11:29:55.483Z"
   },
   {
    "duration": 16,
    "start_time": "2022-12-09T11:29:55.498Z"
   },
   {
    "duration": 6,
    "start_time": "2022-12-09T11:29:55.516Z"
   },
   {
    "duration": 41,
    "start_time": "2022-12-09T11:29:55.524Z"
   },
   {
    "duration": 6,
    "start_time": "2022-12-09T11:29:55.567Z"
   },
   {
    "duration": 10,
    "start_time": "2022-12-09T11:29:55.575Z"
   },
   {
    "duration": 23,
    "start_time": "2022-12-09T11:29:55.589Z"
   },
   {
    "duration": 6,
    "start_time": "2022-12-09T11:29:55.614Z"
   },
   {
    "duration": 39,
    "start_time": "2022-12-09T11:29:55.621Z"
   },
   {
    "duration": 12,
    "start_time": "2022-12-09T11:29:55.662Z"
   },
   {
    "duration": 13,
    "start_time": "2022-12-09T11:29:55.675Z"
   },
   {
    "duration": 28,
    "start_time": "2022-12-09T11:29:55.690Z"
   },
   {
    "duration": 539,
    "start_time": "2022-12-09T11:29:55.719Z"
   },
   {
    "duration": 143,
    "start_time": "2022-12-09T11:29:56.260Z"
   },
   {
    "duration": 8,
    "start_time": "2022-12-09T11:29:56.405Z"
   },
   {
    "duration": 43,
    "start_time": "2022-12-09T11:29:56.416Z"
   },
   {
    "duration": 15,
    "start_time": "2022-12-09T11:29:56.461Z"
   },
   {
    "duration": 5842080,
    "start_time": "2022-12-09T11:29:56.478Z"
   },
   {
    "duration": 114,
    "start_time": "2022-12-09T13:07:18.560Z"
   },
   {
    "duration": 7,
    "start_time": "2022-12-09T13:07:18.676Z"
   },
   {
    "duration": 9,
    "start_time": "2022-12-09T13:07:18.684Z"
   },
   {
    "duration": 18,
    "start_time": "2022-12-09T13:07:18.695Z"
   },
   {
    "duration": 53,
    "start_time": "2022-12-09T13:07:18.714Z"
   },
   {
    "duration": 315,
    "start_time": "2022-12-09T13:07:18.854Z"
   },
   {
    "duration": 9,
    "start_time": "2022-12-09T13:07:19.174Z"
   },
   {
    "duration": 14,
    "start_time": "2022-12-09T13:07:19.185Z"
   },
   {
    "duration": 61,
    "start_time": "2022-12-09T13:07:19.201Z"
   },
   {
    "duration": 102,
    "start_time": "2022-12-09T13:07:19.266Z"
   },
   {
    "duration": 27,
    "start_time": "2022-12-09T13:07:19.370Z"
   },
   {
    "duration": 114,
    "start_time": "2022-12-09T13:07:19.398Z"
   },
   {
    "duration": 71,
    "start_time": "2022-12-09T13:07:19.514Z"
   },
   {
    "duration": 127,
    "start_time": "2022-12-09T13:07:19.587Z"
   },
   {
    "duration": 44,
    "start_time": "2022-12-09T13:07:19.716Z"
   },
   {
    "duration": 318,
    "start_time": "2022-12-09T13:07:19.762Z"
   },
   {
    "duration": 11,
    "start_time": "2022-12-09T13:07:20.082Z"
   },
   {
    "duration": 3,
    "start_time": "2022-12-09T13:07:20.095Z"
   },
   {
    "duration": 35,
    "start_time": "2022-12-09T13:07:20.100Z"
   },
   {
    "duration": 119,
    "start_time": "2022-12-09T13:07:20.155Z"
   },
   {
    "duration": 91,
    "start_time": "2022-12-09T13:07:20.275Z"
   },
   {
    "duration": 89,
    "start_time": "2022-12-09T13:07:20.368Z"
   },
   {
    "duration": 211,
    "start_time": "2022-12-09T13:07:20.459Z"
   },
   {
    "duration": 31,
    "start_time": "2022-12-09T13:07:20.672Z"
   },
   {
    "duration": 276,
    "start_time": "2022-12-09T13:07:20.759Z"
   },
   {
    "duration": 4,
    "start_time": "2022-12-09T13:07:21.036Z"
   },
   {
    "duration": 13,
    "start_time": "2022-12-09T13:07:21.055Z"
   },
   {
    "duration": 104,
    "start_time": "2022-12-09T13:07:21.070Z"
   },
   {
    "duration": 270,
    "start_time": "2022-12-09T13:07:21.176Z"
   },
   {
    "duration": 165,
    "start_time": "2022-12-09T13:07:21.447Z"
   },
   {
    "duration": 65,
    "start_time": "2022-12-09T20:40:25.492Z"
   },
   {
    "duration": 5,
    "start_time": "2022-12-09T20:42:38.502Z"
   },
   {
    "duration": 41,
    "start_time": "2022-12-09T20:42:39.488Z"
   },
   {
    "duration": 17,
    "start_time": "2022-12-09T20:42:39.959Z"
   },
   {
    "duration": 13,
    "start_time": "2022-12-09T20:42:40.150Z"
   },
   {
    "duration": 10,
    "start_time": "2022-12-09T20:42:40.334Z"
   },
   {
    "duration": 4,
    "start_time": "2022-12-09T20:42:40.692Z"
   },
   {
    "duration": 5,
    "start_time": "2022-12-09T20:42:41.091Z"
   },
   {
    "duration": 4,
    "start_time": "2022-12-09T20:42:41.298Z"
   },
   {
    "duration": 5,
    "start_time": "2022-12-09T20:42:42.183Z"
   },
   {
    "duration": 12,
    "start_time": "2022-12-09T20:42:43.217Z"
   },
   {
    "duration": 5,
    "start_time": "2022-12-09T20:42:43.490Z"
   },
   {
    "duration": 22,
    "start_time": "2022-12-09T20:42:45.550Z"
   },
   {
    "duration": 12,
    "start_time": "2022-12-09T20:42:45.959Z"
   },
   {
    "duration": 7,
    "start_time": "2022-12-09T20:42:49.463Z"
   },
   {
    "duration": 28,
    "start_time": "2022-12-09T20:42:51.568Z"
   },
   {
    "duration": 469,
    "start_time": "2022-12-09T20:42:57.622Z"
   },
   {
    "duration": 147,
    "start_time": "2022-12-09T20:44:14.556Z"
   },
   {
    "duration": 6,
    "start_time": "2022-12-09T20:44:15.415Z"
   },
   {
    "duration": 10,
    "start_time": "2022-12-09T20:44:18.073Z"
   },
   {
    "duration": 11,
    "start_time": "2022-12-09T20:44:19.011Z"
   },
   {
    "duration": 209339,
    "start_time": "2022-12-09T20:44:43.563Z"
   },
   {
    "duration": 67,
    "start_time": "2022-12-09T20:51:58.671Z"
   },
   {
    "duration": 70,
    "start_time": "2022-12-09T20:52:07.911Z"
   },
   {
    "duration": 107,
    "start_time": "2022-12-09T20:52:17.775Z"
   },
   {
    "duration": 8,
    "start_time": "2022-12-09T20:52:19.157Z"
   },
   {
    "duration": 10,
    "start_time": "2022-12-09T20:52:26.345Z"
   },
   {
    "duration": 12,
    "start_time": "2022-12-09T20:53:03.458Z"
   },
   {
    "duration": 12,
    "start_time": "2022-12-09T20:53:05.116Z"
   },
   {
    "duration": 237,
    "start_time": "2022-12-09T20:53:34.891Z"
   },
   {
    "duration": 6,
    "start_time": "2022-12-09T20:53:46.174Z"
   },
   {
    "duration": 11,
    "start_time": "2022-12-09T20:53:55.731Z"
   },
   {
    "duration": 14,
    "start_time": "2022-12-09T20:54:44.102Z"
   },
   {
    "duration": 7,
    "start_time": "2022-12-09T20:54:47.275Z"
   },
   {
    "duration": 23,
    "start_time": "2022-12-09T20:55:33.293Z"
   },
   {
    "duration": 105,
    "start_time": "2022-12-09T20:55:42.663Z"
   },
   {
    "duration": 60,
    "start_time": "2022-12-09T20:55:53.205Z"
   },
   {
    "duration": 118,
    "start_time": "2022-12-09T20:56:09.895Z"
   },
   {
    "duration": 28,
    "start_time": "2022-12-09T20:56:10.879Z"
   },
   {
    "duration": 263,
    "start_time": "2022-12-09T20:56:41.663Z"
   },
   {
    "duration": 13,
    "start_time": "2022-12-09T20:56:56.126Z"
   },
   {
    "duration": 4,
    "start_time": "2022-12-09T20:56:56.933Z"
   },
   {
    "duration": 31,
    "start_time": "2022-12-09T20:57:13.921Z"
   },
   {
    "duration": 27,
    "start_time": "2022-12-09T20:57:27.956Z"
   },
   {
    "duration": 101,
    "start_time": "2022-12-09T20:57:36.331Z"
   },
   {
    "duration": 75,
    "start_time": "2022-12-09T20:57:43.824Z"
   },
   {
    "duration": 74,
    "start_time": "2022-12-09T20:57:56.254Z"
   },
   {
    "duration": 126,
    "start_time": "2022-12-09T20:58:01.260Z"
   },
   {
    "duration": 86,
    "start_time": "2022-12-09T20:58:04.670Z"
   },
   {
    "duration": 219,
    "start_time": "2022-12-09T20:58:19.411Z"
   },
   {
    "duration": 3,
    "start_time": "2022-12-09T20:58:31.501Z"
   },
   {
    "duration": 12,
    "start_time": "2022-12-09T20:58:39.814Z"
   },
   {
    "duration": 83,
    "start_time": "2022-12-09T20:58:46.193Z"
   },
   {
    "duration": 276,
    "start_time": "2022-12-09T20:58:54.651Z"
   },
   {
    "duration": 81,
    "start_time": "2022-12-09T21:02:53.448Z"
   },
   {
    "duration": 86,
    "start_time": "2022-12-09T21:02:59.567Z"
   },
   {
    "duration": 1053,
    "start_time": "2022-12-09T21:04:54.998Z"
   },
   {
    "duration": 91,
    "start_time": "2022-12-09T21:05:03.376Z"
   },
   {
    "duration": 78,
    "start_time": "2022-12-09T21:09:02.924Z"
   },
   {
    "duration": 96,
    "start_time": "2022-12-09T21:09:08.260Z"
   },
   {
    "duration": 98,
    "start_time": "2022-12-09T21:09:15.563Z"
   },
   {
    "duration": 91,
    "start_time": "2022-12-09T21:09:27.384Z"
   },
   {
    "duration": 1391,
    "start_time": "2022-12-09T21:10:04.774Z"
   },
   {
    "duration": 40,
    "start_time": "2022-12-09T21:10:06.167Z"
   },
   {
    "duration": 21,
    "start_time": "2022-12-09T21:10:06.209Z"
   },
   {
    "duration": 12,
    "start_time": "2022-12-09T21:10:06.231Z"
   },
   {
    "duration": 11,
    "start_time": "2022-12-09T21:10:06.245Z"
   },
   {
    "duration": 5,
    "start_time": "2022-12-09T21:10:06.257Z"
   },
   {
    "duration": 8,
    "start_time": "2022-12-09T21:10:06.263Z"
   },
   {
    "duration": 5,
    "start_time": "2022-12-09T21:10:06.272Z"
   },
   {
    "duration": 9,
    "start_time": "2022-12-09T21:10:06.279Z"
   },
   {
    "duration": 13,
    "start_time": "2022-12-09T21:10:06.291Z"
   },
   {
    "duration": 4,
    "start_time": "2022-12-09T21:10:06.305Z"
   },
   {
    "duration": 21,
    "start_time": "2022-12-09T21:10:06.310Z"
   },
   {
    "duration": 12,
    "start_time": "2022-12-09T21:10:06.355Z"
   },
   {
    "duration": 13,
    "start_time": "2022-12-09T21:10:06.369Z"
   },
   {
    "duration": 29,
    "start_time": "2022-12-09T21:10:06.383Z"
   },
   {
    "duration": 569,
    "start_time": "2022-12-09T21:10:06.413Z"
   },
   {
    "duration": 179,
    "start_time": "2022-12-09T21:10:06.984Z"
   },
   {
    "duration": 8,
    "start_time": "2022-12-09T21:10:07.164Z"
   },
   {
    "duration": 9,
    "start_time": "2022-12-09T21:10:07.174Z"
   },
   {
    "duration": 9,
    "start_time": "2022-12-09T21:10:07.185Z"
   },
   {
    "duration": 206204,
    "start_time": "2022-12-09T21:10:07.196Z"
   },
   {
    "duration": 112,
    "start_time": "2022-12-09T21:13:33.401Z"
   },
   {
    "duration": 6,
    "start_time": "2022-12-09T21:13:33.515Z"
   },
   {
    "duration": 10,
    "start_time": "2022-12-09T21:13:33.522Z"
   },
   {
    "duration": 29,
    "start_time": "2022-12-09T21:13:33.534Z"
   },
   {
    "duration": 15,
    "start_time": "2022-12-09T21:13:33.565Z"
   },
   {
    "duration": 278,
    "start_time": "2022-12-09T21:13:33.655Z"
   },
   {
    "duration": 20,
    "start_time": "2022-12-09T21:13:33.936Z"
   },
   {
    "duration": 9,
    "start_time": "2022-12-09T21:13:33.958Z"
   },
   {
    "duration": 12,
    "start_time": "2022-12-09T21:13:33.968Z"
   },
   {
    "duration": 99,
    "start_time": "2022-12-09T21:13:34.056Z"
   },
   {
    "duration": 24,
    "start_time": "2022-12-09T21:13:34.157Z"
   },
   {
    "duration": 122,
    "start_time": "2022-12-09T21:13:34.182Z"
   },
   {
    "duration": 72,
    "start_time": "2022-12-09T21:13:34.306Z"
   },
   {
    "duration": 130,
    "start_time": "2022-12-09T21:13:34.381Z"
   },
   {
    "duration": 51,
    "start_time": "2022-12-09T21:13:34.512Z"
   },
   {
    "duration": 300,
    "start_time": "2022-12-09T21:13:34.566Z"
   },
   {
    "duration": 12,
    "start_time": "2022-12-09T21:13:34.867Z"
   },
   {
    "duration": 4,
    "start_time": "2022-12-09T21:13:34.880Z"
   },
   {
    "duration": 33,
    "start_time": "2022-12-09T21:13:34.885Z"
   },
   {
    "duration": 117,
    "start_time": "2022-12-09T21:13:34.920Z"
   },
   {
    "duration": 79,
    "start_time": "2022-12-09T21:13:35.038Z"
   },
   {
    "duration": 79,
    "start_time": "2022-12-09T21:13:35.119Z"
   },
   {
    "duration": 120,
    "start_time": "2022-12-09T21:13:35.199Z"
   },
   {
    "duration": 44,
    "start_time": "2022-12-09T21:13:35.321Z"
   },
   {
    "duration": 365,
    "start_time": "2022-12-09T21:13:35.367Z"
   },
   {
    "duration": 21,
    "start_time": "2022-12-09T21:13:35.734Z"
   },
   {
    "duration": 20,
    "start_time": "2022-12-09T21:13:35.757Z"
   },
   {
    "duration": 108,
    "start_time": "2022-12-09T21:13:35.779Z"
   },
   {
    "duration": 260,
    "start_time": "2022-12-09T21:13:35.889Z"
   },
   {
    "duration": 145,
    "start_time": "2022-12-09T21:13:36.155Z"
   },
   {
    "duration": 236,
    "start_time": "2022-12-09T21:16:08.910Z"
   },
   {
    "duration": 265,
    "start_time": "2022-12-09T21:16:20.804Z"
   },
   {
    "duration": 147,
    "start_time": "2022-12-09T21:16:21.339Z"
   },
   {
    "duration": 30,
    "start_time": "2022-12-09T21:16:23.958Z"
   },
   {
    "duration": 296,
    "start_time": "2022-12-09T21:16:24.274Z"
   },
   {
    "duration": 3,
    "start_time": "2022-12-09T21:16:28.394Z"
   },
   {
    "duration": 21,
    "start_time": "2022-12-09T21:16:33.390Z"
   },
   {
    "duration": 92,
    "start_time": "2022-12-09T21:16:41.489Z"
   },
   {
    "duration": 269,
    "start_time": "2022-12-09T21:16:48.001Z"
   },
   {
    "duration": 680173,
    "start_time": "2022-12-09T21:24:37.572Z"
   },
   {
    "duration": 29,
    "start_time": "2022-12-09T21:38:02.239Z"
   },
   {
    "duration": 304,
    "start_time": "2022-12-09T21:38:31.966Z"
   },
   {
    "duration": 277,
    "start_time": "2022-12-09T21:38:41.054Z"
   },
   {
    "duration": 1395,
    "start_time": "2022-12-09T21:41:30.711Z"
   },
   {
    "duration": 41,
    "start_time": "2022-12-09T21:41:32.108Z"
   },
   {
    "duration": 27,
    "start_time": "2022-12-09T21:41:32.151Z"
   },
   {
    "duration": 11,
    "start_time": "2022-12-09T21:41:32.180Z"
   },
   {
    "duration": 12,
    "start_time": "2022-12-09T21:41:32.193Z"
   },
   {
    "duration": 4,
    "start_time": "2022-12-09T21:41:32.207Z"
   },
   {
    "duration": 7,
    "start_time": "2022-12-09T21:41:32.212Z"
   },
   {
    "duration": 16,
    "start_time": "2022-12-09T21:41:32.220Z"
   },
   {
    "duration": 18,
    "start_time": "2022-12-09T21:41:32.237Z"
   },
   {
    "duration": 21,
    "start_time": "2022-12-09T21:41:32.258Z"
   },
   {
    "duration": 4,
    "start_time": "2022-12-09T21:41:32.280Z"
   },
   {
    "duration": 20,
    "start_time": "2022-12-09T21:41:32.286Z"
   },
   {
    "duration": 11,
    "start_time": "2022-12-09T21:41:32.307Z"
   },
   {
    "duration": 19,
    "start_time": "2022-12-09T21:41:32.320Z"
   },
   {
    "duration": 37,
    "start_time": "2022-12-09T21:41:32.355Z"
   },
   {
    "duration": 516,
    "start_time": "2022-12-09T21:41:32.394Z"
   },
   {
    "duration": 131,
    "start_time": "2022-12-09T21:41:32.912Z"
   },
   {
    "duration": 11,
    "start_time": "2022-12-09T21:41:33.054Z"
   },
   {
    "duration": 16,
    "start_time": "2022-12-09T21:41:33.067Z"
   },
   {
    "duration": 9,
    "start_time": "2022-12-09T21:41:33.085Z"
   },
   {
    "duration": 220715,
    "start_time": "2022-12-09T21:41:33.095Z"
   },
   {
    "duration": 112,
    "start_time": "2022-12-09T21:45:13.812Z"
   },
   {
    "duration": 5,
    "start_time": "2022-12-09T21:45:13.926Z"
   },
   {
    "duration": 39,
    "start_time": "2022-12-09T21:45:13.933Z"
   },
   {
    "duration": 13,
    "start_time": "2022-12-09T21:45:13.973Z"
   },
   {
    "duration": 13,
    "start_time": "2022-12-09T21:45:13.987Z"
   },
   {
    "duration": 431,
    "start_time": "2022-12-09T21:45:14.006Z"
   },
   {
    "duration": 24,
    "start_time": "2022-12-09T21:45:14.442Z"
   },
   {
    "duration": 24,
    "start_time": "2022-12-09T21:45:14.470Z"
   },
   {
    "duration": 60,
    "start_time": "2022-12-09T21:45:14.496Z"
   },
   {
    "duration": 121,
    "start_time": "2022-12-09T21:45:14.560Z"
   },
   {
    "duration": 28,
    "start_time": "2022-12-09T21:45:14.683Z"
   },
   {
    "duration": 115,
    "start_time": "2022-12-09T21:45:14.712Z"
   },
   {
    "duration": 72,
    "start_time": "2022-12-09T21:45:14.829Z"
   },
   {
    "duration": 141,
    "start_time": "2022-12-09T21:45:14.902Z"
   },
   {
    "duration": 110,
    "start_time": "2022-12-09T21:45:15.045Z"
   },
   {
    "duration": 300,
    "start_time": "2022-12-09T21:45:15.159Z"
   },
   {
    "duration": 16,
    "start_time": "2022-12-09T21:45:15.461Z"
   },
   {
    "duration": 4,
    "start_time": "2022-12-09T21:45:15.478Z"
   },
   {
    "duration": 37,
    "start_time": "2022-12-09T21:45:15.483Z"
   },
   {
    "duration": 138,
    "start_time": "2022-12-09T21:45:15.522Z"
   },
   {
    "duration": 75,
    "start_time": "2022-12-09T21:45:15.663Z"
   },
   {
    "duration": 141,
    "start_time": "2022-12-09T21:45:15.740Z"
   },
   {
    "duration": 30,
    "start_time": "2022-12-09T21:45:15.883Z"
   },
   {
    "duration": 284,
    "start_time": "2022-12-09T21:45:15.958Z"
   },
   {
    "duration": 798576,
    "start_time": "2022-12-09T21:45:16.256Z"
   },
   {
    "duration": 41,
    "start_time": "2022-12-09T21:58:34.834Z"
   },
   {
    "duration": 306,
    "start_time": "2022-12-09T21:58:34.877Z"
   },
   {
    "duration": 277,
    "start_time": "2022-12-09T21:58:35.184Z"
   },
   {
    "duration": 150,
    "start_time": "2022-12-09T21:58:35.466Z"
   },
   {
    "duration": 41,
    "start_time": "2022-12-09T21:59:48.778Z"
   },
   {
    "duration": 293,
    "start_time": "2022-12-09T22:00:01.374Z"
   },
   {
    "duration": 276,
    "start_time": "2022-12-09T22:00:20.503Z"
   },
   {
    "duration": 287,
    "start_time": "2022-12-09T22:00:35.124Z"
   },
   {
    "duration": 268,
    "start_time": "2022-12-09T22:00:50.167Z"
   },
   {
    "duration": 138,
    "start_time": "2022-12-09T22:00:55.802Z"
   },
   {
    "duration": 115,
    "start_time": "2022-12-09T22:01:32.531Z"
   },
   {
    "duration": 31,
    "start_time": "2022-12-09T22:01:44.846Z"
   },
   {
    "duration": 146,
    "start_time": "2022-12-09T22:02:11.838Z"
   },
   {
    "duration": 1412,
    "start_time": "2022-12-09T22:06:33.903Z"
   },
   {
    "duration": 46,
    "start_time": "2022-12-09T22:06:35.317Z"
   },
   {
    "duration": 24,
    "start_time": "2022-12-09T22:06:35.366Z"
   },
   {
    "duration": 13,
    "start_time": "2022-12-09T22:06:35.391Z"
   },
   {
    "duration": 11,
    "start_time": "2022-12-09T22:06:35.406Z"
   },
   {
    "duration": 4,
    "start_time": "2022-12-09T22:06:35.418Z"
   },
   {
    "duration": 7,
    "start_time": "2022-12-09T22:06:35.423Z"
   },
   {
    "duration": 25,
    "start_time": "2022-12-09T22:06:35.431Z"
   },
   {
    "duration": 21,
    "start_time": "2022-12-09T22:06:35.458Z"
   },
   {
    "duration": 14,
    "start_time": "2022-12-09T22:06:35.480Z"
   },
   {
    "duration": 6,
    "start_time": "2022-12-09T22:06:35.496Z"
   },
   {
    "duration": 19,
    "start_time": "2022-12-09T22:06:35.504Z"
   },
   {
    "duration": 10,
    "start_time": "2022-12-09T22:06:35.525Z"
   },
   {
    "duration": 27,
    "start_time": "2022-12-09T22:06:35.538Z"
   },
   {
    "duration": 34,
    "start_time": "2022-12-09T22:06:35.567Z"
   },
   {
    "duration": 518,
    "start_time": "2022-12-09T22:06:35.602Z"
   },
   {
    "duration": 148,
    "start_time": "2022-12-09T22:06:36.121Z"
   },
   {
    "duration": 6,
    "start_time": "2022-12-09T22:06:36.271Z"
   },
   {
    "duration": 9,
    "start_time": "2022-12-09T22:06:36.278Z"
   },
   {
    "duration": 8,
    "start_time": "2022-12-09T22:06:36.289Z"
   },
   {
    "duration": 219338,
    "start_time": "2022-12-09T22:06:36.299Z"
   },
   {
    "duration": 105,
    "start_time": "2022-12-09T22:10:15.639Z"
   },
   {
    "duration": 10,
    "start_time": "2022-12-09T22:10:15.754Z"
   },
   {
    "duration": 15,
    "start_time": "2022-12-09T22:10:15.767Z"
   },
   {
    "duration": 11,
    "start_time": "2022-12-09T22:10:15.784Z"
   },
   {
    "duration": 66,
    "start_time": "2022-12-09T22:10:15.797Z"
   },
   {
    "duration": 368,
    "start_time": "2022-12-09T22:10:15.868Z"
   },
   {
    "duration": 18,
    "start_time": "2022-12-09T22:10:16.238Z"
   },
   {
    "duration": 17,
    "start_time": "2022-12-09T22:10:16.258Z"
   },
   {
    "duration": 78,
    "start_time": "2022-12-09T22:10:16.277Z"
   },
   {
    "duration": 104,
    "start_time": "2022-12-09T22:10:16.364Z"
   },
   {
    "duration": 24,
    "start_time": "2022-12-09T22:10:16.470Z"
   },
   {
    "duration": 125,
    "start_time": "2022-12-09T22:10:16.496Z"
   },
   {
    "duration": 70,
    "start_time": "2022-12-09T22:10:16.622Z"
   },
   {
    "duration": 130,
    "start_time": "2022-12-09T22:10:16.694Z"
   },
   {
    "duration": 38,
    "start_time": "2022-12-09T22:10:16.825Z"
   },
   {
    "duration": 290,
    "start_time": "2022-12-09T22:10:16.865Z"
   },
   {
    "duration": 17,
    "start_time": "2022-12-09T22:10:17.157Z"
   },
   {
    "duration": 4,
    "start_time": "2022-12-09T22:10:17.176Z"
   },
   {
    "duration": 36,
    "start_time": "2022-12-09T22:10:17.181Z"
   },
   {
    "duration": 134,
    "start_time": "2022-12-09T22:10:17.221Z"
   },
   {
    "duration": 83,
    "start_time": "2022-12-09T22:10:17.357Z"
   },
   {
    "duration": 144,
    "start_time": "2022-12-09T22:10:17.441Z"
   },
   {
    "duration": 77,
    "start_time": "2022-12-09T22:10:17.587Z"
   },
   {
    "duration": 317,
    "start_time": "2022-12-09T22:10:17.667Z"
   },
   {
    "duration": 744025,
    "start_time": "2022-12-09T22:10:17.986Z"
   },
   {
    "duration": 54,
    "start_time": "2022-12-09T22:22:42.013Z"
   },
   {
    "duration": 152,
    "start_time": "2022-12-09T22:22:42.070Z"
   },
   {
    "duration": 33,
    "start_time": "2022-12-09T22:26:28.715Z"
   },
   {
    "duration": 145,
    "start_time": "2022-12-09T22:26:40.756Z"
   }
  ],
  "kernelspec": {
   "display_name": "Python 3 (ipykernel)",
   "language": "python",
   "name": "python3"
  },
  "language_info": {
   "codemirror_mode": {
    "name": "ipython",
    "version": 3
   },
   "file_extension": ".py",
   "mimetype": "text/x-python",
   "name": "python",
   "nbconvert_exporter": "python",
   "pygments_lexer": "ipython3",
   "version": "3.9.5"
  },
  "toc": {
   "base_numbering": 1,
   "nav_menu": {},
   "number_sections": true,
   "sideBar": true,
   "skip_h1_title": true,
   "title_cell": "Содержание",
   "title_sidebar": "Contents",
   "toc_cell": true,
   "toc_position": {
    "height": "calc(100% - 180px)",
    "left": "10px",
    "top": "150px",
    "width": "165px"
   },
   "toc_section_display": true,
   "toc_window_display": true
  }
 },
 "nbformat": 4,
 "nbformat_minor": 2
}
