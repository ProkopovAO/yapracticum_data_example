{
 "cells": [
  {
   "cell_type": "markdown",
   "metadata": {},
   "source": [
    "<div class=\"alert alert-info\">\n",
    "<font size=\"5\"><b>Комментарий ревьюера</b></font>\n",
    "\n",
    "Привет Алексей! Меня зовут Марат, и я буду твоим ревьюером. Спешу сообщить что все ключевые этапы в работе выполнены,  с задачей тебе удалось справиться. По поводу обращения - в IT сфере принято общаться на «ты» :) Но, если привычней на «вы», дай знать. Как ревьюера моя задача помочь тебе в развитии, дав хорошие советы. Я внимательно посмотрю твой код, ознакомлюсь с твоими выводами и оставлю комментарии. Где то могу предложить небольшие исправление в коде, но ненавязчиво. Где потребуются уточнения, я оставлю много наводящих вопросов. Они помогут тебя с поиском верного решения.\n",
    "\n",
    "Все мои комментарии размечены по цветам, для лучшего восприятия. \n",
    "    \n",
    "<div class=\"alert alert-success\">Зеленым цветом и словом «Успех» отмечены особо удачные и элегантные решения, которыми ты можешь гордиться. </div>\n",
    "        \n",
    "<div class=\"alert alert-warning\">Желтым и значком словом «Совет», помечены решения у которых есть альтернативные решения, более оптимальные. Ты можешь найти их сразу и доработать проект, или отложить это на потом, для будущих проектах. Проект будет принят и без их доработки. </div>\n",
    "        \n",
    "<div class=\"alert alert-danger\"> Красным цветом и значком словом «Ошибка» помечу твои решения, на которые стоит обратить внимание прежде всего. После их доработки проект будет принят. </div>\n",
    "        \n",
    "Залог успеха - работа сообща, взаимное уважение и работа в диалоге. Поэтому, помечай свои ответные комментарии на мои реплики заметным цветом или курсивом, так мне будет легче их отслеживать. Пожалуйста, не изменяй и не удаляй мои комментарии. Все это поможет выполнить повторную проверку быстрей.\n",
    "\n",
    "</div>"
   ]
  },
  {
   "cell_type": "markdown",
   "metadata": {},
   "source": [
    "<div class=\"alert alert-info\"> <b>Комментарий студента:</b> Привет, Марат! Рад знакомству. Спасибо за оперативную проверку и советы по проекту.</div>"
   ]
  },
  {
   "cell_type": "markdown",
   "metadata": {},
   "source": [
    "<div class=\"alert alert-success\">\n",
    "<font size=\"5\"><b>Комментарий ревьюераV2</b></font>\n",
    "\n",
    "\n",
    "\n",
    "Успех 👍:\n",
    "\n",
    "\n",
    "\n",
    "\n",
    "Привет Алексей! Взаимно\n",
    "\n",
    "</div>\n"
   ]
  },
  {
   "cell_type": "markdown",
   "metadata": {},
   "source": [
    "# Рекомендация тарифов"
   ]
  },
  {
   "cell_type": "markdown",
   "metadata": {},
   "source": [
    "В вашем распоряжении данные о поведении клиентов, которые уже перешли на эти тарифы (из проекта курса «Статистический анализ данных»). Нужно построить модель для задачи классификации, которая выберет подходящий тариф. Предобработка данных не понадобится — вы её уже сделали.\n",
    "\n",
    "Постройте модель с максимально большим значением *accuracy*. Чтобы сдать проект успешно, нужно довести долю правильных ответов по крайней мере до 0.75. Проверьте *accuracy* на тестовой выборке самостоятельно.\n",
    "\n",
    "Описание проекта.\n",
    "\n",
    "Оператор мобильной связи «Мегалайн» выяснил: многие клиенты пользуются архивными тарифами. Они хотят построить систему, способную проанализировать поведение клиентов и предложить пользователям новый тариф: «Смарт» или «Ультра».\n",
    "\n",
    "План работы.\n",
    "1. Откройте файл с данными и изучите его. Путь к файлу: /datasets/users_behavior.csv. Скачать датасет\n",
    "2. Разделите исходные данные на обучающую, валидационную и тестовую выборки.\n",
    "3. Исследуйте качество разных моделей, меняя гиперпараметры. Кратко напишите выводы исследования.\n",
    "4. Проверьте качество модели на тестовой выборке.\n",
    "5. Дополнительное задание: проверьте модели на вменяемость.\n",
    "\n",
    "Описание данных.\n",
    "\n",
    "Каждый объект в наборе данных — это информация о поведении одного пользователя за месяц. Известно:\n",
    "- сalls — количество звонков,\n",
    "- minutes — суммарная длительность звонков в минутах,\n",
    "- messages — количество sms-сообщений,\n",
    "- mb_used — израсходованный интернет-трафик в Мб,\n",
    "- is_ultra — каким тарифом пользовался в течение месяца («Ультра» — 1, «Смарт» — 0)."
   ]
  },
  {
   "cell_type": "markdown",
   "metadata": {},
   "source": [
    "<div class=\"alert alert-success\">\n",
    "<font size=\"5\"><b>Комментарий ревьюера</b></font>\n",
    "\n",
    "Успех:\n",
    "\n",
    "\n",
    "Вступление в работу очень важно, так человек, который смотрит твой проект (и на работе в том числе) будет сразу введен в курс дела.\n",
    "\n",
    "\n",
    "\n",
    "\n",
    "\n",
    "</div>"
   ]
  },
  {
   "cell_type": "markdown",
   "metadata": {},
   "source": [
    "## Откройте и изучите файл"
   ]
  },
  {
   "cell_type": "markdown",
   "metadata": {},
   "source": [
    "**1.1. Импортировать библиотеки.**"
   ]
  },
  {
   "cell_type": "code",
   "execution_count": 1,
   "metadata": {},
   "outputs": [],
   "source": [
    "import pandas as pd\n",
    "import matplotlib.pyplot as plt\n",
    "import numpy as np\n",
    "\n",
    "from sklearn.model_selection import train_test_split \n",
    "from sklearn.tree import DecisionTreeClassifier # импорт библиотеки 'Дерево решений'\n",
    "from sklearn.ensemble import RandomForestClassifier # импорт библиотеки 'Случайный лес'\n",
    "from sklearn.linear_model import LogisticRegression # импорт библиотеки 'Логистическая регрессия'\n",
    "from sklearn.metrics import accuracy_score # импорт метрики 'accuracy' (точность)\n",
    "from sklearn import tree\n",
    "from sklearn.dummy import DummyClassifier\n",
    "from matplotlib.pyplot import figure\n",
    "from tqdm import tqdm"
   ]
  },
  {
   "cell_type": "markdown",
   "metadata": {},
   "source": [
    "<div class=\"alert alert-success\">\n",
    "<font size=\"5\"><b>Комментарий ревьюера</b></font>\n",
    "\n",
    "Успех:\n",
    "\n",
    "Собираем все импорты в верхней части, чтобы легче было ориентироваться и добавлять новые по необходимости. \n",
    "\n",
    "\n",
    "<div class=\"alert alert-warning\">\n",
    "\n",
    "Совет:     \n",
    "    \n",
    "    \n",
    "\n",
    "\n",
    "- кстати есть рекомендации PEP-8 при написании кода, в том числе и для импортов. Если интересно можешь почитать [тут](https://pythonworld.ru/osnovy/pep-8-rukovodstvo-po-napisaniyu-koda-na-python.html), в будущем пригодится )  \n"
   ]
  },
  {
   "cell_type": "markdown",
   "metadata": {},
   "source": [
    "<div class=\"alert alert-info\"> <b>Комментарий студента:</b> \n",
    "\n",
    "Спасибо, буду стараться придерживаться рекомендаций PEP-8 при написании кода.</div>"
   ]
  },
  {
   "cell_type": "markdown",
   "metadata": {},
   "source": [
    "1.1.1 Считайть данные из csv-файла в датафрейм и сохранить в переменную `df`"
   ]
  },
  {
   "cell_type": "code",
   "execution_count": 2,
   "metadata": {},
   "outputs": [],
   "source": [
    "# прочитаем csv-файл\n",
    "try:\n",
    "    df = pd.read_csv('/datasets/users_behavior.csv')\n",
    "except:\n",
    "    df = pd.read_csv('https://code.s3.yandex.net/datasets/users_behavior.csv')"
   ]
  },
  {
   "cell_type": "markdown",
   "metadata": {},
   "source": [
    "<div class=\"alert alert-success\">\n",
    "<font size=\"5\"><b>Комментарий ревьюера</b></font>\n",
    "\n",
    "Молодец что используешь конструкцию try - except (if - else), этим ты проявляешь уважение к тем кто будет работать с твоим кодом.\n",
    "\n",
    "</div>"
   ]
  },
  {
   "cell_type": "markdown",
   "metadata": {},
   "source": [
    "**1.2 Изучить общую информацию о полученном датафрейме.**"
   ]
  },
  {
   "cell_type": "code",
   "execution_count": 3,
   "metadata": {},
   "outputs": [
    {
     "data": {
      "text/html": [
       "<div>\n",
       "<style scoped>\n",
       "    .dataframe tbody tr th:only-of-type {\n",
       "        vertical-align: middle;\n",
       "    }\n",
       "\n",
       "    .dataframe tbody tr th {\n",
       "        vertical-align: top;\n",
       "    }\n",
       "\n",
       "    .dataframe thead th {\n",
       "        text-align: right;\n",
       "    }\n",
       "</style>\n",
       "<table border=\"1\" class=\"dataframe\">\n",
       "  <thead>\n",
       "    <tr style=\"text-align: right;\">\n",
       "      <th></th>\n",
       "      <th>calls</th>\n",
       "      <th>minutes</th>\n",
       "      <th>messages</th>\n",
       "      <th>mb_used</th>\n",
       "      <th>is_ultra</th>\n",
       "    </tr>\n",
       "  </thead>\n",
       "  <tbody>\n",
       "    <tr>\n",
       "      <th>0</th>\n",
       "      <td>40.0</td>\n",
       "      <td>311.90</td>\n",
       "      <td>83.0</td>\n",
       "      <td>19915.42</td>\n",
       "      <td>0</td>\n",
       "    </tr>\n",
       "    <tr>\n",
       "      <th>1</th>\n",
       "      <td>85.0</td>\n",
       "      <td>516.75</td>\n",
       "      <td>56.0</td>\n",
       "      <td>22696.96</td>\n",
       "      <td>0</td>\n",
       "    </tr>\n",
       "    <tr>\n",
       "      <th>2</th>\n",
       "      <td>77.0</td>\n",
       "      <td>467.66</td>\n",
       "      <td>86.0</td>\n",
       "      <td>21060.45</td>\n",
       "      <td>0</td>\n",
       "    </tr>\n",
       "    <tr>\n",
       "      <th>3</th>\n",
       "      <td>106.0</td>\n",
       "      <td>745.53</td>\n",
       "      <td>81.0</td>\n",
       "      <td>8437.39</td>\n",
       "      <td>1</td>\n",
       "    </tr>\n",
       "    <tr>\n",
       "      <th>4</th>\n",
       "      <td>66.0</td>\n",
       "      <td>418.74</td>\n",
       "      <td>1.0</td>\n",
       "      <td>14502.75</td>\n",
       "      <td>0</td>\n",
       "    </tr>\n",
       "    <tr>\n",
       "      <th>5</th>\n",
       "      <td>58.0</td>\n",
       "      <td>344.56</td>\n",
       "      <td>21.0</td>\n",
       "      <td>15823.37</td>\n",
       "      <td>0</td>\n",
       "    </tr>\n",
       "    <tr>\n",
       "      <th>6</th>\n",
       "      <td>57.0</td>\n",
       "      <td>431.64</td>\n",
       "      <td>20.0</td>\n",
       "      <td>3738.90</td>\n",
       "      <td>1</td>\n",
       "    </tr>\n",
       "    <tr>\n",
       "      <th>7</th>\n",
       "      <td>15.0</td>\n",
       "      <td>132.40</td>\n",
       "      <td>6.0</td>\n",
       "      <td>21911.60</td>\n",
       "      <td>0</td>\n",
       "    </tr>\n",
       "    <tr>\n",
       "      <th>8</th>\n",
       "      <td>7.0</td>\n",
       "      <td>43.39</td>\n",
       "      <td>3.0</td>\n",
       "      <td>2538.67</td>\n",
       "      <td>1</td>\n",
       "    </tr>\n",
       "    <tr>\n",
       "      <th>9</th>\n",
       "      <td>90.0</td>\n",
       "      <td>665.41</td>\n",
       "      <td>38.0</td>\n",
       "      <td>17358.61</td>\n",
       "      <td>0</td>\n",
       "    </tr>\n",
       "    <tr>\n",
       "      <th>10</th>\n",
       "      <td>82.0</td>\n",
       "      <td>560.51</td>\n",
       "      <td>20.0</td>\n",
       "      <td>9619.53</td>\n",
       "      <td>1</td>\n",
       "    </tr>\n",
       "    <tr>\n",
       "      <th>11</th>\n",
       "      <td>45.0</td>\n",
       "      <td>344.32</td>\n",
       "      <td>13.0</td>\n",
       "      <td>19898.81</td>\n",
       "      <td>0</td>\n",
       "    </tr>\n",
       "    <tr>\n",
       "      <th>12</th>\n",
       "      <td>51.0</td>\n",
       "      <td>437.13</td>\n",
       "      <td>61.0</td>\n",
       "      <td>21523.58</td>\n",
       "      <td>0</td>\n",
       "    </tr>\n",
       "    <tr>\n",
       "      <th>13</th>\n",
       "      <td>56.0</td>\n",
       "      <td>433.07</td>\n",
       "      <td>16.0</td>\n",
       "      <td>16702.36</td>\n",
       "      <td>0</td>\n",
       "    </tr>\n",
       "    <tr>\n",
       "      <th>14</th>\n",
       "      <td>108.0</td>\n",
       "      <td>587.90</td>\n",
       "      <td>0.0</td>\n",
       "      <td>14406.50</td>\n",
       "      <td>1</td>\n",
       "    </tr>\n",
       "    <tr>\n",
       "      <th>15</th>\n",
       "      <td>6.0</td>\n",
       "      <td>22.13</td>\n",
       "      <td>0.0</td>\n",
       "      <td>2710.09</td>\n",
       "      <td>0</td>\n",
       "    </tr>\n",
       "    <tr>\n",
       "      <th>16</th>\n",
       "      <td>2.0</td>\n",
       "      <td>18.73</td>\n",
       "      <td>0.0</td>\n",
       "      <td>588.89</td>\n",
       "      <td>0</td>\n",
       "    </tr>\n",
       "    <tr>\n",
       "      <th>17</th>\n",
       "      <td>26.0</td>\n",
       "      <td>163.62</td>\n",
       "      <td>4.0</td>\n",
       "      <td>16870.34</td>\n",
       "      <td>0</td>\n",
       "    </tr>\n",
       "    <tr>\n",
       "      <th>18</th>\n",
       "      <td>79.0</td>\n",
       "      <td>532.62</td>\n",
       "      <td>90.0</td>\n",
       "      <td>19908.31</td>\n",
       "      <td>0</td>\n",
       "    </tr>\n",
       "    <tr>\n",
       "      <th>19</th>\n",
       "      <td>49.0</td>\n",
       "      <td>341.67</td>\n",
       "      <td>81.0</td>\n",
       "      <td>11770.28</td>\n",
       "      <td>1</td>\n",
       "    </tr>\n",
       "  </tbody>\n",
       "</table>\n",
       "</div>"
      ],
      "text/plain": [
       "    calls  minutes  messages   mb_used  is_ultra\n",
       "0    40.0   311.90      83.0  19915.42         0\n",
       "1    85.0   516.75      56.0  22696.96         0\n",
       "2    77.0   467.66      86.0  21060.45         0\n",
       "3   106.0   745.53      81.0   8437.39         1\n",
       "4    66.0   418.74       1.0  14502.75         0\n",
       "5    58.0   344.56      21.0  15823.37         0\n",
       "6    57.0   431.64      20.0   3738.90         1\n",
       "7    15.0   132.40       6.0  21911.60         0\n",
       "8     7.0    43.39       3.0   2538.67         1\n",
       "9    90.0   665.41      38.0  17358.61         0\n",
       "10   82.0   560.51      20.0   9619.53         1\n",
       "11   45.0   344.32      13.0  19898.81         0\n",
       "12   51.0   437.13      61.0  21523.58         0\n",
       "13   56.0   433.07      16.0  16702.36         0\n",
       "14  108.0   587.90       0.0  14406.50         1\n",
       "15    6.0    22.13       0.0   2710.09         0\n",
       "16    2.0    18.73       0.0    588.89         0\n",
       "17   26.0   163.62       4.0  16870.34         0\n",
       "18   79.0   532.62      90.0  19908.31         0\n",
       "19   49.0   341.67      81.0  11770.28         1"
      ]
     },
     "execution_count": 3,
     "metadata": {},
     "output_type": "execute_result"
    }
   ],
   "source": [
    "df.head(20) # вывод первых 20 строчек датафрейма df на экран."
   ]
  },
  {
   "cell_type": "code",
   "execution_count": 4,
   "metadata": {},
   "outputs": [
    {
     "name": "stdout",
     "output_type": "stream",
     "text": [
      "<class 'pandas.core.frame.DataFrame'>\n",
      "RangeIndex: 3214 entries, 0 to 3213\n",
      "Data columns (total 5 columns):\n",
      " #   Column    Non-Null Count  Dtype  \n",
      "---  ------    --------------  -----  \n",
      " 0   calls     3214 non-null   float64\n",
      " 1   minutes   3214 non-null   float64\n",
      " 2   messages  3214 non-null   float64\n",
      " 3   mb_used   3214 non-null   float64\n",
      " 4   is_ultra  3214 non-null   int64  \n",
      "dtypes: float64(4), int64(1)\n",
      "memory usage: 125.7 KB\n"
     ]
    }
   ],
   "source": [
    "df.info() #Вывод основной информации о датафрейме с помощью метода info()"
   ]
  },
  {
   "cell_type": "markdown",
   "metadata": {},
   "source": [
    "Вывод. Предобработка данных не понадобится, т.к. была выполнена ранее.\n",
    "Перед нами задача бинарной классификации. Качественный целевой признак - выбор тарифа («Ультра» — 1, «Смарт» — 0)."
   ]
  },
  {
   "cell_type": "markdown",
   "metadata": {},
   "source": [
    "<div class=\"alert alert-success\">\n",
    "<font size=\"5\"><b>Комментарий ревьюера</b></font>\n",
    "\n",
    "Успех:\n",
    "\n",
    "👍 Данные изучены.\n",
    "\n",
    "    \n",
    "\n",
    "<div class=\"alert alert-warning\">\n",
    "\n",
    "\n",
    "\n",
    "Совет: \n",
    "\n",
    "\n",
    "Можно еще отдельно проверить датасет на сбалансированность классов в таргете. Это важная информация при моделировании и помогло бы решить бонусное задание сразу.  Тема дисбаланса как раз тема следующего проекта, тут можно [почитать](https://dyakonov.org/2021/05/27/imbalance/) заранее зачем мы обращаем внимание на это. А [тут](https://habr.com/ru/post/349078/) так ли он страшен  ))\n",
    "\n",
    "\n",
    "\n",
    "\n",
    "Можно посмотреть корреляцию признаков. Знаешь что такое мультиколлинеарность, какие два типа проблем возникает, для каких моделей и какие варианты решения?\n",
    "\n",
    "\n",
    "\n",
    "\n",
    "</div>\n"
   ]
  },
  {
   "cell_type": "markdown",
   "metadata": {},
   "source": [
    "<div class=\"alert alert-info\"> <b>Комментарий студента:</b> \n",
    "\n",
    "Да, теперь знаю, что такое мультиколлинеарность)\n",
    "Мультиколлинеарность — явление, при котором наблюдается сильная корреляция между признаками. Мультиколлинеарность приводит к неустойчивости коэффициентов логистической регрессии — коэффициенты могут менять свой знак при добавлении в модель новых признаков и становиться статистически незначимыми. \n",
    "\n",
    "Методы решения:\n",
    "- исключение признаков по порогу на основе тепловой карты для коэффициентов корреляции\n",
    "- исключение признаков на основе анализа VIF (variance inflation factor)\n",
    "- отбор признаков на основе анализа доли объясненной дисперсии для компонент, полученных PCA   \n",
    "</div>"
   ]
  },
  {
   "cell_type": "markdown",
   "metadata": {},
   "source": [
    "<div class=\"alert alert-success\">\n",
    "<font size=\"5\"><b>Комментарий ревьюераV2</b></font>\n",
    "\n",
    "Успех:\n",
    "\n",
    "👍    \n",
    "    \n",
    "Добавлю. \n",
    "\n",
    " \n",
    "\n",
    "\n",
    "Первый момент: мультиколлиниарность проблема линейных моделей - могут переобучаться.... теоретически. Но в логистической, и в линейной регрессиях реализована регуляризация, которая решает проблему мультиколлиниарности признаков. \"Деревянные\" модели (RF, DT) устойчивы к мультиколлинеарности, а кластеризация тоже почти не зависит от линейных зависимостей. Получается, избавляться от мультиколлинеарности чтобы не переобучаться не обязательно )) \n",
    "    \n",
    "    \n",
    "Второй момент: интерпретируемость линейной модели (мы по коеффициентам судим как признаки влияют на таргет), тут  мультиколлинеарность надо убирать.\n",
    "\n",
    "Самый простой способов убрать  мультиколлинарность это убрать один признак из каждой пары высокореллированных признаков.    \n",
    "\n",
    "\n",
    "\n",
    "А в целом получается проблема мультиколлинеарности сильно преувеличена )\n",
    "</div>"
   ]
  },
  {
   "cell_type": "markdown",
   "metadata": {},
   "source": [
    "**1.3 Проверка сбалансированности**"
   ]
  },
  {
   "cell_type": "code",
   "execution_count": 5,
   "metadata": {},
   "outputs": [
    {
     "data": {
      "text/plain": [
       "0    0.693528\n",
       "1    0.306472\n",
       "Name: is_ultra, dtype: float64"
      ]
     },
     "execution_count": 5,
     "metadata": {},
     "output_type": "execute_result"
    }
   ],
   "source": [
    "df['is_ultra'].value_counts(normalize = 1)"
   ]
  },
  {
   "cell_type": "markdown",
   "metadata": {},
   "source": [
    "<div class=\"alert alert-info\"> <b>Комментарий студента:</b> \n",
    "\n",
    "Проверил сбалансированность классов в целевой выборке (таргете).\n",
    "При проверке модели на адекватность, точность выбранной модели должна быть более 0,693528.</div>"
   ]
  },
  {
   "cell_type": "markdown",
   "metadata": {},
   "source": [
    "<div class=\"alert alert-success\">\n",
    "<font size=\"5\"><b>Комментарий ревьюераV2</b></font>\n",
    "\n",
    "\n",
    "\n",
    "Успех 👍:\n",
    "\n",
    "\n",
    "\n",
    "Вот оно решение бонусного задания сразу )\n",
    "\n",
    "\n",
    "\n",
    "\n",
    "</div>\n"
   ]
  },
  {
   "cell_type": "markdown",
   "metadata": {},
   "source": [
    "## Разбейте данные на выборки"
   ]
  },
  {
   "cell_type": "markdown",
   "metadata": {},
   "source": [
    "**2.1. Разделим на признаки и целевой признак.**"
   ]
  },
  {
   "cell_type": "code",
   "execution_count": 6,
   "metadata": {},
   "outputs": [],
   "source": [
    "#разделим на признаки и целевой признак\n",
    "features = df.drop(['is_ultra'], axis=1)\n",
    "target = df['is_ultra']"
   ]
  },
  {
   "cell_type": "markdown",
   "metadata": {},
   "source": [
    "**2.2. Разделим исходные данные на обучающую (60%), валидационную (20%) и тестовую (20%) выборки.**"
   ]
  },
  {
   "cell_type": "markdown",
   "metadata": {},
   "source": [
    "2.2.1 Произведём двухэтапое деление. \n",
    "Первый этап -  деление на двухкомпонентную выборку:  обучающая (60%) и валидационная + тестовая (40%).\n",
    "Второй этап  - деление на двухкомпонентную выборку уже разделенной  валидационной + тестовой выборки: валидационная (80%) и тестовая (20%).\n",
    "Итого получилось 3 выборки: обучающая (60%), валидационная (20%) и тестовая (20%)."
   ]
  },
  {
   "cell_type": "code",
   "execution_count": 7,
   "metadata": {},
   "outputs": [],
   "source": [
    "# обучающая и валидационная + тестовая выборки, 60% и 40%\n",
    "features_train, features_val_test, target_train, target_val_test = train_test_split(features, \n",
    "                                                                          target,\n",
    "                                                                          train_size=0.6, \n",
    "                                                                          random_state=12345, \n",
    "                                                                          stratify=target)\n",
    "# валидационная и тестовая выборки, 20% и 20%\n",
    "features_valid, features_test, target_valid, target_test = train_test_split(features_val_test,\n",
    "                                                                            target_val_test, \n",
    "                                                                            test_size=0.2, \n",
    "                                                                            random_state=12345, \n",
    "                                                                            stratify=target_val_test)"
   ]
  },
  {
   "cell_type": "markdown",
   "metadata": {},
   "source": [
    "Получились следующие выборки.\n",
    "\n",
    "Обучающая (60%):\n",
    "features_train,a\n",
    "target_train\n",
    "\n",
    "Валидационная (20%):\n",
    "features_valid, \n",
    "target_valid\n",
    "\n",
    "Тестовая (20%):\n",
    "features_test, \n",
    "target_test"
   ]
  },
  {
   "cell_type": "markdown",
   "metadata": {},
   "source": [
    "2.2.2 Проверим корректность разбиения."
   ]
  },
  {
   "cell_type": "code",
   "execution_count": 8,
   "metadata": {},
   "outputs": [
    {
     "data": {
      "text/plain": [
       "((1928, 4), (1928,), (1028, 4), (1028,), (258, 4), (258,))"
      ]
     },
     "execution_count": 8,
     "metadata": {},
     "output_type": "execute_result"
    }
   ],
   "source": [
    "features_train.shape, target_train.shape, features_valid.shape, target_valid.shape, features_test.shape, target_test.shape"
   ]
  },
  {
   "cell_type": "markdown",
   "metadata": {},
   "source": [
    "<div class=\"alert alert-success\">\n",
    "<font size=\"5\"><b>Комментарий ревьюера</b></font>\n",
    "\n",
    "Успех:\n",
    "\n",
    "Все правильно!\n",
    "\n",
    "\n",
    "<div class=\"alert alert-warning\">\n",
    "\n",
    "\n",
    "\n",
    "Совет: \n",
    "\n",
    "\n",
    "- Обрати внимание на аргумент stratify, он позволит сохранить изначальное распределение таргетов во всех новых датасетах.  Существующий дисбаланс никуда не денется, но в каждом датасете он будет одинаковым. [Почитать](https://pythonru.com/baza-znanij/sklearn-train-test-split) можно тут\n",
    "\n",
    "\n",
    "- После разбиения лучше перестраховаться и использовать .shape, для контроля за корректностью разбиения\n",
    "\n"
   ]
  },
  {
   "cell_type": "markdown",
   "metadata": {},
   "source": [
    "<div class=\"alert alert-info\"> <b>Комментарий студента:</b> \n",
    "\n",
    "Использовал аргумент stratify чтобы сохранить изначальное распределение таргетов во всех новых датасетах.\n",
    "    \n",
    "Выполнил проверку разбиения с помощью .shape. \n",
    "    \n",
    "Переработал логику разбиения согласно статьи Rukshan Pramoditha, т.к. не мог корректно отработать с аргументом stratify.\n",
    "Было острое желание разбить сразу на 3 выборки с помощью train_test_split() :) </div>"
   ]
  },
  {
   "cell_type": "markdown",
   "metadata": {},
   "source": [
    "<div class=\"alert alert-success\">\n",
    "<font size=\"5\"><b>Комментарий ревьюераV2</b></font>\n",
    "\n",
    "\n",
    "\n",
    "Успех 👍:\n",
    "\n",
    "\n",
    "\n",
    "👍\n",
    "\n",
    "\n",
    "Понимаю но пока никак )\n",
    "\n",
    "</div>\n"
   ]
  },
  {
   "cell_type": "markdown",
   "metadata": {},
   "source": [
    "## Исследуйте модели"
   ]
  },
  {
   "cell_type": "markdown",
   "metadata": {},
   "source": [
    "**3.1. Исследуем качество разных моделей: решающее дерево, случайный лес, логистическая регрессия.**"
   ]
  },
  {
   "cell_type": "markdown",
   "metadata": {},
   "source": [
    "3.1.1 Эксперимент с решающим деревом. Глубина дерева от 1 до 5."
   ]
  },
  {
   "cell_type": "code",
   "execution_count": 9,
   "metadata": {},
   "outputs": [
    {
     "name": "stdout",
     "output_type": "stream",
     "text": [
      "Глубина 1 0.7324902723735408\n",
      "Глубина 2 0.7714007782101168\n",
      "Глубина 3 0.7908560311284046\n",
      "Глубина 4 0.7607003891050583\n",
      "Глубина 5 0.7957198443579766\n",
      "Глубина 6 0.7821011673151751\n",
      "Глубина 7 0.7908560311284046\n",
      "Глубина 8 0.791828793774319\n",
      "Глубина 9 0.7850194552529183\n",
      "Глубина 10 0.7830739299610895\n",
      "Глубина 11 0.769455252918288\n",
      "Глубина 12 0.7587548638132295\n",
      "Глубина 13 0.7470817120622568\n",
      "Глубина 14 0.7490272373540856\n",
      "Глубина 15 0.7470817120622568\n",
      "Глубина 16 0.7363813229571985\n",
      "Глубина 17 0.7237354085603113\n",
      "Глубина 18 0.7169260700389105\n",
      "Глубина 19 0.7110894941634242\n"
     ]
    }
   ],
   "source": [
    "arr_valid = []\n",
    "arr_train = []\n",
    "# цикл для max_depth от 1 до 5\n",
    "for depth in range(1, 20):\n",
    "    model = DecisionTreeClassifier(random_state=12345, max_depth=depth)\n",
    "    model.fit(features_train, target_train)\n",
    "    predictions_valid = model.predict(features_valid)\n",
    "    predictions_train = model.predict(features_train)\n",
    "    print(\"Глубина\", depth, end=' ')\n",
    "    print(accuracy_score(target_valid, predictions_valid)) \n",
    "    valid_accuracy_score = accuracy_score(target_valid, predictions_valid)\n",
    "    arr_valid.append(valid_accuracy_score)  \n",
    "    train_accuracy_score = accuracy_score(target_train, predictions_train)\n",
    "    arr_train.append(train_accuracy_score) \n"
   ]
  },
  {
   "cell_type": "code",
   "execution_count": 10,
   "metadata": {},
   "outputs": [
    {
     "data": {
      "image/png": "[encoded data removed]",
      "text/plain": [
       "<Figure size 432x288 with 1 Axes>"
      ]
     },
     "metadata": {
      "needs_background": "light"
     },
     "output_type": "display_data"
    }
   ],
   "source": [
    "plt.plot(arr_train, label='train')\n",
    "plt.plot(arr_valid, label='valid')\n",
    "plt.legend()\n",
    "plt.show()"
   ]
  },
  {
   "cell_type": "markdown",
   "metadata": {},
   "source": [
    "<div class=\"alert alert-success\">\n",
    "<font size=\"5\"><b>Комментарий ревьюера</b></font>\n",
    "\n",
    "Успех:\n",
    " \n",
    "Работа выполнена в соответствии с критериями: \n",
    "\n",
    "\n",
    "\n",
    " - модель обучена на обучающем наборе\n",
    " - получена оценка качества на валидационном наборе\n",
    " - перебор гиперпараметров осуществляется в цикле\n",
    "\n",
    "\n",
    "\n",
    "\n",
    "<div class=\"alert alert-warning\">\n",
    "\n",
    "\n",
    "Совет: \n",
    "\n",
    "\n",
    "\n",
    "\n",
    "- Можно добавить график, хорошо оформленный график украсит проект. Тут на графике можно посмотреть как при изменении гиперпараметров меняется точность на train и validation датасете (для этого собираем наши метрики на валидации и train в списки, а затем по ним обычный plt.plot()) Такой способ используют чтобы лучше отследить переобучение, но для этого стоит взять пернебор по max_depth поглубже\n",
    "\n",
    "\n",
    "\n",
    "- tree_plot можно построить, с max_depth равной 3 или 4 (глубже уже будет громоздко) - глянуть как DT сплиты делает, будет понимание как модель принимает решения: какие признаки  использует, на каких значениях делает разбиение вправо - влево \n",
    "\n",
    "\n",
    "\n",
    "</div>\n",
    "\n"
   ]
  },
  {
   "cell_type": "markdown",
   "metadata": {},
   "source": [
    "<div class=\"alert alert-info\"> <b>Комментарий студента:</b> \n",
    "\n",
    "Добавил график изменения точности предсказаний для тренировочной и валидационной выборки. Пересечение двух линий, есть лучший результат обучения модели, дальше происходит переобучение модели.\n",
    "    \n",
    "Построил дерево методом plot_tree.\n",
    "</div>"
   ]
  },
  {
   "cell_type": "markdown",
   "metadata": {},
   "source": [
    "<div class=\"alert alert-warning\">\n",
    "<font size=\"5\"><b>Комментарий ревьюераV2</b></font>\n",
    "\n",
    "\n",
    "\n",
    "Совет 🤔:\n",
    "\n",
    "    \n",
    "Отличный график и правильный вывод о переобучение    \n",
    "\n",
    "Только дело не в пересечении, а в самом высоком точки по валидации\n",
    "</div>\n"
   ]
  },
  {
   "cell_type": "code",
   "execution_count": 11,
   "metadata": {},
   "outputs": [
    {
     "data": {
      "image/png": "[encoded data removed]",
      "text/plain": [
       "<Figure size 1440x720 with 1 Axes>"
      ]
     },
     "metadata": {
      "needs_background": "light"
     },
     "output_type": "display_data"
    }
   ],
   "source": [
    "model_tree = DecisionTreeClassifier(random_state=12345, max_depth=3)\n",
    "model_tree.fit(features_train, target_train)\n",
    "plt.figure(figsize=(20, 10))\n",
    "tree.plot_tree(model_tree)\n",
    "plt.show()"
   ]
  },
  {
   "cell_type": "markdown",
   "metadata": {},
   "source": [
    "<div class=\"alert alert-success\">\n",
    "<font size=\"5\"><b>Комментарий ревьюераV2</b></font>\n",
    "\n",
    "Успех:\n",
    "\n",
    "tree_plot - теперь заказчику можно обьяснить как примерно модель принимает решение, один из плюсов DT.\n",
    "\n",
    "    \n",
    "\n",
    "\n",
    "\n",
    "<div class=\"alert alert-warning\">\n",
    "\n",
    "\n",
    "Совет:\n",
    "\n",
    "Так красивей (схема)\n",
    "    \n",
    "    \n",
    "    import matplotlib.pyplot as plt\n",
    "    fig = plt.figure(figsize=(35,20))\n",
    "    _ = tree.plot_tree(best_model_tree, \n",
    "                   feature_names=features.columns.values, \n",
    "                   class_names=['Smart','Ultra'],\n",
    "                   filled=True,\n",
    "                   fontsize = 15,\n",
    "                   max_depth = 3     # Это чтобы прорисовывало 3 уровня, не глубже\n",
    "                      )\n",
    "    \n",
    "    \n",
    "    "
   ]
  },
  {
   "cell_type": "markdown",
   "metadata": {},
   "source": [
    "3.1.2 Эксперимент со случайным лесом. Проверим модель с глубиной от 1 до 20. Покажем лучший результат."
   ]
  },
  {
   "cell_type": "code",
   "execution_count": 12,
   "metadata": {},
   "outputs": [],
   "source": [
    "#%%time\n",
    "#for i in tqdm(range(21)):\n",
    "#best_model = None\n",
    "#best_result = 0\n",
    "#for est in range(1, 21):\n",
    "#    model = RandomForestClassifier(random_state=12345, n_estimators=est) # обучите модель с заданным количеством деревьев\n",
    "#    model.fit(features_train, target_train) # обучите модель на тренировочной выборке\n",
    "#    result = model.score(features_valid, target_valid) # посчитайте качество модели на валидационной выборке\n",
    "#    if result > best_result:\n",
    "#        best_model = model # сохраните наилучшую модель\n",
    "#        best_result = result #  сохраните наилучшее значение метрики accuracy на валидационных данных\n",
    "#\"Accuracy наилучшей модели на валидационной выборке:\", best_result"
   ]
  },
  {
   "cell_type": "code",
   "execution_count": 13,
   "metadata": {},
   "outputs": [
    {
     "name": "stderr",
     "output_type": "stream",
     "text": [
      "100%|██████████| 2/2 [00:15<00:00,  7.97s/it]\n"
     ]
    },
    {
     "data": {
      "text/plain": [
       "('Accuracy наилучшей модели на валидационной выборке:',\n",
       " 0.811284046692607,\n",
       " 'Количество деревьев:',\n",
       " 20,\n",
       " 'Максимальная глубина:',\n",
       " 10)"
      ]
     },
     "execution_count": 13,
     "metadata": {},
     "output_type": "execute_result"
    }
   ],
   "source": [
    "#%%time\n",
    "for i in tqdm(range(2)):\n",
    "    best_model = None\n",
    "    best_result = 0\n",
    "    best_est = 0\n",
    "    best_depth = 0\n",
    "    for est in range(1, 21):\n",
    "        for depth in range (1, 11):\n",
    "            model = RandomForestClassifier(random_state=12345, n_estimators=est, max_depth=depth) # инициализировать модель RandomForestRegressor с параметрами random_state=12345, n_estimators=est и max_depth=depth\n",
    "            model.fit(features_train, target_train) # обучить модель на тренировочной выборке\n",
    "            predictions_valid = model.predict(features_valid) # получить предсказания модели на валидационной выборке\n",
    "            result = model.score(features_valid, target_valid) # посчитайте качество модели на валидационной выборке\n",
    "        #result = mean_squared_error(target_valid, predictions_valid)**0.5 # посчитайте значение метрики rmse на валидационной выборке\n",
    "        if result > best_result:\n",
    "            best_model = model # сохраните наилучшую модель\n",
    "            best_result = result #  сохраните наилучшее значение метрики accuracy на валидационных данных\n",
    "            best_est = est\n",
    "            best_depth = depth\n",
    "\n",
    "\"Accuracy наилучшей модели на валидационной выборке:\", best_result, \"Количество деревьев:\", best_est, \"Максимальная глубина:\", depth"
   ]
  },
  {
   "cell_type": "markdown",
   "metadata": {},
   "source": [
    "\n",
    "<div class=\"alert alert-success\">\n",
    "<font size=\"5\"><b>Комментарий ревьюера</b></font>\n",
    "\n",
    "Успех:\n",
    "\n",
    "\n",
    "Верно. \n",
    "\n",
    "<div class=\"alert alert-warning\">\n",
    "\n",
    "Совет:\n",
    "\n",
    "\n",
    "- Алексей, можно было сделать похитрее, RF одна из лучших моделей в классическом machine-learning, поэтому можно было добавить перебор 2 гиперпараметров в двойном цикле, в результата метрика качества вырастет. \n",
    " \n",
    "\n",
    "- Когда что то долго крутиться, можно использовать  %%time - ставишь на самый вверх ячейки с кодом, время выполнения которого хочешь замерить, может не знаешь.  Быстрее не станет, но все будут видеть стоит ли ждать не отходя от ПК или можно сходить чаек поставить ))  А еще есть tqdm, показывает на каком этапе у нас работа в цикле происходит\n",
    "    \n",
    "   \n",
    "- А еще можно вместо цикла использовать sklearn-ий встроенный функционал GridSearchCV. В случаи использования GridSearch, не нужно будет заранее делать валидационную выборку, лучшую метрику автоматом сохранят в best_score_, а лучшую модель (переобученная уже на полном наборе данных) будет хранить в best_estimator_.  Это тема будущих теоретических занятий, но если есть время можешь сразу попробовать.\n"
   ]
  },
  {
   "cell_type": "markdown",
   "metadata": {},
   "source": [
    "<div class=\"alert alert-info\"> <b>Комментарий студента:</b> \n",
    "\n",
    "Добавил перебор 2 гиперпараметров в двойном цикле, в результата метрика качества выросла.\n",
    "    \n",
    "Использовал  %%time  в коде.\n",
    "    \n",
    "GridSearchCV попробовал \"завести\", но устал ждать когда закончится обучение модели) Удалил. Спасибо за совет, в следующей теме буду тестировать.\n",
    "</div>"
   ]
  },
  {
   "cell_type": "markdown",
   "metadata": {},
   "source": [
    "<div class=\"alert alert-success\">\n",
    "<font size=\"5\"><b>Комментарий ревьюераV2</b></font>\n",
    "\n",
    "Успех:\n",
    "\n",
    "Здорово Что сразу пробуешь советы\n",
    "\n",
    "Совет:\n",
    "\n",
    "\n",
    "GS  делает разбивку 5 раз, и каждый раз все пересчитывает (cv=5), во вторых он после того как найдет лучшие гиперпараметры, дообучает модель на полном датасете, еще и данные собирает о обучении. Так что если он долго считает то не потому что плохо оптимизирован, с этим у него все в порядке, а потому что он делает очень много полезной работы.    \n",
    "   \n"
   ]
  },
  {
   "cell_type": "markdown",
   "metadata": {},
   "source": [
    "3.1.3 Эксперимент с логистической регрессией"
   ]
  },
  {
   "cell_type": "markdown",
   "metadata": {},
   "source": [
    "Исследование логистической регрессии алгоритмом 'lbfgs'"
   ]
  },
  {
   "cell_type": "code",
   "execution_count": 14,
   "metadata": {},
   "outputs": [
    {
     "data": {
      "text/plain": [
       "('Accuracy лучшей модели:', 0.7383268482490273)"
      ]
     },
     "execution_count": 14,
     "metadata": {},
     "output_type": "execute_result"
    }
   ],
   "source": [
    "model = LogisticRegression(random_state=12345, solver='lbfgs', max_iter=1000) \n",
    "model.fit(features_train, target_train) \n",
    "model.predict(features_valid) \n",
    "result = model.score(features_valid, target_valid) \n",
    "\"Accuracy лучшей модели:\", result"
   ]
  },
  {
   "cell_type": "markdown",
   "metadata": {},
   "source": [
    "Исследование логистической регрессии алгоритмом 'liblinear'"
   ]
  },
  {
   "cell_type": "code",
   "execution_count": 15,
   "metadata": {},
   "outputs": [
    {
     "data": {
      "text/plain": [
       "('Accuracy лучшей модели:', 0.7130350194552529)"
      ]
     },
     "execution_count": 15,
     "metadata": {},
     "output_type": "execute_result"
    }
   ],
   "source": [
    "model = LogisticRegression(random_state=12345, solver='liblinear', max_iter=1000) \n",
    "model.fit(features_train, target_train) \n",
    "model.predict(features_valid) \n",
    "result = model.score(features_valid, target_valid) \n",
    "\"Accuracy лучшей модели:\", result"
   ]
  },
  {
   "cell_type": "markdown",
   "metadata": {},
   "source": [
    "Исследование логистической регрессии алгоритмом 'newton-cg'"
   ]
  },
  {
   "cell_type": "code",
   "execution_count": 16,
   "metadata": {},
   "outputs": [
    {
     "data": {
      "text/plain": [
       "('Accuracy лучшей модели:', 0.7383268482490273)"
      ]
     },
     "execution_count": 16,
     "metadata": {},
     "output_type": "execute_result"
    }
   ],
   "source": [
    "model = LogisticRegression(random_state=12345, solver='newton-cg', max_iter=500) \n",
    "model.fit(features_train, target_train) \n",
    "model.predict(features_valid) \n",
    "result = model.score(features_valid, target_valid) \n",
    "\"Accuracy лучшей модели:\", result"
   ]
  },
  {
   "cell_type": "markdown",
   "metadata": {},
   "source": [
    "Алгоритмы логистической регрессии показали самые слабые результаты. Дерево решений и случайный лес показали близкий результат. Самую высокую точность показал Случайный лес."
   ]
  },
  {
   "cell_type": "markdown",
   "metadata": {},
   "source": [
    "\n",
    "<div class=\"alert alert-success\">\n",
    "<font size=\"5\"><b>Комментарий ревьюера</b></font>\n",
    "\n",
    "Успех:\n",
    "\n",
    "\n",
    "Все верно, RF лучший. \n",
    "\n",
    "\n",
    "<div class=\"alert alert-warning\">\n",
    "\n",
    "\n",
    "Совет: \n",
    "\n",
    "Если есть желание можешь ответить на вопросики ))    \n",
    "\n",
    "\n",
    "\n",
    "- Как назвать ситуацию, когда на валидации при увеличении глубины дерева (модель DT), метрика качества стала снижаться? Как по твоему в это же время вела себя эта же метрика на train?\n",
    "\n",
    "\n",
    "- Насколько знаю вы еще под капот моделям не заглядывали, но может знаешь почему обычно RF показывает более высокие результаты из выбранных?\n",
    "\n",
    "\n",
    "- Мы решаем задачу классификации (а еще есть задача регрессии), а в названии модели с помощью которой мы решаем задачу \"классификации\" есть слово \"регрессия\".  Нет ли тут парадокса? )\n",
    "    \n",
    "\n",
    "- Почему логистическая регрессия показывать на много более худшие результаты?  \n",
    "\n",
    "\n",
    "</div>\n",
    "\n",
    "\n",
    "\n"
   ]
  },
  {
   "cell_type": "markdown",
   "metadata": {},
   "source": [
    "<div class=\"alert alert-info\"> <b>Комментарий студента:</b> \n",
    "\n",
    "Переобучение - ситуация, когда на валидации при увеличении глубины дерева (модель DT), метрика качества стала снижаться.\n",
    "В это же время эта же метрика на train стала улучшаться и показывать точность близкую к 1.\n",
    "    \n",
    "Случайный лес примерно равную пропорцию позитивных и негативных предсказаний, выдает заметно больше качественных предсказаний, но также сильно склоняется к ложно позитивным предсказаниям (FP). Дерево решений склонно выдавать позитивные предсказания, очень высокое количество ложных позитивных предсказания (FP). Логистическая регрессия выдает 100% негативных предсказаний — высокая точность модели объясняется высокой долей негативных ответов в валидационной выборке. Точность и полноту характеризует F1-мера.\n",
    "    \n",
    "Можно применять логистическая регрессию для задач классификации, когда зависимая переменная является бинарной (т.е. может принимать только два значения). \n",
    "    \n",
    "Высокая точность, но низкое качество. Дисбаланс 0 по отношению к 1 - вероятно этим обусловлен худший результат для линейной регрессии.\n",
    "</div>"
   ]
  },
  {
   "cell_type": "markdown",
   "metadata": {},
   "source": [
    "<div class=\"alert alert-success\">\n",
    "<font size=\"5\"><b>Комментарий ревьюераV2</b></font>\n",
    "\n",
    "\n",
    "Успех:\n",
    "\n",
    "\n",
    "Дополню чуть\n",
    "\n",
    "1. Верно, переобучение. На твоём графике это всё отлично видно \n",
    "    \n",
    "    \n",
    "2. В RF обучается несколько деревьев, а решение принимается путем голосования. Каждое дерево в RF учится на своем датасете (используется техника бутстрап), таким образом достигается \"независимость\" этих самых деревьев, в итоге ошибка разброса снижается.\n",
    "\n",
    "    \n",
    "3. \"Регрессия\", потому что внутри нее скалярное произведение (как и в линейной регрессии), дающее на выходе вещественное число (от + бесконечности до - бесконечности), на это число вешают сигмойду, логарифм и получают значение от 0 до 1 (вероятность класса).   \n",
    "    \n",
    "    \n",
    "4. Логистическая регрессия плоха (и хороша с другой стороны) тем что это линейный классификатор: обьекты на классы разделяем гиперплоскостью (прямой если на плоскости), а в данном датасете видимо более сложные, нелинейные связи между признаками и таргетом.   А RF с DT с этим справляются. На других данных  LR могла оказаться лучше, например потому что RF не может экстраполировать. \n",
    "\n",
    "\n",
    "</div>"
   ]
  },
  {
   "cell_type": "markdown",
   "metadata": {},
   "source": [
    "## Проверьте модель на тестовой выборке"
   ]
  },
  {
   "cell_type": "markdown",
   "metadata": {},
   "source": [
    "**4.1 Выполним проверку модели 'случайный лес' на тестовой выборке.**"
   ]
  },
  {
   "cell_type": "code",
   "execution_count": 17,
   "metadata": {},
   "outputs": [
    {
     "data": {
      "text/plain": [
       "('Accuracy наилучшей модели на валидационной выборке:', 0.8062015503875969)"
      ]
     },
     "execution_count": 17,
     "metadata": {},
     "output_type": "execute_result"
    }
   ],
   "source": [
    "result = best_model.score(features_test, target_test) # посчитить качество модели на тестовой выборке\n",
    "\"Accuracy наилучшей модели на валидационной выборке:\", result"
   ]
  },
  {
   "cell_type": "markdown",
   "metadata": {},
   "source": [
    "\n",
    "\n",
    "<div class=\"alert alert-success\">\n",
    "<font size=\"5\"><b>Комментарий ревьюераV2</b></font>\n",
    "\n",
    "Успех:\n",
    "\n",
    "Если студент получил на тесте accuraсy  выше 0,78, это считается отличным результатом. Тобой подбиралась лучшая комбинация не по одному гиперпараметру и вот он результат!\n",
    "\n",
    "\n",
    "\n",
    "\n",
    "\n",
    "\n",
    "</div>"
   ]
  },
  {
   "cell_type": "markdown",
   "metadata": {},
   "source": [
    "Проверили модель 'случайный лес' на тестовой выборке.\n",
    "Доля правильных ответов не менее 0.8, что соответствует поставленной задаче."
   ]
  },
  {
   "cell_type": "markdown",
   "metadata": {},
   "source": [
    "\n",
    "<div class=\"alert alert-danger\">\n",
    "<font size=\"5\"><b>Комментарий ревьюера</b></font>\n",
    "\n",
    "К данному этапу мы должны подойти с одной выбранной моделью. Алексей, о логике использования датасетов:\n",
    "    \n",
    "1. На train мы обучаем\n",
    "2. По валидации смотрим на результаты обучения (следим чтобы не было переобучения и/или делаем подбор гиперпараметров).  И выбираем лучшую модель. \n",
    "3. Тестовая (out-of_sample) у нас для финальной проверки готовой модели, ты же опять начинаешь обучать (fit), в итоге получая новую модель валидированную на test. Что такое финальная проверка? Это имитация реального прогноза, в реальном прогнозе мы знаем ответ? Нет. Поэтому тут мы используем модель обученную на данных которые мы знаем. В общем хватит уже обучать, когда то надо и проверить чего мы наобучали. Так?!\n",
    "    \n",
    " [Вот](https://towardsdatascience.com/why-do-we-need-a-validation-set-in-addition-to-training-and-test-sets-5cf4a65550e0   ) тут можно дополнительно почитать.\n",
    "\n",
    "<div class=\"alert alert-warning\">\n",
    "   \n",
    "Совет: \n",
    "\n",
    "- Как попробовать улучшить результат, не мучаясь с кодом?! Смотри - мы сформировали train выборку на которой обучаем модель, а валидационную используем для поиска лучших значений гиперпараметров. Оке, нашли их. Так почему бы теперь модель с выбранными гиперпараметрами не обучить на тренировочной + валидационной выборке (только не нужно делать новые сплиты, используй pd.concat(), к примеру)?! Чем больше данных, тем лучше модель может обучиться. И эту дообученную модель проверим на тесте. Гаранитий что станет лучше нет, но ML это постоянные эксперименты.\n",
    "</div>\n",
    "\n"
   ]
  },
  {
   "cell_type": "markdown",
   "metadata": {},
   "source": [
    "<div class=\"alert alert-info\"> <b>Комментарий студента:</b> \n",
    "    \n",
    "Согласен полностью, вину признаю).  \n",
    "Проверил выбранную модель на тестовой выборке.</div>"
   ]
  },
  {
   "cell_type": "markdown",
   "metadata": {},
   "source": [
    "## (бонус) Проверьте модели на адекватность"
   ]
  },
  {
   "cell_type": "markdown",
   "metadata": {},
   "source": [
    "Точность модели может быть расчитана по формуле:\n",
    "accuracy = количество объектов/количество правильных ответов.\n",
    "Рассмотрим отдельно ответы «1» (тариф 'Ультра') и «0» (тариф 'Смарт'):\n",
    "\n",
    "accuracy = (количество ответов 1) ⋅ (доля ответов 1) + (количество ответов 0) ⋅ (доля ответов 0) / количество ответов всего "
   ]
  },
  {
   "cell_type": "markdown",
   "metadata": {},
   "source": [
    "5.1.1 Посчитаем количество значений \"1\"."
   ]
  },
  {
   "cell_type": "code",
   "execution_count": 18,
   "metadata": {},
   "outputs": [],
   "source": [
    "count_one = df.loc[df['is_ultra'] == 1, 'is_ultra'].count()"
   ]
  },
  {
   "cell_type": "markdown",
   "metadata": {},
   "source": [
    "5.1.2 Посчитаем количество значений \"0\"."
   ]
  },
  {
   "cell_type": "code",
   "execution_count": 19,
   "metadata": {},
   "outputs": [],
   "source": [
    "count_zero = df.loc[df['is_ultra'] == 0, 'is_ultra'].count()"
   ]
  },
  {
   "cell_type": "markdown",
   "metadata": {},
   "source": [
    "5.1.3 Общее кол-во пользователей двух тарифов."
   ]
  },
  {
   "cell_type": "code",
   "execution_count": 20,
   "metadata": {},
   "outputs": [],
   "source": [
    "count_sum = df['is_ultra'].value_counts().sum()"
   ]
  },
  {
   "cell_type": "code",
   "execution_count": 21,
   "metadata": {},
   "outputs": [
    {
     "data": {
      "text/plain": [
       "0.5749064163513006"
      ]
     },
     "execution_count": 21,
     "metadata": {},
     "output_type": "execute_result"
    }
   ],
   "source": [
    "# count_one/count_sum - доля '1', 1 - count_one/count_sum - доля '0'\n",
    "accuracy = (count_one * (count_one/count_sum)  + count_zero * (1 - count_one/count_sum))/count_sum\n",
    "accuracy"
   ]
  },
  {
   "cell_type": "markdown",
   "metadata": {},
   "source": [
    "Случайные ответы имеют результат - 0,575.\n",
    "Финальная модель, со значением 0,8, показывает результаты лучше, чем случайные ответы — модель можно считать адекватной."
   ]
  },
  {
   "cell_type": "markdown",
   "metadata": {},
   "source": [
    "Вывод. \n",
    "- Первоначальный датасет имел выраженный дисбаланс (70% ответов целевого признака были нулевые, 30% ровнялись 1).\n",
    "Для корректности проводимого обучения сохранили сохранили изначальное распределение таргетов во всех новых датасетах\n",
    "с помощью аргумент stratify.\n",
    "- Было проведено исследуем качество разных моделей: решающее дерево, случайный лес, логистическая регрессии. Улучшение модели происходило путем цикла выбора гиперпараметров.\n",
    "- Лучший результат показал  - случайный лес (RandomForestClassifier).\n",
    "- Финальные параметры выбранной модели RandomForestClassifier(random_state=12345, n_estimators=20, max_depth=10). Точность модели на тестовой выборке - 0,8.\n",
    "- Модель RandomForestClassifier прошла проверку на адекватность в сравнении с константной моделью: score константой модели: 0,693."
   ]
  },
  {
   "cell_type": "markdown",
   "metadata": {},
   "source": [
    "\n",
    "<div class=\"alert alert-danger\">\n",
    "<font size=\"5\"><b>Комментарий ревьюера</b></font>\n",
    "\n",
    "Ошибка:\n",
    "\n",
    "Алексей, в целевом признаке у нас дисбаланс, нули встречаются гораздо чаще единичек!  Какая будет accuracy у наивной модели которая предсказывает постоянно нули?\n",
    "\n",
    "\n",
    "<div class=\"alert alert-warning\">\n",
    "\n",
    "\n",
    "Совет: \n",
    "\n",
    "При проверке на адекватность модели, рекомендую ознакомиться с [Dummy Models](https://scikit-learn.org/stable/modules/generated/sklearn.dummy.DummyClassifier.html), это удобная обертка для константных моделей\n",
    "\n",
    "</div>\n",
    "\n"
   ]
  },
  {
   "cell_type": "code",
   "execution_count": 22,
   "metadata": {},
   "outputs": [
    {
     "data": {
      "text/plain": [
       "0.6934647302904564"
      ]
     },
     "execution_count": 22,
     "metadata": {},
     "output_type": "execute_result"
    }
   ],
   "source": [
    "dummy_clf = DummyClassifier(strategy=\"most_frequent\")\n",
    "dummy_clf.fit(features_train, target_train)\n",
    "dummy_clf.predict(features_train)\n",
    "dummy_clf.score(features_train, target_train)"
   ]
  },
  {
   "cell_type": "markdown",
   "metadata": {},
   "source": [
    "<div class=\"alert alert-info\"> <b>Комментарий студента:</b>\n",
    "    \n",
    "Модель с высокой точностью будет выдавать 0 на выборке с выраженным дисбалансом. Выходит, что мы обучили модель отлично работать с 0, но в случае тестовой выборке, да при том и сбалансированной - точность будет низкая, модель будет сильно склоняться к одному из вариантов ответа (часто встречающемуся). \n",
    "    \n",
    "Использовал DummyClassifier при проверке на адекватность.</div>"
   ]
  },
  {
   "cell_type": "markdown",
   "metadata": {},
   "source": [
    "<div class=\"alert alert-success\">\n",
    "<font size=\"5\"><b>Комментарий ревьюераV2</b></font>\n",
    "\n",
    "\n",
    "\n",
    "Успех 👍:\n",
    "\n",
    "\n",
    "\n",
    "👍\n",
    "\n",
    "\n",
    "\n",
    "\n",
    "</div>\n"
   ]
  },
  {
   "cell_type": "markdown",
   "metadata": {},
   "source": [
    "\n",
    "<div class=\"alert alert-info\">\n",
    "<font size=\"5\"><b>Комментарий ревьюера</b></font>\n",
    "\n",
    "\n",
    "\n",
    "\n",
    "Алексей, у тебя старательно выполненная работа, все четко, осмысленно. Выводы присутствуют, с комментированием кода тоже никаких проблем нет, твоих объяснений достаточно для понимания коллегами хода твоих мыслей. \n",
    "\n",
    "\n",
    "\n",
    "Я оставил небольшие советы и вопросики (если есть время и желание можешь воспользоваться/ответить): \n",
    "\n",
    "\n",
    "\n",
    "\n",
    "- обрати внимание на проверку сбалансированность классов в таргете в разделе EDA\n",
    "- использовать stratify\n",
    "- добавить график метрики    \n",
    "- посоветовал посмотреть в сторону GridSearchCV\n",
    "- как можно улучшить результаты \n",
    "\n",
    "\n",
    "\n",
    "Замечания на будущее:\n",
    "    \n",
    "\n",
    " \n",
    "- Было бы замечательно, в выводе немножко о данных, работе с ними (пусть даже никакой работы и не было), моделировании и полученных результатах. Это важно потому что когда проект захочет посмотреть будущий работодатель (или начальник), у него может не быть времени на подробный разбор кода. Вероятнее всего он бегло просмотрит код, а из общего вывода захочет получить представление о всей работе.\n",
    "\n",
    " \n",
    "    \n",
    "Обязательное к исправлению:\n",
    "\n",
    "\n",
    "\n",
    "- к моменту проверки качества прогноза на тесте, приходим с уже одной выбранной моделью с лучшими гиперпараметрами выбранными на валидации\n",
    "\n",
    "- стоит переделать бонусное задание с учётом моего комментария (по желанию, это все таки бонусное)\n",
    " \n",
    "\n",
    "Жду исправлений, для принятия проекта. Если какие то вопросы, то сразу спрашивай ) \n",
    "\n",
    "\n",
    "\n",
    "\n",
    "\n",
    "</div>"
   ]
  },
  {
   "cell_type": "markdown",
   "metadata": {},
   "source": [
    "\n",
    "<div class=\"alert alert-info\">\n",
    "<font size=\"5\"><b>Комментарий ревьюераV2</b></font>\n",
    "\n",
    "Спасибо за работу!    \n",
    "\n",
    "    \n",
    "Красное исправлено, многие желтые советы использованы, на  вопросы есть ответы  (это все было по желанию), значит стремишься развиваться, а желание и интерес это главное. Надеюсь мои советы и вопросики были полезны и в копилочку знаний упало что то новое, а проект стал лучше, и симпатичней.\n",
    "\n",
    "\n",
    "\n",
    "Отличная работа Алексей. Желаю успехов в дальнейшей учебе!\n",
    "\n"
   ]
  },
  {
   "cell_type": "markdown",
   "metadata": {},
   "source": [
    "## Чек-лист готовности проекта"
   ]
  },
  {
   "cell_type": "markdown",
   "metadata": {},
   "source": [
    "Поставьте 'x' в выполненных пунктах. Далее нажмите Shift+Enter."
   ]
  },
  {
   "cell_type": "markdown",
   "metadata": {},
   "source": [
    "- [x] Jupyter Notebook открыт\n",
    "- [x] Весь код исполняется без ошибок\n",
    "- [x] Ячейки с кодом расположены в порядке исполнения\n",
    "- [x] Выполнено задание 1: данные загружены и изучены\n",
    "- [x] Выполнено задание 2: данные разбиты на три выборки\n",
    "- [x] Выполнено задание 3: проведено исследование моделей\n",
    "    - [x] Рассмотрено больше одной модели\n",
    "    - [x] Рассмотрено хотя бы 3 значения гипепараметров для какой-нибудь модели\n",
    "    - [x] Написаны выводы по результатам исследования\n",
    "- [x] Выполнено задание 3: Проведено тестирование\n",
    "- [x] Удалось достичь accuracy не меньше 0.75\n"
   ]
  },
  {
   "cell_type": "code",
   "execution_count": 1,
   "metadata": {},
   "outputs": [],
   "source": [
    "from tensorflow.keras.datasets import fashion_mnist\n",
    "from tensorflow.keras.layers import Dense\n",
    "from tensorflow.keras.models import Sequential\n",
    "import numpy as np\n",
    "from sklearn.metrics import accuracy_score"
   ]
  },
  {
   "cell_type": "code",
   "execution_count": 2,
   "metadata": {},
   "outputs": [],
   "source": [
    "def load_train(path):\n",
    "    features_train = np.load(path + 'train_features.npy')\n",
    "    target_train = np.load(path + 'train_target.npy')\n",
    "    features_train = features_train.reshape(features_train.shape[0], 28 * 28) / 255.\n",
    "    return features_train, target_train"
   ]
  },
  {
   "cell_type": "code",
   "execution_count": 3,
   "metadata": {},
   "outputs": [],
   "source": [
    "def create_model(input_shape):\n",
    "    model = Sequential()\n",
    "    model.add(Dense(10, input_shape=input_shape, activation='ReLU'))\n",
    "    model.add(Dense(1, activation='softmax'))\n",
    "    model.compile(optimizer='sgd', loss='sparse_categorical_crossentropy',\n",
    "                  metrics=['acc'])\n",
    "    return model"
   ]
  },
  {
   "cell_type": "code",
   "execution_count": 4,
   "metadata": {},
   "outputs": [],
   "source": [
    "def train_model(model, train_data, test_data, batch_size=32, epochs=5,\n",
    "               steps_per_epoch=None, validation_steps=None):\n",
    "\n",
    "    features_train, target_train = train_data\n",
    "    features_test, target_test = test_data\n",
    "    model.fit(features_train, target_train, \n",
    "              validation_data=(features_test, target_test),\n",
    "              batch_size=batch_size, epochs=epochs,\n",
    "              steps_per_epoch=steps_per_epoch,\n",
    "              validation_steps=validation_steps,\n",
    "              verbose=2, shuffle=True)\n",
    "\n",
    "    return model "
   ]
  },
  {
   "cell_type": "code",
   "execution_count": 5,
   "metadata": {},
   "outputs": [
    {
     "ename": "NameError",
     "evalue": "name 'model' is not defined",
     "output_type": "error",
     "traceback": [
      "\u001b[0;31m---------------------------------------------------------------------------\u001b[0m",
      "\u001b[0;31mNameError\u001b[0m                                 Traceback (most recent call last)",
      "\u001b[0;32m/tmp/ipykernel_32/3378269338.py\u001b[0m in \u001b[0;36m<module>\u001b[0;34m\u001b[0m\n\u001b[0;32m----> 1\u001b[0;31m \u001b[0mpredictions\u001b[0m \u001b[0;34m=\u001b[0m \u001b[0mmodel\u001b[0m\u001b[0;34m.\u001b[0m\u001b[0mpredict\u001b[0m\u001b[0;34m(\u001b[0m\u001b[0mfeatures_test\u001b[0m\u001b[0;34m)\u001b[0m \u001b[0;34m>\u001b[0m \u001b[0;36m0.5\u001b[0m\u001b[0;34m\u001b[0m\u001b[0;34m\u001b[0m\u001b[0m\n\u001b[0m\u001b[1;32m      2\u001b[0m \u001b[0mscore\u001b[0m \u001b[0;34m=\u001b[0m \u001b[0maccuracy_score\u001b[0m\u001b[0;34m(\u001b[0m\u001b[0mtarget_test\u001b[0m\u001b[0;34m,\u001b[0m \u001b[0mpredictions\u001b[0m\u001b[0;34m)\u001b[0m\u001b[0;34m\u001b[0m\u001b[0;34m\u001b[0m\u001b[0m\n\u001b[1;32m      3\u001b[0m \u001b[0mprint\u001b[0m\u001b[0;34m(\u001b[0m\u001b[0;34m\"Accuracy:\"\u001b[0m\u001b[0;34m,\u001b[0m \u001b[0mscore\u001b[0m\u001b[0;34m)\u001b[0m\u001b[0;34m\u001b[0m\u001b[0;34m\u001b[0m\u001b[0m\n",
      "\u001b[0;31mNameError\u001b[0m: name 'model' is not defined"
     ]
    }
   ],
   "source": [
    "predictions = model.predict(features_test) > 0.5\n",
    "score = accuracy_score(target_test, predictions)\n",
    "print(\"Accuracy:\", score)"
   ]
  },
  {
   "cell_type": "code",
   "execution_count": null,
   "metadata": {},
   "outputs": [],
   "source": []
  }
 ],
 "metadata": {
  "ExecuteTimeLog": [
   {
    "duration": 369,
    "start_time": "2022-11-19T20:54:25.151Z"
   },
   {
    "duration": 121,
    "start_time": "2022-11-19T20:54:25.811Z"
   },
   {
    "duration": 23,
    "start_time": "2022-11-19T20:55:28.085Z"
   },
   {
    "duration": 10,
    "start_time": "2022-11-19T20:55:55.893Z"
   },
   {
    "duration": 614,
    "start_time": "2022-11-19T21:03:18.948Z"
   },
   {
    "duration": 93,
    "start_time": "2022-11-19T21:03:19.564Z"
   },
   {
    "duration": 5,
    "start_time": "2022-11-19T21:03:43.357Z"
   },
   {
    "duration": 13,
    "start_time": "2022-11-19T21:03:51.850Z"
   },
   {
    "duration": 5,
    "start_time": "2022-11-19T21:04:11.528Z"
   },
   {
    "duration": 1075,
    "start_time": "2022-11-20T09:47:27.587Z"
   },
   {
    "duration": 65,
    "start_time": "2022-11-20T09:47:28.665Z"
   },
   {
    "duration": 21,
    "start_time": "2022-11-20T09:47:29.488Z"
   },
   {
    "duration": 12,
    "start_time": "2022-11-20T09:47:31.426Z"
   },
   {
    "duration": 92,
    "start_time": "2022-11-20T09:47:34.534Z"
   },
   {
    "duration": 9,
    "start_time": "2022-11-20T09:48:02.050Z"
   },
   {
    "duration": 1066,
    "start_time": "2022-11-20T09:48:08.482Z"
   },
   {
    "duration": 30,
    "start_time": "2022-11-20T09:48:09.549Z"
   },
   {
    "duration": 86,
    "start_time": "2022-11-20T09:48:09.581Z"
   },
   {
    "duration": 0,
    "start_time": "2022-11-20T09:48:09.669Z"
   },
   {
    "duration": 0,
    "start_time": "2022-11-20T09:48:09.670Z"
   },
   {
    "duration": 0,
    "start_time": "2022-11-20T09:48:09.671Z"
   },
   {
    "duration": 0,
    "start_time": "2022-11-20T09:48:09.672Z"
   },
   {
    "duration": 2,
    "start_time": "2022-11-20T09:48:11.991Z"
   },
   {
    "duration": 28,
    "start_time": "2022-11-20T09:48:12.453Z"
   },
   {
    "duration": 8,
    "start_time": "2022-11-20T09:48:13.538Z"
   },
   {
    "duration": 20,
    "start_time": "2022-11-20T09:48:19.095Z"
   },
   {
    "duration": 14,
    "start_time": "2022-11-20T09:48:20.274Z"
   },
   {
    "duration": 4,
    "start_time": "2022-11-20T09:48:26.643Z"
   },
   {
    "duration": 6,
    "start_time": "2022-11-20T09:48:27.230Z"
   },
   {
    "duration": 11,
    "start_time": "2022-11-20T09:48:30.684Z"
   },
   {
    "duration": 36,
    "start_time": "2022-11-20T09:49:01.444Z"
   },
   {
    "duration": 1084,
    "start_time": "2022-11-20T09:49:06.095Z"
   },
   {
    "duration": 31,
    "start_time": "2022-11-20T09:49:07.181Z"
   },
   {
    "duration": 19,
    "start_time": "2022-11-20T09:49:07.213Z"
   },
   {
    "duration": 10,
    "start_time": "2022-11-20T09:49:07.234Z"
   },
   {
    "duration": 3,
    "start_time": "2022-11-20T09:49:07.246Z"
   },
   {
    "duration": 7,
    "start_time": "2022-11-20T09:49:07.250Z"
   },
   {
    "duration": 87,
    "start_time": "2022-11-20T09:49:07.259Z"
   },
   {
    "duration": 2,
    "start_time": "2022-11-20T09:49:09.522Z"
   },
   {
    "duration": 29,
    "start_time": "2022-11-20T09:49:09.915Z"
   },
   {
    "duration": 13,
    "start_time": "2022-11-20T09:49:10.742Z"
   },
   {
    "duration": 10,
    "start_time": "2022-11-20T09:49:11.388Z"
   },
   {
    "duration": 4,
    "start_time": "2022-11-20T09:49:14.225Z"
   },
   {
    "duration": 5,
    "start_time": "2022-11-20T09:49:14.718Z"
   },
   {
    "duration": 73,
    "start_time": "2022-11-20T09:49:16.331Z"
   },
   {
    "duration": 1060,
    "start_time": "2022-11-20T09:57:53.303Z"
   },
   {
    "duration": 29,
    "start_time": "2022-11-20T09:57:54.365Z"
   },
   {
    "duration": 20,
    "start_time": "2022-11-20T09:57:54.395Z"
   },
   {
    "duration": 10,
    "start_time": "2022-11-20T09:57:54.416Z"
   },
   {
    "duration": 12,
    "start_time": "2022-11-20T09:57:54.428Z"
   },
   {
    "duration": 7,
    "start_time": "2022-11-20T09:57:54.442Z"
   },
   {
    "duration": 7,
    "start_time": "2022-11-20T09:57:54.450Z"
   },
   {
    "duration": 6,
    "start_time": "2022-11-20T09:57:54.458Z"
   },
   {
    "duration": 70,
    "start_time": "2022-11-20T09:57:54.465Z"
   },
   {
    "duration": 0,
    "start_time": "2022-11-20T09:57:54.536Z"
   },
   {
    "duration": 2,
    "start_time": "2022-11-20T09:57:57.934Z"
   },
   {
    "duration": 30,
    "start_time": "2022-11-20T09:57:58.346Z"
   },
   {
    "duration": 11,
    "start_time": "2022-11-20T09:57:59.310Z"
   },
   {
    "duration": 10,
    "start_time": "2022-11-20T09:58:00.385Z"
   },
   {
    "duration": 5,
    "start_time": "2022-11-20T09:58:03.474Z"
   },
   {
    "duration": 5,
    "start_time": "2022-11-20T09:58:05.070Z"
   },
   {
    "duration": 3,
    "start_time": "2022-11-20T09:58:05.741Z"
   },
   {
    "duration": 2,
    "start_time": "2022-11-20T09:58:06.109Z"
   },
   {
    "duration": 75,
    "start_time": "2022-11-20T09:58:07.994Z"
   },
   {
    "duration": 32,
    "start_time": "2022-11-20T09:58:25.941Z"
   },
   {
    "duration": 30,
    "start_time": "2022-11-20T09:58:29.757Z"
   },
   {
    "duration": 29,
    "start_time": "2022-11-20T09:58:42.176Z"
   },
   {
    "duration": 1077,
    "start_time": "2022-11-20T10:04:44.393Z"
   },
   {
    "duration": 30,
    "start_time": "2022-11-20T10:04:45.472Z"
   },
   {
    "duration": 18,
    "start_time": "2022-11-20T10:04:45.503Z"
   },
   {
    "duration": 11,
    "start_time": "2022-11-20T10:04:45.849Z"
   },
   {
    "duration": 5,
    "start_time": "2022-11-20T10:04:48.977Z"
   },
   {
    "duration": 5,
    "start_time": "2022-11-20T10:04:49.440Z"
   },
   {
    "duration": 3,
    "start_time": "2022-11-20T10:04:52.116Z"
   },
   {
    "duration": 2,
    "start_time": "2022-11-20T10:04:52.575Z"
   },
   {
    "duration": 30,
    "start_time": "2022-11-20T10:04:54.025Z"
   },
   {
    "duration": 2,
    "start_time": "2022-11-20T10:04:56.275Z"
   },
   {
    "duration": 291,
    "start_time": "2022-11-20T10:04:57.627Z"
   },
   {
    "duration": 297,
    "start_time": "2022-11-20T10:08:17.793Z"
   },
   {
    "duration": 523,
    "start_time": "2022-11-20T10:09:33.549Z"
   },
   {
    "duration": 1469,
    "start_time": "2022-11-20T10:09:42.602Z"
   },
   {
    "duration": 565,
    "start_time": "2022-11-20T10:09:49.929Z"
   },
   {
    "duration": 1052,
    "start_time": "2022-11-20T10:28:18.238Z"
   },
   {
    "duration": 30,
    "start_time": "2022-11-20T10:28:19.291Z"
   },
   {
    "duration": 19,
    "start_time": "2022-11-20T10:28:19.322Z"
   },
   {
    "duration": 14,
    "start_time": "2022-11-20T10:28:19.343Z"
   },
   {
    "duration": 4,
    "start_time": "2022-11-20T10:28:19.358Z"
   },
   {
    "duration": 9,
    "start_time": "2022-11-20T10:28:19.364Z"
   },
   {
    "duration": 4,
    "start_time": "2022-11-20T10:28:19.375Z"
   },
   {
    "duration": 7,
    "start_time": "2022-11-20T10:28:19.381Z"
   },
   {
    "duration": 38,
    "start_time": "2022-11-20T10:28:19.389Z"
   },
   {
    "duration": 2,
    "start_time": "2022-11-20T10:28:19.430Z"
   },
   {
    "duration": 533,
    "start_time": "2022-11-20T10:28:19.434Z"
   },
   {
    "duration": 448,
    "start_time": "2022-11-20T10:28:19.968Z"
   },
   {
    "duration": 3,
    "start_time": "2022-11-20T10:28:32.142Z"
   },
   {
    "duration": 30,
    "start_time": "2022-11-20T10:28:32.593Z"
   },
   {
    "duration": 13,
    "start_time": "2022-11-20T10:28:33.426Z"
   },
   {
    "duration": 11,
    "start_time": "2022-11-20T10:28:34.091Z"
   },
   {
    "duration": 5,
    "start_time": "2022-11-20T10:28:34.983Z"
   },
   {
    "duration": 5,
    "start_time": "2022-11-20T10:28:35.446Z"
   },
   {
    "duration": 2,
    "start_time": "2022-11-20T10:28:35.995Z"
   },
   {
    "duration": 2,
    "start_time": "2022-11-20T10:28:36.680Z"
   },
   {
    "duration": 30,
    "start_time": "2022-11-20T10:28:37.913Z"
   },
   {
    "duration": 2,
    "start_time": "2022-11-20T10:28:38.439Z"
   },
   {
    "duration": 528,
    "start_time": "2022-11-20T10:28:39.697Z"
   },
   {
    "duration": 320,
    "start_time": "2022-11-20T10:28:43.904Z"
   },
   {
    "duration": 122,
    "start_time": "2022-11-20T10:29:58.529Z"
   },
   {
    "duration": 30,
    "start_time": "2022-11-20T10:31:11.256Z"
   },
   {
    "duration": 591,
    "start_time": "2022-11-20T10:31:55.345Z"
   },
   {
    "duration": 546,
    "start_time": "2022-11-20T10:32:45.403Z"
   },
   {
    "duration": 482,
    "start_time": "2022-11-20T10:33:38.032Z"
   },
   {
    "duration": 30,
    "start_time": "2022-11-20T10:34:10.019Z"
   },
   {
    "duration": 1072,
    "start_time": "2022-11-20T10:34:19.725Z"
   },
   {
    "duration": 30,
    "start_time": "2022-11-20T10:34:20.798Z"
   },
   {
    "duration": 18,
    "start_time": "2022-11-20T10:34:20.830Z"
   },
   {
    "duration": 14,
    "start_time": "2022-11-20T10:34:20.849Z"
   },
   {
    "duration": 4,
    "start_time": "2022-11-20T10:34:20.864Z"
   },
   {
    "duration": 5,
    "start_time": "2022-11-20T10:34:20.869Z"
   },
   {
    "duration": 4,
    "start_time": "2022-11-20T10:34:20.876Z"
   },
   {
    "duration": 4,
    "start_time": "2022-11-20T10:34:20.882Z"
   },
   {
    "duration": 36,
    "start_time": "2022-11-20T10:34:20.887Z"
   },
   {
    "duration": 3,
    "start_time": "2022-11-20T10:34:20.925Z"
   },
   {
    "duration": 592,
    "start_time": "2022-11-20T10:34:20.930Z"
   },
   {
    "duration": 492,
    "start_time": "2022-11-20T10:34:21.524Z"
   },
   {
    "duration": 622,
    "start_time": "2022-11-20T10:34:22.020Z"
   },
   {
    "duration": 3,
    "start_time": "2022-11-20T10:34:24.835Z"
   },
   {
    "duration": 29,
    "start_time": "2022-11-20T10:34:25.087Z"
   },
   {
    "duration": 12,
    "start_time": "2022-11-20T10:34:25.491Z"
   },
   {
    "duration": 11,
    "start_time": "2022-11-20T10:34:25.699Z"
   },
   {
    "duration": 4,
    "start_time": "2022-11-20T10:34:26.124Z"
   },
   {
    "duration": 4,
    "start_time": "2022-11-20T10:34:26.318Z"
   },
   {
    "duration": 2,
    "start_time": "2022-11-20T10:34:26.478Z"
   },
   {
    "duration": 2,
    "start_time": "2022-11-20T10:34:26.637Z"
   },
   {
    "duration": 30,
    "start_time": "2022-11-20T10:34:27.414Z"
   },
   {
    "duration": 2,
    "start_time": "2022-11-20T10:34:27.635Z"
   },
   {
    "duration": 557,
    "start_time": "2022-11-20T10:34:28.303Z"
   },
   {
    "duration": 555,
    "start_time": "2022-11-20T10:34:28.862Z"
   },
   {
    "duration": 694,
    "start_time": "2022-11-20T10:34:29.419Z"
   },
   {
    "duration": 344,
    "start_time": "2022-11-20T10:35:20.242Z"
   },
   {
    "duration": 1088,
    "start_time": "2022-11-21T11:03:31.005Z"
   },
   {
    "duration": 67,
    "start_time": "2022-11-21T11:03:32.095Z"
   },
   {
    "duration": 26,
    "start_time": "2022-11-21T11:03:32.454Z"
   },
   {
    "duration": 13,
    "start_time": "2022-11-21T11:03:33.706Z"
   },
   {
    "duration": 6,
    "start_time": "2022-11-21T11:03:36.556Z"
   },
   {
    "duration": 4,
    "start_time": "2022-11-21T11:03:41.136Z"
   },
   {
    "duration": 7,
    "start_time": "2022-11-21T11:17:29.641Z"
   },
   {
    "duration": 5,
    "start_time": "2022-11-21T11:17:29.971Z"
   },
   {
    "duration": 3,
    "start_time": "2022-11-21T11:17:30.406Z"
   },
   {
    "duration": 3,
    "start_time": "2022-11-21T11:17:30.775Z"
   },
   {
    "duration": 135,
    "start_time": "2022-11-21T11:17:32.351Z"
   },
   {
    "duration": 29,
    "start_time": "2022-11-21T11:18:59.617Z"
   },
   {
    "duration": 261,
    "start_time": "2022-11-21T11:19:49.035Z"
   },
   {
    "duration": 39,
    "start_time": "2022-11-21T11:34:36.942Z"
   },
   {
    "duration": 34,
    "start_time": "2022-11-21T11:34:48.127Z"
   },
   {
    "duration": 34,
    "start_time": "2022-11-21T11:53:47.109Z"
   },
   {
    "duration": 38,
    "start_time": "2022-11-21T11:53:55.903Z"
   },
   {
    "duration": 1122,
    "start_time": "2022-11-21T11:54:09.819Z"
   },
   {
    "duration": 32,
    "start_time": "2022-11-21T11:54:10.943Z"
   },
   {
    "duration": 22,
    "start_time": "2022-11-21T11:54:10.977Z"
   },
   {
    "duration": 24,
    "start_time": "2022-11-21T11:54:11.001Z"
   },
   {
    "duration": 25,
    "start_time": "2022-11-21T11:54:11.027Z"
   },
   {
    "duration": 23,
    "start_time": "2022-11-21T11:54:11.054Z"
   },
   {
    "duration": 31,
    "start_time": "2022-11-21T11:54:11.079Z"
   },
   {
    "duration": 20,
    "start_time": "2022-11-21T11:54:11.112Z"
   },
   {
    "duration": 55,
    "start_time": "2022-11-21T11:54:11.134Z"
   },
   {
    "duration": 3,
    "start_time": "2022-11-21T11:54:11.192Z"
   },
   {
    "duration": 299,
    "start_time": "2022-11-21T11:54:11.197Z"
   },
   {
    "duration": 38,
    "start_time": "2022-11-21T11:54:11.498Z"
   },
   {
    "duration": 495,
    "start_time": "2022-11-21T11:54:11.537Z"
   },
   {
    "duration": 3,
    "start_time": "2022-11-21T11:54:15.762Z"
   },
   {
    "duration": 31,
    "start_time": "2022-11-21T11:54:16.668Z"
   },
   {
    "duration": 13,
    "start_time": "2022-11-21T11:54:17.606Z"
   },
   {
    "duration": 11,
    "start_time": "2022-11-21T11:54:18.236Z"
   },
   {
    "duration": 6,
    "start_time": "2022-11-21T11:54:19.183Z"
   },
   {
    "duration": 4,
    "start_time": "2022-11-21T11:54:19.558Z"
   },
   {
    "duration": 2,
    "start_time": "2022-11-21T11:54:20.163Z"
   },
   {
    "duration": 2,
    "start_time": "2022-11-21T11:54:20.661Z"
   },
   {
    "duration": 30,
    "start_time": "2022-11-21T11:54:22.190Z"
   },
   {
    "duration": 3,
    "start_time": "2022-11-21T11:54:29.885Z"
   },
   {
    "duration": 245,
    "start_time": "2022-11-21T11:54:30.521Z"
   },
   {
    "duration": 39,
    "start_time": "2022-11-21T11:54:31.714Z"
   },
   {
    "duration": 32,
    "start_time": "2022-11-21T12:04:34.245Z"
   },
   {
    "duration": 1110,
    "start_time": "2022-11-21T12:07:30.602Z"
   },
   {
    "duration": 38,
    "start_time": "2022-11-21T12:07:31.714Z"
   },
   {
    "duration": 19,
    "start_time": "2022-11-21T12:07:31.755Z"
   },
   {
    "duration": 13,
    "start_time": "2022-11-21T12:07:31.777Z"
   },
   {
    "duration": 9,
    "start_time": "2022-11-21T12:07:31.792Z"
   },
   {
    "duration": 9,
    "start_time": "2022-11-21T12:07:31.802Z"
   },
   {
    "duration": 9,
    "start_time": "2022-11-21T12:07:31.813Z"
   },
   {
    "duration": 12,
    "start_time": "2022-11-21T12:07:31.824Z"
   },
   {
    "duration": 30,
    "start_time": "2022-11-21T12:07:31.838Z"
   },
   {
    "duration": 9,
    "start_time": "2022-11-21T12:07:31.870Z"
   },
   {
    "duration": 257,
    "start_time": "2022-11-21T12:07:31.880Z"
   },
   {
    "duration": 39,
    "start_time": "2022-11-21T12:07:32.139Z"
   },
   {
    "duration": 252,
    "start_time": "2022-11-21T12:07:32.180Z"
   },
   {
    "duration": 4,
    "start_time": "2022-11-21T12:07:34.592Z"
   },
   {
    "duration": 30,
    "start_time": "2022-11-21T12:07:34.859Z"
   },
   {
    "duration": 17,
    "start_time": "2022-11-21T12:07:35.599Z"
   },
   {
    "duration": 14,
    "start_time": "2022-11-21T12:07:36.175Z"
   },
   {
    "duration": 6,
    "start_time": "2022-11-21T12:07:36.622Z"
   },
   {
    "duration": 7,
    "start_time": "2022-11-21T12:07:36.815Z"
   },
   {
    "duration": 2,
    "start_time": "2022-11-21T12:07:37.055Z"
   },
   {
    "duration": 2,
    "start_time": "2022-11-21T12:07:37.330Z"
   },
   {
    "duration": 28,
    "start_time": "2022-11-21T12:07:38.321Z"
   },
   {
    "duration": 2,
    "start_time": "2022-11-21T12:07:38.484Z"
   },
   {
    "duration": 243,
    "start_time": "2022-11-21T12:07:38.994Z"
   },
   {
    "duration": 34,
    "start_time": "2022-11-21T12:07:40.101Z"
   },
   {
    "duration": 34,
    "start_time": "2022-11-21T12:08:28.744Z"
   },
   {
    "duration": 35,
    "start_time": "2022-11-21T12:08:31.923Z"
   },
   {
    "duration": 251,
    "start_time": "2022-11-21T12:08:36.061Z"
   },
   {
    "duration": 75,
    "start_time": "2022-11-21T12:33:11.989Z"
   },
   {
    "duration": 6,
    "start_time": "2022-11-21T12:33:19.108Z"
   },
   {
    "duration": 6,
    "start_time": "2022-11-21T12:33:28.488Z"
   },
   {
    "duration": 6,
    "start_time": "2022-11-21T12:33:56.082Z"
   },
   {
    "duration": 47,
    "start_time": "2022-11-21T19:39:42.663Z"
   },
   {
    "duration": 1032,
    "start_time": "2022-11-21T19:42:25.038Z"
   },
   {
    "duration": 116,
    "start_time": "2022-11-21T19:42:26.071Z"
   },
   {
    "duration": 19,
    "start_time": "2022-11-21T19:42:26.189Z"
   },
   {
    "duration": 10,
    "start_time": "2022-11-21T19:42:26.210Z"
   },
   {
    "duration": 6,
    "start_time": "2022-11-21T19:42:26.562Z"
   },
   {
    "duration": 5,
    "start_time": "2022-11-21T19:42:26.836Z"
   },
   {
    "duration": 6,
    "start_time": "2022-11-21T19:42:27.250Z"
   },
   {
    "duration": 5,
    "start_time": "2022-11-21T19:42:27.458Z"
   },
   {
    "duration": 2,
    "start_time": "2022-11-21T19:42:27.866Z"
   },
   {
    "duration": 3,
    "start_time": "2022-11-21T19:42:28.074Z"
   },
   {
    "duration": 25,
    "start_time": "2022-11-21T19:42:29.007Z"
   },
   {
    "duration": 2,
    "start_time": "2022-11-21T19:42:29.190Z"
   },
   {
    "duration": 236,
    "start_time": "2022-11-21T19:42:30.942Z"
   },
   {
    "duration": 706,
    "start_time": "2022-11-21T19:42:34.011Z"
   },
   {
    "duration": 1521,
    "start_time": "2022-11-21T19:43:02.864Z"
   },
   {
    "duration": 1485,
    "start_time": "2022-11-21T19:43:08.392Z"
   },
   {
    "duration": 30,
    "start_time": "2022-11-21T19:43:11.676Z"
   },
   {
    "duration": 14,
    "start_time": "2022-11-21T19:43:12.748Z"
   },
   {
    "duration": 105,
    "start_time": "2022-11-21T19:43:13.839Z"
   },
   {
    "duration": 79,
    "start_time": "2022-11-21T19:43:37.776Z"
   },
   {
    "duration": 104,
    "start_time": "2022-11-21T19:43:43.284Z"
   },
   {
    "duration": 47,
    "start_time": "2022-11-21T19:44:43.156Z"
   },
   {
    "duration": 174,
    "start_time": "2022-11-21T19:44:56.502Z"
   },
   {
    "duration": 1053,
    "start_time": "2022-11-21T19:45:07.989Z"
   },
   {
    "duration": 28,
    "start_time": "2022-11-21T19:45:09.044Z"
   },
   {
    "duration": 17,
    "start_time": "2022-11-21T19:45:09.074Z"
   },
   {
    "duration": 11,
    "start_time": "2022-11-21T19:45:09.093Z"
   },
   {
    "duration": 17,
    "start_time": "2022-11-21T19:45:09.105Z"
   },
   {
    "duration": 5,
    "start_time": "2022-11-21T19:45:09.123Z"
   },
   {
    "duration": 8,
    "start_time": "2022-11-21T19:45:09.129Z"
   },
   {
    "duration": 13,
    "start_time": "2022-11-21T19:45:09.139Z"
   },
   {
    "duration": 5,
    "start_time": "2022-11-21T19:45:09.154Z"
   },
   {
    "duration": 8,
    "start_time": "2022-11-21T19:45:09.161Z"
   },
   {
    "duration": 30,
    "start_time": "2022-11-21T19:45:09.176Z"
   },
   {
    "duration": 3,
    "start_time": "2022-11-21T19:45:09.207Z"
   },
   {
    "duration": 258,
    "start_time": "2022-11-21T19:45:09.212Z"
   },
   {
    "duration": 695,
    "start_time": "2022-11-21T19:45:09.476Z"
   },
   {
    "duration": 1510,
    "start_time": "2022-11-21T19:45:10.172Z"
   },
   {
    "duration": 51,
    "start_time": "2022-11-21T19:45:11.683Z"
   },
   {
    "duration": 46,
    "start_time": "2022-11-21T19:45:11.735Z"
   },
   {
    "duration": 11,
    "start_time": "2022-11-21T19:45:11.783Z"
   },
   {
    "duration": 122,
    "start_time": "2022-11-21T19:45:11.795Z"
   },
   {
    "duration": 229,
    "start_time": "2022-11-21T19:45:11.919Z"
   },
   {
    "duration": 3,
    "start_time": "2022-11-21T19:45:12.877Z"
   },
   {
    "duration": 28,
    "start_time": "2022-11-21T19:45:13.098Z"
   },
   {
    "duration": 11,
    "start_time": "2022-11-21T19:45:13.516Z"
   },
   {
    "duration": 9,
    "start_time": "2022-11-21T19:45:13.740Z"
   },
   {
    "duration": 4,
    "start_time": "2022-11-21T19:45:13.994Z"
   },
   {
    "duration": 4,
    "start_time": "2022-11-21T19:45:14.186Z"
   },
   {
    "duration": 6,
    "start_time": "2022-11-21T19:45:14.508Z"
   },
   {
    "duration": 7,
    "start_time": "2022-11-21T19:45:14.685Z"
   },
   {
    "duration": 3,
    "start_time": "2022-11-21T19:45:14.878Z"
   },
   {
    "duration": 3,
    "start_time": "2022-11-21T19:45:15.078Z"
   },
   {
    "duration": 35,
    "start_time": "2022-11-21T19:45:15.661Z"
   },
   {
    "duration": 3,
    "start_time": "2022-11-21T19:45:15.886Z"
   },
   {
    "duration": 215,
    "start_time": "2022-11-21T19:45:16.944Z"
   },
   {
    "duration": 691,
    "start_time": "2022-11-21T19:45:17.495Z"
   },
   {
    "duration": 1521,
    "start_time": "2022-11-21T19:45:18.188Z"
   },
   {
    "duration": 44,
    "start_time": "2022-11-21T19:45:19.710Z"
   },
   {
    "duration": 40,
    "start_time": "2022-11-21T19:45:19.756Z"
   },
   {
    "duration": 10,
    "start_time": "2022-11-21T19:45:19.798Z"
   },
   {
    "duration": 115,
    "start_time": "2022-11-21T19:45:19.810Z"
   },
   {
    "duration": 228,
    "start_time": "2022-11-21T19:45:19.927Z"
   },
   {
    "duration": 1030,
    "start_time": "2022-11-21T19:45:51.722Z"
   },
   {
    "duration": 32,
    "start_time": "2022-11-21T19:45:52.754Z"
   },
   {
    "duration": 19,
    "start_time": "2022-11-21T19:45:52.787Z"
   },
   {
    "duration": 10,
    "start_time": "2022-11-21T19:45:52.808Z"
   },
   {
    "duration": 6,
    "start_time": "2022-11-21T19:45:52.820Z"
   },
   {
    "duration": 5,
    "start_time": "2022-11-21T19:45:52.862Z"
   },
   {
    "duration": 5,
    "start_time": "2022-11-21T19:45:53.144Z"
   },
   {
    "duration": 19,
    "start_time": "2022-11-21T19:45:53.505Z"
   },
   {
    "duration": 3,
    "start_time": "2022-11-21T19:45:53.679Z"
   },
   {
    "duration": 3,
    "start_time": "2022-11-21T19:45:53.840Z"
   },
   {
    "duration": 26,
    "start_time": "2022-11-21T19:45:54.481Z"
   },
   {
    "duration": 3,
    "start_time": "2022-11-21T19:45:54.672Z"
   },
   {
    "duration": 153,
    "start_time": "2022-11-21T19:45:55.211Z"
   },
   {
    "duration": 236,
    "start_time": "2022-11-21T19:45:55.424Z"
   },
   {
    "duration": 693,
    "start_time": "2022-11-21T19:45:58.573Z"
   },
   {
    "duration": 47,
    "start_time": "2022-11-21T19:46:21.289Z"
   },
   {
    "duration": 77,
    "start_time": "2022-11-21T19:46:32.926Z"
   },
   {
    "duration": 300,
    "start_time": "2022-11-21T19:46:37.293Z"
   },
   {
    "duration": 45,
    "start_time": "2022-11-22T09:15:44.204Z"
   },
   {
    "duration": 1179,
    "start_time": "2022-11-22T09:15:51.807Z"
   },
   {
    "duration": 66,
    "start_time": "2022-11-22T09:15:52.988Z"
   },
   {
    "duration": 21,
    "start_time": "2022-11-22T09:15:53.055Z"
   },
   {
    "duration": 11,
    "start_time": "2022-11-22T09:15:53.078Z"
   },
   {
    "duration": 11,
    "start_time": "2022-11-22T09:15:53.091Z"
   },
   {
    "duration": 14,
    "start_time": "2022-11-22T09:15:53.103Z"
   },
   {
    "duration": 32,
    "start_time": "2022-11-22T09:15:53.119Z"
   },
   {
    "duration": 2,
    "start_time": "2022-11-22T09:15:53.153Z"
   },
   {
    "duration": 105,
    "start_time": "2022-11-22T09:15:53.156Z"
   },
   {
    "duration": 277,
    "start_time": "2022-11-22T09:15:53.264Z"
   },
   {
    "duration": 869,
    "start_time": "2022-11-22T09:15:53.543Z"
   },
   {
    "duration": 1931,
    "start_time": "2022-11-22T09:15:54.413Z"
   },
   {
    "duration": 38,
    "start_time": "2022-11-22T09:15:56.346Z"
   },
   {
    "duration": 27,
    "start_time": "2022-11-22T09:15:56.386Z"
   },
   {
    "duration": 123,
    "start_time": "2022-11-22T09:15:56.414Z"
   },
   {
    "duration": 299,
    "start_time": "2022-11-22T09:15:56.538Z"
   },
   {
    "duration": 3,
    "start_time": "2022-11-22T09:18:21.690Z"
   },
   {
    "duration": 29,
    "start_time": "2022-11-22T09:18:22.569Z"
   },
   {
    "duration": 16,
    "start_time": "2022-11-22T09:18:23.394Z"
   },
   {
    "duration": 10,
    "start_time": "2022-11-22T09:18:23.845Z"
   },
   {
    "duration": 10,
    "start_time": "2022-11-22T09:18:27.065Z"
   },
   {
    "duration": 8,
    "start_time": "2022-11-22T09:18:29.622Z"
   },
   {
    "duration": 29,
    "start_time": "2022-11-22T09:18:35.251Z"
   },
   {
    "duration": 196,
    "start_time": "2022-11-22T09:20:05.969Z"
   },
   {
    "duration": 1145,
    "start_time": "2022-11-22T09:20:39.169Z"
   },
   {
    "duration": 33,
    "start_time": "2022-11-22T09:20:40.320Z"
   },
   {
    "duration": 20,
    "start_time": "2022-11-22T09:20:40.355Z"
   },
   {
    "duration": 10,
    "start_time": "2022-11-22T09:20:40.377Z"
   },
   {
    "duration": 8,
    "start_time": "2022-11-22T09:20:41.699Z"
   },
   {
    "duration": 6,
    "start_time": "2022-11-22T09:20:42.862Z"
   },
   {
    "duration": 93,
    "start_time": "2022-11-22T09:20:46.362Z"
   },
   {
    "duration": 76,
    "start_time": "2022-11-22T09:21:09.300Z"
   },
   {
    "duration": 75,
    "start_time": "2022-11-22T09:21:13.775Z"
   },
   {
    "duration": 35,
    "start_time": "2022-11-22T09:21:35.164Z"
   },
   {
    "duration": 90,
    "start_time": "2022-11-22T09:21:45.742Z"
   },
   {
    "duration": 41,
    "start_time": "2022-11-22T09:21:53.375Z"
   },
   {
    "duration": 31,
    "start_time": "2022-11-22T09:22:20.841Z"
   },
   {
    "duration": 1159,
    "start_time": "2022-11-22T09:22:26.623Z"
   },
   {
    "duration": 40,
    "start_time": "2022-11-22T09:22:27.784Z"
   },
   {
    "duration": 21,
    "start_time": "2022-11-22T09:22:27.826Z"
   },
   {
    "duration": 12,
    "start_time": "2022-11-22T09:22:27.849Z"
   },
   {
    "duration": 10,
    "start_time": "2022-11-22T09:22:27.864Z"
   },
   {
    "duration": 9,
    "start_time": "2022-11-22T09:22:27.876Z"
   },
   {
    "duration": 52,
    "start_time": "2022-11-22T09:22:27.887Z"
   },
   {
    "duration": 3,
    "start_time": "2022-11-22T09:22:27.940Z"
   },
   {
    "duration": 114,
    "start_time": "2022-11-22T09:22:27.944Z"
   },
   {
    "duration": 301,
    "start_time": "2022-11-22T09:22:28.060Z"
   },
   {
    "duration": 897,
    "start_time": "2022-11-22T09:22:28.363Z"
   },
   {
    "duration": 2021,
    "start_time": "2022-11-22T09:22:29.262Z"
   },
   {
    "duration": 52,
    "start_time": "2022-11-22T09:22:31.285Z"
   },
   {
    "duration": 15,
    "start_time": "2022-11-22T09:22:31.340Z"
   },
   {
    "duration": 235,
    "start_time": "2022-11-22T09:22:31.356Z"
   },
   {
    "duration": 290,
    "start_time": "2022-11-22T09:22:31.592Z"
   },
   {
    "duration": 4,
    "start_time": "2022-11-22T09:22:39.407Z"
   },
   {
    "duration": 30,
    "start_time": "2022-11-22T09:22:39.850Z"
   },
   {
    "duration": 13,
    "start_time": "2022-11-22T09:22:40.251Z"
   },
   {
    "duration": 11,
    "start_time": "2022-11-22T09:22:40.438Z"
   },
   {
    "duration": 7,
    "start_time": "2022-11-22T09:22:41.788Z"
   },
   {
    "duration": 6,
    "start_time": "2022-11-22T09:22:42.822Z"
   },
   {
    "duration": 31,
    "start_time": "2022-11-22T09:22:44.767Z"
   },
   {
    "duration": 116,
    "start_time": "2022-11-22T09:22:56.339Z"
   },
   {
    "duration": 32,
    "start_time": "2022-11-22T09:23:17.441Z"
   },
   {
    "duration": 29,
    "start_time": "2022-11-22T09:23:35.866Z"
   },
   {
    "duration": 1127,
    "start_time": "2022-11-22T09:23:44.136Z"
   },
   {
    "duration": 32,
    "start_time": "2022-11-22T09:23:45.265Z"
   },
   {
    "duration": 25,
    "start_time": "2022-11-22T09:23:45.299Z"
   },
   {
    "duration": 17,
    "start_time": "2022-11-22T09:23:45.325Z"
   },
   {
    "duration": 7,
    "start_time": "2022-11-22T09:23:45.344Z"
   },
   {
    "duration": 10,
    "start_time": "2022-11-22T09:23:45.352Z"
   },
   {
    "duration": 55,
    "start_time": "2022-11-22T09:23:45.363Z"
   },
   {
    "duration": 3,
    "start_time": "2022-11-22T09:23:45.420Z"
   },
   {
    "duration": 109,
    "start_time": "2022-11-22T09:23:45.425Z"
   },
   {
    "duration": 291,
    "start_time": "2022-11-22T09:23:45.535Z"
   },
   {
    "duration": 933,
    "start_time": "2022-11-22T09:23:45.828Z"
   },
   {
    "duration": 2067,
    "start_time": "2022-11-22T09:23:46.763Z"
   },
   {
    "duration": 36,
    "start_time": "2022-11-22T09:23:48.832Z"
   },
   {
    "duration": 14,
    "start_time": "2022-11-22T09:23:48.870Z"
   },
   {
    "duration": 128,
    "start_time": "2022-11-22T09:23:48.910Z"
   },
   {
    "duration": 323,
    "start_time": "2022-11-22T09:23:49.040Z"
   },
   {
    "duration": 3,
    "start_time": "2022-11-22T09:23:52.267Z"
   },
   {
    "duration": 35,
    "start_time": "2022-11-22T09:23:52.692Z"
   },
   {
    "duration": 15,
    "start_time": "2022-11-22T09:23:52.919Z"
   },
   {
    "duration": 17,
    "start_time": "2022-11-22T09:23:53.194Z"
   },
   {
    "duration": 7,
    "start_time": "2022-11-22T09:23:53.997Z"
   },
   {
    "duration": 6,
    "start_time": "2022-11-22T09:23:54.362Z"
   },
   {
    "duration": 31,
    "start_time": "2022-11-22T09:23:55.450Z"
   },
   {
    "duration": 36,
    "start_time": "2022-11-22T09:24:10.602Z"
   },
   {
    "duration": 48,
    "start_time": "2022-11-22T09:24:23.276Z"
   },
   {
    "duration": 38,
    "start_time": "2022-11-22T09:24:26.413Z"
   },
   {
    "duration": 1092,
    "start_time": "2022-11-22T09:24:32.756Z"
   },
   {
    "duration": 31,
    "start_time": "2022-11-22T09:24:33.850Z"
   },
   {
    "duration": 25,
    "start_time": "2022-11-22T09:24:33.882Z"
   },
   {
    "duration": 13,
    "start_time": "2022-11-22T09:24:33.913Z"
   },
   {
    "duration": 9,
    "start_time": "2022-11-22T09:24:33.927Z"
   },
   {
    "duration": 12,
    "start_time": "2022-11-22T09:24:33.937Z"
   },
   {
    "duration": 34,
    "start_time": "2022-11-22T09:24:33.951Z"
   },
   {
    "duration": 3,
    "start_time": "2022-11-22T09:24:33.987Z"
   },
   {
    "duration": 122,
    "start_time": "2022-11-22T09:24:33.992Z"
   },
   {
    "duration": 318,
    "start_time": "2022-11-22T09:24:34.121Z"
   },
   {
    "duration": 983,
    "start_time": "2022-11-22T09:24:34.441Z"
   },
   {
    "duration": 2107,
    "start_time": "2022-11-22T09:24:35.426Z"
   },
   {
    "duration": 56,
    "start_time": "2022-11-22T09:24:37.536Z"
   },
   {
    "duration": 28,
    "start_time": "2022-11-22T09:24:37.605Z"
   },
   {
    "duration": 175,
    "start_time": "2022-11-22T09:24:37.635Z"
   },
   {
    "duration": 345,
    "start_time": "2022-11-22T09:24:37.811Z"
   },
   {
    "duration": 4,
    "start_time": "2022-11-22T09:25:18.975Z"
   },
   {
    "duration": 33,
    "start_time": "2022-11-22T09:25:19.314Z"
   },
   {
    "duration": 17,
    "start_time": "2022-11-22T09:25:19.801Z"
   },
   {
    "duration": 11,
    "start_time": "2022-11-22T09:25:19.975Z"
   },
   {
    "duration": 7,
    "start_time": "2022-11-22T09:25:20.776Z"
   },
   {
    "duration": 6,
    "start_time": "2022-11-22T09:25:21.131Z"
   },
   {
    "duration": 41,
    "start_time": "2022-11-22T09:25:22.673Z"
   },
   {
    "duration": 6,
    "start_time": "2022-11-22T09:25:22.912Z"
   },
   {
    "duration": 41,
    "start_time": "2022-11-22T09:25:49.976Z"
   },
   {
    "duration": 32,
    "start_time": "2022-11-22T09:26:24.232Z"
   },
   {
    "duration": 39,
    "start_time": "2022-11-22T09:26:30.385Z"
   },
   {
    "duration": 32,
    "start_time": "2022-11-22T09:26:34.621Z"
   },
   {
    "duration": 1054,
    "start_time": "2022-11-22T09:29:23.554Z"
   },
   {
    "duration": 13,
    "start_time": "2022-11-22T09:39:57.836Z"
   },
   {
    "duration": 181,
    "start_time": "2022-11-22T09:40:01.975Z"
   },
   {
    "duration": 43,
    "start_time": "2022-11-22T09:40:20.337Z"
   },
   {
    "duration": 25,
    "start_time": "2022-11-22T09:40:21.496Z"
   },
   {
    "duration": 98,
    "start_time": "2022-11-22T09:40:22.041Z"
   },
   {
    "duration": 138,
    "start_time": "2022-11-22T09:40:22.521Z"
   },
   {
    "duration": 136,
    "start_time": "2022-11-22T09:40:30.531Z"
   },
   {
    "duration": 125,
    "start_time": "2022-11-22T09:40:40.116Z"
   },
   {
    "duration": 306,
    "start_time": "2022-11-22T09:46:38.057Z"
   },
   {
    "duration": 4,
    "start_time": "2022-11-22T09:56:02.382Z"
   },
   {
    "duration": 12,
    "start_time": "2022-11-22T09:57:09.218Z"
   },
   {
    "duration": 111,
    "start_time": "2022-11-22T09:58:21.551Z"
   },
   {
    "duration": 9,
    "start_time": "2022-11-22T09:58:42.610Z"
   },
   {
    "duration": 5,
    "start_time": "2022-11-22T09:58:58.594Z"
   },
   {
    "duration": 5,
    "start_time": "2022-11-22T09:59:18.351Z"
   },
   {
    "duration": 10,
    "start_time": "2022-11-22T10:02:33.793Z"
   },
   {
    "duration": 5,
    "start_time": "2022-11-22T10:02:57.877Z"
   },
   {
    "duration": 6,
    "start_time": "2022-11-22T10:03:49.893Z"
   },
   {
    "duration": 5,
    "start_time": "2022-11-22T10:04:58.344Z"
   },
   {
    "duration": 8,
    "start_time": "2022-11-22T10:05:12.161Z"
   },
   {
    "duration": 458,
    "start_time": "2022-11-22T10:18:23.687Z"
   },
   {
    "duration": 478,
    "start_time": "2022-11-22T10:18:49.755Z"
   },
   {
    "duration": 512,
    "start_time": "2022-11-22T10:19:00.674Z"
   },
   {
    "duration": 489,
    "start_time": "2022-11-22T10:19:04.898Z"
   },
   {
    "duration": 424,
    "start_time": "2022-11-22T10:19:22.422Z"
   },
   {
    "duration": 440,
    "start_time": "2022-11-22T10:19:43.535Z"
   },
   {
    "duration": 9,
    "start_time": "2022-11-22T10:24:36.101Z"
   },
   {
    "duration": 4,
    "start_time": "2022-11-22T10:24:43.397Z"
   },
   {
    "duration": 11,
    "start_time": "2022-11-22T10:25:28.680Z"
   },
   {
    "duration": 7,
    "start_time": "2022-11-22T10:25:40.625Z"
   },
   {
    "duration": 6,
    "start_time": "2022-11-22T10:25:51.189Z"
   },
   {
    "duration": 1538,
    "start_time": "2022-11-22T10:26:04.227Z"
   },
   {
    "duration": 14,
    "start_time": "2022-11-22T10:26:10.722Z"
   },
   {
    "duration": 7,
    "start_time": "2022-11-22T10:26:31.235Z"
   },
   {
    "duration": 6,
    "start_time": "2022-11-22T10:29:06.346Z"
   },
   {
    "duration": 7,
    "start_time": "2022-11-22T10:29:07.333Z"
   },
   {
    "duration": 5,
    "start_time": "2022-11-22T10:29:08.291Z"
   },
   {
    "duration": 4,
    "start_time": "2022-11-22T10:29:11.898Z"
   },
   {
    "duration": 6,
    "start_time": "2022-11-22T10:29:23.260Z"
   },
   {
    "duration": 5,
    "start_time": "2022-11-22T10:29:24.030Z"
   },
   {
    "duration": 5,
    "start_time": "2022-11-22T10:30:55.588Z"
   },
   {
    "duration": 5,
    "start_time": "2022-11-22T10:31:34.018Z"
   },
   {
    "duration": 6,
    "start_time": "2022-11-22T10:31:49.921Z"
   },
   {
    "duration": 6,
    "start_time": "2022-11-22T10:32:00.858Z"
   },
   {
    "duration": 4,
    "start_time": "2022-11-22T10:32:53.684Z"
   },
   {
    "duration": 99,
    "start_time": "2022-11-22T10:34:02.079Z"
   },
   {
    "duration": 4,
    "start_time": "2022-11-22T10:34:40.487Z"
   },
   {
    "duration": 4,
    "start_time": "2022-11-22T10:35:29.898Z"
   },
   {
    "duration": 4,
    "start_time": "2022-11-22T10:36:58.509Z"
   },
   {
    "duration": 3,
    "start_time": "2022-11-22T10:36:59.097Z"
   },
   {
    "duration": 5,
    "start_time": "2022-11-22T10:36:59.622Z"
   },
   {
    "duration": 4,
    "start_time": "2022-11-22T10:36:59.999Z"
   },
   {
    "duration": 5,
    "start_time": "2022-11-22T11:01:24.650Z"
   },
   {
    "duration": 1570,
    "start_time": "2022-11-22T12:14:17.530Z"
   },
   {
    "duration": 122,
    "start_time": "2022-11-22T12:14:19.103Z"
   },
   {
    "duration": 18,
    "start_time": "2022-11-22T12:14:19.226Z"
   },
   {
    "duration": 10,
    "start_time": "2022-11-22T12:14:19.245Z"
   },
   {
    "duration": 7,
    "start_time": "2022-11-22T12:14:19.256Z"
   },
   {
    "duration": 4,
    "start_time": "2022-11-22T12:14:19.265Z"
   },
   {
    "duration": 34,
    "start_time": "2022-11-22T12:14:19.271Z"
   },
   {
    "duration": 924,
    "start_time": "2022-11-22T12:14:19.307Z"
   },
   {
    "duration": 45,
    "start_time": "2022-11-22T12:14:20.232Z"
   },
   {
    "duration": 12,
    "start_time": "2022-11-22T12:14:20.279Z"
   },
   {
    "duration": 121,
    "start_time": "2022-11-22T12:14:20.293Z"
   },
   {
    "duration": 257,
    "start_time": "2022-11-22T12:14:20.415Z"
   },
   {
    "duration": 4,
    "start_time": "2022-11-22T12:14:20.674Z"
   },
   {
    "duration": 4,
    "start_time": "2022-11-22T12:14:20.679Z"
   },
   {
    "duration": 6,
    "start_time": "2022-11-22T12:14:20.684Z"
   },
   {
    "duration": 6,
    "start_time": "2022-11-22T12:14:20.691Z"
   },
   {
    "duration": 1531,
    "start_time": "2022-11-22T12:19:59.167Z"
   },
   {
    "duration": 30,
    "start_time": "2022-11-22T12:20:00.699Z"
   },
   {
    "duration": 24,
    "start_time": "2022-11-22T12:20:00.730Z"
   },
   {
    "duration": 22,
    "start_time": "2022-11-22T12:20:00.756Z"
   },
   {
    "duration": 25,
    "start_time": "2022-11-22T12:20:00.779Z"
   },
   {
    "duration": 32,
    "start_time": "2022-11-22T12:20:00.806Z"
   },
   {
    "duration": 45,
    "start_time": "2022-11-22T12:20:00.839Z"
   },
   {
    "duration": 954,
    "start_time": "2022-11-22T12:20:00.885Z"
   },
   {
    "duration": 42,
    "start_time": "2022-11-22T12:20:01.841Z"
   },
   {
    "duration": 49,
    "start_time": "2022-11-22T12:20:01.885Z"
   },
   {
    "duration": 131,
    "start_time": "2022-11-22T12:20:01.936Z"
   },
   {
    "duration": 282,
    "start_time": "2022-11-22T12:20:02.070Z"
   },
   {
    "duration": 6,
    "start_time": "2022-11-22T12:20:02.353Z"
   },
   {
    "duration": 13,
    "start_time": "2022-11-22T12:20:02.361Z"
   },
   {
    "duration": 21,
    "start_time": "2022-11-22T12:20:02.376Z"
   },
   {
    "duration": 10,
    "start_time": "2022-11-22T12:20:02.398Z"
   },
   {
    "duration": 1238,
    "start_time": "2022-11-22T21:31:50.900Z"
   },
   {
    "duration": 119,
    "start_time": "2022-11-22T21:31:52.316Z"
   },
   {
    "duration": 22,
    "start_time": "2022-11-22T21:31:56.336Z"
   },
   {
    "duration": 14,
    "start_time": "2022-11-22T21:31:57.132Z"
   },
   {
    "duration": 8,
    "start_time": "2022-11-22T21:32:01.095Z"
   },
   {
    "duration": 7,
    "start_time": "2022-11-22T21:32:01.501Z"
   },
   {
    "duration": 40,
    "start_time": "2022-11-22T21:32:02.863Z"
   },
   {
    "duration": 1068,
    "start_time": "2022-11-22T21:32:03.836Z"
   },
   {
    "duration": 57,
    "start_time": "2022-11-22T21:32:10.349Z"
   },
   {
    "duration": 16,
    "start_time": "2022-11-22T21:32:17.304Z"
   },
   {
    "duration": 162,
    "start_time": "2022-11-22T21:32:29.378Z"
   },
   {
    "duration": 163,
    "start_time": "2022-11-22T21:32:34.194Z"
   },
   {
    "duration": 1255,
    "start_time": "2022-11-24T12:30:34.156Z"
   },
   {
    "duration": 77,
    "start_time": "2022-11-24T12:30:35.499Z"
   },
   {
    "duration": 30,
    "start_time": "2022-11-24T12:30:36.997Z"
   },
   {
    "duration": 14,
    "start_time": "2022-11-24T12:30:37.646Z"
   },
   {
    "duration": 146,
    "start_time": "2022-11-24T12:30:39.872Z"
   },
   {
    "duration": 67,
    "start_time": "2022-11-24T12:30:56.119Z"
   },
   {
    "duration": 51,
    "start_time": "2022-11-24T12:31:16.491Z"
   },
   {
    "duration": 1308,
    "start_time": "2022-11-24T12:31:26.740Z"
   },
   {
    "duration": 44,
    "start_time": "2022-11-24T12:31:28.052Z"
   },
   {
    "duration": 24,
    "start_time": "2022-11-24T12:31:28.098Z"
   },
   {
    "duration": 22,
    "start_time": "2022-11-24T12:31:28.124Z"
   },
   {
    "duration": 175,
    "start_time": "2022-11-24T12:31:28.149Z"
   },
   {
    "duration": 0,
    "start_time": "2022-11-24T12:31:28.326Z"
   },
   {
    "duration": 0,
    "start_time": "2022-11-24T12:31:28.328Z"
   },
   {
    "duration": 0,
    "start_time": "2022-11-24T12:31:28.329Z"
   },
   {
    "duration": 0,
    "start_time": "2022-11-24T12:31:28.331Z"
   },
   {
    "duration": 0,
    "start_time": "2022-11-24T12:31:28.332Z"
   },
   {
    "duration": 0,
    "start_time": "2022-11-24T12:31:28.334Z"
   },
   {
    "duration": 0,
    "start_time": "2022-11-24T12:31:28.334Z"
   },
   {
    "duration": 0,
    "start_time": "2022-11-24T12:31:28.335Z"
   },
   {
    "duration": 0,
    "start_time": "2022-11-24T12:31:28.336Z"
   },
   {
    "duration": 0,
    "start_time": "2022-11-24T12:31:28.337Z"
   },
   {
    "duration": 0,
    "start_time": "2022-11-24T12:31:28.338Z"
   },
   {
    "duration": 4,
    "start_time": "2022-11-24T12:31:33.312Z"
   },
   {
    "duration": 29,
    "start_time": "2022-11-24T12:31:34.117Z"
   },
   {
    "duration": 15,
    "start_time": "2022-11-24T12:31:34.789Z"
   },
   {
    "duration": 13,
    "start_time": "2022-11-24T12:31:35.062Z"
   },
   {
    "duration": 46,
    "start_time": "2022-11-24T12:31:36.771Z"
   },
   {
    "duration": 5,
    "start_time": "2022-11-24T12:36:25.315Z"
   },
   {
    "duration": 13,
    "start_time": "2022-11-24T12:37:53.378Z"
   },
   {
    "duration": 1164,
    "start_time": "2022-11-24T12:38:41.850Z"
   },
   {
    "duration": 29,
    "start_time": "2022-11-24T12:38:43.016Z"
   },
   {
    "duration": 23,
    "start_time": "2022-11-24T12:38:44.225Z"
   },
   {
    "duration": 15,
    "start_time": "2022-11-24T12:38:44.469Z"
   },
   {
    "duration": 5,
    "start_time": "2022-11-24T12:38:46.731Z"
   },
   {
    "duration": 126,
    "start_time": "2022-11-24T12:38:47.548Z"
   },
   {
    "duration": 16,
    "start_time": "2022-11-24T12:41:13.005Z"
   },
   {
    "duration": 14,
    "start_time": "2022-11-24T12:41:30.502Z"
   },
   {
    "duration": 14,
    "start_time": "2022-11-24T12:41:35.153Z"
   },
   {
    "duration": 13,
    "start_time": "2022-11-24T12:46:11.456Z"
   },
   {
    "duration": 12,
    "start_time": "2022-11-24T12:46:35.928Z"
   },
   {
    "duration": 1153,
    "start_time": "2022-11-24T12:46:42.069Z"
   },
   {
    "duration": 34,
    "start_time": "2022-11-24T12:46:43.225Z"
   },
   {
    "duration": 22,
    "start_time": "2022-11-24T12:46:43.260Z"
   },
   {
    "duration": 12,
    "start_time": "2022-11-24T12:46:43.284Z"
   },
   {
    "duration": 9,
    "start_time": "2022-11-24T12:46:43.297Z"
   },
   {
    "duration": 131,
    "start_time": "2022-11-24T12:46:43.307Z"
   },
   {
    "duration": 0,
    "start_time": "2022-11-24T12:46:43.440Z"
   },
   {
    "duration": 0,
    "start_time": "2022-11-24T12:46:43.441Z"
   },
   {
    "duration": 0,
    "start_time": "2022-11-24T12:46:43.442Z"
   },
   {
    "duration": 0,
    "start_time": "2022-11-24T12:46:43.443Z"
   },
   {
    "duration": 0,
    "start_time": "2022-11-24T12:46:43.452Z"
   },
   {
    "duration": 0,
    "start_time": "2022-11-24T12:46:43.453Z"
   },
   {
    "duration": 0,
    "start_time": "2022-11-24T12:46:43.455Z"
   },
   {
    "duration": 0,
    "start_time": "2022-11-24T12:46:43.456Z"
   },
   {
    "duration": 0,
    "start_time": "2022-11-24T12:46:43.457Z"
   },
   {
    "duration": 0,
    "start_time": "2022-11-24T12:46:43.459Z"
   },
   {
    "duration": 0,
    "start_time": "2022-11-24T12:46:43.460Z"
   },
   {
    "duration": 34,
    "start_time": "2022-11-24T12:46:48.216Z"
   },
   {
    "duration": 16,
    "start_time": "2022-11-24T12:46:48.768Z"
   },
   {
    "duration": 16,
    "start_time": "2022-11-24T12:46:49.008Z"
   },
   {
    "duration": 8,
    "start_time": "2022-11-24T12:46:50.371Z"
   },
   {
    "duration": 11,
    "start_time": "2022-11-24T12:46:50.499Z"
   },
   {
    "duration": 1213,
    "start_time": "2022-11-24T12:47:27.731Z"
   },
   {
    "duration": 36,
    "start_time": "2022-11-24T12:47:28.946Z"
   },
   {
    "duration": 23,
    "start_time": "2022-11-24T12:47:28.985Z"
   },
   {
    "duration": 12,
    "start_time": "2022-11-24T12:47:29.010Z"
   },
   {
    "duration": 11,
    "start_time": "2022-11-24T12:47:29.024Z"
   },
   {
    "duration": 10,
    "start_time": "2022-11-24T12:47:29.037Z"
   },
   {
    "duration": 54,
    "start_time": "2022-11-24T12:47:29.049Z"
   },
   {
    "duration": 1185,
    "start_time": "2022-11-24T12:47:29.105Z"
   },
   {
    "duration": 70,
    "start_time": "2022-11-24T12:47:30.292Z"
   },
   {
    "duration": 23,
    "start_time": "2022-11-24T12:47:30.366Z"
   },
   {
    "duration": 156,
    "start_time": "2022-11-24T12:47:30.392Z"
   },
   {
    "duration": 182,
    "start_time": "2022-11-24T12:47:30.558Z"
   },
   {
    "duration": 16,
    "start_time": "2022-11-24T12:47:30.742Z"
   },
   {
    "duration": 11,
    "start_time": "2022-11-24T12:47:30.760Z"
   },
   {
    "duration": 21,
    "start_time": "2022-11-24T12:47:30.773Z"
   },
   {
    "duration": 13,
    "start_time": "2022-11-24T12:47:30.796Z"
   },
   {
    "duration": 4,
    "start_time": "2022-11-24T12:47:34.397Z"
   },
   {
    "duration": 31,
    "start_time": "2022-11-24T12:47:35.097Z"
   },
   {
    "duration": 16,
    "start_time": "2022-11-24T12:47:35.663Z"
   },
   {
    "duration": 12,
    "start_time": "2022-11-24T12:47:35.828Z"
   },
   {
    "duration": 7,
    "start_time": "2022-11-24T12:47:37.342Z"
   },
   {
    "duration": 6,
    "start_time": "2022-11-24T12:47:38.065Z"
   },
   {
    "duration": 47,
    "start_time": "2022-11-24T12:47:39.693Z"
   },
   {
    "duration": 1062,
    "start_time": "2022-11-24T12:47:40.769Z"
   },
   {
    "duration": 69,
    "start_time": "2022-11-24T12:47:42.421Z"
   },
   {
    "duration": 24,
    "start_time": "2022-11-24T12:47:43.289Z"
   },
   {
    "duration": 156,
    "start_time": "2022-11-24T12:47:46.409Z"
   },
   {
    "duration": 146,
    "start_time": "2022-11-24T12:47:51.890Z"
   },
   {
    "duration": 4,
    "start_time": "2022-11-24T12:47:55.506Z"
   },
   {
    "duration": 4,
    "start_time": "2022-11-24T12:47:57.009Z"
   },
   {
    "duration": 3,
    "start_time": "2022-11-24T12:47:58.247Z"
   },
   {
    "duration": 5,
    "start_time": "2022-11-24T12:47:59.022Z"
   },
   {
    "duration": 13,
    "start_time": "2022-11-24T12:49:32.879Z"
   },
   {
    "duration": 1417,
    "start_time": "2022-11-24T12:49:39.623Z"
   },
   {
    "duration": 48,
    "start_time": "2022-11-24T12:49:41.042Z"
   },
   {
    "duration": 24,
    "start_time": "2022-11-24T12:49:41.091Z"
   },
   {
    "duration": 17,
    "start_time": "2022-11-24T12:49:41.117Z"
   },
   {
    "duration": 36,
    "start_time": "2022-11-24T12:49:41.136Z"
   },
   {
    "duration": 28,
    "start_time": "2022-11-24T12:49:41.174Z"
   },
   {
    "duration": 58,
    "start_time": "2022-11-24T12:49:41.204Z"
   },
   {
    "duration": 1074,
    "start_time": "2022-11-24T12:49:41.265Z"
   },
   {
    "duration": 53,
    "start_time": "2022-11-24T12:49:42.341Z"
   },
   {
    "duration": 25,
    "start_time": "2022-11-24T12:49:42.398Z"
   },
   {
    "duration": 155,
    "start_time": "2022-11-24T12:49:42.425Z"
   },
   {
    "duration": 7,
    "start_time": "2022-11-24T12:49:42.582Z"
   },
   {
    "duration": 29,
    "start_time": "2022-11-24T12:49:42.591Z"
   },
   {
    "duration": 14,
    "start_time": "2022-11-24T12:49:42.622Z"
   },
   {
    "duration": 35,
    "start_time": "2022-11-24T12:49:42.638Z"
   },
   {
    "duration": 34,
    "start_time": "2022-11-24T12:49:42.675Z"
   },
   {
    "duration": 5,
    "start_time": "2022-11-24T12:49:46.202Z"
   },
   {
    "duration": 29,
    "start_time": "2022-11-24T12:49:46.690Z"
   },
   {
    "duration": 21,
    "start_time": "2022-11-24T12:49:47.174Z"
   },
   {
    "duration": 18,
    "start_time": "2022-11-24T12:49:47.342Z"
   },
   {
    "duration": 8,
    "start_time": "2022-11-24T12:49:48.319Z"
   },
   {
    "duration": 9,
    "start_time": "2022-11-24T12:49:48.604Z"
   },
   {
    "duration": 55,
    "start_time": "2022-11-24T12:49:49.978Z"
   },
   {
    "duration": 1150,
    "start_time": "2022-11-24T12:49:50.572Z"
   },
   {
    "duration": 70,
    "start_time": "2022-11-24T12:49:51.725Z"
   },
   {
    "duration": 16,
    "start_time": "2022-11-24T12:49:53.597Z"
   },
   {
    "duration": 185,
    "start_time": "2022-11-24T12:49:55.522Z"
   },
   {
    "duration": 8,
    "start_time": "2022-11-24T12:50:01.612Z"
   },
   {
    "duration": 132,
    "start_time": "2022-11-24T12:54:29.333Z"
   },
   {
    "duration": 495,
    "start_time": "2022-11-24T12:55:05.126Z"
   },
   {
    "duration": 41,
    "start_time": "2022-11-24T12:55:05.954Z"
   },
   {
    "duration": 29,
    "start_time": "2022-11-24T12:55:06.446Z"
   },
   {
    "duration": 12,
    "start_time": "2022-11-24T12:55:06.512Z"
   },
   {
    "duration": 8,
    "start_time": "2022-11-24T12:55:07.434Z"
   },
   {
    "duration": 7,
    "start_time": "2022-11-24T12:55:07.766Z"
   },
   {
    "duration": 37,
    "start_time": "2022-11-24T12:55:08.706Z"
   },
   {
    "duration": 166,
    "start_time": "2022-11-24T12:55:08.869Z"
   },
   {
    "duration": 147,
    "start_time": "2022-11-24T12:55:32.197Z"
   },
   {
    "duration": 1612,
    "start_time": "2022-11-24T19:19:27.772Z"
   },
   {
    "duration": 118,
    "start_time": "2022-11-24T19:19:29.386Z"
   },
   {
    "duration": 21,
    "start_time": "2022-11-24T19:19:29.506Z"
   },
   {
    "duration": 19,
    "start_time": "2022-11-24T19:19:29.529Z"
   },
   {
    "duration": 30,
    "start_time": "2022-11-24T19:19:29.549Z"
   },
   {
    "duration": 15,
    "start_time": "2022-11-24T19:19:29.581Z"
   },
   {
    "duration": 37,
    "start_time": "2022-11-24T19:19:29.597Z"
   },
   {
    "duration": 150,
    "start_time": "2022-11-24T19:19:29.636Z"
   },
   {
    "duration": 981,
    "start_time": "2022-11-24T19:19:29.788Z"
   },
   {
    "duration": 42,
    "start_time": "2022-11-24T19:19:30.771Z"
   },
   {
    "duration": 15,
    "start_time": "2022-11-24T19:19:30.814Z"
   },
   {
    "duration": 153,
    "start_time": "2022-11-24T19:19:30.831Z"
   },
   {
    "duration": 8,
    "start_time": "2022-11-24T19:19:30.986Z"
   },
   {
    "duration": 33,
    "start_time": "2022-11-24T19:19:30.996Z"
   },
   {
    "duration": 16,
    "start_time": "2022-11-24T19:19:31.031Z"
   },
   {
    "duration": 18,
    "start_time": "2022-11-24T19:19:31.049Z"
   },
   {
    "duration": 20,
    "start_time": "2022-11-24T19:19:31.068Z"
   },
   {
    "duration": 3,
    "start_time": "2022-11-24T19:19:35.019Z"
   },
   {
    "duration": 30,
    "start_time": "2022-11-24T19:19:35.776Z"
   },
   {
    "duration": 16,
    "start_time": "2022-11-24T19:19:36.619Z"
   },
   {
    "duration": 12,
    "start_time": "2022-11-24T19:19:36.875Z"
   },
   {
    "duration": 8,
    "start_time": "2022-11-24T19:19:38.887Z"
   },
   {
    "duration": 7,
    "start_time": "2022-11-24T19:19:39.545Z"
   },
   {
    "duration": 34,
    "start_time": "2022-11-24T19:19:41.956Z"
   },
   {
    "duration": 146,
    "start_time": "2022-11-24T19:19:42.683Z"
   },
   {
    "duration": 995,
    "start_time": "2022-11-24T19:19:46.599Z"
   },
   {
    "duration": 39,
    "start_time": "2022-11-24T19:19:52.123Z"
   },
   {
    "duration": 16,
    "start_time": "2022-11-24T19:19:55.140Z"
   },
   {
    "duration": 121,
    "start_time": "2022-11-24T19:19:55.836Z"
   },
   {
    "duration": 7,
    "start_time": "2022-11-24T19:20:00.528Z"
   },
   {
    "duration": 1407,
    "start_time": "2022-11-24T21:55:03.379Z"
   },
   {
    "duration": 30,
    "start_time": "2022-11-24T21:55:04.788Z"
   },
   {
    "duration": 19,
    "start_time": "2022-11-24T21:55:04.820Z"
   },
   {
    "duration": 13,
    "start_time": "2022-11-24T21:55:04.842Z"
   },
   {
    "duration": 16,
    "start_time": "2022-11-24T21:55:04.857Z"
   },
   {
    "duration": 31,
    "start_time": "2022-11-24T21:55:04.875Z"
   },
   {
    "duration": 45,
    "start_time": "2022-11-24T21:55:04.909Z"
   },
   {
    "duration": 143,
    "start_time": "2022-11-24T21:55:04.956Z"
   },
   {
    "duration": 1005,
    "start_time": "2022-11-24T21:55:05.100Z"
   },
   {
    "duration": 39,
    "start_time": "2022-11-24T21:55:06.107Z"
   },
   {
    "duration": 31,
    "start_time": "2022-11-24T21:55:06.147Z"
   },
   {
    "duration": 124,
    "start_time": "2022-11-24T21:55:06.180Z"
   },
   {
    "duration": 7,
    "start_time": "2022-11-24T21:55:06.306Z"
   },
   {
    "duration": 5,
    "start_time": "2022-11-24T21:55:06.314Z"
   },
   {
    "duration": 5,
    "start_time": "2022-11-24T21:55:06.321Z"
   },
   {
    "duration": 5,
    "start_time": "2022-11-24T21:55:06.327Z"
   },
   {
    "duration": 15,
    "start_time": "2022-11-24T21:55:06.333Z"
   },
   {
    "duration": 139,
    "start_time": "2022-11-24T21:55:06.350Z"
   },
   {
    "duration": 31,
    "start_time": "2022-11-24T21:55:16.537Z"
   },
   {
    "duration": 15,
    "start_time": "2022-11-24T21:55:17.628Z"
   },
   {
    "duration": 11,
    "start_time": "2022-11-24T21:55:17.815Z"
   },
   {
    "duration": 7,
    "start_time": "2022-11-24T21:55:19.016Z"
   },
   {
    "duration": 6,
    "start_time": "2022-11-24T21:55:19.366Z"
   },
   {
    "duration": 5,
    "start_time": "2022-11-24T21:56:18.845Z"
   },
   {
    "duration": 34,
    "start_time": "2022-11-24T21:56:20.084Z"
   },
   {
    "duration": 144,
    "start_time": "2022-11-24T21:56:20.244Z"
   },
   {
    "duration": 940,
    "start_time": "2022-11-24T21:56:20.777Z"
   },
   {
    "duration": 39,
    "start_time": "2022-11-24T21:56:21.719Z"
   },
   {
    "duration": 14,
    "start_time": "2022-11-24T21:56:21.783Z"
   },
   {
    "duration": 126,
    "start_time": "2022-11-24T21:56:22.176Z"
   },
   {
    "duration": 9,
    "start_time": "2022-11-24T21:56:23.287Z"
   },
   {
    "duration": 4,
    "start_time": "2022-11-24T21:56:29.205Z"
   },
   {
    "duration": 4,
    "start_time": "2022-11-24T21:56:34.796Z"
   },
   {
    "duration": 4,
    "start_time": "2022-11-24T21:56:36.243Z"
   },
   {
    "duration": 4,
    "start_time": "2022-11-24T21:56:37.100Z"
   },
   {
    "duration": 1314,
    "start_time": "2022-11-24T21:56:55.146Z"
   },
   {
    "duration": 33,
    "start_time": "2022-11-24T21:56:56.462Z"
   },
   {
    "duration": 21,
    "start_time": "2022-11-24T21:56:56.497Z"
   },
   {
    "duration": 14,
    "start_time": "2022-11-24T21:56:56.520Z"
   },
   {
    "duration": 16,
    "start_time": "2022-11-24T21:56:56.536Z"
   },
   {
    "duration": 9,
    "start_time": "2022-11-24T21:56:56.554Z"
   },
   {
    "duration": 44,
    "start_time": "2022-11-24T21:56:56.575Z"
   },
   {
    "duration": 159,
    "start_time": "2022-11-24T21:56:56.620Z"
   },
   {
    "duration": 888,
    "start_time": "2022-11-24T21:56:56.780Z"
   },
   {
    "duration": 36,
    "start_time": "2022-11-24T21:56:57.677Z"
   },
   {
    "duration": 14,
    "start_time": "2022-11-24T21:56:57.715Z"
   },
   {
    "duration": 118,
    "start_time": "2022-11-24T21:56:57.730Z"
   },
   {
    "duration": 6,
    "start_time": "2022-11-24T21:56:57.850Z"
   },
   {
    "duration": 19,
    "start_time": "2022-11-24T21:56:57.857Z"
   },
   {
    "duration": 5,
    "start_time": "2022-11-24T21:56:57.878Z"
   },
   {
    "duration": 8,
    "start_time": "2022-11-24T21:56:57.884Z"
   },
   {
    "duration": 8,
    "start_time": "2022-11-24T21:56:57.893Z"
   },
   {
    "duration": 7,
    "start_time": "2022-11-24T21:56:57.903Z"
   },
   {
    "duration": 4,
    "start_time": "2022-11-24T21:57:07.593Z"
   },
   {
    "duration": 32,
    "start_time": "2022-11-24T21:57:08.144Z"
   },
   {
    "duration": 18,
    "start_time": "2022-11-24T21:57:08.854Z"
   },
   {
    "duration": 13,
    "start_time": "2022-11-24T21:57:09.000Z"
   },
   {
    "duration": 7,
    "start_time": "2022-11-24T21:57:10.036Z"
   },
   {
    "duration": 7,
    "start_time": "2022-11-24T21:57:10.438Z"
   },
   {
    "duration": 30,
    "start_time": "2022-11-24T21:57:11.561Z"
   },
   {
    "duration": 127,
    "start_time": "2022-11-24T21:57:11.706Z"
   },
   {
    "duration": 924,
    "start_time": "2022-11-24T21:57:12.297Z"
   },
   {
    "duration": 37,
    "start_time": "2022-11-24T21:57:13.223Z"
   },
   {
    "duration": 18,
    "start_time": "2022-11-24T21:57:13.513Z"
   },
   {
    "duration": 108,
    "start_time": "2022-11-24T21:57:13.881Z"
   },
   {
    "duration": 8,
    "start_time": "2022-11-24T21:57:14.877Z"
   },
   {
    "duration": 4,
    "start_time": "2022-11-24T21:57:16.331Z"
   },
   {
    "duration": 4,
    "start_time": "2022-11-24T21:57:16.796Z"
   },
   {
    "duration": 3,
    "start_time": "2022-11-24T21:57:17.230Z"
   },
   {
    "duration": 4,
    "start_time": "2022-11-24T21:57:17.424Z"
   },
   {
    "duration": 6,
    "start_time": "2022-11-24T21:57:18.129Z"
   },
   {
    "duration": 6,
    "start_time": "2022-11-24T21:57:39.152Z"
   },
   {
    "duration": 1317,
    "start_time": "2022-11-24T21:58:11.966Z"
   },
   {
    "duration": 31,
    "start_time": "2022-11-24T21:58:13.285Z"
   },
   {
    "duration": 17,
    "start_time": "2022-11-24T21:58:13.318Z"
   },
   {
    "duration": 42,
    "start_time": "2022-11-24T21:58:13.337Z"
   },
   {
    "duration": 25,
    "start_time": "2022-11-24T21:58:13.381Z"
   },
   {
    "duration": 24,
    "start_time": "2022-11-24T21:58:13.408Z"
   },
   {
    "duration": 55,
    "start_time": "2022-11-24T21:58:13.433Z"
   },
   {
    "duration": 155,
    "start_time": "2022-11-24T21:58:13.489Z"
   },
   {
    "duration": 924,
    "start_time": "2022-11-24T21:58:13.647Z"
   },
   {
    "duration": 39,
    "start_time": "2022-11-24T21:58:14.574Z"
   },
   {
    "duration": 14,
    "start_time": "2022-11-24T21:58:14.615Z"
   },
   {
    "duration": 156,
    "start_time": "2022-11-24T21:58:14.630Z"
   },
   {
    "duration": 8,
    "start_time": "2022-11-24T21:58:14.787Z"
   },
   {
    "duration": 31,
    "start_time": "2022-11-24T21:58:14.797Z"
   },
   {
    "duration": 29,
    "start_time": "2022-11-24T21:58:14.831Z"
   },
   {
    "duration": 23,
    "start_time": "2022-11-24T21:58:14.862Z"
   },
   {
    "duration": 24,
    "start_time": "2022-11-24T21:58:14.887Z"
   },
   {
    "duration": 52,
    "start_time": "2022-11-24T21:58:14.913Z"
   },
   {
    "duration": 5,
    "start_time": "2022-11-24T22:05:13.653Z"
   },
   {
    "duration": 1311,
    "start_time": "2022-11-24T22:05:20.266Z"
   },
   {
    "duration": 31,
    "start_time": "2022-11-24T22:05:21.579Z"
   },
   {
    "duration": 17,
    "start_time": "2022-11-24T22:05:21.612Z"
   },
   {
    "duration": 11,
    "start_time": "2022-11-24T22:05:21.631Z"
   },
   {
    "duration": 9,
    "start_time": "2022-11-24T22:05:21.643Z"
   },
   {
    "duration": 11,
    "start_time": "2022-11-24T22:05:21.654Z"
   },
   {
    "duration": 43,
    "start_time": "2022-11-24T22:05:21.667Z"
   },
   {
    "duration": 150,
    "start_time": "2022-11-24T22:05:21.712Z"
   },
   {
    "duration": 951,
    "start_time": "2022-11-24T22:05:21.864Z"
   },
   {
    "duration": 38,
    "start_time": "2022-11-24T22:05:22.817Z"
   },
   {
    "duration": 26,
    "start_time": "2022-11-24T22:05:22.857Z"
   },
   {
    "duration": 136,
    "start_time": "2022-11-24T22:05:22.884Z"
   },
   {
    "duration": 8,
    "start_time": "2022-11-24T22:05:23.022Z"
   },
   {
    "duration": 7,
    "start_time": "2022-11-24T22:05:23.032Z"
   },
   {
    "duration": 11,
    "start_time": "2022-11-24T22:05:23.041Z"
   },
   {
    "duration": 20,
    "start_time": "2022-11-24T22:05:23.057Z"
   },
   {
    "duration": 5,
    "start_time": "2022-11-24T22:05:23.079Z"
   },
   {
    "duration": 7,
    "start_time": "2022-11-24T22:05:23.086Z"
   },
   {
    "duration": 7,
    "start_time": "2022-11-24T22:05:31.658Z"
   },
   {
    "duration": 6,
    "start_time": "2022-11-24T22:05:54.177Z"
   },
   {
    "duration": 116,
    "start_time": "2022-11-24T22:06:06.288Z"
   },
   {
    "duration": 5,
    "start_time": "2022-11-24T22:06:32.788Z"
   },
   {
    "duration": 6,
    "start_time": "2022-11-24T22:06:59.698Z"
   },
   {
    "duration": 6,
    "start_time": "2022-11-24T22:07:33.090Z"
   },
   {
    "duration": 6,
    "start_time": "2022-11-24T22:07:38.913Z"
   },
   {
    "duration": 5,
    "start_time": "2022-11-24T22:11:08.601Z"
   },
   {
    "duration": 6,
    "start_time": "2022-11-24T22:11:14.112Z"
   },
   {
    "duration": 7,
    "start_time": "2022-11-24T22:11:18.449Z"
   },
   {
    "duration": 6,
    "start_time": "2022-11-24T22:11:22.693Z"
   },
   {
    "duration": 6,
    "start_time": "2022-11-24T22:11:26.118Z"
   },
   {
    "duration": 7,
    "start_time": "2022-11-24T22:11:29.676Z"
   },
   {
    "duration": 6,
    "start_time": "2022-11-24T22:11:41.029Z"
   },
   {
    "duration": 7,
    "start_time": "2022-11-24T22:11:43.408Z"
   },
   {
    "duration": 6,
    "start_time": "2022-11-24T22:11:45.471Z"
   },
   {
    "duration": 8,
    "start_time": "2022-11-24T22:11:47.524Z"
   },
   {
    "duration": 7,
    "start_time": "2022-11-24T22:12:16.913Z"
   },
   {
    "duration": 6,
    "start_time": "2022-11-24T22:12:20.139Z"
   },
   {
    "duration": 6,
    "start_time": "2022-11-24T22:13:13.687Z"
   },
   {
    "duration": 7,
    "start_time": "2022-11-24T22:13:22.645Z"
   },
   {
    "duration": 31,
    "start_time": "2022-11-24T22:21:01.189Z"
   },
   {
    "duration": 14,
    "start_time": "2022-11-24T22:21:01.994Z"
   },
   {
    "duration": 11,
    "start_time": "2022-11-24T22:21:02.183Z"
   },
   {
    "duration": 6,
    "start_time": "2022-11-24T22:21:05.145Z"
   },
   {
    "duration": 7,
    "start_time": "2022-11-24T22:21:06.800Z"
   },
   {
    "duration": 6,
    "start_time": "2022-11-24T22:21:07.782Z"
   },
   {
    "duration": 6,
    "start_time": "2022-11-24T22:21:11.165Z"
   },
   {
    "duration": 6,
    "start_time": "2022-11-24T22:22:29.125Z"
   },
   {
    "duration": 15,
    "start_time": "2022-11-24T22:23:59.873Z"
   },
   {
    "duration": 6,
    "start_time": "2022-11-24T22:24:23.846Z"
   },
   {
    "duration": 6,
    "start_time": "2022-11-24T22:32:14.591Z"
   },
   {
    "duration": 1404,
    "start_time": "2022-11-24T22:32:24.553Z"
   },
   {
    "duration": 31,
    "start_time": "2022-11-24T22:32:25.959Z"
   },
   {
    "duration": 17,
    "start_time": "2022-11-24T22:32:25.992Z"
   },
   {
    "duration": 10,
    "start_time": "2022-11-24T22:32:26.011Z"
   },
   {
    "duration": 108,
    "start_time": "2022-11-24T22:32:26.023Z"
   },
   {
    "duration": 0,
    "start_time": "2022-11-24T22:32:26.133Z"
   },
   {
    "duration": 0,
    "start_time": "2022-11-24T22:32:26.134Z"
   },
   {
    "duration": 0,
    "start_time": "2022-11-24T22:32:26.135Z"
   },
   {
    "duration": 0,
    "start_time": "2022-11-24T22:32:26.136Z"
   },
   {
    "duration": 0,
    "start_time": "2022-11-24T22:32:26.137Z"
   },
   {
    "duration": 0,
    "start_time": "2022-11-24T22:32:26.139Z"
   },
   {
    "duration": 0,
    "start_time": "2022-11-24T22:32:26.140Z"
   },
   {
    "duration": 0,
    "start_time": "2022-11-24T22:32:26.141Z"
   },
   {
    "duration": 0,
    "start_time": "2022-11-24T22:32:26.142Z"
   },
   {
    "duration": 0,
    "start_time": "2022-11-24T22:32:26.143Z"
   },
   {
    "duration": 0,
    "start_time": "2022-11-24T22:32:26.144Z"
   },
   {
    "duration": 0,
    "start_time": "2022-11-24T22:32:26.145Z"
   },
   {
    "duration": 0,
    "start_time": "2022-11-24T22:32:26.146Z"
   },
   {
    "duration": 0,
    "start_time": "2022-11-24T22:32:26.175Z"
   },
   {
    "duration": 0,
    "start_time": "2022-11-24T22:32:26.177Z"
   },
   {
    "duration": 0,
    "start_time": "2022-11-24T22:32:26.178Z"
   },
   {
    "duration": 0,
    "start_time": "2022-11-24T22:32:26.179Z"
   },
   {
    "duration": 3,
    "start_time": "2022-11-24T22:32:37.130Z"
   },
   {
    "duration": 31,
    "start_time": "2022-11-24T22:35:32.778Z"
   },
   {
    "duration": 13,
    "start_time": "2022-11-24T22:35:33.944Z"
   },
   {
    "duration": 15,
    "start_time": "2022-11-24T22:35:34.733Z"
   },
   {
    "duration": 11,
    "start_time": "2022-11-24T22:35:39.410Z"
   },
   {
    "duration": 9,
    "start_time": "2022-11-24T22:35:49.068Z"
   },
   {
    "duration": 6,
    "start_time": "2022-11-24T22:48:00.421Z"
   },
   {
    "duration": 7,
    "start_time": "2022-11-24T22:48:01.417Z"
   },
   {
    "duration": 6,
    "start_time": "2022-11-24T22:48:02.013Z"
   },
   {
    "duration": 6,
    "start_time": "2022-11-24T22:48:02.967Z"
   },
   {
    "duration": 6,
    "start_time": "2022-11-24T22:48:03.665Z"
   },
   {
    "duration": 40,
    "start_time": "2022-11-24T22:50:20.628Z"
   },
   {
    "duration": 16,
    "start_time": "2022-11-24T22:51:03.609Z"
   },
   {
    "duration": 4,
    "start_time": "2022-11-24T22:53:31.890Z"
   },
   {
    "duration": 9,
    "start_time": "2022-11-24T22:56:07.176Z"
   },
   {
    "duration": 104,
    "start_time": "2022-11-24T23:01:54.123Z"
   },
   {
    "duration": 19,
    "start_time": "2022-11-24T23:02:00.019Z"
   },
   {
    "duration": 3,
    "start_time": "2022-11-24T23:02:03.800Z"
   },
   {
    "duration": 7,
    "start_time": "2022-11-24T23:02:04.158Z"
   },
   {
    "duration": 7,
    "start_time": "2022-11-24T23:02:05.250Z"
   },
   {
    "duration": 30,
    "start_time": "2022-11-24T23:02:08.237Z"
   },
   {
    "duration": 115,
    "start_time": "2022-11-24T23:02:09.745Z"
   },
   {
    "duration": 10,
    "start_time": "2022-11-24T23:03:04.300Z"
   },
   {
    "duration": 150,
    "start_time": "2022-11-24T23:03:18.453Z"
   },
   {
    "duration": 160,
    "start_time": "2022-11-24T23:03:41.620Z"
   },
   {
    "duration": 117,
    "start_time": "2022-11-24T23:03:45.907Z"
   },
   {
    "duration": 1691,
    "start_time": "2022-11-25T09:10:34.350Z"
   },
   {
    "duration": 119,
    "start_time": "2022-11-25T09:10:36.045Z"
   },
   {
    "duration": 24,
    "start_time": "2022-11-25T09:10:36.451Z"
   },
   {
    "duration": 15,
    "start_time": "2022-11-25T09:10:39.461Z"
   },
   {
    "duration": 8,
    "start_time": "2022-11-25T09:10:41.090Z"
   },
   {
    "duration": 5,
    "start_time": "2022-11-25T09:10:44.832Z"
   },
   {
    "duration": 130,
    "start_time": "2022-11-25T09:10:48.102Z"
   },
   {
    "duration": 3,
    "start_time": "2022-11-25T09:10:48.700Z"
   },
   {
    "duration": 8,
    "start_time": "2022-11-25T09:11:32.475Z"
   },
   {
    "duration": 17,
    "start_time": "2022-11-25T09:11:39.738Z"
   },
   {
    "duration": 31,
    "start_time": "2022-11-25T09:12:20.000Z"
   },
   {
    "duration": 17,
    "start_time": "2022-11-25T09:13:05.932Z"
   },
   {
    "duration": 1572,
    "start_time": "2022-11-25T09:13:26.261Z"
   },
   {
    "duration": 32,
    "start_time": "2022-11-25T09:13:27.837Z"
   },
   {
    "duration": 25,
    "start_time": "2022-11-25T09:13:27.871Z"
   },
   {
    "duration": 14,
    "start_time": "2022-11-25T09:13:27.899Z"
   },
   {
    "duration": 24,
    "start_time": "2022-11-25T09:13:27.919Z"
   },
   {
    "duration": 4,
    "start_time": "2022-11-25T09:13:27.946Z"
   },
   {
    "duration": 152,
    "start_time": "2022-11-25T09:13:27.952Z"
   },
   {
    "duration": 0,
    "start_time": "2022-11-25T09:13:28.107Z"
   },
   {
    "duration": 0,
    "start_time": "2022-11-25T09:13:28.118Z"
   },
   {
    "duration": 0,
    "start_time": "2022-11-25T09:13:28.119Z"
   },
   {
    "duration": 0,
    "start_time": "2022-11-25T09:13:28.119Z"
   },
   {
    "duration": 0,
    "start_time": "2022-11-25T09:13:28.120Z"
   },
   {
    "duration": 0,
    "start_time": "2022-11-25T09:13:28.121Z"
   },
   {
    "duration": 0,
    "start_time": "2022-11-25T09:13:28.122Z"
   },
   {
    "duration": 0,
    "start_time": "2022-11-25T09:13:28.123Z"
   },
   {
    "duration": 0,
    "start_time": "2022-11-25T09:13:28.124Z"
   },
   {
    "duration": 0,
    "start_time": "2022-11-25T09:13:28.125Z"
   },
   {
    "duration": 0,
    "start_time": "2022-11-25T09:13:28.126Z"
   },
   {
    "duration": 0,
    "start_time": "2022-11-25T09:13:28.128Z"
   },
   {
    "duration": 0,
    "start_time": "2022-11-25T09:13:28.129Z"
   },
   {
    "duration": 1,
    "start_time": "2022-11-25T09:13:28.130Z"
   },
   {
    "duration": 4,
    "start_time": "2022-11-25T09:13:38.398Z"
   },
   {
    "duration": 38,
    "start_time": "2022-11-25T09:13:39.334Z"
   },
   {
    "duration": 21,
    "start_time": "2022-11-25T09:13:40.056Z"
   },
   {
    "duration": 13,
    "start_time": "2022-11-25T09:13:40.329Z"
   },
   {
    "duration": 8,
    "start_time": "2022-11-25T09:13:41.353Z"
   },
   {
    "duration": 5,
    "start_time": "2022-11-25T09:13:43.789Z"
   },
   {
    "duration": 15,
    "start_time": "2022-11-25T09:14:13.572Z"
   },
   {
    "duration": 19,
    "start_time": "2022-11-25T09:15:19.089Z"
   },
   {
    "duration": 4,
    "start_time": "2022-11-25T09:17:56.442Z"
   },
   {
    "duration": 32,
    "start_time": "2022-11-25T09:17:57.797Z"
   },
   {
    "duration": 14,
    "start_time": "2022-11-25T09:17:57.875Z"
   },
   {
    "duration": 12,
    "start_time": "2022-11-25T09:17:58.089Z"
   },
   {
    "duration": 7,
    "start_time": "2022-11-25T09:17:58.831Z"
   },
   {
    "duration": 3,
    "start_time": "2022-11-25T09:18:00.670Z"
   },
   {
    "duration": 22,
    "start_time": "2022-11-25T09:18:01.869Z"
   },
   {
    "duration": 1468,
    "start_time": "2022-11-25T09:18:48.009Z"
   },
   {
    "duration": 32,
    "start_time": "2022-11-25T09:18:49.480Z"
   },
   {
    "duration": 20,
    "start_time": "2022-11-25T09:18:49.514Z"
   },
   {
    "duration": 20,
    "start_time": "2022-11-25T09:18:49.536Z"
   },
   {
    "duration": 19,
    "start_time": "2022-11-25T09:18:49.558Z"
   },
   {
    "duration": 20,
    "start_time": "2022-11-25T09:18:49.578Z"
   },
   {
    "duration": 125,
    "start_time": "2022-11-25T09:18:49.600Z"
   },
   {
    "duration": 0,
    "start_time": "2022-11-25T09:18:49.727Z"
   },
   {
    "duration": 0,
    "start_time": "2022-11-25T09:18:49.728Z"
   },
   {
    "duration": 0,
    "start_time": "2022-11-25T09:18:49.729Z"
   },
   {
    "duration": 0,
    "start_time": "2022-11-25T09:18:49.730Z"
   },
   {
    "duration": 0,
    "start_time": "2022-11-25T09:18:49.731Z"
   },
   {
    "duration": 0,
    "start_time": "2022-11-25T09:18:49.733Z"
   },
   {
    "duration": 0,
    "start_time": "2022-11-25T09:18:49.734Z"
   },
   {
    "duration": 0,
    "start_time": "2022-11-25T09:18:49.735Z"
   },
   {
    "duration": 0,
    "start_time": "2022-11-25T09:18:49.737Z"
   },
   {
    "duration": 0,
    "start_time": "2022-11-25T09:18:49.737Z"
   },
   {
    "duration": 0,
    "start_time": "2022-11-25T09:18:49.739Z"
   },
   {
    "duration": 0,
    "start_time": "2022-11-25T09:18:49.741Z"
   },
   {
    "duration": 0,
    "start_time": "2022-11-25T09:18:49.742Z"
   },
   {
    "duration": 0,
    "start_time": "2022-11-25T09:18:49.743Z"
   },
   {
    "duration": 4,
    "start_time": "2022-11-25T09:19:22.092Z"
   },
   {
    "duration": 31,
    "start_time": "2022-11-25T09:19:22.832Z"
   },
   {
    "duration": 15,
    "start_time": "2022-11-25T09:19:23.658Z"
   },
   {
    "duration": 15,
    "start_time": "2022-11-25T09:19:23.675Z"
   },
   {
    "duration": 7,
    "start_time": "2022-11-25T09:19:24.910Z"
   },
   {
    "duration": 4,
    "start_time": "2022-11-25T09:19:29.580Z"
   },
   {
    "duration": 22,
    "start_time": "2022-11-25T09:19:30.110Z"
   },
   {
    "duration": 15,
    "start_time": "2022-11-25T09:19:51.654Z"
   },
   {
    "duration": 17,
    "start_time": "2022-11-25T09:23:07.691Z"
   },
   {
    "duration": 9,
    "start_time": "2022-11-25T09:25:42.349Z"
   },
   {
    "duration": 19,
    "start_time": "2022-11-25T09:26:27.342Z"
   },
   {
    "duration": 17,
    "start_time": "2022-11-25T09:26:35.007Z"
   },
   {
    "duration": 21,
    "start_time": "2022-11-25T09:28:08.062Z"
   },
   {
    "duration": 13,
    "start_time": "2022-11-25T09:28:20.739Z"
   },
   {
    "duration": 17,
    "start_time": "2022-11-25T09:28:42.441Z"
   },
   {
    "duration": 16,
    "start_time": "2022-11-25T09:28:59.359Z"
   },
   {
    "duration": 36,
    "start_time": "2022-11-25T09:31:42.030Z"
   },
   {
    "duration": 32,
    "start_time": "2022-11-25T09:32:16.798Z"
   },
   {
    "duration": 9,
    "start_time": "2022-11-25T09:36:54.458Z"
   },
   {
    "duration": 3,
    "start_time": "2022-11-25T09:36:57.561Z"
   },
   {
    "duration": 12,
    "start_time": "2022-11-25T09:36:57.950Z"
   },
   {
    "duration": 4,
    "start_time": "2022-11-25T09:37:09.259Z"
   },
   {
    "duration": 10,
    "start_time": "2022-11-25T09:37:10.014Z"
   },
   {
    "duration": 9,
    "start_time": "2022-11-25T09:43:06.859Z"
   },
   {
    "duration": 5,
    "start_time": "2022-11-25T09:43:07.950Z"
   },
   {
    "duration": 14,
    "start_time": "2022-11-25T09:43:18.418Z"
   },
   {
    "duration": 4,
    "start_time": "2022-11-25T09:44:05.631Z"
   },
   {
    "duration": 6,
    "start_time": "2022-11-25T09:44:41.178Z"
   },
   {
    "duration": 4,
    "start_time": "2022-11-25T09:45:24.091Z"
   },
   {
    "duration": 36,
    "start_time": "2022-11-25T09:54:48.800Z"
   },
   {
    "duration": 47,
    "start_time": "2022-11-25T09:57:52.686Z"
   },
   {
    "duration": 190,
    "start_time": "2022-11-25T09:57:52.735Z"
   },
   {
    "duration": 1034,
    "start_time": "2022-11-25T09:58:02.923Z"
   },
   {
    "duration": 44,
    "start_time": "2022-11-25T09:58:35.152Z"
   },
   {
    "duration": 15,
    "start_time": "2022-11-25T09:58:36.751Z"
   },
   {
    "duration": 126,
    "start_time": "2022-11-25T09:58:37.961Z"
   },
   {
    "duration": 8,
    "start_time": "2022-11-25T09:58:59.883Z"
   },
   {
    "duration": 4,
    "start_time": "2022-11-25T09:59:25.711Z"
   },
   {
    "duration": 4,
    "start_time": "2022-11-25T09:59:26.233Z"
   },
   {
    "duration": 8,
    "start_time": "2022-11-25T09:59:26.812Z"
   },
   {
    "duration": 5,
    "start_time": "2022-11-25T09:59:26.971Z"
   },
   {
    "duration": 7,
    "start_time": "2022-11-25T09:59:33.841Z"
   },
   {
    "duration": 5,
    "start_time": "2022-11-25T10:00:15.931Z"
   },
   {
    "duration": 1518,
    "start_time": "2022-11-25T10:06:17.192Z"
   },
   {
    "duration": 32,
    "start_time": "2022-11-25T10:06:18.712Z"
   },
   {
    "duration": 19,
    "start_time": "2022-11-25T10:06:18.746Z"
   },
   {
    "duration": 14,
    "start_time": "2022-11-25T10:06:18.767Z"
   },
   {
    "duration": 8,
    "start_time": "2022-11-25T10:06:18.784Z"
   },
   {
    "duration": 18,
    "start_time": "2022-11-25T10:06:18.794Z"
   },
   {
    "duration": 10,
    "start_time": "2022-11-25T10:06:18.814Z"
   },
   {
    "duration": 5,
    "start_time": "2022-11-25T10:06:18.826Z"
   },
   {
    "duration": 34,
    "start_time": "2022-11-25T10:06:18.833Z"
   },
   {
    "duration": 187,
    "start_time": "2022-11-25T10:06:18.869Z"
   },
   {
    "duration": 1800,
    "start_time": "2022-11-25T10:06:19.059Z"
   },
   {
    "duration": 925,
    "start_time": "2022-11-25T10:06:20.861Z"
   },
   {
    "duration": 44,
    "start_time": "2022-11-25T10:06:21.788Z"
   },
   {
    "duration": 12,
    "start_time": "2022-11-25T10:06:21.835Z"
   },
   {
    "duration": 131,
    "start_time": "2022-11-25T10:06:21.849Z"
   },
   {
    "duration": 7,
    "start_time": "2022-11-25T10:06:21.982Z"
   },
   {
    "duration": 11,
    "start_time": "2022-11-25T10:06:21.990Z"
   },
   {
    "duration": 12,
    "start_time": "2022-11-25T10:06:22.002Z"
   },
   {
    "duration": 7,
    "start_time": "2022-11-25T10:06:22.015Z"
   },
   {
    "duration": 7,
    "start_time": "2022-11-25T10:06:22.024Z"
   },
   {
    "duration": 7,
    "start_time": "2022-11-25T10:06:22.033Z"
   },
   {
    "duration": 5,
    "start_time": "2022-11-25T10:06:28.501Z"
   },
   {
    "duration": 31,
    "start_time": "2022-11-25T10:06:30.711Z"
   },
   {
    "duration": 15,
    "start_time": "2022-11-25T10:06:34.632Z"
   },
   {
    "duration": 30,
    "start_time": "2022-11-25T10:13:57.238Z"
   },
   {
    "duration": 15,
    "start_time": "2022-11-25T10:13:58.049Z"
   },
   {
    "duration": 12,
    "start_time": "2022-11-25T10:13:58.451Z"
   },
   {
    "duration": 8,
    "start_time": "2022-11-25T10:13:59.348Z"
   },
   {
    "duration": 9,
    "start_time": "2022-11-25T10:14:00.420Z"
   },
   {
    "duration": 8,
    "start_time": "2022-11-25T10:14:00.958Z"
   },
   {
    "duration": 6,
    "start_time": "2022-11-25T10:14:01.929Z"
   },
   {
    "duration": 38,
    "start_time": "2022-11-25T10:14:11.038Z"
   },
   {
    "duration": 159,
    "start_time": "2022-11-25T10:14:11.677Z"
   },
   {
    "duration": 568,
    "start_time": "2022-11-25T10:15:13.307Z"
   },
   {
    "duration": 4,
    "start_time": "2022-11-25T10:16:07.977Z"
   },
   {
    "duration": 30,
    "start_time": "2022-11-25T10:16:08.837Z"
   },
   {
    "duration": 21,
    "start_time": "2022-11-25T10:16:09.539Z"
   },
   {
    "duration": 17,
    "start_time": "2022-11-25T10:16:09.708Z"
   },
   {
    "duration": 9,
    "start_time": "2022-11-25T10:16:10.821Z"
   },
   {
    "duration": 5,
    "start_time": "2022-11-25T10:16:12.158Z"
   },
   {
    "duration": 10,
    "start_time": "2022-11-25T10:16:12.365Z"
   },
   {
    "duration": 5,
    "start_time": "2022-11-25T10:16:13.274Z"
   },
   {
    "duration": 39,
    "start_time": "2022-11-25T10:16:14.863Z"
   },
   {
    "duration": 141,
    "start_time": "2022-11-25T10:16:15.576Z"
   },
   {
    "duration": 120,
    "start_time": "2022-11-25T10:19:24.659Z"
   },
   {
    "duration": 482,
    "start_time": "2022-11-25T10:20:22.600Z"
   },
   {
    "duration": 50,
    "start_time": "2022-11-25T10:20:48.149Z"
   },
   {
    "duration": 482,
    "start_time": "2022-11-25T10:20:53.599Z"
   },
   {
    "duration": 487,
    "start_time": "2022-11-25T10:21:00.852Z"
   },
   {
    "duration": 491,
    "start_time": "2022-11-25T10:21:07.973Z"
   },
   {
    "duration": 494,
    "start_time": "2022-11-25T10:22:07.329Z"
   },
   {
    "duration": 473,
    "start_time": "2022-11-25T10:22:16.892Z"
   },
   {
    "duration": 501,
    "start_time": "2022-11-25T10:22:41.760Z"
   },
   {
    "duration": 484,
    "start_time": "2022-11-25T10:22:46.550Z"
   },
   {
    "duration": 4,
    "start_time": "2022-11-25T10:23:13.399Z"
   },
   {
    "duration": 525,
    "start_time": "2022-11-25T10:23:21.423Z"
   },
   {
    "duration": 498,
    "start_time": "2022-11-25T10:23:26.659Z"
   },
   {
    "duration": 546,
    "start_time": "2022-11-25T10:24:02.966Z"
   },
   {
    "duration": 509,
    "start_time": "2022-11-25T10:24:20.040Z"
   },
   {
    "duration": 493,
    "start_time": "2022-11-25T10:24:30.073Z"
   },
   {
    "duration": 593,
    "start_time": "2022-11-25T10:24:38.339Z"
   },
   {
    "duration": 536,
    "start_time": "2022-11-25T10:25:23.841Z"
   },
   {
    "duration": 24,
    "start_time": "2022-11-25T10:26:43.132Z"
   },
   {
    "duration": 539,
    "start_time": "2022-11-25T10:26:53.298Z"
   },
   {
    "duration": 16,
    "start_time": "2022-11-25T10:26:57.658Z"
   },
   {
    "duration": 544,
    "start_time": "2022-11-25T10:27:02.098Z"
   },
   {
    "duration": 556,
    "start_time": "2022-11-25T10:27:29.947Z"
   },
   {
    "duration": 1373,
    "start_time": "2022-11-25T10:28:37.507Z"
   },
   {
    "duration": 31,
    "start_time": "2022-11-25T10:28:38.882Z"
   },
   {
    "duration": 19,
    "start_time": "2022-11-25T10:28:38.915Z"
   },
   {
    "duration": 12,
    "start_time": "2022-11-25T10:28:38.935Z"
   },
   {
    "duration": 8,
    "start_time": "2022-11-25T10:28:38.949Z"
   },
   {
    "duration": 4,
    "start_time": "2022-11-25T10:28:38.958Z"
   },
   {
    "duration": 10,
    "start_time": "2022-11-25T10:28:38.964Z"
   },
   {
    "duration": 5,
    "start_time": "2022-11-25T10:28:38.976Z"
   },
   {
    "duration": 62,
    "start_time": "2022-11-25T10:28:38.982Z"
   },
   {
    "duration": 166,
    "start_time": "2022-11-25T10:28:39.046Z"
   },
   {
    "duration": 130,
    "start_time": "2022-11-25T10:28:39.214Z"
   },
   {
    "duration": 0,
    "start_time": "2022-11-25T10:28:39.347Z"
   },
   {
    "duration": 0,
    "start_time": "2022-11-25T10:28:39.349Z"
   },
   {
    "duration": 0,
    "start_time": "2022-11-25T10:28:39.351Z"
   },
   {
    "duration": 0,
    "start_time": "2022-11-25T10:28:39.352Z"
   },
   {
    "duration": 0,
    "start_time": "2022-11-25T10:28:39.353Z"
   },
   {
    "duration": 0,
    "start_time": "2022-11-25T10:28:39.355Z"
   },
   {
    "duration": 0,
    "start_time": "2022-11-25T10:28:39.356Z"
   },
   {
    "duration": 0,
    "start_time": "2022-11-25T10:28:39.357Z"
   },
   {
    "duration": 0,
    "start_time": "2022-11-25T10:28:39.358Z"
   },
   {
    "duration": 0,
    "start_time": "2022-11-25T10:28:39.359Z"
   },
   {
    "duration": 0,
    "start_time": "2022-11-25T10:28:39.360Z"
   },
   {
    "duration": 5,
    "start_time": "2022-11-25T10:28:46.568Z"
   },
   {
    "duration": 30,
    "start_time": "2022-11-25T10:28:47.376Z"
   },
   {
    "duration": 14,
    "start_time": "2022-11-25T10:28:47.806Z"
   },
   {
    "duration": 12,
    "start_time": "2022-11-25T10:28:47.977Z"
   },
   {
    "duration": 6,
    "start_time": "2022-11-25T10:28:48.675Z"
   },
   {
    "duration": 4,
    "start_time": "2022-11-25T10:28:49.428Z"
   },
   {
    "duration": 9,
    "start_time": "2022-11-25T10:28:49.955Z"
   },
   {
    "duration": 5,
    "start_time": "2022-11-25T10:28:50.506Z"
   },
   {
    "duration": 37,
    "start_time": "2022-11-25T10:28:52.146Z"
   },
   {
    "duration": 129,
    "start_time": "2022-11-25T10:28:52.648Z"
   },
   {
    "duration": 18,
    "start_time": "2022-11-25T10:28:53.965Z"
   },
   {
    "duration": 9,
    "start_time": "2022-11-25T10:28:54.256Z"
   },
   {
    "duration": 4,
    "start_time": "2022-11-25T10:29:08.635Z"
   },
   {
    "duration": 31,
    "start_time": "2022-11-25T10:29:10.076Z"
   },
   {
    "duration": 15,
    "start_time": "2022-11-25T10:29:10.677Z"
   },
   {
    "duration": 11,
    "start_time": "2022-11-25T10:29:10.805Z"
   },
   {
    "duration": 6,
    "start_time": "2022-11-25T10:29:11.488Z"
   },
   {
    "duration": 4,
    "start_time": "2022-11-25T10:29:12.941Z"
   },
   {
    "duration": 9,
    "start_time": "2022-11-25T10:29:12.958Z"
   },
   {
    "duration": 5,
    "start_time": "2022-11-25T10:29:13.125Z"
   },
   {
    "duration": 34,
    "start_time": "2022-11-25T10:29:14.205Z"
   },
   {
    "duration": 129,
    "start_time": "2022-11-25T10:29:14.376Z"
   },
   {
    "duration": 652,
    "start_time": "2022-11-25T10:29:15.316Z"
   },
   {
    "duration": 12,
    "start_time": "2022-11-25T10:29:16.015Z"
   },
   {
    "duration": 121,
    "start_time": "2022-11-25T10:48:56.024Z"
   },
   {
    "duration": 124,
    "start_time": "2022-11-25T10:49:26.000Z"
   },
   {
    "duration": 136,
    "start_time": "2022-11-25T10:52:30.223Z"
   },
   {
    "duration": 11,
    "start_time": "2022-11-25T10:57:38.522Z"
   },
   {
    "duration": 10,
    "start_time": "2022-11-25T10:59:01.782Z"
   },
   {
    "duration": 12,
    "start_time": "2022-11-25T10:59:57.301Z"
   },
   {
    "duration": 4,
    "start_time": "2022-11-25T11:02:53.363Z"
   },
   {
    "duration": 15,
    "start_time": "2022-11-25T11:02:53.369Z"
   },
   {
    "duration": 17,
    "start_time": "2022-11-25T11:02:53.387Z"
   },
   {
    "duration": 29,
    "start_time": "2022-11-25T11:02:53.406Z"
   },
   {
    "duration": 21,
    "start_time": "2022-11-25T11:02:53.439Z"
   },
   {
    "duration": 11,
    "start_time": "2022-11-25T11:02:53.462Z"
   },
   {
    "duration": 28,
    "start_time": "2022-11-25T11:02:53.475Z"
   },
   {
    "duration": 16,
    "start_time": "2022-11-25T11:02:53.505Z"
   },
   {
    "duration": 47,
    "start_time": "2022-11-25T11:02:53.523Z"
   },
   {
    "duration": 129,
    "start_time": "2022-11-25T11:02:53.571Z"
   },
   {
    "duration": 0,
    "start_time": "2022-11-25T11:02:53.702Z"
   },
   {
    "duration": 0,
    "start_time": "2022-11-25T11:02:53.704Z"
   },
   {
    "duration": 0,
    "start_time": "2022-11-25T11:02:53.705Z"
   },
   {
    "duration": 0,
    "start_time": "2022-11-25T11:02:53.706Z"
   },
   {
    "duration": 0,
    "start_time": "2022-11-25T11:02:53.712Z"
   },
   {
    "duration": 0,
    "start_time": "2022-11-25T11:02:53.713Z"
   },
   {
    "duration": 0,
    "start_time": "2022-11-25T11:02:53.714Z"
   },
   {
    "duration": 0,
    "start_time": "2022-11-25T11:02:53.715Z"
   },
   {
    "duration": 0,
    "start_time": "2022-11-25T11:02:53.717Z"
   },
   {
    "duration": 0,
    "start_time": "2022-11-25T11:02:53.719Z"
   },
   {
    "duration": 0,
    "start_time": "2022-11-25T11:02:53.721Z"
   },
   {
    "duration": 0,
    "start_time": "2022-11-25T11:02:53.721Z"
   },
   {
    "duration": 4,
    "start_time": "2022-11-25T11:03:02.148Z"
   },
   {
    "duration": 33,
    "start_time": "2022-11-25T11:03:03.036Z"
   },
   {
    "duration": 16,
    "start_time": "2022-11-25T11:03:03.734Z"
   },
   {
    "duration": 11,
    "start_time": "2022-11-25T11:03:03.910Z"
   },
   {
    "duration": 7,
    "start_time": "2022-11-25T11:03:04.684Z"
   },
   {
    "duration": 4,
    "start_time": "2022-11-25T11:03:05.524Z"
   },
   {
    "duration": 11,
    "start_time": "2022-11-25T11:03:06.124Z"
   },
   {
    "duration": 5,
    "start_time": "2022-11-25T11:03:06.774Z"
   },
   {
    "duration": 37,
    "start_time": "2022-11-25T11:03:07.972Z"
   },
   {
    "duration": 14,
    "start_time": "2022-11-25T11:03:08.314Z"
   },
   {
    "duration": 15,
    "start_time": "2022-11-25T11:03:08.684Z"
   },
   {
    "duration": 142,
    "start_time": "2022-11-25T11:05:59.805Z"
   },
   {
    "duration": 122,
    "start_time": "2022-11-25T11:06:17.361Z"
   },
   {
    "duration": 144,
    "start_time": "2022-11-25T11:06:26.753Z"
   },
   {
    "duration": 216,
    "start_time": "2022-11-25T11:06:42.653Z"
   },
   {
    "duration": 229,
    "start_time": "2022-11-25T11:06:49.683Z"
   },
   {
    "duration": 130,
    "start_time": "2022-11-25T11:07:27.503Z"
   },
   {
    "duration": 120,
    "start_time": "2022-11-25T11:08:06.082Z"
   },
   {
    "duration": 14,
    "start_time": "2022-11-25T11:13:29.381Z"
   },
   {
    "duration": 370,
    "start_time": "2022-11-25T11:13:50.067Z"
   },
   {
    "duration": 238,
    "start_time": "2022-11-25T11:14:16.846Z"
   },
   {
    "duration": 121,
    "start_time": "2022-11-25T11:14:33.555Z"
   },
   {
    "duration": 133,
    "start_time": "2022-11-25T11:14:46.883Z"
   },
   {
    "duration": 223,
    "start_time": "2022-11-25T11:15:00.204Z"
   },
   {
    "duration": 139,
    "start_time": "2022-11-25T11:15:10.788Z"
   },
   {
    "duration": 136,
    "start_time": "2022-11-25T11:15:20.588Z"
   },
   {
    "duration": 133,
    "start_time": "2022-11-25T11:15:25.747Z"
   },
   {
    "duration": 157,
    "start_time": "2022-11-25T11:15:30.994Z"
   },
   {
    "duration": 241,
    "start_time": "2022-11-25T11:15:34.084Z"
   },
   {
    "duration": 141,
    "start_time": "2022-11-25T11:15:42.736Z"
   },
   {
    "duration": 156,
    "start_time": "2022-11-25T11:15:47.686Z"
   },
   {
    "duration": 155,
    "start_time": "2022-11-25T11:15:53.586Z"
   },
   {
    "duration": 190,
    "start_time": "2022-11-25T11:15:56.414Z"
   },
   {
    "duration": 131,
    "start_time": "2022-11-25T11:16:06.665Z"
   },
   {
    "duration": 231,
    "start_time": "2022-11-25T11:16:13.167Z"
   },
   {
    "duration": 11,
    "start_time": "2022-11-25T11:20:52.767Z"
   },
   {
    "duration": 38,
    "start_time": "2022-11-25T11:20:56.953Z"
   },
   {
    "duration": 149,
    "start_time": "2022-11-25T11:20:58.192Z"
   },
   {
    "duration": 11,
    "start_time": "2022-11-25T11:21:20.842Z"
   },
   {
    "duration": 38,
    "start_time": "2022-11-25T11:21:30.636Z"
   },
   {
    "duration": 11,
    "start_time": "2022-11-25T11:21:31.868Z"
   },
   {
    "duration": 118,
    "start_time": "2022-11-25T11:21:53.312Z"
   },
   {
    "duration": 128,
    "start_time": "2022-11-25T11:22:00.002Z"
   },
   {
    "duration": 205,
    "start_time": "2022-11-25T11:22:19.326Z"
   },
   {
    "duration": 11,
    "start_time": "2022-11-25T11:25:23.672Z"
   },
   {
    "duration": 4,
    "start_time": "2022-11-25T12:15:05.755Z"
   },
   {
    "duration": 10,
    "start_time": "2022-11-25T12:15:05.761Z"
   },
   {
    "duration": 14,
    "start_time": "2022-11-25T12:15:05.772Z"
   },
   {
    "duration": 19,
    "start_time": "2022-11-25T12:15:05.787Z"
   },
   {
    "duration": 6,
    "start_time": "2022-11-25T12:15:05.808Z"
   },
   {
    "duration": 7,
    "start_time": "2022-11-25T12:15:05.816Z"
   },
   {
    "duration": 8,
    "start_time": "2022-11-25T12:15:05.865Z"
   },
   {
    "duration": 4,
    "start_time": "2022-11-25T12:15:05.883Z"
   },
   {
    "duration": 32,
    "start_time": "2022-11-25T12:15:05.889Z"
   },
   {
    "duration": 134,
    "start_time": "2022-11-25T12:15:05.922Z"
   },
   {
    "duration": 281,
    "start_time": "2022-11-25T12:15:06.058Z"
   },
   {
    "duration": 663,
    "start_time": "2022-11-25T12:15:06.342Z"
   },
   {
    "duration": 950,
    "start_time": "2022-11-25T12:15:07.013Z"
   },
   {
    "duration": 38,
    "start_time": "2022-11-25T12:15:07.964Z"
   },
   {
    "duration": 13,
    "start_time": "2022-11-25T12:15:08.012Z"
   },
   {
    "duration": 130,
    "start_time": "2022-11-25T12:15:08.028Z"
   },
   {
    "duration": 8,
    "start_time": "2022-11-25T12:15:08.160Z"
   },
   {
    "duration": 8,
    "start_time": "2022-11-25T12:15:08.171Z"
   },
   {
    "duration": 25,
    "start_time": "2022-11-25T12:15:08.181Z"
   },
   {
    "duration": 10,
    "start_time": "2022-11-25T12:15:08.208Z"
   },
   {
    "duration": 10,
    "start_time": "2022-11-25T12:15:08.220Z"
   },
   {
    "duration": 9,
    "start_time": "2022-11-25T12:15:08.232Z"
   },
   {
    "duration": 4,
    "start_time": "2022-11-25T12:15:41.511Z"
   },
   {
    "duration": 30,
    "start_time": "2022-11-25T12:15:41.711Z"
   },
   {
    "duration": 16,
    "start_time": "2022-11-25T12:15:41.955Z"
   },
   {
    "duration": 13,
    "start_time": "2022-11-25T12:15:42.035Z"
   },
   {
    "duration": 6,
    "start_time": "2022-11-25T12:15:42.595Z"
   },
   {
    "duration": 10,
    "start_time": "2022-11-25T12:15:42.603Z"
   },
   {
    "duration": 9,
    "start_time": "2022-11-25T12:15:42.885Z"
   },
   {
    "duration": 4,
    "start_time": "2022-11-25T12:15:43.444Z"
   },
   {
    "duration": 44,
    "start_time": "2022-11-25T12:15:44.893Z"
   },
   {
    "duration": 122,
    "start_time": "2022-11-25T12:15:45.215Z"
   },
   {
    "duration": 185,
    "start_time": "2022-11-25T12:16:47.169Z"
   },
   {
    "duration": 128,
    "start_time": "2022-11-25T12:16:59.191Z"
   },
   {
    "duration": 284,
    "start_time": "2022-11-25T12:18:27.779Z"
   },
   {
    "duration": 146,
    "start_time": "2022-11-25T12:18:55.819Z"
   },
   {
    "duration": 5,
    "start_time": "2022-11-25T12:37:41.702Z"
   },
   {
    "duration": 32,
    "start_time": "2022-11-25T12:37:42.590Z"
   },
   {
    "duration": 21,
    "start_time": "2022-11-25T12:37:43.310Z"
   },
   {
    "duration": 15,
    "start_time": "2022-11-25T12:37:43.871Z"
   },
   {
    "duration": 8,
    "start_time": "2022-11-25T12:37:45.127Z"
   },
   {
    "duration": 5,
    "start_time": "2022-11-25T12:37:47.327Z"
   },
   {
    "duration": 17,
    "start_time": "2022-11-25T12:38:10.183Z"
   },
   {
    "duration": 14,
    "start_time": "2022-11-25T12:38:11.190Z"
   },
   {
    "duration": 189,
    "start_time": "2022-11-25T12:38:17.391Z"
   },
   {
    "duration": 11,
    "start_time": "2022-11-25T12:38:17.862Z"
   },
   {
    "duration": 10,
    "start_time": "2022-11-25T12:39:04.418Z"
   },
   {
    "duration": 10,
    "start_time": "2022-11-25T12:39:19.628Z"
   },
   {
    "duration": 20,
    "start_time": "2022-11-25T12:39:40.807Z"
   },
   {
    "duration": 14,
    "start_time": "2022-11-25T12:40:26.328Z"
   },
   {
    "duration": 364,
    "start_time": "2022-11-25T12:40:57.636Z"
   },
   {
    "duration": 10,
    "start_time": "2022-11-25T12:41:54.631Z"
   },
   {
    "duration": 217,
    "start_time": "2022-11-25T12:42:20.357Z"
   },
   {
    "duration": 146,
    "start_time": "2022-11-25T12:46:55.085Z"
   },
   {
    "duration": 21,
    "start_time": "2022-11-25T12:47:21.606Z"
   },
   {
    "duration": 204,
    "start_time": "2022-11-25T12:47:27.667Z"
   },
   {
    "duration": 10,
    "start_time": "2022-11-25T12:48:31.595Z"
   },
   {
    "duration": 11,
    "start_time": "2022-11-25T12:48:50.119Z"
   },
   {
    "duration": 132,
    "start_time": "2022-11-25T12:49:01.904Z"
   },
   {
    "duration": 1940,
    "start_time": "2022-11-25T12:56:11.629Z"
   },
   {
    "duration": 26,
    "start_time": "2022-11-25T12:56:31.302Z"
   },
   {
    "duration": 31,
    "start_time": "2022-11-25T12:56:59.326Z"
   },
   {
    "duration": 29,
    "start_time": "2022-11-25T12:57:44.528Z"
   },
   {
    "duration": 1527,
    "start_time": "2022-11-25T12:57:55.704Z"
   },
   {
    "duration": 35,
    "start_time": "2022-11-25T12:57:57.234Z"
   },
   {
    "duration": 27,
    "start_time": "2022-11-25T12:57:57.271Z"
   },
   {
    "duration": 26,
    "start_time": "2022-11-25T12:57:57.300Z"
   },
   {
    "duration": 12,
    "start_time": "2022-11-25T12:57:57.330Z"
   },
   {
    "duration": 5,
    "start_time": "2022-11-25T12:57:57.344Z"
   },
   {
    "duration": 13,
    "start_time": "2022-11-25T12:57:57.351Z"
   },
   {
    "duration": 6,
    "start_time": "2022-11-25T12:57:57.366Z"
   },
   {
    "duration": 203,
    "start_time": "2022-11-25T12:57:57.374Z"
   },
   {
    "duration": 293,
    "start_time": "2022-11-25T12:57:57.578Z"
   },
   {
    "duration": 621,
    "start_time": "2022-11-25T12:57:57.873Z"
   },
   {
    "duration": 1034,
    "start_time": "2022-11-25T12:57:58.496Z"
   },
   {
    "duration": 42,
    "start_time": "2022-11-25T12:57:59.532Z"
   },
   {
    "duration": 13,
    "start_time": "2022-11-25T12:57:59.576Z"
   },
   {
    "duration": 164,
    "start_time": "2022-11-25T12:57:59.591Z"
   },
   {
    "duration": 2279,
    "start_time": "2022-11-25T12:57:59.757Z"
   },
   {
    "duration": 0,
    "start_time": "2022-11-25T12:58:02.038Z"
   },
   {
    "duration": 0,
    "start_time": "2022-11-25T12:58:02.039Z"
   },
   {
    "duration": 0,
    "start_time": "2022-11-25T12:58:02.040Z"
   },
   {
    "duration": 0,
    "start_time": "2022-11-25T12:58:02.041Z"
   },
   {
    "duration": 0,
    "start_time": "2022-11-25T12:58:02.043Z"
   },
   {
    "duration": 0,
    "start_time": "2022-11-25T12:58:02.043Z"
   },
   {
    "duration": 4,
    "start_time": "2022-11-25T12:58:09.399Z"
   },
   {
    "duration": 36,
    "start_time": "2022-11-25T12:58:10.068Z"
   },
   {
    "duration": 15,
    "start_time": "2022-11-25T12:58:10.529Z"
   },
   {
    "duration": 12,
    "start_time": "2022-11-25T12:58:10.693Z"
   },
   {
    "duration": 7,
    "start_time": "2022-11-25T12:58:11.332Z"
   },
   {
    "duration": 4,
    "start_time": "2022-11-25T12:58:11.889Z"
   },
   {
    "duration": 9,
    "start_time": "2022-11-25T12:58:12.361Z"
   },
   {
    "duration": 5,
    "start_time": "2022-11-25T12:58:12.830Z"
   },
   {
    "duration": 190,
    "start_time": "2022-11-25T12:58:13.869Z"
   },
   {
    "duration": 252,
    "start_time": "2022-11-25T12:58:14.062Z"
   },
   {
    "duration": 615,
    "start_time": "2022-11-25T12:58:14.369Z"
   },
   {
    "duration": 1007,
    "start_time": "2022-11-25T12:58:14.987Z"
   },
   {
    "duration": 49,
    "start_time": "2022-11-25T12:58:16.089Z"
   },
   {
    "duration": 17,
    "start_time": "2022-11-25T12:58:16.539Z"
   },
   {
    "duration": 164,
    "start_time": "2022-11-25T12:58:17.289Z"
   },
   {
    "duration": 152,
    "start_time": "2022-11-25T12:58:17.559Z"
   },
   {
    "duration": 7,
    "start_time": "2022-11-25T12:58:18.679Z"
   },
   {
    "duration": 1006,
    "start_time": "2022-11-25T13:01:56.113Z"
   },
   {
    "duration": 15495,
    "start_time": "2022-11-25T13:02:05.672Z"
   },
   {
    "duration": 188,
    "start_time": "2022-11-25T13:02:56.983Z"
   },
   {
    "duration": 16,
    "start_time": "2022-11-25T13:10:28.872Z"
   },
   {
    "duration": 86,
    "start_time": "2022-11-25T13:10:39.785Z"
   },
   {
    "duration": 29,
    "start_time": "2022-11-25T13:11:18.062Z"
   },
   {
    "duration": 159,
    "start_time": "2022-11-25T13:11:31.432Z"
   },
   {
    "duration": 171,
    "start_time": "2022-11-25T13:12:02.791Z"
   },
   {
    "duration": 20,
    "start_time": "2022-11-25T13:12:23.712Z"
   },
   {
    "duration": 20,
    "start_time": "2022-11-25T13:12:29.643Z"
   },
   {
    "duration": 19,
    "start_time": "2022-11-25T13:13:00.144Z"
   },
   {
    "duration": 213,
    "start_time": "2022-11-25T13:13:11.432Z"
   },
   {
    "duration": 235,
    "start_time": "2022-11-25T13:13:44.123Z"
   },
   {
    "duration": 240,
    "start_time": "2022-11-25T13:14:07.230Z"
   },
   {
    "duration": 202,
    "start_time": "2022-11-25T13:14:21.550Z"
   },
   {
    "duration": 242,
    "start_time": "2022-11-25T13:14:25.123Z"
   },
   {
    "duration": 37,
    "start_time": "2022-11-25T13:20:54.461Z"
   },
   {
    "duration": 56,
    "start_time": "2022-11-25T13:21:15.750Z"
   },
   {
    "duration": 26,
    "start_time": "2022-11-25T13:21:23.576Z"
   },
   {
    "duration": 26,
    "start_time": "2022-11-25T13:21:39.022Z"
   },
   {
    "duration": 25,
    "start_time": "2022-11-25T13:21:46.003Z"
   },
   {
    "duration": 34,
    "start_time": "2022-11-25T13:21:55.758Z"
   },
   {
    "duration": 163,
    "start_time": "2022-11-25T13:22:09.941Z"
   },
   {
    "duration": 165,
    "start_time": "2022-11-25T13:40:45.651Z"
   },
   {
    "duration": 157,
    "start_time": "2022-11-25T13:41:01.511Z"
   },
   {
    "duration": 149,
    "start_time": "2022-11-25T13:41:15.832Z"
   },
   {
    "duration": 19,
    "start_time": "2022-11-25T13:41:24.270Z"
   },
   {
    "duration": 163,
    "start_time": "2022-11-25T13:42:03.386Z"
   },
   {
    "duration": 245,
    "start_time": "2022-11-25T13:42:18.314Z"
   },
   {
    "duration": 5,
    "start_time": "2022-11-25T13:42:40.003Z"
   },
   {
    "duration": 5,
    "start_time": "2022-11-25T13:42:57.201Z"
   },
   {
    "duration": 6,
    "start_time": "2022-11-25T13:43:10.021Z"
   },
   {
    "duration": 4,
    "start_time": "2022-11-25T13:43:46.009Z"
   },
   {
    "duration": 5,
    "start_time": "2022-11-25T13:43:51.912Z"
   },
   {
    "duration": 194,
    "start_time": "2022-11-25T13:44:10.443Z"
   },
   {
    "duration": 237,
    "start_time": "2022-11-25T13:44:16.651Z"
   },
   {
    "duration": 344,
    "start_time": "2022-11-25T13:44:23.231Z"
   },
   {
    "duration": 144,
    "start_time": "2022-11-25T13:44:53.451Z"
   },
   {
    "duration": 3076,
    "start_time": "2022-11-25T13:45:40.625Z"
   },
   {
    "duration": 30,
    "start_time": "2022-11-25T13:46:15.374Z"
   },
   {
    "duration": 24,
    "start_time": "2022-11-25T13:46:39.486Z"
   },
   {
    "duration": 3259,
    "start_time": "2022-11-25T13:46:51.754Z"
   },
   {
    "duration": 349,
    "start_time": "2022-11-25T13:47:07.567Z"
   },
   {
    "duration": 344,
    "start_time": "2022-11-25T13:47:32.974Z"
   },
   {
    "duration": 235,
    "start_time": "2022-11-25T13:48:35.642Z"
   },
   {
    "duration": 304,
    "start_time": "2022-11-25T13:48:46.184Z"
   },
   {
    "duration": 3274,
    "start_time": "2022-11-25T13:49:03.480Z"
   },
   {
    "duration": 85,
    "start_time": "2022-11-25T14:09:24.009Z"
   },
   {
    "duration": 270,
    "start_time": "2022-11-25T14:10:05.177Z"
   },
   {
    "duration": 296,
    "start_time": "2022-11-25T14:10:22.176Z"
   },
   {
    "duration": 206,
    "start_time": "2022-11-25T14:10:29.309Z"
   },
   {
    "duration": 192,
    "start_time": "2022-11-25T14:15:27.307Z"
   },
   {
    "duration": 5,
    "start_time": "2022-11-25T14:15:37.898Z"
   },
   {
    "duration": 211,
    "start_time": "2022-11-25T14:15:56.586Z"
   },
   {
    "duration": 136,
    "start_time": "2022-11-25T14:16:05.287Z"
   },
   {
    "duration": 144,
    "start_time": "2022-11-25T14:16:19.707Z"
   },
   {
    "duration": 80,
    "start_time": "2022-11-25T14:17:21.325Z"
   },
   {
    "duration": 78,
    "start_time": "2022-11-25T14:17:46.297Z"
   },
   {
    "duration": 145,
    "start_time": "2022-11-25T14:18:25.417Z"
   },
   {
    "duration": 147,
    "start_time": "2022-11-25T14:18:29.338Z"
   },
   {
    "duration": 188,
    "start_time": "2022-11-25T14:18:36.275Z"
   },
   {
    "duration": 81,
    "start_time": "2022-11-25T14:18:39.548Z"
   },
   {
    "duration": 141,
    "start_time": "2022-11-25T14:18:40.428Z"
   },
   {
    "duration": 1460,
    "start_time": "2022-11-25T14:19:12.813Z"
   },
   {
    "duration": 32,
    "start_time": "2022-11-25T14:19:14.275Z"
   },
   {
    "duration": 18,
    "start_time": "2022-11-25T14:19:14.308Z"
   },
   {
    "duration": 11,
    "start_time": "2022-11-25T14:19:14.328Z"
   },
   {
    "duration": 9,
    "start_time": "2022-11-25T14:19:14.341Z"
   },
   {
    "duration": 4,
    "start_time": "2022-11-25T14:19:14.352Z"
   },
   {
    "duration": 15,
    "start_time": "2022-11-25T14:19:14.357Z"
   },
   {
    "duration": 4,
    "start_time": "2022-11-25T14:19:14.374Z"
   },
   {
    "duration": 219,
    "start_time": "2022-11-25T14:19:14.380Z"
   },
   {
    "duration": 131,
    "start_time": "2022-11-25T14:19:14.601Z"
   },
   {
    "duration": 3,
    "start_time": "2022-11-25T14:19:14.734Z"
   },
   {
    "duration": 641,
    "start_time": "2022-11-25T14:19:14.739Z"
   },
   {
    "duration": 906,
    "start_time": "2022-11-25T14:19:15.382Z"
   },
   {
    "duration": 45,
    "start_time": "2022-11-25T14:19:16.291Z"
   },
   {
    "duration": 13,
    "start_time": "2022-11-25T14:19:16.338Z"
   },
   {
    "duration": 185,
    "start_time": "2022-11-25T14:19:16.353Z"
   },
   {
    "duration": 9,
    "start_time": "2022-11-25T14:19:16.539Z"
   },
   {
    "duration": 18,
    "start_time": "2022-11-25T14:19:16.550Z"
   },
   {
    "duration": 21,
    "start_time": "2022-11-25T14:19:16.571Z"
   },
   {
    "duration": 13,
    "start_time": "2022-11-25T14:19:16.594Z"
   },
   {
    "duration": 31,
    "start_time": "2022-11-25T14:19:16.609Z"
   },
   {
    "duration": 9,
    "start_time": "2022-11-25T14:19:16.641Z"
   },
   {
    "duration": 29,
    "start_time": "2022-11-25T14:19:35.684Z"
   },
   {
    "duration": 14,
    "start_time": "2022-11-25T14:19:35.715Z"
   },
   {
    "duration": 12,
    "start_time": "2022-11-25T14:19:35.941Z"
   },
   {
    "duration": 7,
    "start_time": "2022-11-25T14:19:36.517Z"
   },
   {
    "duration": 3,
    "start_time": "2022-11-25T14:19:37.287Z"
   },
   {
    "duration": 9,
    "start_time": "2022-11-25T14:19:37.748Z"
   },
   {
    "duration": 5,
    "start_time": "2022-11-25T14:19:38.266Z"
   },
   {
    "duration": 59,
    "start_time": "2022-11-25T14:19:39.507Z"
   },
   {
    "duration": 125,
    "start_time": "2022-11-25T14:19:39.765Z"
   },
   {
    "duration": 185,
    "start_time": "2022-11-25T14:19:51.689Z"
   },
   {
    "duration": 132,
    "start_time": "2022-11-25T14:19:54.947Z"
   },
   {
    "duration": 4,
    "start_time": "2022-11-25T14:20:14.092Z"
   },
   {
    "duration": 258,
    "start_time": "2022-11-25T14:20:49.117Z"
   },
   {
    "duration": 167,
    "start_time": "2022-11-25T14:20:50.108Z"
   },
   {
    "duration": 79,
    "start_time": "2022-11-25T14:22:16.917Z"
   },
   {
    "duration": 187,
    "start_time": "2022-11-25T14:22:24.207Z"
   },
   {
    "duration": 218,
    "start_time": "2022-11-25T14:27:24.848Z"
   },
   {
    "duration": 80,
    "start_time": "2022-11-25T14:27:48.411Z"
   },
   {
    "duration": 1607,
    "start_time": "2022-11-25T16:51:57.105Z"
   },
   {
    "duration": 72,
    "start_time": "2022-11-25T16:51:58.715Z"
   },
   {
    "duration": 26,
    "start_time": "2022-11-25T16:51:59.629Z"
   },
   {
    "duration": 16,
    "start_time": "2022-11-25T16:52:00.292Z"
   },
   {
    "duration": 9,
    "start_time": "2022-11-25T16:52:01.515Z"
   },
   {
    "duration": 6,
    "start_time": "2022-11-25T16:52:02.745Z"
   },
   {
    "duration": 12,
    "start_time": "2022-11-25T16:52:03.645Z"
   },
   {
    "duration": 5,
    "start_time": "2022-11-25T16:52:05.391Z"
   },
   {
    "duration": 273,
    "start_time": "2022-11-25T16:52:09.775Z"
   },
   {
    "duration": 285,
    "start_time": "2022-11-25T16:54:44.246Z"
   },
   {
    "duration": 207,
    "start_time": "2022-11-25T16:55:28.883Z"
   },
   {
    "duration": 220,
    "start_time": "2022-11-25T16:56:03.374Z"
   },
   {
    "duration": 2021,
    "start_time": "2022-11-25T20:30:18.337Z"
   },
   {
    "duration": 73,
    "start_time": "2022-11-25T20:30:20.361Z"
   },
   {
    "duration": 22,
    "start_time": "2022-11-25T20:30:20.436Z"
   },
   {
    "duration": 14,
    "start_time": "2022-11-25T20:30:22.738Z"
   },
   {
    "duration": 17,
    "start_time": "2022-11-25T20:30:25.167Z"
   },
   {
    "duration": 4,
    "start_time": "2022-11-25T20:30:27.981Z"
   },
   {
    "duration": 10,
    "start_time": "2022-11-25T20:30:32.496Z"
   },
   {
    "duration": 6,
    "start_time": "2022-11-25T20:30:34.174Z"
   },
   {
    "duration": 239,
    "start_time": "2022-11-25T20:30:37.104Z"
   },
   {
    "duration": 303,
    "start_time": "2022-11-25T20:54:01.707Z"
   },
   {
    "duration": 9,
    "start_time": "2022-11-25T20:54:25.486Z"
   },
   {
    "duration": 5,
    "start_time": "2022-11-25T20:54:30.215Z"
   },
   {
    "duration": 195,
    "start_time": "2022-11-25T20:55:12.603Z"
   },
   {
    "duration": 170,
    "start_time": "2022-11-25T20:55:30.977Z"
   },
   {
    "duration": 217,
    "start_time": "2022-11-25T20:55:59.429Z"
   },
   {
    "duration": 182,
    "start_time": "2022-11-25T21:25:14.239Z"
   },
   {
    "duration": 829,
    "start_time": "2022-11-25T21:25:23.020Z"
   },
   {
    "duration": 1138,
    "start_time": "2022-11-25T21:39:26.909Z"
   },
   {
    "duration": 8,
    "start_time": "2022-11-25T21:41:34.638Z"
   },
   {
    "duration": 30,
    "start_time": "2022-11-25T21:41:35.563Z"
   },
   {
    "duration": 17,
    "start_time": "2022-11-25T21:41:36.122Z"
   },
   {
    "duration": 12,
    "start_time": "2022-11-25T21:41:36.473Z"
   },
   {
    "duration": 8,
    "start_time": "2022-11-25T21:41:37.545Z"
   },
   {
    "duration": 5,
    "start_time": "2022-11-25T21:41:38.399Z"
   },
   {
    "duration": 11,
    "start_time": "2022-11-25T21:41:39.119Z"
   },
   {
    "duration": 5,
    "start_time": "2022-11-25T21:41:40.738Z"
   },
   {
    "duration": 249,
    "start_time": "2022-11-25T21:41:42.736Z"
   },
   {
    "duration": 163,
    "start_time": "2022-11-25T21:41:43.769Z"
   },
   {
    "duration": 669,
    "start_time": "2022-11-25T21:41:45.767Z"
   },
   {
    "duration": 4,
    "start_time": "2022-11-25T21:41:51.335Z"
   },
   {
    "duration": 163,
    "start_time": "2022-11-25T21:42:01.373Z"
   },
   {
    "duration": 1496,
    "start_time": "2022-11-25T21:43:05.970Z"
   },
   {
    "duration": 32,
    "start_time": "2022-11-25T21:43:07.468Z"
   },
   {
    "duration": 24,
    "start_time": "2022-11-25T21:43:07.502Z"
   },
   {
    "duration": 15,
    "start_time": "2022-11-25T21:43:07.529Z"
   },
   {
    "duration": 29,
    "start_time": "2022-11-25T21:43:07.546Z"
   },
   {
    "duration": 4,
    "start_time": "2022-11-25T21:43:07.577Z"
   },
   {
    "duration": 12,
    "start_time": "2022-11-25T21:43:07.582Z"
   },
   {
    "duration": 5,
    "start_time": "2022-11-25T21:43:07.596Z"
   },
   {
    "duration": 229,
    "start_time": "2022-11-25T21:43:07.603Z"
   },
   {
    "duration": 182,
    "start_time": "2022-11-25T21:43:07.835Z"
   },
   {
    "duration": 639,
    "start_time": "2022-11-25T21:43:08.018Z"
   },
   {
    "duration": 21500,
    "start_time": "2022-11-25T21:43:08.658Z"
   },
   {
    "duration": 51,
    "start_time": "2022-11-25T21:43:30.160Z"
   },
   {
    "duration": 15,
    "start_time": "2022-11-25T21:43:30.214Z"
   },
   {
    "duration": 144,
    "start_time": "2022-11-25T21:43:30.256Z"
   },
   {
    "duration": 7,
    "start_time": "2022-11-25T21:43:30.403Z"
   },
   {
    "duration": 61,
    "start_time": "2022-11-25T21:43:30.412Z"
   },
   {
    "duration": 33,
    "start_time": "2022-11-25T21:43:30.475Z"
   },
   {
    "duration": 28,
    "start_time": "2022-11-25T21:43:30.510Z"
   },
   {
    "duration": 35,
    "start_time": "2022-11-25T21:43:30.540Z"
   },
   {
    "duration": 31,
    "start_time": "2022-11-25T21:43:30.577Z"
   },
   {
    "duration": 1066,
    "start_time": "2022-11-25T21:44:11.306Z"
   },
   {
    "duration": 1538,
    "start_time": "2022-11-25T21:54:44.545Z"
   },
   {
    "duration": 30,
    "start_time": "2022-11-25T21:54:46.085Z"
   },
   {
    "duration": 18,
    "start_time": "2022-11-25T21:54:46.117Z"
   },
   {
    "duration": 27,
    "start_time": "2022-11-25T21:54:46.137Z"
   },
   {
    "duration": 26,
    "start_time": "2022-11-25T21:54:46.173Z"
   },
   {
    "duration": 9,
    "start_time": "2022-11-25T21:54:46.201Z"
   },
   {
    "duration": 34,
    "start_time": "2022-11-25T21:54:46.212Z"
   },
   {
    "duration": 27,
    "start_time": "2022-11-25T21:54:46.248Z"
   },
   {
    "duration": 255,
    "start_time": "2022-11-25T21:54:46.277Z"
   },
   {
    "duration": 179,
    "start_time": "2022-11-25T21:54:46.535Z"
   },
   {
    "duration": 647,
    "start_time": "2022-11-25T21:54:46.718Z"
   },
   {
    "duration": 3,
    "start_time": "2022-11-25T21:54:47.367Z"
   },
   {
    "duration": 243,
    "start_time": "2022-11-25T21:54:47.372Z"
   },
   {
    "duration": 50,
    "start_time": "2022-11-25T21:54:47.617Z"
   },
   {
    "duration": 16,
    "start_time": "2022-11-25T21:54:47.672Z"
   },
   {
    "duration": 147,
    "start_time": "2022-11-25T21:54:47.690Z"
   },
   {
    "duration": 16,
    "start_time": "2022-11-25T21:54:47.839Z"
   },
   {
    "duration": 7,
    "start_time": "2022-11-25T21:54:47.866Z"
   },
   {
    "duration": 9,
    "start_time": "2022-11-25T21:54:47.875Z"
   },
   {
    "duration": 10,
    "start_time": "2022-11-25T21:54:47.885Z"
   },
   {
    "duration": 9,
    "start_time": "2022-11-25T21:54:47.897Z"
   },
   {
    "duration": 11,
    "start_time": "2022-11-25T21:54:47.908Z"
   },
   {
    "duration": 4,
    "start_time": "2022-11-25T21:54:55.639Z"
   },
   {
    "duration": 28,
    "start_time": "2022-11-25T21:54:56.717Z"
   },
   {
    "duration": 14,
    "start_time": "2022-11-25T21:54:57.277Z"
   },
   {
    "duration": 12,
    "start_time": "2022-11-25T21:54:57.472Z"
   },
   {
    "duration": 20,
    "start_time": "2022-11-25T21:54:58.746Z"
   },
   {
    "duration": 12,
    "start_time": "2022-11-25T21:55:00.037Z"
   },
   {
    "duration": 9,
    "start_time": "2022-11-25T21:55:01.019Z"
   },
   {
    "duration": 5,
    "start_time": "2022-11-25T21:55:01.836Z"
   },
   {
    "duration": 255,
    "start_time": "2022-11-25T21:55:03.816Z"
   },
   {
    "duration": 171,
    "start_time": "2022-11-25T21:55:04.799Z"
   },
   {
    "duration": 632,
    "start_time": "2022-11-25T21:55:07.843Z"
   },
   {
    "duration": 3,
    "start_time": "2022-11-25T21:55:09.807Z"
   },
   {
    "duration": 96,
    "start_time": "2022-11-25T21:55:11.667Z"
   },
   {
    "duration": 7817,
    "start_time": "2022-11-25T21:55:24.969Z"
   },
   {
    "duration": 7468,
    "start_time": "2022-11-25T21:56:13.013Z"
   },
   {
    "duration": 7607,
    "start_time": "2022-11-25T21:56:38.345Z"
   },
   {
    "duration": 8675,
    "start_time": "2022-11-25T21:57:57.684Z"
   },
   {
    "duration": 95,
    "start_time": "2022-11-25T21:58:30.206Z"
   },
   {
    "duration": 177005,
    "start_time": "2022-11-25T21:58:55.869Z"
   },
   {
    "duration": 15559,
    "start_time": "2022-11-25T22:02:44.050Z"
   },
   {
    "duration": 73,
    "start_time": "2022-11-25T22:03:29.195Z"
   },
   {
    "duration": 18,
    "start_time": "2022-11-25T22:03:30.870Z"
   },
   {
    "duration": 149,
    "start_time": "2022-11-25T22:03:32.118Z"
   },
   {
    "duration": 7,
    "start_time": "2022-11-25T22:06:13.337Z"
   },
   {
    "duration": 16298,
    "start_time": "2022-11-25T22:06:58.914Z"
   },
   {
    "duration": 11,
    "start_time": "2022-11-25T22:07:31.081Z"
   },
   {
    "duration": 1653,
    "start_time": "2022-11-25T22:07:37.539Z"
   },
   {
    "duration": 32,
    "start_time": "2022-11-25T22:07:39.197Z"
   },
   {
    "duration": 26,
    "start_time": "2022-11-25T22:07:39.232Z"
   },
   {
    "duration": 28,
    "start_time": "2022-11-25T22:07:39.261Z"
   },
   {
    "duration": 44,
    "start_time": "2022-11-25T22:07:39.296Z"
   },
   {
    "duration": 34,
    "start_time": "2022-11-25T22:07:39.342Z"
   },
   {
    "duration": 34,
    "start_time": "2022-11-25T22:07:39.379Z"
   },
   {
    "duration": 53,
    "start_time": "2022-11-25T22:07:39.415Z"
   },
   {
    "duration": 351,
    "start_time": "2022-11-25T22:07:39.476Z"
   },
   {
    "duration": 218,
    "start_time": "2022-11-25T22:07:39.830Z"
   },
   {
    "duration": 752,
    "start_time": "2022-11-25T22:07:40.056Z"
   },
   {
    "duration": 5,
    "start_time": "2022-11-25T22:07:40.811Z"
   },
   {
    "duration": 15708,
    "start_time": "2022-11-25T22:07:40.818Z"
   },
   {
    "duration": 66,
    "start_time": "2022-11-25T22:07:56.529Z"
   },
   {
    "duration": 14,
    "start_time": "2022-11-25T22:07:56.598Z"
   },
   {
    "duration": 160,
    "start_time": "2022-11-25T22:07:56.613Z"
   },
   {
    "duration": 11,
    "start_time": "2022-11-25T22:07:56.775Z"
   },
   {
    "duration": 4,
    "start_time": "2022-11-25T22:07:56.788Z"
   },
   {
    "duration": 6,
    "start_time": "2022-11-25T22:07:56.794Z"
   },
   {
    "duration": 6,
    "start_time": "2022-11-25T22:07:56.801Z"
   },
   {
    "duration": 8,
    "start_time": "2022-11-25T22:07:56.808Z"
   },
   {
    "duration": 10,
    "start_time": "2022-11-25T22:07:56.817Z"
   },
   {
    "duration": 1670,
    "start_time": "2022-11-25T22:08:58.245Z"
   },
   {
    "duration": 36,
    "start_time": "2022-11-25T22:08:59.919Z"
   },
   {
    "duration": 29,
    "start_time": "2022-11-25T22:08:59.957Z"
   },
   {
    "duration": 28,
    "start_time": "2022-11-25T22:08:59.989Z"
   },
   {
    "duration": 25,
    "start_time": "2022-11-25T22:09:00.020Z"
   },
   {
    "duration": 33,
    "start_time": "2022-11-25T22:09:00.047Z"
   },
   {
    "duration": 29,
    "start_time": "2022-11-25T22:09:00.082Z"
   },
   {
    "duration": 18,
    "start_time": "2022-11-25T22:09:00.113Z"
   },
   {
    "duration": 327,
    "start_time": "2022-11-25T22:09:00.134Z"
   },
   {
    "duration": 218,
    "start_time": "2022-11-25T22:09:00.464Z"
   },
   {
    "duration": 694,
    "start_time": "2022-11-25T22:09:00.685Z"
   },
   {
    "duration": 3,
    "start_time": "2022-11-25T22:09:01.381Z"
   },
   {
    "duration": 15481,
    "start_time": "2022-11-25T22:09:01.386Z"
   },
   {
    "duration": 144,
    "start_time": "2022-11-25T22:09:16.869Z"
   },
   {
    "duration": 0,
    "start_time": "2022-11-25T22:09:17.015Z"
   },
   {
    "duration": 0,
    "start_time": "2022-11-25T22:09:17.017Z"
   },
   {
    "duration": 0,
    "start_time": "2022-11-25T22:09:17.019Z"
   },
   {
    "duration": 0,
    "start_time": "2022-11-25T22:09:17.021Z"
   },
   {
    "duration": 0,
    "start_time": "2022-11-25T22:09:17.023Z"
   },
   {
    "duration": 0,
    "start_time": "2022-11-25T22:09:17.025Z"
   },
   {
    "duration": 0,
    "start_time": "2022-11-25T22:09:17.026Z"
   },
   {
    "duration": 0,
    "start_time": "2022-11-25T22:09:17.027Z"
   },
   {
    "duration": 0,
    "start_time": "2022-11-25T22:09:17.059Z"
   },
   {
    "duration": 10,
    "start_time": "2022-11-25T22:09:56.339Z"
   },
   {
    "duration": 17023,
    "start_time": "2022-11-25T22:12:11.975Z"
   },
   {
    "duration": 17691,
    "start_time": "2022-11-25T22:12:52.443Z"
   },
   {
    "duration": 16,
    "start_time": "2022-11-25T22:14:37.807Z"
   },
   {
    "duration": 19,
    "start_time": "2022-11-25T22:15:00.339Z"
   },
   {
    "duration": 1702,
    "start_time": "2022-11-25T22:15:09.695Z"
   },
   {
    "duration": 31,
    "start_time": "2022-11-25T22:15:11.404Z"
   },
   {
    "duration": 35,
    "start_time": "2022-11-25T22:15:11.437Z"
   },
   {
    "duration": 22,
    "start_time": "2022-11-25T22:15:11.476Z"
   },
   {
    "duration": 9,
    "start_time": "2022-11-25T22:15:11.500Z"
   },
   {
    "duration": 4,
    "start_time": "2022-11-25T22:15:11.511Z"
   },
   {
    "duration": 10,
    "start_time": "2022-11-25T22:15:11.517Z"
   },
   {
    "duration": 6,
    "start_time": "2022-11-25T22:15:11.528Z"
   },
   {
    "duration": 267,
    "start_time": "2022-11-25T22:15:11.535Z"
   },
   {
    "duration": 196,
    "start_time": "2022-11-25T22:15:11.805Z"
   },
   {
    "duration": 725,
    "start_time": "2022-11-25T22:15:12.003Z"
   },
   {
    "duration": 3,
    "start_time": "2022-11-25T22:15:12.731Z"
   },
   {
    "duration": 15927,
    "start_time": "2022-11-25T22:15:12.736Z"
   },
   {
    "duration": 52,
    "start_time": "2022-11-25T22:15:28.664Z"
   },
   {
    "duration": 13,
    "start_time": "2022-11-25T22:15:28.717Z"
   },
   {
    "duration": 161,
    "start_time": "2022-11-25T22:15:28.732Z"
   },
   {
    "duration": 9,
    "start_time": "2022-11-25T22:15:28.895Z"
   },
   {
    "duration": 8,
    "start_time": "2022-11-25T22:15:28.906Z"
   },
   {
    "duration": 6,
    "start_time": "2022-11-25T22:15:28.916Z"
   },
   {
    "duration": 6,
    "start_time": "2022-11-25T22:15:28.923Z"
   },
   {
    "duration": 34,
    "start_time": "2022-11-25T22:15:28.931Z"
   },
   {
    "duration": 33,
    "start_time": "2022-11-25T22:15:28.967Z"
   },
   {
    "duration": 10,
    "start_time": "2022-11-25T22:15:51.372Z"
   },
   {
    "duration": 34,
    "start_time": "2022-11-25T22:15:52.226Z"
   },
   {
    "duration": 13,
    "start_time": "2022-11-25T22:15:52.899Z"
   },
   {
    "duration": 25,
    "start_time": "2022-11-25T22:15:53.166Z"
   },
   {
    "duration": 7,
    "start_time": "2022-11-25T22:15:54.475Z"
   },
   {
    "duration": 11,
    "start_time": "2022-11-25T22:15:55.780Z"
   },
   {
    "duration": 17,
    "start_time": "2022-11-25T22:15:56.574Z"
   },
   {
    "duration": 16,
    "start_time": "2022-11-25T22:15:57.251Z"
   },
   {
    "duration": 271,
    "start_time": "2022-11-25T22:15:58.599Z"
   },
   {
    "duration": 172,
    "start_time": "2022-11-25T22:15:58.876Z"
   },
   {
    "duration": 709,
    "start_time": "2022-11-25T22:15:59.931Z"
   },
   {
    "duration": 3,
    "start_time": "2022-11-25T22:16:01.902Z"
   },
   {
    "duration": 15575,
    "start_time": "2022-11-25T22:16:02.133Z"
   },
   {
    "duration": 11,
    "start_time": "2022-11-25T22:16:42.703Z"
   },
   {
    "duration": 101,
    "start_time": "2022-11-25T22:17:23.947Z"
   },
   {
    "duration": 104,
    "start_time": "2022-11-25T22:17:34.137Z"
   },
   {
    "duration": 135,
    "start_time": "2022-11-25T22:18:06.915Z"
   },
   {
    "duration": 23,
    "start_time": "2022-11-25T22:19:27.568Z"
   },
   {
    "duration": 15,
    "start_time": "2022-11-25T22:19:59.519Z"
   },
   {
    "duration": 1639,
    "start_time": "2022-11-25T22:20:04.510Z"
   },
   {
    "duration": 67,
    "start_time": "2022-11-25T22:20:06.152Z"
   },
   {
    "duration": 22,
    "start_time": "2022-11-25T22:20:06.222Z"
   },
   {
    "duration": 32,
    "start_time": "2022-11-25T22:20:06.247Z"
   },
   {
    "duration": 31,
    "start_time": "2022-11-25T22:20:06.288Z"
   },
   {
    "duration": 5,
    "start_time": "2022-11-25T22:20:06.322Z"
   },
   {
    "duration": 11,
    "start_time": "2022-11-25T22:20:06.329Z"
   },
   {
    "duration": 5,
    "start_time": "2022-11-25T22:20:06.341Z"
   },
   {
    "duration": 295,
    "start_time": "2022-11-25T22:20:06.348Z"
   },
   {
    "duration": 203,
    "start_time": "2022-11-25T22:20:06.646Z"
   },
   {
    "duration": 671,
    "start_time": "2022-11-25T22:20:06.853Z"
   },
   {
    "duration": 3,
    "start_time": "2022-11-25T22:20:07.527Z"
   },
   {
    "duration": 16208,
    "start_time": "2022-11-25T22:20:07.533Z"
   },
   {
    "duration": 51,
    "start_time": "2022-11-25T22:20:23.759Z"
   },
   {
    "duration": 13,
    "start_time": "2022-11-25T22:20:23.812Z"
   },
   {
    "duration": 176,
    "start_time": "2022-11-25T22:20:23.827Z"
   },
   {
    "duration": 7,
    "start_time": "2022-11-25T22:20:24.008Z"
   },
   {
    "duration": 134,
    "start_time": "2022-11-25T22:20:24.017Z"
   },
   {
    "duration": 0,
    "start_time": "2022-11-25T22:20:24.153Z"
   },
   {
    "duration": 0,
    "start_time": "2022-11-25T22:20:24.154Z"
   },
   {
    "duration": 0,
    "start_time": "2022-11-25T22:20:24.155Z"
   },
   {
    "duration": 0,
    "start_time": "2022-11-25T22:20:24.157Z"
   },
   {
    "duration": 0,
    "start_time": "2022-11-25T22:20:24.158Z"
   },
   {
    "duration": 16400,
    "start_time": "2022-11-25T22:21:18.402Z"
   },
   {
    "duration": 12,
    "start_time": "2022-11-25T22:21:56.501Z"
   },
   {
    "duration": 13,
    "start_time": "2022-11-25T22:21:59.535Z"
   },
   {
    "duration": 1695,
    "start_time": "2022-11-25T22:22:12.796Z"
   },
   {
    "duration": 35,
    "start_time": "2022-11-25T22:22:14.498Z"
   },
   {
    "duration": 30,
    "start_time": "2022-11-25T22:22:14.535Z"
   },
   {
    "duration": 49,
    "start_time": "2022-11-25T22:22:14.567Z"
   },
   {
    "duration": 9,
    "start_time": "2022-11-25T22:22:14.617Z"
   },
   {
    "duration": 6,
    "start_time": "2022-11-25T22:22:14.628Z"
   },
   {
    "duration": 11,
    "start_time": "2022-11-25T22:22:14.636Z"
   },
   {
    "duration": 57,
    "start_time": "2022-11-25T22:22:14.649Z"
   },
   {
    "duration": 254,
    "start_time": "2022-11-25T22:22:14.708Z"
   },
   {
    "duration": 204,
    "start_time": "2022-11-25T22:22:14.966Z"
   },
   {
    "duration": 708,
    "start_time": "2022-11-25T22:22:15.171Z"
   },
   {
    "duration": 5,
    "start_time": "2022-11-25T22:22:15.881Z"
   },
   {
    "duration": 16952,
    "start_time": "2022-11-25T22:22:15.888Z"
   },
   {
    "duration": 73,
    "start_time": "2022-11-25T22:22:32.841Z"
   },
   {
    "duration": 14,
    "start_time": "2022-11-25T22:22:32.916Z"
   },
   {
    "duration": 190,
    "start_time": "2022-11-25T22:22:32.932Z"
   },
   {
    "duration": 9,
    "start_time": "2022-11-25T22:22:33.124Z"
   },
   {
    "duration": 33,
    "start_time": "2022-11-25T22:22:33.135Z"
   },
   {
    "duration": 8,
    "start_time": "2022-11-25T22:22:33.169Z"
   },
   {
    "duration": 42,
    "start_time": "2022-11-25T22:22:33.179Z"
   },
   {
    "duration": 8,
    "start_time": "2022-11-25T22:22:33.223Z"
   },
   {
    "duration": 9,
    "start_time": "2022-11-25T22:22:33.233Z"
   },
   {
    "duration": 19,
    "start_time": "2022-11-25T22:22:33.244Z"
   },
   {
    "duration": 6,
    "start_time": "2022-11-25T22:23:03.499Z"
   },
   {
    "duration": 29,
    "start_time": "2022-11-25T22:23:04.414Z"
   },
   {
    "duration": 26,
    "start_time": "2022-11-25T22:23:04.977Z"
   },
   {
    "duration": 12,
    "start_time": "2022-11-25T22:23:05.135Z"
   },
   {
    "duration": 7,
    "start_time": "2022-11-25T22:23:05.933Z"
   },
   {
    "duration": 5,
    "start_time": "2022-11-25T22:23:06.741Z"
   },
   {
    "duration": 15,
    "start_time": "2022-11-25T22:23:07.404Z"
   },
   {
    "duration": 5,
    "start_time": "2022-11-25T22:23:08.092Z"
   },
   {
    "duration": 270,
    "start_time": "2022-11-25T22:23:09.803Z"
   },
   {
    "duration": 242,
    "start_time": "2022-11-25T22:23:10.076Z"
   },
   {
    "duration": 681,
    "start_time": "2022-11-25T22:23:11.626Z"
   },
   {
    "duration": 3,
    "start_time": "2022-11-25T22:23:12.309Z"
   },
   {
    "duration": 17116,
    "start_time": "2022-11-25T22:23:12.615Z"
   },
   {
    "duration": 16726,
    "start_time": "2022-11-25T22:24:06.618Z"
   },
   {
    "duration": 14,
    "start_time": "2022-11-25T22:24:30.124Z"
   },
   {
    "duration": 144,
    "start_time": "2022-11-25T22:28:59.078Z"
   },
   {
    "duration": 30,
    "start_time": "2022-11-25T22:29:07.273Z"
   },
   {
    "duration": 13,
    "start_time": "2022-11-25T22:29:30.410Z"
   },
   {
    "duration": 84,
    "start_time": "2022-11-25T22:31:53.204Z"
   },
   {
    "duration": 17,
    "start_time": "2022-11-25T22:32:22.542Z"
   },
   {
    "duration": 8,
    "start_time": "2022-11-25T22:32:52.887Z"
   },
   {
    "duration": 15,
    "start_time": "2022-11-25T22:34:21.175Z"
   },
   {
    "duration": 1548,
    "start_time": "2022-11-25T22:36:47.641Z"
   },
   {
    "duration": 34,
    "start_time": "2022-11-25T22:36:49.191Z"
   },
   {
    "duration": 29,
    "start_time": "2022-11-25T22:36:49.228Z"
   },
   {
    "duration": 34,
    "start_time": "2022-11-25T22:36:49.260Z"
   },
   {
    "duration": 15,
    "start_time": "2022-11-25T22:36:49.296Z"
   },
   {
    "duration": 6,
    "start_time": "2022-11-25T22:36:49.313Z"
   },
   {
    "duration": 17,
    "start_time": "2022-11-25T22:36:49.322Z"
   },
   {
    "duration": 7,
    "start_time": "2022-11-25T22:36:49.342Z"
   },
   {
    "duration": 306,
    "start_time": "2022-11-25T22:36:49.351Z"
   },
   {
    "duration": 236,
    "start_time": "2022-11-25T22:36:49.663Z"
   },
   {
    "duration": 663,
    "start_time": "2022-11-25T22:36:49.901Z"
   },
   {
    "duration": 4,
    "start_time": "2022-11-25T22:36:50.566Z"
   },
   {
    "duration": 15356,
    "start_time": "2022-11-25T22:36:50.572Z"
   },
   {
    "duration": 8,
    "start_time": "2022-11-25T22:37:05.930Z"
   },
   {
    "duration": 1433,
    "start_time": "2022-11-25T22:39:06.271Z"
   },
   {
    "duration": 31,
    "start_time": "2022-11-25T22:39:07.706Z"
   },
   {
    "duration": 28,
    "start_time": "2022-11-25T22:39:07.738Z"
   },
   {
    "duration": 14,
    "start_time": "2022-11-25T22:39:07.774Z"
   },
   {
    "duration": 8,
    "start_time": "2022-11-25T22:39:07.789Z"
   },
   {
    "duration": 4,
    "start_time": "2022-11-25T22:39:07.799Z"
   },
   {
    "duration": 13,
    "start_time": "2022-11-25T22:39:07.804Z"
   },
   {
    "duration": 5,
    "start_time": "2022-11-25T22:39:07.819Z"
   },
   {
    "duration": 262,
    "start_time": "2022-11-25T22:39:07.826Z"
   },
   {
    "duration": 191,
    "start_time": "2022-11-25T22:39:08.092Z"
   },
   {
    "duration": 647,
    "start_time": "2022-11-25T22:39:08.285Z"
   },
   {
    "duration": 3,
    "start_time": "2022-11-25T22:39:08.934Z"
   },
   {
    "duration": 15177,
    "start_time": "2022-11-25T22:39:08.939Z"
   },
   {
    "duration": 6,
    "start_time": "2022-11-25T22:39:24.118Z"
   },
   {
    "duration": 1580,
    "start_time": "2022-11-25T22:46:35.832Z"
   },
   {
    "duration": 30,
    "start_time": "2022-11-25T22:46:37.414Z"
   },
   {
    "duration": 28,
    "start_time": "2022-11-25T22:46:37.446Z"
   },
   {
    "duration": 12,
    "start_time": "2022-11-25T22:46:37.477Z"
   },
   {
    "duration": 10,
    "start_time": "2022-11-25T22:46:37.491Z"
   },
   {
    "duration": 4,
    "start_time": "2022-11-25T22:46:37.503Z"
   },
   {
    "duration": 16,
    "start_time": "2022-11-25T22:46:37.510Z"
   },
   {
    "duration": 5,
    "start_time": "2022-11-25T22:46:37.527Z"
   },
   {
    "duration": 268,
    "start_time": "2022-11-25T22:46:37.553Z"
   },
   {
    "duration": 194,
    "start_time": "2022-11-25T22:46:37.823Z"
   },
   {
    "duration": 653,
    "start_time": "2022-11-25T22:46:38.019Z"
   },
   {
    "duration": 3,
    "start_time": "2022-11-25T22:46:38.674Z"
   },
   {
    "duration": 15969,
    "start_time": "2022-11-25T22:46:38.679Z"
   },
   {
    "duration": 57,
    "start_time": "2022-11-25T22:46:54.653Z"
   },
   {
    "duration": 14,
    "start_time": "2022-11-25T22:46:54.712Z"
   },
   {
    "duration": 169,
    "start_time": "2022-11-25T22:46:54.727Z"
   },
   {
    "duration": 11,
    "start_time": "2022-11-25T22:46:54.899Z"
   },
   {
    "duration": 5,
    "start_time": "2022-11-25T22:46:54.911Z"
   },
   {
    "duration": 6,
    "start_time": "2022-11-25T22:46:54.917Z"
   },
   {
    "duration": 26,
    "start_time": "2022-11-25T22:46:54.925Z"
   },
   {
    "duration": 25,
    "start_time": "2022-11-25T22:46:54.952Z"
   },
   {
    "duration": 7,
    "start_time": "2022-11-25T22:46:54.979Z"
   },
   {
    "duration": 2615,
    "start_time": "2023-04-12T22:07:56.491Z"
   },
   {
    "duration": 3,
    "start_time": "2023-04-12T22:08:00.972Z"
   },
   {
    "duration": 3,
    "start_time": "2023-04-12T22:08:04.220Z"
   },
   {
    "duration": 3,
    "start_time": "2023-04-12T22:08:07.838Z"
   },
   {
    "duration": 259,
    "start_time": "2023-04-12T22:08:32.521Z"
   }
  ],
  "kernelspec": {
   "display_name": "Python 3 (ipykernel)",
   "language": "python",
   "name": "python3"
  },
  "language_info": {
   "codemirror_mode": {
    "name": "ipython",
    "version": 3
   },
   "file_extension": ".py",
   "mimetype": "text/x-python",
   "name": "python",
   "nbconvert_exporter": "python",
   "pygments_lexer": "ipython3",
   "version": "3.9.5"
  },
  "toc": {
   "base_numbering": 1,
   "nav_menu": {},
   "number_sections": true,
   "sideBar": true,
   "skip_h1_title": true,
   "title_cell": "Table of Contents",
   "title_sidebar": "Contents",
   "toc_cell": false,
   "toc_position": {
    "height": "calc(100% - 180px)",
    "left": "10px",
    "top": "150px",
    "width": "652.533px"
   },
   "toc_section_display": true,
   "toc_window_display": true
  }
 },
 "nbformat": 4,
 "nbformat_minor": 2
}
